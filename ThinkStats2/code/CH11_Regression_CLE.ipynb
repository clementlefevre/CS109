{
 "cells": [
  {
   "cell_type": "code",
   "execution_count": 58,
   "metadata": {
    "collapsed": true
   },
   "outputs": [],
   "source": [
    "from __future__ import division\n",
    "import numpy as np\n",
    "import pandas as pd\n",
    "import matplotlib.pyplot as plt\n",
    "import seaborn as sns\n",
    "%matplotlib inline\n",
    "import scipy.stats as stats\n",
    "import math as math\n",
    "import nsfg\n",
    "import random\n",
    "import first\n",
    "import thinkstats2\n",
    "import chap01soln\n",
    "import statsmodels.formula.api as smf"
   ]
  },
  {
   "cell_type": "code",
   "execution_count": 19,
   "metadata": {
    "collapsed": true
   },
   "outputs": [],
   "source": [
    "live, firsts, others = first.MakeFrames()\n",
    "formula = 'totalwgt_lb ~ agepreg'\n",
    "model = smf.ols(formula, data=live)\n",
    "results = model.fit()"
   ]
  },
  {
   "cell_type": "code",
   "execution_count": 20,
   "metadata": {
    "collapsed": false
   },
   "outputs": [
    {
     "data": {
      "text/plain": [
       "Intercept    6.830397\n",
       "agepreg      0.017454\n",
       "dtype: float64"
      ]
     },
     "execution_count": 20,
     "metadata": {},
     "output_type": "execute_result"
    }
   ],
   "source": [
    "results.params"
   ]
  },
  {
   "cell_type": "code",
   "execution_count": 21,
   "metadata": {
    "collapsed": false
   },
   "outputs": [
    {
     "data": {
      "text/plain": [
       "Intercept    0.000000e+00\n",
       "agepreg      5.722947e-11\n",
       "dtype: float64"
      ]
     },
     "execution_count": 21,
     "metadata": {},
     "output_type": "execute_result"
    }
   ],
   "source": [
    "results.pvalues"
   ]
  },
  {
   "cell_type": "code",
   "execution_count": 22,
   "metadata": {
    "collapsed": false
   },
   "outputs": [
    {
     "data": {
      "text/plain": [
       "5.7229471072528111e-11"
      ]
     },
     "execution_count": 22,
     "metadata": {},
     "output_type": "execute_result"
    }
   ],
   "source": [
    "results.f_pvalue"
   ]
  },
  {
   "cell_type": "code",
   "execution_count": 41,
   "metadata": {
    "collapsed": false
   },
   "outputs": [
    {
     "name": "stdout",
     "output_type": "stream",
     "text": [
      "(9038,)\n"
     ]
    },
    {
     "data": {
      "text/plain": [
       "(9148, 244)"
      ]
     },
     "execution_count": 41,
     "metadata": {},
     "output_type": "execute_result"
    }
   ],
   "source": [
    "print results.resid.shape\n",
    "model.data.frame.shape\n"
   ]
  },
  {
   "cell_type": "code",
   "execution_count": 51,
   "metadata": {
    "collapsed": false
   },
   "outputs": [
    {
     "name": "stdout",
     "output_type": "stream",
     "text": [
      "                  Results: Ordinary least squares\n",
      "===================================================================\n",
      "Model:              OLS              Adj. R-squared:     0.005     \n",
      "Dependent Variable: totalwgt_lb      AIC:                31797.6445\n",
      "Date:               2016-07-31 13:38 BIC:                31811.8629\n",
      "No. Observations:   9038             Log-Likelihood:     -15897.   \n",
      "Df Model:           1                F-statistic:        43.02     \n",
      "Df Residuals:       9036             Prob (F-statistic): 5.72e-11  \n",
      "R-squared:          0.005            Scale:              1.9741    \n",
      "---------------------------------------------------------------------\n",
      "              Coef.    Std.Err.      t       P>|t|    [0.025   0.975]\n",
      "---------------------------------------------------------------------\n",
      "Intercept     6.8304     0.0680   100.4698   0.0000   6.6971   6.9637\n",
      "agepreg       0.0175     0.0027     6.5588   0.0000   0.0122   0.0227\n",
      "-------------------------------------------------------------------\n",
      "Omnibus:              1024.052      Durbin-Watson:         1.618   \n",
      "Prob(Omnibus):        0.000         Jarque-Bera (JB):      3081.833\n",
      "Skew:                 -0.601        Prob(JB):              0.000   \n",
      "Kurtosis:             5.596         Condition No.:         118     \n",
      "===================================================================\n",
      "\n",
      "6.48148148148\n"
     ]
    }
   ],
   "source": [
    "results = smf.ols('totalwgt_lb ~ agepreg', data=live).fit()\n",
    "slope = results.params['agepreg']\n",
    "print results.summary2()\n",
    "print 0.0175/0.0027  "
   ]
  },
  {
   "cell_type": "code",
   "execution_count": 55,
   "metadata": {
    "collapsed": false
   },
   "outputs": [
    {
     "data": {
      "text/html": [
       "<table class=\"simpletable\">\n",
       "<tr>\n",
       "        <td>Model:</td>               <td>OLS</td>         <td>Adj. R-squared:</td>      <td>0.007</td>  \n",
       "</tr>\n",
       "<tr>\n",
       "  <td>Dependent Variable:</td>    <td>totalwgt_lb</td>          <td>AIC:</td>         <td>31776.8781</td>\n",
       "</tr>\n",
       "<tr>\n",
       "         <td>Date:</td>        <td>2016-07-31 13:59</td>        <td>BIC:</td>         <td>31805.3149</td>\n",
       "</tr>\n",
       "<tr>\n",
       "   <td>No. Observations:</td>        <td>9038</td>         <td>Log-Likelihood:</td>     <td>-15884.</td> \n",
       "</tr>\n",
       "<tr>\n",
       "       <td>Df Model:</td>              <td>3</td>           <td>F-statistic:</td>        <td>22.64</td>  \n",
       "</tr>\n",
       "<tr>\n",
       "     <td>Df Residuals:</td>          <td>9034</td>       <td>Prob (F-statistic):</td>  <td>1.35e-14</td> \n",
       "</tr>\n",
       "<tr>\n",
       "      <td>R-squared:</td>            <td>0.007</td>            <td>Scale:</td>          <td>1.9691</td>  \n",
       "</tr>\n",
       "</table>\n",
       "<table class=\"simpletable\">\n",
       "<tr>\n",
       "          <td></td>          <th>Coef.</th>  <th>Std.Err.</th>    <th>t</th>     <th>P>|t|</th> <th>[0.025</th>  <th>0.975]</th> \n",
       "</tr>\n",
       "<tr>\n",
       "  <th>Intercept</th>        <td>5.6923</td>   <td>0.2855</td>  <td>19.9373</td> <td>0.0000</td> <td>5.1326</td>  <td>6.2519</td> \n",
       "</tr>\n",
       "<tr>\n",
       "  <th>is_first[T.True]</th> <td>-0.0504</td>  <td>0.0315</td>  <td>-1.6022</td> <td>0.1091</td> <td>-0.1122</td> <td>0.0113</td> \n",
       "</tr>\n",
       "<tr>\n",
       "  <th>agepreg</th>          <td>0.1124</td>   <td>0.0220</td>  <td>5.1135</td>  <td>0.0000</td> <td>0.0693</td>  <td>0.1555</td> \n",
       "</tr>\n",
       "<tr>\n",
       "  <th>agepreg2</th>         <td>-0.0018</td>  <td>0.0004</td>  <td>-4.4472</td> <td>0.0000</td> <td>-0.0027</td> <td>-0.0010</td>\n",
       "</tr>\n",
       "</table>\n",
       "<table class=\"simpletable\">\n",
       "<tr>\n",
       "     <td>Omnibus:</td>    <td>1007.149</td>  <td>Durbin-Watson:</td>     <td>1.616</td> \n",
       "</tr>\n",
       "<tr>\n",
       "  <td>Prob(Omnibus):</td>   <td>0.000</td>  <td>Jarque-Bera (JB):</td> <td>3003.343</td>\n",
       "</tr>\n",
       "<tr>\n",
       "       <td>Skew:</td>      <td>-0.594</td>      <td>Prob(JB):</td>       <td>0.000</td> \n",
       "</tr>\n",
       "<tr>\n",
       "     <td>Kurtosis:</td>     <td>5.562</td>   <td>Condition No.:</td>     <td>13886</td> \n",
       "</tr>\n",
       "</table>"
      ],
      "text/plain": [
       "<class 'statsmodels.iolib.summary2.Summary'>\n",
       "\"\"\"\n",
       "                  Results: Ordinary least squares\n",
       "===================================================================\n",
       "Model:              OLS              Adj. R-squared:     0.007     \n",
       "Dependent Variable: totalwgt_lb      AIC:                31776.8781\n",
       "Date:               2016-07-31 13:59 BIC:                31805.3149\n",
       "No. Observations:   9038             Log-Likelihood:     -15884.   \n",
       "Df Model:           3                F-statistic:        22.64     \n",
       "Df Residuals:       9034             Prob (F-statistic): 1.35e-14  \n",
       "R-squared:          0.007            Scale:              1.9691    \n",
       "-------------------------------------------------------------------\n",
       "                     Coef.  Std.Err.    t    P>|t|   [0.025  0.975]\n",
       "-------------------------------------------------------------------\n",
       "Intercept            5.6923   0.2855 19.9373 0.0000  5.1326  6.2519\n",
       "is_first[T.True]    -0.0504   0.0315 -1.6022 0.1091 -0.1122  0.0113\n",
       "agepreg              0.1124   0.0220  5.1135 0.0000  0.0693  0.1555\n",
       "agepreg2            -0.0018   0.0004 -4.4472 0.0000 -0.0027 -0.0010\n",
       "-------------------------------------------------------------------\n",
       "Omnibus:              1007.149      Durbin-Watson:         1.616   \n",
       "Prob(Omnibus):        0.000         Jarque-Bera (JB):      3003.343\n",
       "Skew:                 -0.594        Prob(JB):              0.000   \n",
       "Kurtosis:             5.562         Condition No.:         13886   \n",
       "===================================================================\n",
       "* The condition number is large (1e+04). This might indicate\n",
       "strong multicollinearity or other numerical problems.\n",
       "\"\"\""
      ]
     },
     "execution_count": 55,
     "metadata": {},
     "output_type": "execute_result"
    }
   ],
   "source": [
    "live['is_first'] = live.birthord==1\n",
    "live['agepreg2'] = live.agepreg**2\n",
    "results = smf.ols('totalwgt_lb ~ is_first + agepreg + agepreg2', data = live).fit()\n",
    "results.summary2()"
   ]
  },
  {
   "cell_type": "code",
   "execution_count": 64,
   "metadata": {
    "collapsed": false
   },
   "outputs": [],
   "source": [
    "live = live[live.prglngth>30]\n",
    "resp = chap01soln.ReadFemResp()\n",
    "resp.index = resp.caseid\n",
    "join = live.join(resp, on='caseid',rsuffix='_r')"
   ]
  },
  {
   "cell_type": "markdown",
   "metadata": {},
   "source": [
    "#### Loop on all columns and compute Rsquare for total_weight vs (ageprg +column)"
   ]
  },
  {
   "cell_type": "code",
   "execution_count": 134,
   "metadata": {
    "collapsed": false
   },
   "outputs": [
    {
     "data": {
      "text/html": [
       "<div>\n",
       "<table border=\"1\" class=\"dataframe\">\n",
       "  <thead>\n",
       "    <tr style=\"text-align: right;\">\n",
       "      <th></th>\n",
       "      <th>r2</th>\n",
       "      <th>col_name</th>\n",
       "    </tr>\n",
       "  </thead>\n",
       "  <tbody>\n",
       "    <tr>\n",
       "      <th>107</th>\n",
       "      <td>1.000000</td>\n",
       "      <td>totalwgt_lb</td>\n",
       "    </tr>\n",
       "    <tr>\n",
       "      <th>12</th>\n",
       "      <td>0.949813</td>\n",
       "      <td>birthwgt_lb</td>\n",
       "    </tr>\n",
       "    <tr>\n",
       "      <th>49</th>\n",
       "      <td>0.300824</td>\n",
       "      <td>lbw1</td>\n",
       "    </tr>\n",
       "    <tr>\n",
       "      <th>39</th>\n",
       "      <td>0.130125</td>\n",
       "      <td>prglngth</td>\n",
       "    </tr>\n",
       "    <tr>\n",
       "      <th>8</th>\n",
       "      <td>0.123400</td>\n",
       "      <td>wksgest</td>\n",
       "    </tr>\n",
       "    <tr>\n",
       "      <th>44</th>\n",
       "      <td>0.102031</td>\n",
       "      <td>agecon</td>\n",
       "    </tr>\n",
       "    <tr>\n",
       "      <th>9</th>\n",
       "      <td>0.027144</td>\n",
       "      <td>mosgest</td>\n",
       "    </tr>\n",
       "    <tr>\n",
       "      <th>11</th>\n",
       "      <td>0.018551</td>\n",
       "      <td>babysex</td>\n",
       "    </tr>\n",
       "    <tr>\n",
       "      <th>62</th>\n",
       "      <td>0.016200</td>\n",
       "      <td>race</td>\n",
       "    </tr>\n",
       "    <tr>\n",
       "      <th>517</th>\n",
       "      <td>0.016200</td>\n",
       "      <td>race_r</td>\n",
       "    </tr>\n",
       "  </tbody>\n",
       "</table>\n",
       "</div>"
      ],
      "text/plain": [
       "           r2     col_name\n",
       "107  1.000000  totalwgt_lb\n",
       "12   0.949813  birthwgt_lb\n",
       "49   0.300824         lbw1\n",
       "39   0.130125     prglngth\n",
       "8    0.123400      wksgest\n",
       "44   0.102031       agecon\n",
       "9    0.027144      mosgest\n",
       "11   0.018551      babysex\n",
       "62   0.016200         race\n",
       "517  0.016200       race_r"
      ]
     },
     "execution_count": 134,
     "metadata": {},
     "output_type": "execute_result"
    }
   ],
   "source": [
    "r_square_list = []\n",
    "\n",
    "for c in join.columns:\n",
    "    try:\n",
    "        if join[c].std()<1e-7:\n",
    "            continue\n",
    "\n",
    "        formule = 'totalwgt_lb ~ agepreg +'+ str(c)\n",
    "        \n",
    "        result = smf.ols(formula=formule, data = join).fit()\n",
    "        if result.nobs< len(join)/2:\n",
    "            continue\n",
    "\n",
    "       \n",
    "    except (ValueError,TypeError):\n",
    "        continue\n",
    "    r_square_list.append((result.rsquared,str(c)))\n",
    "    \n",
    "df = pd.DataFrame(r_square_list, columns=['r2','col_name'])\n",
    "df=df.sort_values(by='r2',ascending=False)\n",
    "df.head(10)"
   ]
  },
  {
   "cell_type": "code",
   "execution_count": 130,
   "metadata": {
    "collapsed": false
   },
   "outputs": [
    {
     "name": "stdout",
     "output_type": "stream",
     "text": [
      " 1- result.mse_resid/result.mse_total =  0.0131569459146\n",
      "join.totalwgt_lb.std() =  1.61599234574\n",
      "MSE TOTAL 1.61599234574\n",
      "                            OLS Regression Results                            \n",
      "==============================================================================\n",
      "Dep. Variable:            totalwgt_lb   R-squared:                       0.013\n",
      "Model:                            OLS   Adj. R-squared:                  0.013\n",
      "Method:                 Least Squares   F-statistic:                     118.1\n",
      "Date:                Sun, 31 Jul 2016   Prob (F-statistic):           2.51e-27\n",
      "Time:                        14:57:55   Log-Likelihood:                -14508.\n",
      "No. Observations:                8781   AIC:                         2.902e+04\n",
      "Df Residuals:                    8779   BIC:                         2.903e+04\n",
      "Df Model:                           1                                         \n",
      "Covariance Type:            nonrobust                                         \n",
      "==============================================================================\n",
      "                 coef    std err          t      P>|t|      [95.0% Conf. Int.]\n",
      "------------------------------------------------------------------------------\n",
      "Intercept      7.7984      0.042    183.834      0.000         7.715     7.882\n",
      "babysex       -0.2929      0.027    -10.865      0.000        -0.346    -0.240\n",
      "==============================================================================\n",
      "Omnibus:                      372.000   Durbin-Watson:                   1.587\n",
      "Prob(Omnibus):                  0.000   Jarque-Bera (JB):             1166.231\n",
      "Skew:                          -0.103   Prob(JB):                    5.70e-254\n",
      "Kurtosis:                       4.773   Cond. No.                         6.81\n",
      "==============================================================================\n",
      "\n",
      "Warnings:\n",
      "[1] Standard Errors assume that the covariance matrix of the errors is correctly specified.\n"
     ]
    },
    {
     "data": {
      "text/plain": [
       "<matplotlib.axes._subplots.AxesSubplot at 0x7f760c3e6a90>"
      ]
     },
     "execution_count": 130,
     "metadata": {},
     "output_type": "execute_result"
    },
    {
     "data": {
      "image/png": "[encoded data removed]",
      "text/plain": [
       "<matplotlib.figure.Figure at 0x7f760d6f81d0>"
      ]
     },
     "metadata": {},
     "output_type": "display_data"
    }
   ],
   "source": [
    "result = smf.ols('totalwgt_lb ~ babysex',data=join).fit()\n",
    "print  \"1- result.mse_resid/result.mse_total = \",1- result.mse_resid/result.mse_total\n",
    "print \"join.totalwgt_lb.std() = \", (join.totalwgt_lb.std())**2\n",
    "print \"MSE TOTAL\"  , result.mse_total\n",
    "print result.summary()\n",
    "join.boxplot(\"totalwgt_lb\",by='babysex')\n",
    "\n"
   ]
  },
  {
   "cell_type": "code",
   "execution_count": 132,
   "metadata": {
    "collapsed": false
   },
   "outputs": [
    {
     "data": {
      "text/html": [
       "<table class=\"simpletable\">\n",
       "<caption>OLS Regression Results</caption>\n",
       "<tr>\n",
       "  <th>Dep. Variable:</th>       <td>totalwgt_lb</td>   <th>  R-squared:         </th> <td>   0.060</td> \n",
       "</tr>\n",
       "<tr>\n",
       "  <th>Model:</th>                   <td>OLS</td>       <th>  Adj. R-squared:    </th> <td>   0.059</td> \n",
       "</tr>\n",
       "<tr>\n",
       "  <th>Method:</th>             <td>Least Squares</td>  <th>  F-statistic:       </th> <td>   79.98</td> \n",
       "</tr>\n",
       "<tr>\n",
       "  <th>Date:</th>             <td>Sun, 31 Jul 2016</td> <th>  Prob (F-statistic):</th> <td>4.86e-113</td>\n",
       "</tr>\n",
       "<tr>\n",
       "  <th>Time:</th>                 <td>15:03:03</td>     <th>  Log-Likelihood:    </th> <td> -14295.</td> \n",
       "</tr>\n",
       "<tr>\n",
       "  <th>No. Observations:</th>      <td>  8781</td>      <th>  AIC:               </th> <td>2.861e+04</td>\n",
       "</tr>\n",
       "<tr>\n",
       "  <th>Df Residuals:</th>          <td>  8773</td>      <th>  BIC:               </th> <td>2.866e+04</td>\n",
       "</tr>\n",
       "<tr>\n",
       "  <th>Df Model:</th>              <td>     7</td>      <th>                     </th>     <td> </td>    \n",
       "</tr>\n",
       "<tr>\n",
       "  <th>Covariance Type:</th>      <td>nonrobust</td>    <th>                     </th>     <td> </td>    \n",
       "</tr>\n",
       "</table>\n",
       "<table class=\"simpletable\">\n",
       "<tr>\n",
       "            <td></td>              <th>coef</th>     <th>std err</th>      <th>t</th>      <th>P>|t|</th> <th>[95.0% Conf. Int.]</th> \n",
       "</tr>\n",
       "<tr>\n",
       "  <th>Intercept</th>            <td>    6.6303</td> <td>    0.065</td> <td>  102.223</td> <td> 0.000</td> <td>    6.503     6.757</td>\n",
       "</tr>\n",
       "<tr>\n",
       "  <th>C(race)[T.2]</th>         <td>    0.3570</td> <td>    0.032</td> <td>   11.215</td> <td> 0.000</td> <td>    0.295     0.419</td>\n",
       "</tr>\n",
       "<tr>\n",
       "  <th>C(race)[T.3]</th>         <td>    0.2665</td> <td>    0.051</td> <td>    5.175</td> <td> 0.000</td> <td>    0.166     0.367</td>\n",
       "</tr>\n",
       "<tr>\n",
       "  <th>babysex == 1[T.True]</th> <td>    0.2952</td> <td>    0.026</td> <td>   11.216</td> <td> 0.000</td> <td>    0.244     0.347</td>\n",
       "</tr>\n",
       "<tr>\n",
       "  <th>nbrnaliv > 1[T.True]</th> <td>   -1.3783</td> <td>    0.108</td> <td>  -12.771</td> <td> 0.000</td> <td>   -1.590    -1.167</td>\n",
       "</tr>\n",
       "<tr>\n",
       "  <th>paydu == 1[T.True]</th>   <td>    0.1196</td> <td>    0.031</td> <td>    3.861</td> <td> 0.000</td> <td>    0.059     0.180</td>\n",
       "</tr>\n",
       "<tr>\n",
       "  <th>agepreg</th>              <td>    0.0074</td> <td>    0.003</td> <td>    2.921</td> <td> 0.004</td> <td>    0.002     0.012</td>\n",
       "</tr>\n",
       "<tr>\n",
       "  <th>totincr</th>              <td>    0.0122</td> <td>    0.004</td> <td>    3.110</td> <td> 0.002</td> <td>    0.005     0.020</td>\n",
       "</tr>\n",
       "</table>\n",
       "<table class=\"simpletable\">\n",
       "<tr>\n",
       "  <th>Omnibus:</th>       <td>398.813</td> <th>  Durbin-Watson:     </th> <td>   1.604</td> \n",
       "</tr>\n",
       "<tr>\n",
       "  <th>Prob(Omnibus):</th> <td> 0.000</td>  <th>  Jarque-Bera (JB):  </th> <td>1388.362</td> \n",
       "</tr>\n",
       "<tr>\n",
       "  <th>Skew:</th>          <td>-0.037</td>  <th>  Prob(JB):          </th> <td>3.32e-302</td>\n",
       "</tr>\n",
       "<tr>\n",
       "  <th>Kurtosis:</th>      <td> 4.947</td>  <th>  Cond. No.          </th> <td>    221.</td> \n",
       "</tr>\n",
       "</table>"
      ],
      "text/plain": [
       "<class 'statsmodels.iolib.summary.Summary'>\n",
       "\"\"\"\n",
       "                            OLS Regression Results                            \n",
       "==============================================================================\n",
       "Dep. Variable:            totalwgt_lb   R-squared:                       0.060\n",
       "Model:                            OLS   Adj. R-squared:                  0.059\n",
       "Method:                 Least Squares   F-statistic:                     79.98\n",
       "Date:                Sun, 31 Jul 2016   Prob (F-statistic):          4.86e-113\n",
       "Time:                        15:03:03   Log-Likelihood:                -14295.\n",
       "No. Observations:                8781   AIC:                         2.861e+04\n",
       "Df Residuals:                    8773   BIC:                         2.866e+04\n",
       "Df Model:                           7                                         \n",
       "Covariance Type:            nonrobust                                         \n",
       "========================================================================================\n",
       "                           coef    std err          t      P>|t|      [95.0% Conf. Int.]\n",
       "----------------------------------------------------------------------------------------\n",
       "Intercept                6.6303      0.065    102.223      0.000         6.503     6.757\n",
       "C(race)[T.2]             0.3570      0.032     11.215      0.000         0.295     0.419\n",
       "C(race)[T.3]             0.2665      0.051      5.175      0.000         0.166     0.367\n",
       "babysex == 1[T.True]     0.2952      0.026     11.216      0.000         0.244     0.347\n",
       "nbrnaliv > 1[T.True]    -1.3783      0.108    -12.771      0.000        -1.590    -1.167\n",
       "paydu == 1[T.True]       0.1196      0.031      3.861      0.000         0.059     0.180\n",
       "agepreg                  0.0074      0.003      2.921      0.004         0.002     0.012\n",
       "totincr                  0.0122      0.004      3.110      0.002         0.005     0.020\n",
       "==============================================================================\n",
       "Omnibus:                      398.813   Durbin-Watson:                   1.604\n",
       "Prob(Omnibus):                  0.000   Jarque-Bera (JB):             1388.362\n",
       "Skew:                          -0.037   Prob(JB):                    3.32e-302\n",
       "Kurtosis:                       4.947   Cond. No.                         221.\n",
       "==============================================================================\n",
       "\n",
       "Warnings:\n",
       "[1] Standard Errors assume that the covariance matrix of the errors is correctly specified.\n",
       "\"\"\""
      ]
     },
     "execution_count": 132,
     "metadata": {},
     "output_type": "execute_result"
    }
   ],
   "source": [
    "formula = ('totalwgt_lb ~ agepreg + C(race) + babysex==1 + '\n",
    "'nbrnaliv>1 + paydu==1 + totincr')\n",
    "result = smf.ols(formula,data=join).fit()\n",
    "result.summary()"
   ]
  },
  {
   "cell_type": "code",
   "execution_count": 133,
   "metadata": {
    "collapsed": false
   },
   "outputs": [
    {
     "data": {
      "text/html": [
       "<div>\n",
       "<table border=\"1\" class=\"dataframe\">\n",
       "  <thead>\n",
       "    <tr style=\"text-align: right;\">\n",
       "      <th></th>\n",
       "      <th>caseid</th>\n",
       "      <th>pregordr</th>\n",
       "      <th>howpreg_n</th>\n",
       "      <th>howpreg_p</th>\n",
       "      <th>moscurrp</th>\n",
       "      <th>nowprgdk</th>\n",
       "      <th>pregend1</th>\n",
       "      <th>pregend2</th>\n",
       "      <th>nbrnaliv</th>\n",
       "      <th>multbrth</th>\n",
       "      <th>...</th>\n",
       "      <th>pubassis_i_r</th>\n",
       "      <th>basewgt_r</th>\n",
       "      <th>adj_mod_basewgt_r</th>\n",
       "      <th>finalwgt_r</th>\n",
       "      <th>secu_r</th>\n",
       "      <th>sest_r</th>\n",
       "      <th>cmintvw_r</th>\n",
       "      <th>cmlstyr</th>\n",
       "      <th>screentime</th>\n",
       "      <th>intvlngth</th>\n",
       "    </tr>\n",
       "    <tr>\n",
       "      <th>race</th>\n",
       "      <th></th>\n",
       "      <th></th>\n",
       "      <th></th>\n",
       "      <th></th>\n",
       "      <th></th>\n",
       "      <th></th>\n",
       "      <th></th>\n",
       "      <th></th>\n",
       "      <th></th>\n",
       "      <th></th>\n",
       "      <th></th>\n",
       "      <th></th>\n",
       "      <th></th>\n",
       "      <th></th>\n",
       "      <th></th>\n",
       "      <th></th>\n",
       "      <th></th>\n",
       "      <th></th>\n",
       "      <th></th>\n",
       "      <th></th>\n",
       "      <th></th>\n",
       "    </tr>\n",
       "  </thead>\n",
       "  <tbody>\n",
       "    <tr>\n",
       "      <th>1</th>\n",
       "      <td>2330</td>\n",
       "      <td>2330</td>\n",
       "      <td>0</td>\n",
       "      <td>0</td>\n",
       "      <td>0</td>\n",
       "      <td>0</td>\n",
       "      <td>2330</td>\n",
       "      <td>3</td>\n",
       "      <td>2327</td>\n",
       "      <td>41</td>\n",
       "      <td>...</td>\n",
       "      <td>2330</td>\n",
       "      <td>2330</td>\n",
       "      <td>2330</td>\n",
       "      <td>2330</td>\n",
       "      <td>2330</td>\n",
       "      <td>2330</td>\n",
       "      <td>2330</td>\n",
       "      <td>2330</td>\n",
       "      <td>2330</td>\n",
       "      <td>2330</td>\n",
       "    </tr>\n",
       "    <tr>\n",
       "      <th>2</th>\n",
       "      <td>5762</td>\n",
       "      <td>5762</td>\n",
       "      <td>0</td>\n",
       "      <td>0</td>\n",
       "      <td>0</td>\n",
       "      <td>0</td>\n",
       "      <td>5762</td>\n",
       "      <td>3</td>\n",
       "      <td>5761</td>\n",
       "      <td>88</td>\n",
       "      <td>...</td>\n",
       "      <td>5762</td>\n",
       "      <td>5762</td>\n",
       "      <td>5762</td>\n",
       "      <td>5762</td>\n",
       "      <td>5762</td>\n",
       "      <td>5762</td>\n",
       "      <td>5762</td>\n",
       "      <td>5762</td>\n",
       "      <td>5762</td>\n",
       "      <td>5762</td>\n",
       "    </tr>\n",
       "    <tr>\n",
       "      <th>3</th>\n",
       "      <td>792</td>\n",
       "      <td>792</td>\n",
       "      <td>0</td>\n",
       "      <td>0</td>\n",
       "      <td>0</td>\n",
       "      <td>0</td>\n",
       "      <td>792</td>\n",
       "      <td>2</td>\n",
       "      <td>792</td>\n",
       "      <td>5</td>\n",
       "      <td>...</td>\n",
       "      <td>792</td>\n",
       "      <td>792</td>\n",
       "      <td>792</td>\n",
       "      <td>792</td>\n",
       "      <td>792</td>\n",
       "      <td>792</td>\n",
       "      <td>792</td>\n",
       "      <td>792</td>\n",
       "      <td>792</td>\n",
       "      <td>792</td>\n",
       "    </tr>\n",
       "  </tbody>\n",
       "</table>\n",
       "<p>3 rows × 3332 columns</p>\n",
       "</div>"
      ],
      "text/plain": [
       "      caseid  pregordr  howpreg_n  howpreg_p  moscurrp  nowprgdk  pregend1  \\\n",
       "race                                                                         \n",
       "1       2330      2330          0          0         0         0      2330   \n",
       "2       5762      5762          0          0         0         0      5762   \n",
       "3        792       792          0          0         0         0       792   \n",
       "\n",
       "      pregend2  nbrnaliv  multbrth    ...      pubassis_i_r  basewgt_r  \\\n",
       "race                                  ...                                \n",
       "1            3      2327        41    ...              2330       2330   \n",
       "2            3      5761        88    ...              5762       5762   \n",
       "3            2       792         5    ...               792        792   \n",
       "\n",
       "      adj_mod_basewgt_r  finalwgt_r  secu_r  sest_r  cmintvw_r  cmlstyr  \\\n",
       "race                                                                      \n",
       "1                  2330        2330    2330    2330       2330     2330   \n",
       "2                  5762        5762    5762    5762       5762     5762   \n",
       "3                   792         792     792     792        792      792   \n",
       "\n",
       "      screentime  intvlngth  \n",
       "race                         \n",
       "1           2330       2330  \n",
       "2           5762       5762  \n",
       "3            792        792  \n",
       "\n",
       "[3 rows x 3332 columns]"
      ]
     },
     "execution_count": 133,
     "metadata": {},
     "output_type": "execute_result"
    }
   ],
   "source": [
    "join.groupby('race').count()"
   ]
  }
 ],
 "metadata": {
  "kernelspec": {
   "display_name": "Python 2",
   "language": "python",
   "name": "python2"
  },
  "language_info": {
   "codemirror_mode": {
    "name": "ipython",
    "version": 2
   },
   "file_extension": ".py",
   "mimetype": "text/x-python",
   "name": "python",
   "nbconvert_exporter": "python",
   "pygments_lexer": "ipython2",
   "version": "2.7.12"
  }
 },
 "nbformat": 4,
 "nbformat_minor": 0
}
