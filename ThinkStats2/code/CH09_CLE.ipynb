{
 "cells": [
  {
   "cell_type": "code",
   "execution_count": 23,
   "metadata": {
    "collapsed": true
   },
   "outputs": [],
   "source": [
    "from __future__ import division\n",
    "import numpy as np\n",
    "import pandas as pd\n",
    "import matplotlib.pyplot as plt\n",
    "import seaborn as sns\n",
    "%matplotlib inline\n",
    "import scipy.stats as stats\n",
    "import math as math\n",
    "import nsfg\n",
    "import random\n",
    "import first"
   ]
  },
  {
   "cell_type": "markdown",
   "metadata": {},
   "source": [
    "## PValues"
   ]
  },
  {
   "cell_type": "code",
   "execution_count": 3,
   "metadata": {
    "collapsed": false
   },
   "outputs": [
    {
     "name": "stdout",
     "output_type": "stream",
     "text": [
      "0.082\n"
     ]
    }
   ],
   "source": [
    "n = 250\n",
    "coin = ['H','T']\n",
    "heads = 140\n",
    "tails = 110\n",
    "delta_actual = abs(heads-tails)\n",
    "iters = 1000\n",
    "\n",
    "def get_delta():\n",
    "    choices = np.random.choice(coin,n)\n",
    "    results = pd.DataFrame(choices,columns=['result'])\n",
    "    return abs(np.sum(results.result==\"T\")-np.sum(results.result!=\"T\"))\n",
    "\n",
    "\n",
    "test=[]\n",
    "for _ in range(iters):\n",
    "    test.append(get_delta())\n",
    "    \n",
    "\n",
    "\n",
    "PValue = sum(1  for t in test if t>=delta_actual)\n",
    "\n",
    "print PValue/iters\n"
   ]
  },
  {
   "cell_type": "code",
   "execution_count": 22,
   "metadata": {
    "collapsed": false
   },
   "outputs": [
    {
     "name": "stdout",
     "output_type": "stream",
     "text": [
      "0.0672\n"
     ]
    }
   ],
   "source": [
    "n=250\n",
    "head = 140\n",
    "tails = 110\n",
    "actual = abs(head-tails)\n",
    "m = 1000\n",
    "x_delta=[]\n",
    "\n",
    "#compute the times that the delta between H and T is bigger than the actual, and divide it by the number of iterations.\n",
    "\n",
    "def generateData():\n",
    "    xs = pd.DataFrame(np.random.choice(['T','H'],n),columns=[\"Result\"])\n",
    "    data = xs.Result.value_counts()\n",
    "    \n",
    "    return abs(data.ix['H']-data.ix['T'])\n",
    "    \n",
    "x_delta =np.asarray([generateData() for _ in range(m)])\n",
    "\n",
    "\n",
    "result = np.sum(x_delta>= actual)\n",
    "\n",
    "print result/m"
   ]
  },
  {
   "cell_type": "markdown",
   "metadata": {},
   "source": [
    "# Testing a difference in Means"
   ]
  },
  {
   "cell_type": "code",
   "execution_count": 77,
   "metadata": {
    "collapsed": false
   },
   "outputs": [
    {
     "name": "stdout",
     "output_type": "stream",
     "text": [
      "0.173\n"
     ]
    },
    {
     "data": {
      "image/png": "[encoded data removed]",
      "text/plain": [
       "<matplotlib.figure.Figure at 0x7f275c491dd0>"
      ]
     },
     "metadata": {},
     "output_type": "display_data"
    }
   ],
   "source": [
    "live,firsts,others = first.MakeFrames()\n",
    "data = firsts.prglngth.values,others.prglngth.values\n",
    "\n",
    "\n",
    "m = 1000\n",
    "\n",
    "n = data[0].shape[0]\n",
    "\n",
    "mean_firsts = data[0].mean()\n",
    "mean_others = data[1].mean()\n",
    "\n",
    "delta_actual =  abs(mean_firsts-mean_others)\n",
    "\n",
    "#shuffle two sets:\n",
    "reshuffle = np.hstack(data)\n",
    "\n",
    "def compute_delta_mean_test():\n",
    "    np.random.shuffle(reshuffle)\n",
    "\n",
    "    #compute delta means:\n",
    "    test_set =  abs(reshuffle[:n].mean()-reshuffle[n:].mean())\n",
    "    return test_set\n",
    "\n",
    "test_list = np.asarray([compute_delta_mean_test() for i in range(m)])\n",
    "test_list.sort()\n",
    "\n",
    "\n",
    "CDF = np.array(range(test_list.shape[0]))/float(test_list.shape[0])\n",
    "plt.plot(test_list,CDF,color='r')\n",
    "\n",
    "\n",
    "pValue = np.sum(test_list>=delta_actual)/m\n",
    "\n",
    "plt.axvline(delta_actual) \n",
    "print pValue\n"
   ]
  },
  {
   "cell_type": "markdown",
   "metadata": {},
   "source": [
    "# Testing a difference in Pearson Correlation"
   ]
  },
  {
   "cell_type": "code",
   "execution_count": 100,
   "metadata": {
    "collapsed": false
   },
   "outputs": [
    {
     "name": "stdout",
     "output_type": "stream",
     "text": [
      "0.0\n"
     ]
    }
   ],
   "source": [
    "live, firsts, others = first.MakeFrames()\n",
    "live = live.dropna(subset=['agepreg','totalwgt_lb'])\n",
    "\n",
    "#Actual Pearson's correlation :\n",
    "live = live[['agepreg','totalwgt_lb']]\n",
    "actual_corr = (np.corrcoef(live.agepreg,live.totalwgt_lb)).reshape(-1,1)\n",
    "actual_corr\n",
    "\n",
    "# prepare sample et reshuffle:\n",
    "def get_mean_correlation():\n",
    "    xs,ys = live.agepreg,live.totalwgt_lb\n",
    "    xs = np.random.permutation(xs)\n",
    "    corr = stats.pearsonr(xs,ys)[0]\n",
    "    return corr\n",
    "\n",
    "\n",
    "test_sample = [get_mean_correlation() for _  in range(m)]\n",
    "\n",
    "test_sample = np.asarray(test_sample)\n",
    "\n",
    "pValue = np.sum(test_sample>=actual_corr)/m\n",
    "print pValue\n",
    "\n",
    "    \n"
   ]
  }
 ],
 "metadata": {
  "kernelspec": {
   "display_name": "Python 2",
   "language": "python",
   "name": "python2"
  },
  "language_info": {
   "codemirror_mode": {
    "name": "ipython",
    "version": 2
   },
   "file_extension": ".py",
   "mimetype": "text/x-python",
   "name": "python",
   "nbconvert_exporter": "python",
   "pygments_lexer": "ipython2",
   "version": "2.7.12"
  }
 },
 "nbformat": 4,
 "nbformat_minor": 0
}
