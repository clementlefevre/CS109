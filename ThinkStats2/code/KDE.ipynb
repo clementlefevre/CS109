{
 "cells": [
  {
   "cell_type": "markdown",
   "metadata": {},
   "source": [
    "# Why histograms\n",
    "As we all know, [Histograms](http://en.wikipedia.org/wiki/Histogram) are an extremely common way to make sense of discrete data. Whether we mean to or not, when we're using histograms, we're usually doing some form of [density estimation](http://en.wikipedia.org/wiki/Density_estimation). That is, although we only have a few discrete data points, we'd really pretend that we have some sort of continuous distribution, and we'd really like to know what that distribution is. For instance, I was recently grading an exam and trying to figure out what the underlying distribution of grades looked like, whether I should curve the exam, and, if so, how I should curve it.\n",
    "\n",
    "I'll poke at this in an [IPython Notebook](http://ipython.org/notebook.html); if you're doing this in a different environments, you may wish to uncomment out the commented lines so that your namespace is properly polluted. "
   ]
  },
  {
   "cell_type": "code",
   "execution_count": 1,
   "metadata": {
    "collapsed": false
   },
   "outputs": [
    {
     "name": "stdout",
     "output_type": "stream",
     "text": [
      "Populating the interactive namespace from numpy and matplotlib\n"
     ]
    },
    {
     "data": {
      "image/png": "[encoded data removed]",
      "text/plain": [
       "<matplotlib.figure.Figure at 0x7f45b459b590>"
      ]
     },
     "metadata": {},
     "output_type": "display_data"
    }
   ],
   "source": [
    "from __future__ import division\n",
    "%pylab inline\n",
    "\n",
    "grades = array((93.5,93,60.8,94.5,82,87.5,91.5,99.5,86,93.5,92.5,78,76,69,94.5,89.5,92.8,78,65.5,98,98.5,92.3,95.5,76,91,95,61.4,96,90))\n",
    "junk = hist(grades)"
   ]
  },
  {
   "cell_type": "markdown",
   "metadata": {},
   "source": [
    "# Why not histograms?\n",
    "\n",
    "We can play around with the number of bins, but it's not totally clear what's going on with the left half of the grades."
   ]
  },
  {
   "cell_type": "code",
   "execution_count": 2,
   "metadata": {
    "collapsed": false
   },
   "outputs": [
    {
     "data": {
      "image/png": "[encoded data removed]",
      "text/plain": [
       "<matplotlib.figure.Figure at 0x7f45b4589850>"
      ]
     },
     "metadata": {},
     "output_type": "display_data"
    }
   ],
   "source": [
    "junk = hist(grades,5)"
   ]
  },
  {
   "cell_type": "code",
   "execution_count": 3,
   "metadata": {
    "collapsed": false
   },
   "outputs": [
    {
     "data": {
      "image/png": "[encoded data removed]",
      "text/plain": [
       "<matplotlib.figure.Figure at 0x7f458ed5c610>"
      ]
     },
     "metadata": {},
     "output_type": "display_data"
    }
   ],
   "source": [
    "junk = hist(grades,15)"
   ]
  },
  {
   "cell_type": "markdown",
   "metadata": {},
   "source": [
    "So, maybe the histogram isn't the perfect tool for the job at hand. In fact, there are quite a few well-known problems with histograms. [Shodor](http://www.shodor.org/) has a really nice [histogram activity](http://www.shodor.org/interactivate/activities/Histogram/) that lets you play around with data interactively. Rather than using Java or JavaScript directly, [Jake Vanderplas](http://jakevdp.github.io/) has a great package called [JSAnimation](https://github.com/jakevdp/JSAnimation) that lets us animate things directly in IPython Notebooks. I'll cheat a bit: since all I really need for this is a single slider, I can use JSAnimation to let us interact with data very similarly to the Shodor pages."
   ]
  },
  {
   "cell_type": "code",
   "execution_count": 4,
   "metadata": {
    "collapsed": false
   },
   "outputs": [],
   "source": [
    "from JSAnimation.IPython_display import display_animation, anim_to_html"
   ]
  },
  {
   "cell_type": "markdown",
   "metadata": {},
   "source": [
    "Before we start, I'll load in a few data sets. If you're interested, you can rerun this notebook with a different data set to see how it affects things. `data_shodor` is the \"My Data\" set from their histogram activity page, `data_sat` is the average SAT Math data from the same page, `data_tarn` is from Tarn Duong's [fantastic KDE explanation](http://www.mvstat.net/tduong/research/seminars/seminar-2001-05/) (we'll get there), and `simple_data` is just a very simple data set."
   ]
  },
  {
   "cell_type": "code",
   "execution_count": 5,
   "metadata": {
    "collapsed": false
   },
   "outputs": [],
   "source": [
    "data_tarn = array((2.1,2.2,2.3,2.25,2.4,2.61,2.62,3.3,3.4,3.41,3.6,3.8))\n",
    "data_shodor = array((49,49,45,45,41,38,38,38,40,37,37,34,35,36,35,38,38,32,32,32,37,31,32,31,32,30,30,32,30,30,29,28,29,29,29,30,28,27,29,30,28,27,28,27,27,29,29,29,26,27,25,25,25,25,25,25,25,26,26,27))\n",
    "data_sat = array((490,499,459,575,575,513,382,525,510,542,368,564,509,530,485,521,495,526,474,500,441,750,495,476,456,440,547,479,501,476,457,444,444,467,482,449,464,501,670,740,590,700,590,450,452,468,472,447,520,506,570,474,532,472,585,466,549,736,654,585,574,621,542,616,547,554,514,592,531,550,507,441,551,450,548,589,549,485,480,545,451,448,487,480,540,470,529,445,460,457,560,495,480,430,644,489,506,660,444,551,583,457,440,470,486,413,470,408,440,596,442,544,528,559,505,450,477,557,446,553,370,533,496,513,403,496,543,533,471,404,439,459,393,470,650,512,445,446,474,449,529,538,450,570,499,375,515,445,571,442,492,456,428,536,515,450,537,490,446,410,526,560,560,540,502,642,590,480,557,468,524,445,479))\n",
    "simple_data = array((0,5,10))\n",
    "data = grades"
   ]
  },
  {
   "cell_type": "markdown",
   "metadata": {},
   "source": [
    "Two of the main problems with histograms are (1) you need to define a bin size (2) you need to decide where the left edge of the bin is. "
   ]
  },
  {
   "cell_type": "markdown",
   "metadata": {},
   "source": [
    "## Histogram bin size\n",
    "\n",
    "Let's look at the effects of bin size on histograms. \n",
    "\n",
    "Caveat: the code below is certainly not optimized. Ditto for all of the code in this notebook. I wrote it quickly and at the same time I learned what `FuncAnimation` does. In order to make this read more easily, I've included most of the code at the *end*. If you're running this interactively, **run the cell at the end now!**"
   ]
  },
  {
   "cell_type": "markdown",
   "metadata": {},
   "source": [
    "Let's start with `getHistBinNumAni`. What does that do? Given a data set, it'll give us an interactive plot. By dragging the slider around, we can make a histogram with anywhere from 1 bin to some max (default: 20) number of bins. No matter how many bins we have, the actual data is shown in blue dots near the bottom. Here's what it looks like for the grades:"
   ]
  },
  {
   "cell_type": "code",
   "execution_count": 7,
   "metadata": {
    "collapsed": false
   },
   "outputs": [
    {
     "ename": "NameError",
     "evalue": "name 'getHistBinNumAni' is not defined",
     "output_type": "error",
     "traceback": [
      "\u001b[1;31m---------------------------------------------------------------------------\u001b[0m",
      "\u001b[1;31mNameError\u001b[0m                                 Traceback (most recent call last)",
      "\u001b[1;32m<ipython-input-7-e8b76449179b>\u001b[0m in \u001b[0;36m<module>\u001b[1;34m()\u001b[0m\n\u001b[1;32m----> 1\u001b[1;33m \u001b[0mani\u001b[0m \u001b[1;33m=\u001b[0m \u001b[0mgetHistBinNumAni\u001b[0m\u001b[1;33m(\u001b[0m\u001b[0mdata\u001b[0m\u001b[1;33m)\u001b[0m\u001b[1;33m\u001b[0m\u001b[0m\n\u001b[0m\u001b[0;32m      2\u001b[0m \u001b[0mdisplay_animation\u001b[0m\u001b[1;33m(\u001b[0m\u001b[0mani\u001b[0m\u001b[1;33m,\u001b[0m \u001b[0mdefault_mode\u001b[0m\u001b[1;33m=\u001b[0m\u001b[1;34m'once'\u001b[0m\u001b[1;33m)\u001b[0m\u001b[1;33m\u001b[0m\u001b[0m\n",
      "\u001b[1;31mNameError\u001b[0m: name 'getHistBinNumAni' is not defined"
     ]
    }
   ],
   "source": [
    "ani = getHistBinNumAni(data)\n",
    "display_animation(ani, default_mode='once')"
   ]
  },
  {
   "cell_type": "markdown",
   "metadata": {},
   "source": [
    "So, obviously chosing the number of bins makes a *huge* difference in how we'd interpret the data.\n",
    "\n",
    "## Where do the histogram bins start?\n",
    "\n",
    "One of the other big problems with histograms, especially for relatively small data sets, is that you have to choose where the left edge of the first bin goes. Do you center the bin around the first group of points? Do you make the left edge match up with the left-most data point? Let's make some plots to see how that can affect things, because it's a bit easier to understand what I'm going on about that way. We'll make a similar animation with `getHistBinOffsetAni`. As with the previous animation, drag the slider around. This time, we have the same number of bins, but the slider drags around the data relative to the bins (or vice versa, depending on how you think of it)."
   ]
  },
  {
   "cell_type": "code",
   "execution_count": 8,
   "metadata": {
    "collapsed": false
   },
   "outputs": [
    {
     "ename": "NameError",
     "evalue": "name 'getHistBinOffsetAni' is not defined",
     "output_type": "error",
     "traceback": [
      "\u001b[1;31m---------------------------------------------------------------------------\u001b[0m",
      "\u001b[1;31mNameError\u001b[0m                                 Traceback (most recent call last)",
      "\u001b[1;32m<ipython-input-8-0e12226ffa8b>\u001b[0m in \u001b[0;36m<module>\u001b[1;34m()\u001b[0m\n\u001b[1;32m----> 1\u001b[1;33m \u001b[0mani\u001b[0m \u001b[1;33m=\u001b[0m \u001b[0mgetHistBinOffsetAni\u001b[0m\u001b[1;33m(\u001b[0m\u001b[0mdata\u001b[0m\u001b[1;33m)\u001b[0m\u001b[1;33m\u001b[0m\u001b[0m\n\u001b[0m\u001b[0;32m      2\u001b[0m \u001b[0mdisplay_animation\u001b[0m\u001b[1;33m(\u001b[0m\u001b[0mani\u001b[0m\u001b[1;33m,\u001b[0m \u001b[0mdefault_mode\u001b[0m\u001b[1;33m=\u001b[0m\u001b[1;34m'once'\u001b[0m\u001b[1;33m)\u001b[0m\u001b[1;33m\u001b[0m\u001b[0m\n",
      "\u001b[1;31mNameError\u001b[0m: name 'getHistBinOffsetAni' is not defined"
     ]
    }
   ],
   "source": [
    "ani = getHistBinOffsetAni(data)\n",
    "display_animation(ani, default_mode='once')"
   ]
  },
  {
   "cell_type": "markdown",
   "metadata": {},
   "source": [
    "# KDE (Kernel Density Estimation) to the rescue!\n",
    "\n",
    "[Kernel density estimation](http://en.wikipedia.org/wiki/Kernel_density_estimation) is my favorite alternative to histograms. Tarn Duong has [fantastic KDE explanation](http://www.mvstat.net/tduong/research/seminars/seminar-2001-05/), which is well worth reading. The basic idea is that, if you're looking at our simple dataset (`simple_data = array((0,5,10)`), you might choose to represent each point as a rectangle:\n"
   ]
  },
  {
   "cell_type": "code",
   "execution_count": 10,
   "metadata": {
    "collapsed": false
   },
   "outputs": [
    {
     "data": {
      "image/png": "[encoded data removed]",
      "text/plain": [
       "<matplotlib.figure.Figure at 0x7f458ed51650>"
      ]
     },
     "metadata": {},
     "output_type": "display_data"
    }
   ],
   "source": [
    "bar(simple_data,ones_like(simple_data)*0.5,width=0.5,facecolor='grey',alpha=0.5)\n",
    "junk = ylim(0, 2.0)"
   ]
  },
  {
   "cell_type": "markdown",
   "metadata": {},
   "source": [
    "not so interesting so far, but what do we do when the rectangles get wide enough that they start to overlap? Instead of just letting them run over each other like"
   ]
  },
  {
   "cell_type": "code",
   "execution_count": 11,
   "metadata": {
    "collapsed": false
   },
   "outputs": [
    {
     "data": {
      "image/png": "[encoded data removed]",
      "text/plain": [
       "<matplotlib.figure.Figure at 0x7f458ed2a6d0>"
      ]
     },
     "metadata": {},
     "output_type": "display_data"
    }
   ],
   "source": [
    "bar(simple_data,ones_like(simple_data)*0.5,width=6,facecolor='grey',alpha=0.5)\n",
    "junk = ylim(0, 2.0)"
   ]
  },
  {
   "cell_type": "markdown",
   "metadata": {},
   "source": [
    "and instead of coloring the overlap regions darker grey, we *add* the rectangles together. So, since each of the rectangles has height 0.5 in the above example, the dark grey regions should really have height 1.0. This idea is called \"kernel density estimation\" (KDE), and the rectangle that we're using is called the \"kernel\". If we wanted to draw a different shape at each point, we'd do so by specifying a different kernel (perhaps a bell curve, or a triangle). "
   ]
  },
  {
   "cell_type": "markdown",
   "metadata": {},
   "source": [
    "KDE, rectangular kernel\n",
    "-----------------------\n",
    "\n",
    "Now let's try KDE with a rectangular kernel. This time, using `getKdeRectAni`, you get a slider controls the width of the kernel."
   ]
  },
  {
   "cell_type": "code",
   "execution_count": 12,
   "metadata": {
    "collapsed": false
   },
   "outputs": [
    {
     "ename": "NameError",
     "evalue": "name 'getKdeRectAni' is not defined",
     "output_type": "error",
     "traceback": [
      "\u001b[1;31m---------------------------------------------------------------------------\u001b[0m",
      "\u001b[1;31mNameError\u001b[0m                                 Traceback (most recent call last)",
      "\u001b[1;32m<ipython-input-12-4102f88acded>\u001b[0m in \u001b[0;36m<module>\u001b[1;34m()\u001b[0m\n\u001b[1;32m----> 1\u001b[1;33m \u001b[0mani\u001b[0m \u001b[1;33m=\u001b[0m \u001b[0mgetKdeRectAni\u001b[0m\u001b[1;33m(\u001b[0m\u001b[0msimple_data\u001b[0m\u001b[1;33m)\u001b[0m\u001b[1;33m\u001b[0m\u001b[0m\n\u001b[0m\u001b[0;32m      2\u001b[0m \u001b[0mdisplay_animation\u001b[0m\u001b[1;33m(\u001b[0m\u001b[0mani\u001b[0m\u001b[1;33m,\u001b[0m \u001b[0mdefault_mode\u001b[0m\u001b[1;33m=\u001b[0m\u001b[1;34m'once'\u001b[0m\u001b[1;33m)\u001b[0m\u001b[1;33m\u001b[0m\u001b[0m\n",
      "\u001b[1;31mNameError\u001b[0m: name 'getKdeRectAni' is not defined"
     ]
    }
   ],
   "source": [
    "ani = getKdeRectAni(simple_data)\n",
    "display_animation(ani, default_mode='once')"
   ]
  },
  {
   "cell_type": "markdown",
   "metadata": {},
   "source": [
    "play with the slider, and note what happens when you make it big enough that the rectangles start to overlap. By tuning the width of the rectangles, we can tune how finely or coarsely we're looking at the data. It's not so powerful with three data points, but check it out with the grades from above:"
   ]
  },
  {
   "cell_type": "code",
   "execution_count": null,
   "metadata": {
    "collapsed": false
   },
   "outputs": [],
   "source": [
    "ani = getKdeRectAni(data)\n",
    "display_animation(ani, default_mode='once')"
   ]
  },
  {
   "cell_type": "markdown",
   "metadata": {},
   "source": [
    "In my view, there's a sweet spot right around 1/8 or 1/9 of the way across the slider where there are three distinct peaks. It looks very much like a trimodal distribution to me. So far, this isn't totally automatic; we have to pick the width of our kernel, but it's obvoius that KDE can give us a much better view of the underlying data than histograms!"
   ]
  },
  {
   "cell_type": "markdown",
   "metadata": {},
   "source": [
    "KDE, Gaussian kernel\n",
    "--------------------\n",
    "\n",
    "\n",
    "As mentioned above, we can use a different kernel. One of the most common kernels to use is a [Gaussian](http://en.wikipedia.org/wiki/Gaussian_function). Using `getKdeGaussianAni`:"
   ]
  },
  {
   "cell_type": "markdown",
   "metadata": {},
   "source": [
    " Again, the slider controls kernel width."
   ]
  },
  {
   "cell_type": "code",
   "execution_count": null,
   "metadata": {
    "collapsed": false
   },
   "outputs": [],
   "source": [
    "ani = getKdeGaussianAni(data)\n",
    "display_animation(ani, default_mode='once')"
   ]
  },
  {
   "cell_type": "markdown",
   "metadata": {},
   "source": [
    "This gives us a really nice picture of the data. Play around with the slider and see what you think.\n",
    "\n",
    "## Kernel width\n",
    "\n",
    "Not only does KDE give us a better picture than histograms, but there turn out to be actual answers to the question of \"how wide should my kernel be?\" You can see, for instance, that making the kernel too narrow doesn't provide much more information than the raw data, while making it too large oversmooths the data, making it mostly look like a single kernel with some bits on the sides.\n",
    "\n",
    "[Daniel Smith](http://partiallattice.wordpress.com/) has a really nice [KDE module](https://github.com/Daniel-B-Smith/KDE-for-SciPy) that chooses an optimal bandwidth and can be used with [SciPy](http://www.scipy.org/) (scipy does have [its own](http://docs.scipy.org/doc/scipy/reference/generated/scipy.stats.gaussian_kde.html) KDE module, but I've found Daniel's to be quite robust)."
   ]
  },
  {
   "cell_type": "markdown",
   "metadata": {},
   "source": [
    "# Other data sets\n",
    "\n",
    "I highly recommend just playing around with other data sets using the above code. I was interested in playing around with income data, so I show how to grab that data from the IRS website below and play around a bit without comment. Enjoy!\n",
    "\n",
    "##Income data\n",
    "\n",
    "Let's grab the income data from [The IRS](http://www.irs.gov/uac/SOI-Tax-Stats---Free-County-Income-Data-Downloads) and make some plots.\n",
    "\n"
   ]
  },
  {
   "cell_type": "code",
   "execution_count": null,
   "metadata": {
    "collapsed": false
   },
   "outputs": [],
   "source": [
    "import urllib\n",
    "f = urllib.urlopen(\"http://www.irs.gov/file_source/pub/irs-soi/09incicsv.csv\")\n",
    "#\"State_Code\",\"County_Code\",\"State_Abbrv\",\"County_Name\",   \"Return_Num\",\"Exmpt_Num\",\"AGI\",\"Wages_Salaries\",\"Dividends\",\"Interest\"\n",
    "irs2009 = loadtxt(f,delimiter=',',skiprows=1,usecols=(4,5,6,7,8,9))\n",
    "agi2009 = irs2009[:,2]\n"
   ]
  },
  {
   "cell_type": "markdown",
   "metadata": {},
   "source": [
    "Now try things like"
   ]
  },
  {
   "cell_type": "code",
   "execution_count": null,
   "metadata": {
    "collapsed": false
   },
   "outputs": [],
   "source": [
    "ani = getHistBinNumAni(agi2009)\n",
    "display_animation(ani, default_mode='once')"
   ]
  },
  {
   "cell_type": "markdown",
   "metadata": {},
   "source": [
    "Whoops, that's hard to make sense of. Let's use logs"
   ]
  },
  {
   "cell_type": "code",
   "execution_count": null,
   "metadata": {
    "collapsed": false
   },
   "outputs": [],
   "source": [
    "la2009 = log(agi2009)\n",
    "la2009 = la2009[-isnan(la2009)]"
   ]
  },
  {
   "cell_type": "code",
   "execution_count": null,
   "metadata": {
    "collapsed": false
   },
   "outputs": [],
   "source": [
    "ani = getHistBinNumAni(la2009)\n",
    "display_animation(ani, default_mode='once')"
   ]
  },
  {
   "cell_type": "code",
   "execution_count": null,
   "metadata": {
    "collapsed": false
   },
   "outputs": [],
   "source": [
    "ani = getKdeRectAni(la2009)\n",
    "display_animation(ani, default_mode='once')"
   ]
  },
  {
   "cell_type": "code",
   "execution_count": null,
   "metadata": {
    "collapsed": false
   },
   "outputs": [],
   "source": [
    "ani = getKdeGaussianAni(la2009)\n",
    "display_animation(ani,default_mode='once')"
   ]
  },
  {
   "cell_type": "markdown",
   "metadata": {},
   "source": [
    "In order to make this read more easily, I've put the bulk of the code below. You'll have to run it before the previous cells."
   ]
  },
  {
   "cell_type": "code",
   "execution_count": null,
   "metadata": {
    "collapsed": false
   },
   "outputs": [],
   "source": [
    "#!/usr/bin/env python\n",
    "\n",
    "from numpy import histogram as nphistogram\n",
    "#from numpy import array, linspace, zeros, ones, ones_like\n",
    "#import numpy as np\n",
    "#import matplotlib.pyplot as plt\n",
    "#from matplotlib.pyplot import figure, hist, plot, ion, axes, title\n",
    "from JSAnimation.IPython_display import display_animation, anim_to_html\n",
    "\n",
    "from matplotlib import animation as animation\n",
    "\n",
    "\n",
    "def getHistBinNumAni(data,totalframes=None,showpts=True):\n",
    "    #ion()\n",
    "    if totalframes is None:\n",
    "        totalframes = min(len(data)-1,100)\n",
    "    fig = figure()\n",
    "    ax = fig.gca()\n",
    "\n",
    "    n, bins, patches = hist(data, totalframes, normed=1, facecolor='green', alpha=0.0)\n",
    "    if showpts:\n",
    "        junk = plot(data,0.2*ones_like(data),'bo')\n",
    "    def animate(i):\n",
    "        n, bins = nphistogram(data, i+1, normed=False)\n",
    "        #print n\n",
    "        ax.set_ylim(0,1.1*n.max())\n",
    "        for j in range(len(n)):\n",
    "            rect,h = patches[j],n[j]\n",
    "            #print h.max()\n",
    "            x = bins[j]\n",
    "            w = bins[j+1] - x\n",
    "            rect.set_height(h)\n",
    "            rect.set_x(x)\n",
    "            rect.set_width(w)\n",
    "            rect.set_alpha(0.75)\n",
    "        #fig.canvas.draw()\n",
    "    \n",
    "    ani = animation.FuncAnimation(fig, animate, totalframes, repeat=False)\n",
    "    return ani\n",
    "\n",
    "def getHistBinOffsetAni(data,nbins=20,showpts=True):\n",
    "    offsets = linspace(-0.5,0.5,50)\n",
    "    totalframes = len(offsets)\n",
    "    fig = figure()\n",
    "    ax = fig.gca()\n",
    "\n",
    "    n, _bins, patches = hist(data, nbins, normed=1, facecolor='green', alpha=0.0)\n",
    "    if showpts:\n",
    "        junk = plot(data,0.2*ones_like(data),'bo')\n",
    "    # Obnoxious: find max number in a bin ever\n",
    "    nmax = 1\n",
    "    for i in range(totalframes):\n",
    "        dx = (data.max() - data.min())/nbins\n",
    "        _bins = linspace(data.min() - dx + offsets[i]*dx, data.max()+dx + offsets[i]*dx,len(data)+1)\n",
    "        n, bins = nphistogram(data, bins=_bins, normed=False)\n",
    "        nmax = max(nmax,n.max())\n",
    "                               \n",
    "    def animate(i):\n",
    "        dx = (data.max() - data.min())/nbins\n",
    "        # bins go from min - dx to max + dx, then offset.\n",
    "        _bins = linspace(data.min() - dx + offsets[i]*dx, data.max()+dx + offsets[i]*dx,nbins)\n",
    "        n, bins = nphistogram(data, bins = _bins, normed=False)\n",
    "        ax.set_ylim(0,1.1*nmax)\n",
    "        #ax.set_xlim(data.min()-dx,data.max()+dx)\n",
    "        binwidth = bins[1] - bins[0]\n",
    "        ax.set_xlim(bins[0]-binwidth,bins[-1] + binwidth)\n",
    "\n",
    "        for j in range(len(n)):\n",
    "            #continue\n",
    "            rect,h = patches[j],n[j]\n",
    "            #print h.max()\n",
    "            x = bins[j]\n",
    "            w = bins[j+1] - x\n",
    "            rect.set_height(h)\n",
    "            rect.set_x(x)\n",
    "            rect.set_width(w)\n",
    "            rect.set_alpha(0.75)\n",
    "        fig.canvas.draw()    \n",
    "    ani = animation.FuncAnimation(fig, animate, totalframes, repeat=False)\n",
    "    return ani\n",
    "#!/usr/bin/env python\n",
    "\n",
    "from numpy import sqrt, pi, exp\n",
    "\n",
    "def getKdeGaussianAni(data,totalframes=100, showpts=True):\n",
    "    fig = figure()\n",
    "    \n",
    "    # Let's say 10000 points for the whole thing\n",
    "    width = data.max() - data.min()\n",
    "    left, right = data.min(), data.min() + (width)\n",
    "    left, right = left - (totalframes/100)*width, right + (totalframes/100)*width\n",
    "    \n",
    "    ax = axes(xlim=(left,right),ylim=(-0.1,2))\n",
    "    line, = ax.plot([], [], lw=2)\n",
    "    if showpts:\n",
    "        junk = plot(data,ones_like(data)*0.1,'go')\n",
    "\n",
    "    \n",
    "    numpts = 10000\n",
    "    x = linspace(left,right,numpts)\n",
    "    \n",
    "    dx = (right-left)/(numpts-1)\n",
    "    \n",
    "    def init():\n",
    "        line.set_data([], [])\n",
    "        return line,\n",
    "    \n",
    "    def gaussian(x,sigma,mu):\n",
    "        # Why isn't this defined somewhere?! It must be!\n",
    "        return (1/sqrt(2*pi*sigma**2)) *  exp(-((x-mu)**2)/(2*sigma**2))\n",
    "    \n",
    "    def animate(i):\n",
    "        y = zeros(10000)\n",
    "        kernelwidth = .02*width*(i+1)\n",
    "        kernelpts = int(kernelwidth/dx)\n",
    "        kernel = gaussian(linspace(-3,3,kernelpts),1,0)\n",
    "        #kernel = ones(kernelpts)\n",
    "        for d in data:\n",
    "            center = d - left\n",
    "            centerpts = int(center/dx)\n",
    "            bottom = centerpts - int(kernelpts/2)\n",
    "            top = centerpts+int(kernelpts/2)\n",
    "            if top - bottom < kernelpts: top = top + 1\n",
    "            if top - bottom > kernelpts: top = top - 1\n",
    "            y[bottom:top] += kernel\n",
    "        ax.set_xlim(x[where(y>0)[0][0]],x[where(y>0)[0][-1]])\n",
    "        line.set_data(x,y)\n",
    "        ax.set_ylim(min(0,y.min()),1.1*y.max())\n",
    "        #title('ymin %s ymax %s'%(y.min(),y.max()))\n",
    "\n",
    "    \n",
    "        #sleep(0.1)\n",
    "        return line,\n",
    "    ani = animation.FuncAnimation(fig, animate, init_func=init,\n",
    "                                  frames=totalframes, repeat=False)\n",
    "    return ani\n",
    "#FACTOR ME for rect and gaussian\n",
    "def getKdeRectAni(data,totalframes=100,showpts=True):\n",
    "    #ion()\n",
    "    totalframes = 100\n",
    "    fig = figure()\n",
    "    \n",
    "    # Let's say 10000 points for the whole thing\n",
    "    width = data.max() - data.min()\n",
    "    left, right = data.min(), data.min() + (width)\n",
    "    left, right = left - (totalframes/100)*width, right + (totalframes/100)*width\n",
    "    \n",
    "    ax = axes(xlim=(left,right),ylim=(-0.1,2))\n",
    "    line, = ax.plot([], [], lw=2)\n",
    "    \n",
    "    numpts = 10000\n",
    "    x = linspace(left,right,numpts)\n",
    "    \n",
    "    dx = (right-left)/(numpts-1)\n",
    "    \n",
    "    def init():\n",
    "        line.set_data([], [])\n",
    "        return line,\n",
    "\n",
    "    if showpts:\n",
    "        junk = plot(data,0.2*ones_like(data),'bo')\n",
    "    \n",
    "    def animate(i):\n",
    "        y = zeros(10000)\n",
    "        kernelwidth = .02*width*(i+1)\n",
    "        kernelpts = int(kernelwidth/dx)\n",
    "        kernel = ones(kernelpts)\n",
    "        for d in data:\n",
    "            center = d - left\n",
    "            centerpts = int(center/dx)\n",
    "            bottom = centerpts - int(kernelpts/2)\n",
    "            top = centerpts+int(kernelpts/2)\n",
    "            if top - bottom < kernelpts: top = top + 1\n",
    "            if top - bottom > kernelpts: top = top - 1\n",
    "            y[bottom:top] += kernel\n",
    "        line.set_data(x,y)\n",
    "        ax.set_ylim(0,1.1*y.max())\n",
    "        ax.set_xlim(x[where(y>0)[0][0]],x[where(y>0)[0][-1]])\n",
    "    \n",
    "        #sleep(0.1)\n",
    "        return line,\n",
    "    ani = animation.FuncAnimation(fig, animate, init_func=init,\n",
    "                                  frames=totalframes, repeat=False)\n",
    "    return ani\n"
   ]
  },
  {
   "cell_type": "markdown",
   "metadata": {},
   "source": [
    "And that's it. Cheers!"
   ]
  }
 ],
 "metadata": {
  "kernelspec": {
   "display_name": "Python 2",
   "language": "python",
   "name": "python2"
  },
  "language_info": {
   "codemirror_mode": {
    "name": "ipython",
    "version": 2
   },
   "file_extension": ".py",
   "mimetype": "text/x-python",
   "name": "python",
   "nbconvert_exporter": "python",
   "pygments_lexer": "ipython2",
   "version": "2.7.12"
  }
 },
 "nbformat": 4,
 "nbformat_minor": 0
}
