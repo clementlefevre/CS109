{
 "cells": [
  {
   "cell_type": "code",
   "execution_count": 2,
   "metadata": {
    "collapsed": true
   },
   "outputs": [],
   "source": [
    "from __future__ import division\n",
    "from datetime import datetime\n",
    "import numpy as np\n",
    "import pandas as pd\n",
    "import matplotlib.pyplot as plt\n",
    "import seaborn as sns\n",
    "%matplotlib inline\n",
    "import scipy.stats as stats\n",
    "from sklearn import linear_model\n",
    "import math as math\n",
    "import nsfg\n",
    "import random\n",
    "import first\n",
    "import thinkstats2\n",
    "import chap01soln\n",
    "import statsmodels.tsa.stattools as smtsa"
   ]
  },
  {
   "cell_type": "code",
   "execution_count": 3,
   "metadata": {
    "collapsed": true
   },
   "outputs": [],
   "source": [
    "preg = nsfg.ReadFemPreg()"
   ]
  },
  {
   "cell_type": "code",
   "execution_count": 4,
   "metadata": {
    "collapsed": false
   },
   "outputs": [
    {
     "data": {
      "text/plain": [
       "[<matplotlib.lines.Line2D at 0xa874728c>]"
      ]
     },
     "execution_count": 4,
     "metadata": {},
     "output_type": "execute_result"
    },
    {
     "data": {
      "image/png": "[encoded data removed]",
      "text/plain": [
       "<matplotlib.figure.Figure at 0xa8745a4c>"
      ]
     },
     "metadata": {},
     "output_type": "display_data"
    }
   ],
   "source": [
    "complete = preg.query('outcome in [1,3,4]').prglngth\n",
    "cdf = np.array(range(complete.shape[0]))/float(complete.shape[0])\n",
    "complete = complete.sort_values()\n",
    "plt.plot(complete,cdf)\n",
    "survival = 1 - cdf\n",
    "\n",
    "plt.plot(complete,survival,color='red')"
   ]
  },
  {
   "cell_type": "code",
   "execution_count": 5,
   "metadata": {
    "collapsed": false
   },
   "outputs": [
    {
     "data": {
      "text/plain": [
       "<matplotlib.axes._subplots.AxesSubplot at 0xa875032c>"
      ]
     },
     "execution_count": 5,
     "metadata": {},
     "output_type": "execute_result"
    },
    {
     "data": {
      "image/png": "[encoded data removed]",
      "text/plain": [
       "<matplotlib.figure.Figure at 0xa875078c>"
      ]
     },
     "metadata": {},
     "output_type": "display_data"
    }
   ],
   "source": [
    "preg_len = complete.value_counts()\n",
    "preg_len = preg_len.sort_index()\n",
    "preg_len.plot()\n"
   ]
  },
  {
   "cell_type": "code",
   "execution_count": 6,
   "metadata": {
    "collapsed": false
   },
   "outputs": [
    {
     "data": {
      "text/plain": [
       "0.8602198587898829"
      ]
     },
     "execution_count": 6,
     "metadata": {},
     "output_type": "execute_result"
    }
   ],
   "source": [
    "#probability that pregnancy are past 13 months\n",
    "proba = preg_len[preg_len.index>13]\n",
    "proba.sum()/preg_len.sum()"
   ]
  },
  {
   "cell_type": "code",
   "execution_count": 7,
   "metadata": {
    "collapsed": false
   },
   "outputs": [
    {
     "data": {
      "text/plain": [
       "0.1397801412101171"
      ]
     },
     "execution_count": 7,
     "metadata": {},
     "output_type": "execute_result"
    }
   ],
   "source": [
    "#probability that pregnancy are less or equals  13 months\n",
    "proba = preg_len[preg_len.index<=13]\n",
    "proba.sum()/preg_len.sum()"
   ]
  },
  {
   "cell_type": "markdown",
   "metadata": {},
   "source": [
    "### Hazard function"
   ]
  },
  {
   "cell_type": "code",
   "execution_count": 8,
   "metadata": {
    "collapsed": false
   },
   "outputs": [
    {
     "name": "stdout",
     "output_type": "stream",
     "text": [
      "0.86021985879\n"
     ]
    },
    {
     "data": {
      "text/plain": [
       "0.49689440993788825"
      ]
     },
     "execution_count": 8,
     "metadata": {},
     "output_type": "execute_result"
    }
   ],
   "source": [
    "def survival(serie,limit):\n",
    "    return np.sum(serie[serie.index>limit])/preg_len.sum()\n",
    "\n",
    "print survival(preg_len,13)\n",
    "    \n",
    "def hazardFunction(serie, value):\n",
    "    return (survival(serie,value)-survival(serie,value+1))/survival(serie,value)\n",
    "\n",
    "hazardFunction(preg_len,39)\n",
    "\n"
   ]
  },
  {
   "cell_type": "code",
   "execution_count": 63,
   "metadata": {
    "collapsed": false
   },
   "outputs": [
    {
     "data": {
      "text/html": [
       "<div>\n",
       "<table border=\"1\" class=\"dataframe\">\n",
       "  <thead>\n",
       "    <tr style=\"text-align: right;\">\n",
       "      <th></th>\n",
       "      <th>prglngth</th>\n",
       "      <th>age_index</th>\n",
       "      <th>survival</th>\n",
       "      <th>delta</th>\n",
       "      <th>hazard_function</th>\n",
       "    </tr>\n",
       "  </thead>\n",
       "  <tbody>\n",
       "    <tr>\n",
       "      <th>39</th>\n",
       "      <td>4718.0</td>\n",
       "      <td>39</td>\n",
       "      <td>0.201448</td>\n",
       "      <td>0.100098</td>\n",
       "      <td>0.496894</td>\n",
       "    </tr>\n",
       "  </tbody>\n",
       "</table>\n",
       "</div>"
      ],
      "text/plain": [
       "    prglngth  age_index  survival     delta  hazard_function\n",
       "39    4718.0         39  0.201448  0.100098         0.496894"
      ]
     },
     "execution_count": 63,
     "metadata": {},
     "output_type": "execute_result"
    },
    {
     "data": {
      "image/png": "[encoded data removed]",
      "text/plain": [
       "<matplotlib.figure.Figure at 0xa8f0b16c>"
      ]
     },
     "metadata": {},
     "output_type": "display_data"
    }
   ],
   "source": [
    "# plot hazard function\n",
    "\n",
    "#reindex the age of preglength\n",
    "age_index = np.arange(0,51)\n",
    "preg_len = preg_len.reindex(age_index).fillna(0)\n",
    "\n",
    "# rewrite the survival and hazard methods:\n",
    "def survival_df(x):\n",
    "    return df_preg_length[df_preg_length.age_index>x].prglngth.sum()/df_preg_length.prglngth.sum()\n",
    "\n",
    "def hazardFunction_df(x):\n",
    "    pass\n",
    "    \n",
    "# create a DataFrame of index age, number of pregnancy for each age and hazard function as new column\n",
    "\n",
    "df_preg_length = preg_len.to_frame()\n",
    "df_preg_length['age_index']= df_preg_length.index\n",
    "\n",
    "df_preg_length['survival'] = df_preg_length.age_index.apply(survival_df)\n",
    "df_preg_length['delta']= -df_preg_length.survival.diff()\n",
    "df_preg_length.delta = df_preg_length.delta.shift(-1)\n",
    "df_preg_length['hazard_function'] = df_preg_length.delta/df_preg_length.survival\n",
    "\n",
    "df_preg_length.hazard_function.plot(title=\"Hazard of pregnancy\")\n",
    "df_preg_length[df_preg_length.age_index==39]"
   ]
  },
  {
   "cell_type": "markdown",
   "metadata": {},
   "source": [
    "### Kaplan-Meier Estimation"
   ]
  },
  {
   "cell_type": "code",
   "execution_count": 64,
   "metadata": {
    "collapsed": true
   },
   "outputs": [],
   "source": [
    "resp = chap01soln.ReadFemResp()"
   ]
  },
  {
   "cell_type": "code",
   "execution_count": 69,
   "metadata": {
    "collapsed": true
   },
   "outputs": [],
   "source": [
    "resp.cmmarrhx.replace([9997,9998,9999],np.nan, inplace=True)\n",
    "resp['agemarry']= (resp.cmmarrhx - resp.cmbirth) /12.0\n",
    "resp['age']=(resp.cmintvw - resp.cmbirth) / 12.0"
   ]
  },
  {
   "cell_type": "code",
   "execution_count": 70,
   "metadata": {
    "collapsed": true
   },
   "outputs": [],
   "source": [
    "complete = resp[resp.evrmarry==1].agemarry\n",
    "ongoing = resp[resp.evrmarry==0].age"
   ]
  },
  {
   "cell_type": "code",
   "execution_count": 92,
   "metadata": {
    "collapsed": false
   },
   "outputs": [
    {
     "data": {
      "image/png": "[encoded data removed]",
      "text/plain": [
       "<matplotlib.figure.Figure at 0xa8b1ee8c>"
      ]
     },
     "metadata": {},
     "output_type": "display_data"
    }
   ],
   "source": [
    "complete_hist = complete.value_counts()\n",
    "complete_hist = complete_hist.sort_index()\n",
    "complete.hist(bins=20)\n",
    "complete=complete.sort_values()\n"
   ]
  }
 ],
 "metadata": {
  "anaconda-cloud": {},
  "kernelspec": {
   "display_name": "Python [Root]",
   "language": "python",
   "name": "Python [Root]"
  },
  "language_info": {
   "codemirror_mode": {
    "name": "ipython",
    "version": 2
   },
   "file_extension": ".py",
   "mimetype": "text/x-python",
   "name": "python",
   "nbconvert_exporter": "python",
   "pygments_lexer": "ipython2",
   "version": "2.7.12"
  }
 },
 "nbformat": 4,
 "nbformat_minor": 0
}
