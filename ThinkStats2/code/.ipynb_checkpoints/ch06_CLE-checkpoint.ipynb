{
 "cells": [
  {
   "cell_type": "code",
   "execution_count": 257,
   "metadata": {
    "collapsed": true
   },
   "outputs": [],
   "source": [
    "import numpy as np\n",
    "import pandas as pd\n",
    "import matplotlib.pyplot as plt\n",
    "%matplotlib inline\n",
    "import scipy.stats as stats\n",
    "import math as math"
   ]
  },
  {
   "cell_type": "code",
   "execution_count": 258,
   "metadata": {
    "collapsed": false
   },
   "outputs": [
    {
     "name": "stdout",
     "output_type": "stream",
     "text": [
      "Help on method pdf in module scipy.stats._distn_infrastructure:\n",
      "\n",
      "pdf(self, x, *args, **kwds) method of scipy.stats._continuous_distns.norm_gen instance\n",
      "    Probability density function at x of the given RV.\n",
      "    \n",
      "    Parameters\n",
      "    ----------\n",
      "    x : array_like\n",
      "        quantiles\n",
      "    arg1, arg2, arg3,... : array_like\n",
      "        The shape parameter(s) for the distribution (see docstring of the\n",
      "        instance object for more information)\n",
      "    loc : array_like, optional\n",
      "        location parameter (default=0)\n",
      "    scale : array_like, optional\n",
      "        scale parameter (default=1)\n",
      "    \n",
      "    Returns\n",
      "    -------\n",
      "    pdf : ndarray\n",
      "        Probability density function evaluated at x\n",
      "\n"
     ]
    }
   ],
   "source": [
    "help(stats.norm.pdf)\n",
    "mean,var = 163,52.8\n",
    "std = math.sqrt(var)"
   ]
  },
  {
   "cell_type": "code",
   "execution_count": 259,
   "metadata": {
    "collapsed": false
   },
   "outputs": [
    {
     "data": {
      "text/plain": [
       "0.033300124989618714"
      ]
     },
     "execution_count": 259,
     "metadata": {},
     "output_type": "execute_result"
    }
   ],
   "source": [
    "stats.norm.pdf(mean+std,loc=mean,scale=std)"
   ]
  },
  {
   "cell_type": "code",
   "execution_count": 260,
   "metadata": {
    "collapsed": false
   },
   "outputs": [],
   "source": [
    "sample= np.linspace(mean-3*std,mean+3*std,101)\n",
    "sample.sort()"
   ]
  },
  {
   "cell_type": "code",
   "execution_count": 261,
   "metadata": {
    "collapsed": false
   },
   "outputs": [
    {
     "name": "stdout",
     "output_type": "stream",
     "text": [
      "[ 0.00060991  0.00072889  0.00086793  0.0010298   0.00121745  0.00143413\n",
      "  0.00168331  0.00196868  0.00229415  0.00266382  0.00308195  0.00355289\n",
      "  0.00408108  0.00467094  0.00532686  0.00605304  0.00685351  0.00773195\n",
      "  0.00869164  0.00973533  0.01086516  0.01208254  0.01338803  0.01478127\n",
      "  0.01626086  0.01782427  0.01946779  0.02118644  0.02297395  0.02482276\n",
      "  0.02672398  0.02866742  0.03064168  0.03263421  0.03463141  0.03661878\n",
      "  0.03858105  0.0405024   0.04236664  0.04415743  0.04585853  0.04745402\n",
      "  0.04892855  0.05026762  0.05145775  0.05248677  0.05334398  0.05402037\n",
      "  0.05450875  0.05480389  0.05490262  0.05480389  0.05450875  0.05402037\n",
      "  0.05334398  0.05248677  0.05145775  0.05026762  0.04892855  0.04745402\n",
      "  0.04585853  0.04415743  0.04236664  0.0405024   0.03858105  0.03661878\n",
      "  0.03463141  0.03263421  0.03064168  0.02866742  0.02672398  0.02482276\n",
      "  0.02297395  0.02118644  0.01946779  0.01782427  0.01626086  0.01478127\n",
      "  0.01338803  0.01208254  0.01086516  0.00973533  0.00869164  0.00773195\n",
      "  0.00685351  0.00605304  0.00532686  0.00467094  0.00408108  0.00355289\n",
      "  0.00308195  0.00266382  0.00229415  0.00196868  0.00168331  0.00143413\n",
      "  0.00121745  0.0010298   0.00086793  0.00072889  0.00060991]\n"
     ]
    }
   ],
   "source": [
    "pdf_normal = stats.norm.pdf(sample,mean,std)\n",
    "print pdf_normal"
   ]
  },
  {
   "cell_type": "code",
   "execution_count": 262,
   "metadata": {
    "collapsed": false
   },
   "outputs": [
    {
     "data": {
      "text/plain": [
       "[<matplotlib.lines.Line2D at 0x7fe0f0adcb90>]"
      ]
     },
     "execution_count": 262,
     "metadata": {},
     "output_type": "execute_result"
    },
    {
     "data": {
      "image/png": "[encoded data removed]",
      "text/plain": [
       "<matplotlib.figure.Figure at 0x7fe0f0c0c1d0>"
      ]
     },
     "metadata": {},
     "output_type": "display_data"
    }
   ],
   "source": [
    "plt.plot(sample,pdf_normal)"
   ]
  },
  {
   "cell_type": "code",
   "execution_count": 273,
   "metadata": {
    "collapsed": false
   },
   "outputs": [
    {
     "data": {
      "text/plain": [
       "[<matplotlib.lines.Line2D at 0x7fe0f0a45ad0>]"
      ]
     },
     "execution_count": 273,
     "metadata": {},
     "output_type": "execute_result"
    },
    {
     "data": {
      "image/png": "[encoded data removed]",
      "text/plain": [
       "<matplotlib.figure.Figure at 0x7fe0f0a731d0>"
      ]
     },
     "metadata": {},
     "output_type": "display_data"
    }
   ],
   "source": [
    "import random\n",
    "import thinkstats2\n",
    "\n",
    "sample2 = [random.gauss(mean, std) for i in range(500)]\n",
    "sample2.sort()\n",
    "# sample_pdf = thinkstats2.EstimatedPdf(sample2)\n",
    "sample_pdf = stats.gaussian_kde(sample2)\n",
    "# density = sample_pdf.Density(sample2)\n",
    "density= sample_pdf.evaluate(sample2)\n",
    "\n",
    "\n",
    "plt.plot(sample2,density,color='r')\n",
    "plt.plot(sample,pdf_normal,color='c')"
   ]
  },
  {
   "cell_type": "code",
   "execution_count": null,
   "metadata": {
    "collapsed": false
   },
   "outputs": [],
   "source": [
    "plt.plot(sample,pdf_estimate)"
   ]
  }
 ],
 "metadata": {
  "kernelspec": {
   "display_name": "Python 2",
   "language": "python",
   "name": "python2"
  },
  "language_info": {
   "codemirror_mode": {
    "name": "ipython",
    "version": 2
   },
   "file_extension": ".py",
   "mimetype": "text/x-python",
   "name": "python",
   "nbconvert_exporter": "python",
   "pygments_lexer": "ipython2",
   "version": "2.7.11"
  }
 },
 "nbformat": 4,
 "nbformat_minor": 0
}
