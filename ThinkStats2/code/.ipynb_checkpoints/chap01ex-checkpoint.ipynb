{
 "cells": [
  {
   "cell_type": "markdown",
   "metadata": {},
   "source": [
    "Exercise from Think Stats, 2nd Edition (thinkstats2.com)<br>\n",
    "Allen Downey"
   ]
  },
  {
   "cell_type": "code",
   "execution_count": 5,
   "metadata": {
    "collapsed": false
   },
   "outputs": [
    {
     "data": {
      "text/plain": [
       "array([u'caseid', u'pregordr', u'howpreg_n', u'howpreg_p', u'moscurrp',\n",
       "       u'nowprgdk', u'pregend1', u'pregend2', u'nbrnaliv', u'multbrth',\n",
       "       u'cmotpreg', u'prgoutcome', u'cmprgend', u'flgdkmo1', u'cmprgbeg',\n",
       "       u'ageatend', u'hpageend', u'gestasun_m', u'gestasun_w', u'wksgest',\n",
       "       u'mosgest', u'dk1gest', u'dk2gest', u'dk3gest', u'bpa_bdscheck1',\n",
       "       u'bpa_bdscheck2', u'bpa_bdscheck3', u'babysex', u'birthwgt_lb',\n",
       "       u'birthwgt_oz', u'lobthwgt', u'babysex2', u'birthwgt_lb2',\n",
       "       u'birthwgt_oz2', u'lobthwgt2', u'babysex3', u'birthwgt_lb3',\n",
       "       u'birthwgt_oz3', u'lobthwgt3', u'cmbabdob', u'kidage', u'hpagelb',\n",
       "       u'birthplc', u'paybirth1', u'paybirth2', u'paybirth3', u'knewpreg',\n",
       "       u'trimestr', u'ltrimest', u'priorsmk', u'postsmks', u'npostsmk',\n",
       "       u'getprena', u'bgnprena', u'pnctrim', u'lpnctri', u'workpreg',\n",
       "       u'workborn', u'didwork', u'matweeks', u'weeksdk', u'matleave',\n",
       "       u'matchfound', u'livehere', u'alivenow', u'cmkidied', u'cmkidlft',\n",
       "       u'lastage', u'wherenow', u'legagree', u'parenend', u'anynurse',\n",
       "       u'fedsolid', u'frsteatd_n', u'frsteatd_p', u'frsteatd', u'quitnurs',\n",
       "       u'ageqtnur_n', u'ageqtnur_p', u'ageqtnur', u'matchfound2',\n",
       "       u'livehere2', u'alivenow2', u'cmkidied2', u'cmkidlft2', u'lastage2',\n",
       "       u'wherenow2', u'legagree2', u'parenend2', u'anynurse2',\n",
       "       u'fedsolid2', u'frsteatd_n2', u'frsteatd_p2', u'frsteatd2',\n",
       "       u'quitnurs2', u'ageqtnur_n2', u'ageqtnur_p2', u'ageqtnur2',\n",
       "       u'matchfound3', u'livehere3', u'alivenow3', u'cmkidied3',\n",
       "       u'cmkidlft3', u'lastage3', u'wherenow3', u'legagree3', u'parenend3',\n",
       "       u'anynurse3', u'fedsolid3', u'frsteatd_n3', u'frsteatd_p3',\n",
       "       u'frsteatd3', u'quitnurs3', u'ageqtnur_n3', u'ageqtnur_p3',\n",
       "       u'ageqtnur3', u'cmlastlb', u'cmfstprg', u'cmlstprg', u'cmintstr',\n",
       "       u'cmintfin', u'cmintstrop', u'cmintfinop', u'cmintstrcr',\n",
       "       u'cmintfincr', u'evuseint', u'stopduse', u'whystopd', u'whatmeth01',\n",
       "       u'whatmeth02', u'whatmeth03', u'whatmeth04', u'resnouse',\n",
       "       u'wantbold', u'probbabe', u'cnfrmno', u'wantbld2', u'timingok',\n",
       "       u'toosoon_n', u'toosoon_p', u'wthpart1', u'wthpart2', u'feelinpg',\n",
       "       u'hpwnold', u'timokhp', u'cohpbeg', u'cohpend', u'tellfath',\n",
       "       u'whentell', u'tryscale', u'wantscal', u'whyprg1', u'whyprg2',\n",
       "       u'whynouse1', u'whynouse2', u'whynouse3', u'anyusint', u'prglngth',\n",
       "       u'outcome', u'birthord', u'datend', u'agepreg', u'datecon',\n",
       "       u'agecon', u'fmarout5', u'pmarpreg', u'rmarout6', u'fmarcon5',\n",
       "       u'learnprg', u'pncarewk', u'paydeliv', u'lbw1', u'bfeedwks',\n",
       "       u'maternlv', u'oldwantr', u'oldwantp', u'wantresp', u'wantpart',\n",
       "       u'cmbirth', u'ager', u'agescrn', u'fmarital', u'rmarital',\n",
       "       u'educat', u'hieduc', u'race', u'hispanic', u'hisprace',\n",
       "       u'rcurpreg', u'pregnum', u'parity', u'insuranc', u'pubassis',\n",
       "       u'poverty', u'laborfor', u'religion', u'metro', u'brnout',\n",
       "       u'yrstrus', u'prglngth_i', u'outcome_i', u'birthord_i', u'datend_i',\n",
       "       u'agepreg_i', u'datecon_i', u'agecon_i', u'fmarout5_i',\n",
       "       u'pmarpreg_i', u'rmarout6_i', u'fmarcon5_i', u'learnprg_i',\n",
       "       u'pncarewk_i', u'paydeliv_i', u'lbw1_i', u'bfeedwks_i',\n",
       "       u'maternlv_i', u'oldwantr_i', u'oldwantp_i', u'wantresp_i',\n",
       "       u'wantpart_i', u'ager_i', u'fmarital_i', u'rmarital_i', u'educat_i',\n",
       "       u'hieduc_i', u'race_i', u'hispanic_i', u'hisprace_i', u'rcurpreg_i',\n",
       "       u'pregnum_i', u'parity_i', u'insuranc_i', u'pubassis_i',\n",
       "       u'poverty_i', u'laborfor_i', u'religion_i', u'metro_i', u'basewgt',\n",
       "       u'adj_mod_basewgt', u'finalwgt', u'secu_p', u'sest', u'cmintvw',\n",
       "       'totalwgt_lb'], dtype=object)"
      ]
     },
     "execution_count": 5,
     "metadata": {},
     "output_type": "execute_result"
    }
   ],
   "source": [
    "import nsfg\n",
    "import pandas as pd\n",
    "df = nsfg.ReadFemPreg()\n",
    "df.columns.values"
   ]
  },
  {
   "cell_type": "markdown",
   "metadata": {},
   "source": [
    "Print value counts for <tt>birthord</tt> and compare to results published in the [codebook](http://www.icpsr.umich.edu/nsfg6/Controller?displayPage=labelDetails&fileCode=PREG&section=A&subSec=8016&srtLabel=611933)"
   ]
  },
  {
   "cell_type": "code",
   "execution_count": 44,
   "metadata": {
    "collapsed": false
   },
   "outputs": [
    {
     "data": {
      "text/plain": [
       "1.0     4413\n",
       "2.0     2874\n",
       "3.0     1234\n",
       "4.0      421\n",
       "5.0      126\n",
       "6.0       50\n",
       "7.0       20\n",
       "8.0        7\n",
       "9.0        2\n",
       "10.0       1\n",
       "Name: birthord, dtype: int64"
      ]
     },
     "execution_count": 44,
     "metadata": {},
     "output_type": "execute_result"
    }
   ],
   "source": [
    "df.birthord.value_counts()\n"
   ]
  },
  {
   "cell_type": "code",
   "execution_count": 2,
   "metadata": {
    "collapsed": false
   },
   "outputs": [
    {
     "data": {
      "text/plain": [
       "1     4413\n",
       "2     2874\n",
       "3     1234\n",
       "4      421\n",
       "5      126\n",
       "6       50\n",
       "7       20\n",
       "8        7\n",
       "9        2\n",
       "10       1\n",
       "dtype: int64"
      ]
     },
     "execution_count": 2,
     "metadata": {},
     "output_type": "execute_result"
    }
   ],
   "source": [
    "df.birthord.value_counts(sort=False)"
   ]
  },
  {
   "cell_type": "markdown",
   "metadata": {},
   "source": [
    "Print value counts for <tt>prglngth</tt> and compare to results published in the [codebook](http://www.icpsr.umich.edu/nsfg6/Controller?displayPage=labelDetails&fileCode=PREG&section=A&subSec=8016&srtLabel=611931)"
   ]
  },
  {
   "cell_type": "code",
   "execution_count": 75,
   "metadata": {
    "collapsed": false
   },
   "outputs": [
    {
     "name": "stdout",
     "output_type": "stream",
     "text": [
      "13593\n"
     ]
    },
    {
     "data": {
      "text/plain": [
       "27-50    9278\n",
       "0-13     3507\n",
       "14-26     793\n",
       "dtype: int64"
      ]
     },
     "execution_count": 75,
     "metadata": {},
     "output_type": "execute_result"
    }
   ],
   "source": [
    "print df.prglngth.count()\n",
    "#print df.prglngth.groupby(df.prglngth).count()\n",
    "bins = [0,13,26,50]\n",
    "labels = ['0-13','14-26','27-50']\n",
    "\n",
    "df['prglngCat'] = pd.cut(df.prglngth,bins,labels=labels)\n",
    "df.prglngCat.value_counts()"
   ]
  },
  {
   "cell_type": "markdown",
   "metadata": {},
   "source": [
    "Print value counts for <tt>agepreg</tt> and compare to results published in the [codebook](http://www.icpsr.umich.edu/nsfg6/Controller?displayPage=labelDetails&fileCode=PREG&section=A&subSec=8016&srtLabel=611935).\n",
    "\n",
    "Looking at this data, please remember my comments in the book about the obligation to approach data with consideration for the context and respect for the respondents."
   ]
  },
  {
   "cell_type": "code",
   "execution_count": 2,
   "metadata": {
    "collapsed": false
   },
   "outputs": [],
   "source": []
  },
  {
   "cell_type": "markdown",
   "metadata": {},
   "source": [
    "Compute the mean birthweight."
   ]
  },
  {
   "cell_type": "code",
   "execution_count": 3,
   "metadata": {
    "collapsed": false
   },
   "outputs": [
    {
     "data": {
      "text/plain": [
       "7.2656284576233681"
      ]
     },
     "execution_count": 3,
     "metadata": {},
     "output_type": "execute_result"
    }
   ],
   "source": [
    "df.totalwgt_lb.mean()"
   ]
  },
  {
   "cell_type": "markdown",
   "metadata": {},
   "source": [
    "Create a new column named <tt>totalwgt_kg</tt> that contains birth weight in kilograms.  Compute its mean.  Remember that when you create a new column, you have to use dictionary syntax, not dot notation."
   ]
  },
  {
   "cell_type": "code",
   "execution_count": 3,
   "metadata": {
    "collapsed": false
   },
   "outputs": [],
   "source": []
  },
  {
   "cell_type": "markdown",
   "metadata": {},
   "source": [
    "Look through the codebook and find a variable, other than the ones mentioned in the book, that you find interesting.  Compute values counts, means, or other statistics."
   ]
  },
  {
   "cell_type": "code",
   "execution_count": 3,
   "metadata": {
    "collapsed": false
   },
   "outputs": [],
   "source": []
  },
  {
   "cell_type": "markdown",
   "metadata": {},
   "source": [
    "Create a boolean Series."
   ]
  },
  {
   "cell_type": "code",
   "execution_count": 4,
   "metadata": {
    "collapsed": false
   },
   "outputs": [
    {
     "data": {
      "text/plain": [
       "0      True\n",
       "1      True\n",
       "2      True\n",
       "3      True\n",
       "4      True\n",
       "5      True\n",
       "6      True\n",
       "7      True\n",
       "8      True\n",
       "9      True\n",
       "10     True\n",
       "11     True\n",
       "12     True\n",
       "13    False\n",
       "14    False\n",
       "...\n",
       "13578     True\n",
       "13579     True\n",
       "13580    False\n",
       "13581     True\n",
       "13582    False\n",
       "13583    False\n",
       "13584     True\n",
       "13585    False\n",
       "13586    False\n",
       "13587    False\n",
       "13588     True\n",
       "13589    False\n",
       "13590    False\n",
       "13591     True\n",
       "13592     True\n",
       "Name: outcome, Length: 13593, dtype: bool"
      ]
     },
     "execution_count": 4,
     "metadata": {},
     "output_type": "execute_result"
    }
   ],
   "source": [
    "df.outcome == 1"
   ]
  },
  {
   "cell_type": "markdown",
   "metadata": {},
   "source": [
    "Use a boolean Series to select the records for the pregnancies that ended in live birth."
   ]
  },
  {
   "cell_type": "code",
   "execution_count": 5,
   "metadata": {
    "collapsed": false
   },
   "outputs": [
    {
     "data": {
      "text/plain": [
       "9148"
      ]
     },
     "execution_count": 5,
     "metadata": {},
     "output_type": "execute_result"
    }
   ],
   "source": [
    "live = df[df.outcome == 1]\n",
    "len(live)"
   ]
  },
  {
   "cell_type": "markdown",
   "metadata": {},
   "source": [
    "Count the number of live births with <tt>birthwgt_lb</tt> between 0 and 5 pounds (including both).  The result should be 1125."
   ]
  },
  {
   "cell_type": "code",
   "execution_count": 6,
   "metadata": {
    "collapsed": false
   },
   "outputs": [
    {
     "data": {
      "text/plain": [
       "1125"
      ]
     },
     "execution_count": 6,
     "metadata": {},
     "output_type": "execute_result"
    }
   ],
   "source": [
    "len(live[(live.birthwgt_lb >= 0) & (live.birthwgt_lb <= 5)])"
   ]
  },
  {
   "cell_type": "markdown",
   "metadata": {},
   "source": [
    "Count the number of live births with <tt>birthwgt_lb</tt> between 9 and 95 pounds (including both).  The result should be 798 "
   ]
  },
  {
   "cell_type": "code",
   "execution_count": 6,
   "metadata": {
    "collapsed": false
   },
   "outputs": [],
   "source": []
  },
  {
   "cell_type": "markdown",
   "metadata": {},
   "source": [
    "Use <tt>birthord</tt> to select the records for first babies and others.  How many are there of each?"
   ]
  },
  {
   "cell_type": "code",
   "execution_count": 7,
   "metadata": {
    "collapsed": false
   },
   "outputs": [
    {
     "data": {
      "text/plain": [
       "(4413, 4735)"
      ]
     },
     "execution_count": 7,
     "metadata": {},
     "output_type": "execute_result"
    }
   ],
   "source": [
    "firsts = df[df.birthord==1]\n",
    "others = df[df.birthord>1]\n",
    "len(firsts), len(others)"
   ]
  },
  {
   "cell_type": "markdown",
   "metadata": {},
   "source": [
    "Compute the mean weight for first babies and others."
   ]
  },
  {
   "cell_type": "code",
   "execution_count": 8,
   "metadata": {
    "collapsed": false
   },
   "outputs": [
    {
     "data": {
      "text/plain": [
       "7.201094430437772"
      ]
     },
     "execution_count": 8,
     "metadata": {},
     "output_type": "execute_result"
    }
   ],
   "source": [
    "firsts.totalwgt_lb.mean()"
   ]
  },
  {
   "cell_type": "code",
   "execution_count": 9,
   "metadata": {
    "collapsed": false
   },
   "outputs": [
    {
     "data": {
      "text/plain": [
       "7.3258556149732623"
      ]
     },
     "execution_count": 9,
     "metadata": {},
     "output_type": "execute_result"
    }
   ],
   "source": [
    "others.totalwgt_lb.mean()"
   ]
  },
  {
   "cell_type": "markdown",
   "metadata": {},
   "source": [
    "Compute the mean <tt>prglngth</tt> for first babies and others.  Compute the difference in means, expressed in hours."
   ]
  },
  {
   "cell_type": "code",
   "execution_count": 9,
   "metadata": {
    "collapsed": false
   },
   "outputs": [],
   "source": []
  }
 ],
 "metadata": {
  "kernelspec": {
   "display_name": "Python 2",
   "language": "python",
   "name": "python2"
  },
  "language_info": {
   "codemirror_mode": {
    "name": "ipython",
    "version": 2
   },
   "file_extension": ".py",
   "mimetype": "text/x-python",
   "name": "python",
   "nbconvert_exporter": "python",
   "pygments_lexer": "ipython2",
   "version": "2.7.11"
  }
 },
 "nbformat": 4,
 "nbformat_minor": 0
}
