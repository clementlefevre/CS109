{
 "cells": [
  {
   "cell_type": "code",
   "execution_count": 3,
   "metadata": {
    "collapsed": true
   },
   "outputs": [],
   "source": [
    "import numpy as np\n",
    "import pandas as pd\n",
    "import matplotlib.pyplot as plt\n",
    "import seaborn as sns\n",
    "%matplotlib inline"
   ]
  },
  {
   "cell_type": "code",
   "execution_count": 60,
   "metadata": {
    "collapsed": false
   },
   "outputs": [
    {
     "name": "stdout",
     "output_type": "stream",
     "text": [
      "[0 0 1 1]\n",
      "0\n"
     ]
    },
    {
     "data": {
      "image/png": "[encoded data removed]",
      "text/plain": [
       "<matplotlib.figure.Figure at 0x7fd73c40f190>"
      ]
     },
     "metadata": {},
     "output_type": "display_data"
    }
   ],
   "source": [
    "V1 = np.array([0,0,1,1])\n",
    "V2 = np.array([0,0,-1,1])\n",
    "print V1.T\n",
    "V3 = np.dot(V1,V2)\n",
    "\n",
    "print V3\n",
    "\n",
    "def draw_vector(V_list):\n",
    "    plt.figure()\n",
    "    ax = plt.gca()\n",
    "    for V in V_list:\n",
    "        X,Y,U,V = zip(*[V])\n",
    "    \n",
    "        ax.quiver(X,Y,U,V,angles='xy',scale_units='xy',scale=1)\n",
    "    ax.set_xlim([-1,10])\n",
    "    ax.set_ylim([-1,10])\n",
    "    plt.draw()\n",
    "    plt.show()\n",
    "\n",
    "draw_vector([V1,V2])\n"
   ]
  }
 ],
 "metadata": {
  "kernelspec": {
   "display_name": "Python 2",
   "language": "python",
   "name": "python2"
  },
  "language_info": {
   "codemirror_mode": {
    "name": "ipython",
    "version": 2
   },
   "file_extension": ".py",
   "mimetype": "text/x-python",
   "name": "python",
   "nbconvert_exporter": "python",
   "pygments_lexer": "ipython2",
   "version": "2.7.12"
  }
 },
 "nbformat": 4,
 "nbformat_minor": 0
}
