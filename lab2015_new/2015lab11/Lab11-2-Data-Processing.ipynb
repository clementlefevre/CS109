{
 "cells": [
  {
   "cell_type": "markdown",
   "metadata": {},
   "source": [
    "# Lab 11: Part 2 - Food Inspection Forecasting: Data processing\n",
    "This file is an ipython notebook with [`R-magic`](https://ipython.org/ipython-doc/1/config/extensions/rmagic.html) to convert the data from Rds (the R programming language data dtorage sytem) to `csv` to be read into Python. If you ever find yourself in a bind with R code available for you... give `R-magic` a try. \n",
    "\n",
    "\n",
    "## **HUGE NOTE:  All code here is taken from the [food-inspections-evaluation]( https://github.com/Chicago/food-inspections-evaluation) repository** \n",
    "### They did a great job at cleaning the data in R so I don't want to repeat work.\n",
    "\n",
    "All code and data is available on GitHub:\n",
    "https://github.com/Chicago/food-inspections-evaluation"
   ]
  },
  {
   "cell_type": "code",
   "execution_count": 1,
   "metadata": {
    "collapsed": false
   },
   "outputs": [
    {
     "ename": "ImportError",
     "evalue": "No module named rpy2",
     "output_type": "error",
     "traceback": [
      "\u001b[0;31m---------------------------------------------------------------------------\u001b[0m",
      "\u001b[0;31mImportError\u001b[0m                               Traceback (most recent call last)",
      "\u001b[0;32m<ipython-input-1-11f8d706c1c0>\u001b[0m in \u001b[0;36m<module>\u001b[0;34m()\u001b[0m\n\u001b[0;32m----> 1\u001b[0;31m \u001b[0;32mimport\u001b[0m \u001b[0mrpy2\u001b[0m\u001b[0;34m\u001b[0m\u001b[0m\n\u001b[0m\u001b[1;32m      2\u001b[0m \u001b[0;32mimport\u001b[0m \u001b[0mpandas\u001b[0m \u001b[0;32mas\u001b[0m \u001b[0mpd\u001b[0m\u001b[0;34m\u001b[0m\u001b[0m\n\u001b[1;32m      3\u001b[0m \u001b[0mget_ipython\u001b[0m\u001b[0;34m(\u001b[0m\u001b[0;34m)\u001b[0m\u001b[0;34m.\u001b[0m\u001b[0mmagic\u001b[0m\u001b[0;34m(\u001b[0m\u001b[0;34mu'load_ext rpy2.ipython'\u001b[0m\u001b[0;34m)\u001b[0m\u001b[0;34m\u001b[0m\u001b[0m\n",
      "\u001b[0;31mImportError\u001b[0m: No module named rpy2"
     ]
    }
   ],
   "source": [
    "import rpy2\n",
    "import pandas as pd\n",
    "%load_ext rpy2.ipython"
   ]
  },
  {
   "cell_type": "code",
   "execution_count": null,
   "metadata": {
    "collapsed": false
   },
   "outputs": [],
   "source": [
    "%%R\n",
    "# change to your local clone\n",
    "data_dir = '~/food-inspections-evaluation/'\n",
    "out_dir = '~'\n",
    "\n",
    "library(\"data.table\", \"ggplot2\")\n",
    "\n",
    "setwd(data_dir)"
   ]
  },
  {
   "cell_type": "markdown",
   "metadata": {},
   "source": [
    "### Food Inspection database processing"
   ]
  },
  {
   "cell_type": "code",
   "execution_count": null,
   "metadata": {
    "collapsed": false
   },
   "outputs": [],
   "source": [
    "%%R\n",
    "food = readRDS(\"DATA/food_inspections.Rds\")\n",
    "write.csv(food, file = paste(out_dir, '/food_inspections.csv', sep = ''), row.names = FALSE)"
   ]
  },
  {
   "cell_type": "markdown",
   "metadata": {},
   "source": [
    "### Model Dataframe processing"
   ]
  },
  {
   "cell_type": "code",
   "execution_count": null,
   "metadata": {
    "collapsed": false
   },
   "outputs": [],
   "source": [
    "%%R\n",
    "dat = readRDS(\"DATA/dat_model.Rds\")\n",
    "write.csv(dat, file = paste(out_dir, '/dat_model.csv', sep = ''))"
   ]
  },
  {
   "cell_type": "code",
   "execution_count": null,
   "metadata": {
    "collapsed": false,
    "scrolled": true
   },
   "outputs": [],
   "source": [
    "%%R\n",
    "dat <- readRDS(\"DATA/dat_model.Rds\")\n",
    "\n",
    "## Only keep \"Retail Food Establishment\"\n",
    "dat <- dat[LICENSE_DESCRIPTION == \"Retail Food Establishment\"]\n",
    "## Remove License Description\n",
    "dat$LICENSE_DESCRIPTION <- NULL\n",
    "dat <- na.omit(dat)\n",
    "\n",
    "## Add criticalFound variable to dat:\n",
    "dat$criticalFound <- pmin(1, dat$criticalCount)\n",
    "\n",
    "# ## Set the key for dat\n",
    "setkey(dat, Inspection_ID)\n",
    "\n",
    "# Match time period of original results\n",
    "# dat <- dat[Inspection_Date < \"2013-09-01\" | Inspection_Date > \"2014-07-01\"]\n",
    "\n",
    "#==============================================================================\n",
    "# CREATE MODEL DATA\n",
    "#==============================================================================\n",
    "# sort(colnames(dat))\n",
    "\n",
    "xmat <- dat[ , list(Inspector = Inspector_Assigned,\n",
    "                    pastSerious = pmin(pastSerious, 1),\n",
    "                    pastCritical = pmin(pastCritical, 1),\n",
    "                    timeSinceLast,\n",
    "                    ageAtInspection = ifelse(ageAtInspection > 4, 1L, 0L),\n",
    "                    consumption_on_premises_incidental_activity,\n",
    "                    tobacco_retail_over_counter,\n",
    "                    temperatureMax,\n",
    "                    heat_burglary = pmin(heat_burglary, 70),\n",
    "                    heat_sanitation = pmin(heat_sanitation, 70),\n",
    "                    heat_garbage = pmin(heat_garbage, 50),\n",
    "                    # Facility_Type,\n",
    "                    criticalFound),\n",
    "            keyby = Inspection_ID]\n",
    "mm <- model.matrix(criticalFound ~ . -1, data=xmat[ , -1, with=F])\n",
    "mm <- as.data.table(mm)\n",
    "str(mm)\n",
    "colnames(mm)\n",
    "\n",
    "#==============================================================================\n",
    "# CREATE TEST / TRAIN PARTITIONS\n",
    "#==============================================================================\n",
    "# 2014-07-01 is an easy separator\n",
    "\n",
    "dat[Inspection_Date < \"2014-07-01\", range(Inspection_Date)]\n",
    "dat[Inspection_Date > \"2014-07-01\", range(Inspection_Date)]\n",
    "\n",
    "iiTrain <- dat[ , which(Inspection_Date < \"2014-07-01\")]\n",
    "iiTest <- dat[ , which(Inspection_Date > \"2014-07-01\")]\n",
    "\n",
    "## Check to see if any rows didn't make it through the model.matrix formula\n",
    "nrow(dat)\n",
    "nrow(xmat)\n",
    "nrow(mm)\n"
   ]
  },
  {
   "cell_type": "code",
   "execution_count": null,
   "metadata": {
    "collapsed": false
   },
   "outputs": [],
   "source": [
    "%%R\n",
    "# Output Model Matrix and Target\n",
    "write.csv(mm, file = paste(out_dir, '/model_matrix.csv', sep = ''), row.names = FALSE)\n",
    "write.csv(xmat$criticalFound, file = paste(out_dir, '/TARGET.csv', sep = ''), row.names = FALSE)"
   ]
  }
 ],
 "metadata": {
  "kernelspec": {
   "display_name": "Python 2",
   "language": "python",
   "name": "python2"
  },
  "language_info": {
   "codemirror_mode": {
    "name": "ipython",
    "version": 2
   },
   "file_extension": ".py",
   "mimetype": "text/x-python",
   "name": "python",
   "nbconvert_exporter": "python",
   "pygments_lexer": "ipython2",
   "version": "2.7.12"
  }
 },
 "nbformat": 4,
 "nbformat_minor": 0
}
