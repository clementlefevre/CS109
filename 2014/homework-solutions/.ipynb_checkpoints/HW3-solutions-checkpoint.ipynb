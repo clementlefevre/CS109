{
 "cells": [
  {
   "cell_type": "markdown",
   "metadata": {},
   "source": [
    "# Homework 3: Prediction and Classification\n",
    "\n",
    "Due: Thursday, October 16, 2014 11:59 PM\n",
    "\n",
    "<a href=https://raw.githubusercontent.com/cs109/2014/master/homework/HW3.ipynb download=HW3.ipynb> Download this assignment</a>\n",
    "\n",
    "#### Submission Instructions\n",
    "To submit your homework, create a folder named lastname_firstinitial_hw# and place your IPython notebooks, data files, and any other files in this folder. Your IPython Notebooks should be completely executed with the results visible in the notebook. We should not have to run any code. Compress the folder (please use .zip compression) and submit to the CS109 dropbox in the appropriate folder. If we cannot access your work because these directions are not followed correctly, we will not grade your work.\n",
    "\n",
    "---\n"
   ]
  },
  {
   "cell_type": "markdown",
   "metadata": {},
   "source": [
    "# Introduction\n",
    "\n",
    "In this assignment you will be using regression and classification to explore different data sets.  \n",
    "\n",
    "**First**: You will use data from before 2002 in the [Sean Lahman's Baseball Database](http://seanlahman.com/baseball-archive/statistics) to create a metric for picking baseball players using linear regression. This is same database we used in Homework 1. This database contains the \"complete batting and pitching statistics from 1871 to 2013, plus fielding statistics, standings, team stats, managerial records, post-season data, and more\". [Documentation provided here](http://seanlahman.com/files/database/readme2012.txt).\n",
    "\n",
    "![\"Sabermetrics Science\"](http://saberseminar.com/wp-content/uploads/2012/01/saber-web.jpg)\n",
    "http://saberseminar.com/wp-content/uploads/2012/01/saber-web.jpg\n",
    "\n",
    "**Second**: You will use the famous [iris](http://en.wikipedia.org/wiki/Iris_flower_data_set) data set to perform a $k$-neareast neighbor classification using cross validation.  While it was introduced in 1936, it is still [one of the most popular](http://archive.ics.uci.edu/ml/) example data sets in the machine learning community. Wikipedia describes the data set as follows: \"The data set consists of 50 samples from each of three species of Iris (Iris setosa, Iris virginica and Iris versicolor). Four features were measured from each sample: the length and the width of the sepals and petals, in centimetres.\" Here is an illustration what the four features measure:\n",
    "\n",
    "![\"iris data features\"](http://sebastianraschka.com/Images/2014_python_lda/iris_petal_sepal.png)\n",
    "http://sebastianraschka.com/Images/2014_python_lda/iris_petal_sepal.png\n",
    "\n",
    "**Third**: You will investigate the influence of higher dimensional spaces on the classification using another standard data set in machine learning called the The [digits data set](http://scikit-learn.org/stable/modules/generated/sklearn.datasets.load_digits.html).  This data set is similar to the MNIST data set discussed in the lecture. The main difference is, that each digit is represented by an 8x8 pixel image patch, which is considerably smaller than the 28x28 pixels from MNIST. In addition, the gray values are restricted to 16 different values (4 bit), instead of 256 (8 bit) for MNIST. \n",
    "\n",
    "**Finally**: In preparation for Homework 4, we want you to read through the following articles related to predicting the 2014 Senate Midterm Elections. \n",
    "\n",
    "* [Nate Silver's Methodology at while at NYT](http://fivethirtyeight.blogs.nytimes.com/methodology/)\n",
    "* [How The FiveThirtyEight Senate Forecast Model Works](http://fivethirtyeight.com/features/how-the-fivethirtyeight-senate-forecast-model-works/)\n",
    "* [Pollster Ratings v4.0: Methodology](http://fivethirtyeight.com/features/pollster-ratings-v40-methodology/)\n",
    "* [Pollster Ratings v4.0: Results](http://fivethirtyeight.com/features/pollster-ratings-v40-results/)\n",
    "* [Nate Silver versus Sam Wang](http://www.washingtonpost.com/blogs/plum-line/wp/2014/09/17/nate-silver-versus-sam-wang/)\n",
    "* [More Nate Silver versus Sam Wang](http://www.dailykos.com/story/2014/09/09/1328288/-Get-Ready-To-Rumbllllle-Battle-Of-The-Nerds-Nate-Silver-VS-Sam-Wang)\n",
    "* [Nate Silver explains critisims of Sam Wang](http://politicalwire.com/archives/2014/10/02/nate_silver_rebuts_sam_wang.html)\n",
    "* [Background on the feud between Nate Silver and Sam Wang](http://talkingpointsmemo.com/dc/nate-silver-sam-wang-feud)\n",
    "* [Are there swing voters?]( http://www.stat.columbia.edu/~gelman/research/unpublished/swing_voters.pdf)\n",
    "\n",
    "\n",
    "\n",
    "---"
   ]
  },
  {
   "cell_type": "markdown",
   "metadata": {},
   "source": [
    "## Load Python modules"
   ]
  },
  {
   "cell_type": "code",
   "execution_count": 118,
   "metadata": {
    "collapsed": false
   },
   "outputs": [],
   "source": [
    "# special IPython command to prepare the notebook for matplotlib\n",
    "%matplotlib inline \n",
    "\n",
    "import requests \n",
    "import StringIO\n",
    "import zipfile\n",
    "import numpy as np\n",
    "import pandas as pd # pandas\n",
    "import matplotlib.pyplot as plt # module for plotting \n",
    "\n",
    "# If this module is not already installed, you may need to install it. \n",
    "# You can do this by typing 'pip install seaborn' in the command line\n",
    "import seaborn as sns \n",
    "\n",
    "import sklearn\n",
    "import sklearn.datasets\n",
    "import sklearn.cross_validation\n",
    "import sklearn.decomposition\n",
    "import sklearn.grid_search\n",
    "import sklearn.neighbors\n",
    "import sklearn.metrics"
   ]
  },
  {
   "cell_type": "markdown",
   "metadata": {},
   "source": [
    "# Problem 1: Sabermetrics\n",
    "\n",
    "Using data preceding the 2002 season pick 10 offensive players keeping the payroll under $20 million (assign each player the median salary). Predict how many games this team would win in a 162 game season.  \n",
    "\n",
    "In this problem we will be returning to the [Sean Lahman's Baseball Database](http://seanlahman.com/baseball-archive/statistics) that we used in Homework 1.  From this database, we will be extract five data sets containing information such as yearly stats and standing, batting statistics, fielding statistics, player names, player salaries and biographical information. You will explore the data in this database from before 2002 and create a metric for picking players. "
   ]
  },
  {
   "cell_type": "markdown",
   "metadata": {},
   "source": [
    "#### Problem 1(a) \n",
    "\n",
    "Load in [these CSV files](http://seanlahman.com/files/database/lahman-csv_2014-02-14.zip) from the [Sean Lahman's Baseball Database](http://seanlahman.com/baseball-archive/statistics). For this assignment, we will use the 'Teams.csv', 'Batting.csv', 'Salaries.csv', 'Fielding.csv', 'Master.csv' tables. Read these tables into separate pandas DataFrames with the following names. \n",
    "\n",
    "CSV file name | Name of pandas DataFrame\n",
    ":---: | :---: \n",
    "Teams.csv | teams\n",
    "Batting.csv | players\n",
    "Salaries.csv | salaries\n",
    "Fielding.csv | fielding\n",
    "Master.csv | master"
   ]
  },
  {
   "cell_type": "code",
   "execution_count": 119,
   "metadata": {
    "collapsed": false
   },
   "outputs": [
    {
     "name": "stdout",
     "output_type": "stream",
     "text": [
      "['SchoolsPlayers.csv', 'SeriesPost.csv', 'Teams.csv', 'TeamsFranchises.csv', 'TeamsHalf.csv', 'AllstarFull.csv', 'Appearances.csv', 'AwardsManagers.csv', 'AwardsPlayers.csv', 'AwardsShareManagers.csv', 'AwardsSharePlayers.csv', 'Batting.csv', 'BattingPost.csv', 'Fielding.csv', 'FieldingOF.csv', 'FieldingPost.csv', 'HallOfFame.csv', 'Managers.csv', 'ManagersHalf.csv', 'Master.csv', 'Pitching.csv', 'PitchingPost.csv', 'readme2013.txt', 'Salaries.csv', 'Schools.csv']\n"
     ]
    }
   ],
   "source": [
    "### Your code here ###\n",
    "\n",
    "def getZIP(zipFileName):\n",
    "    r = requests.get(zipFileName).content\n",
    "    s = StringIO.StringIO(r)\n",
    "    zf = zipfile.ZipFile(s, 'r') # Read in a list of zipped files\n",
    "    return zf\n",
    "\n",
    "url = 'http://seanlahman.com/files/database/lahman-csv_2014-02-14.zip'\n",
    "zf = getZIP(url)\n",
    "tablenames = zf.namelist()\n",
    "print tablenames"
   ]
  },
  {
   "cell_type": "markdown",
   "metadata": {},
   "source": [
    "Create pandas DataFrames for each of the five data sets. "
   ]
  },
  {
   "cell_type": "code",
   "execution_count": 120,
   "metadata": {
    "collapsed": false
   },
   "outputs": [],
   "source": [
    "teams = pd.read_csv(zf.open(tablenames[tablenames.index('Teams.csv')]))\n",
    "players = pd.read_csv(zf.open(tablenames[tablenames.index('Batting.csv')]))\n",
    "salaries = pd.read_csv(zf.open(tablenames[tablenames.index('Salaries.csv')]))\n",
    "fielding = pd.read_csv(zf.open(tablenames[tablenames.index('Fielding.csv')]))\n",
    "master = pd.read_csv(zf.open(tablenames[tablenames.index('Master.csv')]))"
   ]
  },
  {
   "cell_type": "markdown",
   "metadata": {},
   "source": [
    "We can print the dimensions (i.e. number of rows and columns) for each of the DataFrames.  "
   ]
  },
  {
   "cell_type": "code",
   "execution_count": 121,
   "metadata": {
    "collapsed": false
   },
   "outputs": [
    {
     "name": "stdout",
     "output_type": "stream",
     "text": [
      "Dimensions of teams DataFrame: (2745, 48)\n",
      "Dimensions of players DataFrame: (97889, 24)\n",
      "Dimensions of salaries DataFrame: (23956, 5)\n",
      "Dimensions of fielding DataFrame: (166991, 18)\n",
      "Dimensions of master DataFrame: (18354, 24)\n"
     ]
    }
   ],
   "source": [
    "### Your code here ###\n",
    "print \"Dimensions of teams DataFrame:\", teams.shape\n",
    "print \"Dimensions of players DataFrame:\", players.shape\n",
    "print \"Dimensions of salaries DataFrame:\", salaries.shape\n",
    "print \"Dimensions of fielding DataFrame:\", fielding.shape\n",
    "print \"Dimensions of master DataFrame:\", master.shape"
   ]
  },
  {
   "cell_type": "markdown",
   "metadata": {},
   "source": [
    "#### Problem 1(b)\n",
    "\n",
    "Calculate the median salary for each player and create a pandas DataFrame called `medianSalaries` with four columns: (1) the player ID, (2) the first name of the player, (3) the last name of the player and (4) the median salary of the player. Show the head of the `medianSalaries` DataFrame.   \n"
   ]
  },
  {
   "cell_type": "code",
   "execution_count": 122,
   "metadata": {
    "collapsed": false
   },
   "outputs": [
    {
     "data": {
      "text/html": [
       "<div>\n",
       "<table border=\"1\" class=\"dataframe\">\n",
       "  <thead>\n",
       "    <tr style=\"text-align: right;\">\n",
       "      <th></th>\n",
       "      <th>playerID</th>\n",
       "      <th>nameFirst</th>\n",
       "      <th>nameLast</th>\n",
       "      <th>salary</th>\n",
       "    </tr>\n",
       "  </thead>\n",
       "  <tbody>\n",
       "    <tr>\n",
       "      <th>0</th>\n",
       "      <td>aardsda01</td>\n",
       "      <td>David</td>\n",
       "      <td>Aardsma</td>\n",
       "      <td>419000</td>\n",
       "    </tr>\n",
       "    <tr>\n",
       "      <th>3</th>\n",
       "      <td>aasedo01</td>\n",
       "      <td>Don</td>\n",
       "      <td>Aase</td>\n",
       "      <td>612500</td>\n",
       "    </tr>\n",
       "    <tr>\n",
       "      <th>4</th>\n",
       "      <td>abadan01</td>\n",
       "      <td>Andy</td>\n",
       "      <td>Abad</td>\n",
       "      <td>327000</td>\n",
       "    </tr>\n",
       "    <tr>\n",
       "      <th>5</th>\n",
       "      <td>abadfe01</td>\n",
       "      <td>Fernando</td>\n",
       "      <td>Abad</td>\n",
       "      <td>451500</td>\n",
       "    </tr>\n",
       "    <tr>\n",
       "      <th>13</th>\n",
       "      <td>abbotje01</td>\n",
       "      <td>Jeff</td>\n",
       "      <td>Abbott</td>\n",
       "      <td>255000</td>\n",
       "    </tr>\n",
       "  </tbody>\n",
       "</table>\n",
       "</div>"
      ],
      "text/plain": [
       "     playerID nameFirst nameLast  salary\n",
       "0   aardsda01     David  Aardsma  419000\n",
       "3    aasedo01       Don     Aase  612500\n",
       "4    abadan01      Andy     Abad  327000\n",
       "5    abadfe01  Fernando     Abad  451500\n",
       "13  abbotje01      Jeff   Abbott  255000"
      ]
     },
     "execution_count": 122,
     "metadata": {},
     "output_type": "execute_result"
    }
   ],
   "source": [
    "### Your code here ###\n",
    "byPlayerID = salaries.groupby('playerID')['playerID','salary'].median()\n",
    "medianSalaries = pd.merge(master[['playerID', 'nameFirst', 'nameLast']], byPlayerID, \\\n",
    "                  left_on='playerID', right_index = True, how=\"inner\")\n",
    "medianSalaries.head()"
   ]
  },
  {
   "cell_type": "markdown",
   "metadata": {},
   "source": [
    "#### Problem 1(c)\n",
    "\n",
    "Now, consider only team/season combinations in which the teams played 162 Games. Exclude all data from before 1947. Compute the per plate appearance rates for singles, doubles, triples, HR, and BB. Create a new pandas DataFrame called `stats` that has the teamID, yearID, wins and these rates.\n",
    "\n",
    "**Hint**: Singles are hits that are not doubles, triples, nor HR. Plate appearances are base on balls plus at bats.\n",
    "\n"
   ]
  },
  {
   "cell_type": "code",
   "execution_count": 123,
   "metadata": {
    "collapsed": false
   },
   "outputs": [
    {
     "data": {
      "text/html": [
       "<div>\n",
       "<table border=\"1\" class=\"dataframe\">\n",
       "  <thead>\n",
       "    <tr style=\"text-align: right;\">\n",
       "      <th></th>\n",
       "      <th>teamID</th>\n",
       "      <th>yearID</th>\n",
       "      <th>W</th>\n",
       "      <th>1B</th>\n",
       "      <th>2B</th>\n",
       "      <th>3B</th>\n",
       "      <th>HR</th>\n",
       "      <th>BB</th>\n",
       "    </tr>\n",
       "  </thead>\n",
       "  <tbody>\n",
       "    <tr>\n",
       "      <th>1366</th>\n",
       "      <td>LAA</td>\n",
       "      <td>1961</td>\n",
       "      <td>70</td>\n",
       "      <td>0.147748</td>\n",
       "      <td>0.035708</td>\n",
       "      <td>0.003604</td>\n",
       "      <td>0.030958</td>\n",
       "      <td>0.111548</td>\n",
       "    </tr>\n",
       "    <tr>\n",
       "      <th>1367</th>\n",
       "      <td>KC1</td>\n",
       "      <td>1961</td>\n",
       "      <td>61</td>\n",
       "      <td>0.164751</td>\n",
       "      <td>0.035982</td>\n",
       "      <td>0.007829</td>\n",
       "      <td>0.014993</td>\n",
       "      <td>0.096618</td>\n",
       "    </tr>\n",
       "    <tr>\n",
       "      <th>1377</th>\n",
       "      <td>NYA</td>\n",
       "      <td>1962</td>\n",
       "      <td>96</td>\n",
       "      <td>0.167148</td>\n",
       "      <td>0.038536</td>\n",
       "      <td>0.004656</td>\n",
       "      <td>0.031952</td>\n",
       "      <td>0.093770</td>\n",
       "    </tr>\n",
       "    <tr>\n",
       "      <th>1379</th>\n",
       "      <td>LAA</td>\n",
       "      <td>1962</td>\n",
       "      <td>86</td>\n",
       "      <td>0.159482</td>\n",
       "      <td>0.038027</td>\n",
       "      <td>0.005737</td>\n",
       "      <td>0.022455</td>\n",
       "      <td>0.098672</td>\n",
       "    </tr>\n",
       "    <tr>\n",
       "      <th>1381</th>\n",
       "      <td>CHA</td>\n",
       "      <td>1962</td>\n",
       "      <td>85</td>\n",
       "      <td>0.165797</td>\n",
       "      <td>0.040756</td>\n",
       "      <td>0.009129</td>\n",
       "      <td>0.014998</td>\n",
       "      <td>0.101076</td>\n",
       "    </tr>\n",
       "  </tbody>\n",
       "</table>\n",
       "</div>"
      ],
      "text/plain": [
       "     teamID  yearID   W        1B        2B        3B        HR        BB\n",
       "1366    LAA    1961  70  0.147748  0.035708  0.003604  0.030958  0.111548\n",
       "1367    KC1    1961  61  0.164751  0.035982  0.007829  0.014993  0.096618\n",
       "1377    NYA    1962  96  0.167148  0.038536  0.004656  0.031952  0.093770\n",
       "1379    LAA    1962  86  0.159482  0.038027  0.005737  0.022455  0.098672\n",
       "1381    CHA    1962  85  0.165797  0.040756  0.009129  0.014998  0.101076"
      ]
     },
     "execution_count": 123,
     "metadata": {},
     "output_type": "execute_result"
    }
   ],
   "source": [
    "### Your code here ###\n",
    "subTeams = teams[(teams['G'] == 162) & (teams['yearID'] > 1947)].copy()\n",
    "\n",
    "subTeams[\"1B\"] = subTeams.H - subTeams[\"2B\"] - subTeams[\"3B\"] - subTeams[\"HR\"]\n",
    "subTeams[\"PA\"] = subTeams.BB + subTeams.AB\n",
    "\n",
    "for col in [\"1B\",\"2B\",\"3B\",\"HR\",\"BB\"]:\n",
    "    subTeams[col] = subTeams[col]/subTeams.PA\n",
    "    \n",
    "stats = subTeams[[\"teamID\",\"yearID\",\"W\",\"1B\",\"2B\",\"3B\",\"HR\",\"BB\"]].copy()\n",
    "stats.head()"
   ]
  },
  {
   "cell_type": "markdown",
   "metadata": {},
   "source": [
    "#### Problem 1(d)\n",
    "\n",
    "Is there a noticeable time trend in the rates computed computed in Problem 1(c)? "
   ]
  },
  {
   "cell_type": "code",
   "execution_count": 124,
   "metadata": {
    "collapsed": false
   },
   "outputs": [
    {
     "data": {
      "image/png": "[encoded data removed]",
      "text/plain": [
       "<matplotlib.figure.Figure at 0x7f1b71691c90>"
      ]
     },
     "metadata": {},
     "output_type": "display_data"
    },
    {
     "data": {
      "image/png": "[encoded data removed]",
      "text/plain": [
       "<matplotlib.figure.Figure at 0x7f1b779367d0>"
      ]
     },
     "metadata": {},
     "output_type": "display_data"
    },
    {
     "data": {
      "image/png": "[encoded data removed]",
      "text/plain": [
       "<matplotlib.figure.Figure at 0x7f1b776b9f50>"
      ]
     },
     "metadata": {},
     "output_type": "display_data"
    },
    {
     "data": {
      "image/png": "[encoded data removed]",
      "text/plain": [
       "<matplotlib.figure.Figure at 0x7f1b77533fd0>"
      ]
     },
     "metadata": {},
     "output_type": "display_data"
    },
    {
     "data": {
      "image/png": "[encoded data removed]",
      "text/plain": [
       "<matplotlib.figure.Figure at 0x7f1b7770c510>"
      ]
     },
     "metadata": {},
     "output_type": "display_data"
    }
   ],
   "source": [
    "### Your code here ###\n",
    "for col in [\"1B\",\"2B\",\"3B\",\"HR\",\"BB\"]:\n",
    "    plt.scatter(stats.yearID, stats[col], c=\"g\", alpha=0.5)\n",
    "    plt.title(col)\n",
    "    plt.xlabel('Year')\n",
    "    plt.ylabel('Rate')\n",
    "    plt.show()"
   ]
  },
  {
   "cell_type": "markdown",
   "metadata": {},
   "source": [
    "#### Problem 1(e) \n",
    "\n",
    "Using the `stats` DataFrame from Problem 1(c), adjust the singles per PA rates so that the average across teams for each year is 0. Do the same for the doubles, triples, HR, and BB rates. "
   ]
  },
  {
   "cell_type": "code",
   "execution_count": 125,
   "metadata": {
    "collapsed": false
   },
   "outputs": [],
   "source": [
    "### Your code here ###"
   ]
  },
  {
   "cell_type": "markdown",
   "metadata": {},
   "source": [
    "First let's check what the mean is across teams for each year for each of the rates. "
   ]
  },
  {
   "cell_type": "code",
   "execution_count": 126,
   "metadata": {
    "collapsed": false
   },
   "outputs": [
    {
     "data": {
      "text/html": [
       "<div>\n",
       "<table border=\"1\" class=\"dataframe\">\n",
       "  <thead>\n",
       "    <tr style=\"text-align: right;\">\n",
       "      <th></th>\n",
       "      <th>1B</th>\n",
       "      <th>2B</th>\n",
       "      <th>3B</th>\n",
       "      <th>HR</th>\n",
       "      <th>BB</th>\n",
       "    </tr>\n",
       "    <tr>\n",
       "      <th>yearID</th>\n",
       "      <th></th>\n",
       "      <th></th>\n",
       "      <th></th>\n",
       "      <th></th>\n",
       "      <th></th>\n",
       "    </tr>\n",
       "  </thead>\n",
       "  <tbody>\n",
       "    <tr>\n",
       "      <th>1961</th>\n",
       "      <td>0.156249</td>\n",
       "      <td>0.035845</td>\n",
       "      <td>0.005717</td>\n",
       "      <td>0.022975</td>\n",
       "      <td>0.104083</td>\n",
       "    </tr>\n",
       "    <tr>\n",
       "      <th>1962</th>\n",
       "      <td>0.165632</td>\n",
       "      <td>0.035853</td>\n",
       "      <td>0.006777</td>\n",
       "      <td>0.023811</td>\n",
       "      <td>0.088590</td>\n",
       "    </tr>\n",
       "    <tr>\n",
       "      <th>1963</th>\n",
       "      <td>0.162467</td>\n",
       "      <td>0.034020</td>\n",
       "      <td>0.006896</td>\n",
       "      <td>0.021254</td>\n",
       "      <td>0.080336</td>\n",
       "    </tr>\n",
       "    <tr>\n",
       "      <th>1964</th>\n",
       "      <td>0.167251</td>\n",
       "      <td>0.036336</td>\n",
       "      <td>0.006748</td>\n",
       "      <td>0.021548</td>\n",
       "      <td>0.079152</td>\n",
       "    </tr>\n",
       "    <tr>\n",
       "      <th>1965</th>\n",
       "      <td>0.160042</td>\n",
       "      <td>0.035539</td>\n",
       "      <td>0.006534</td>\n",
       "      <td>0.022693</td>\n",
       "      <td>0.085745</td>\n",
       "    </tr>\n",
       "  </tbody>\n",
       "</table>\n",
       "</div>"
      ],
      "text/plain": [
       "              1B        2B        3B        HR        BB\n",
       "yearID                                                  \n",
       "1961    0.156249  0.035845  0.005717  0.022975  0.104083\n",
       "1962    0.165632  0.035853  0.006777  0.023811  0.088590\n",
       "1963    0.162467  0.034020  0.006896  0.021254  0.080336\n",
       "1964    0.167251  0.036336  0.006748  0.021548  0.079152\n",
       "1965    0.160042  0.035539  0.006534  0.022693  0.085745"
      ]
     },
     "execution_count": 126,
     "metadata": {},
     "output_type": "execute_result"
    }
   ],
   "source": [
    "stats.groupby('yearID')[\"1B\",\"2B\",\"3B\",\"HR\",\"BB\"].mean().head()"
   ]
  },
  {
   "cell_type": "markdown",
   "metadata": {},
   "source": [
    "Now we define a function to mean normalize the rates. "
   ]
  },
  {
   "cell_type": "code",
   "execution_count": 127,
   "metadata": {
    "collapsed": false
   },
   "outputs": [
    {
     "data": {
      "text/html": [
       "<div>\n",
       "<table border=\"1\" class=\"dataframe\">\n",
       "  <thead>\n",
       "    <tr style=\"text-align: right;\">\n",
       "      <th></th>\n",
       "      <th>teamID</th>\n",
       "      <th>yearID</th>\n",
       "      <th>W</th>\n",
       "      <th>1B</th>\n",
       "      <th>2B</th>\n",
       "      <th>3B</th>\n",
       "      <th>HR</th>\n",
       "      <th>BB</th>\n",
       "    </tr>\n",
       "  </thead>\n",
       "  <tbody>\n",
       "    <tr>\n",
       "      <th>1366</th>\n",
       "      <td>LAA</td>\n",
       "      <td>1961</td>\n",
       "      <td>70</td>\n",
       "      <td>-0.008502</td>\n",
       "      <td>-0.000137</td>\n",
       "      <td>-0.002113</td>\n",
       "      <td>0.007983</td>\n",
       "      <td>0.007465</td>\n",
       "    </tr>\n",
       "    <tr>\n",
       "      <th>1367</th>\n",
       "      <td>KC1</td>\n",
       "      <td>1961</td>\n",
       "      <td>61</td>\n",
       "      <td>0.008502</td>\n",
       "      <td>0.000137</td>\n",
       "      <td>0.002113</td>\n",
       "      <td>-0.007983</td>\n",
       "      <td>-0.007465</td>\n",
       "    </tr>\n",
       "    <tr>\n",
       "      <th>1377</th>\n",
       "      <td>NYA</td>\n",
       "      <td>1962</td>\n",
       "      <td>96</td>\n",
       "      <td>0.001516</td>\n",
       "      <td>0.002683</td>\n",
       "      <td>-0.002121</td>\n",
       "      <td>0.008141</td>\n",
       "      <td>0.005180</td>\n",
       "    </tr>\n",
       "    <tr>\n",
       "      <th>1379</th>\n",
       "      <td>LAA</td>\n",
       "      <td>1962</td>\n",
       "      <td>86</td>\n",
       "      <td>-0.006150</td>\n",
       "      <td>0.002174</td>\n",
       "      <td>-0.001040</td>\n",
       "      <td>-0.001356</td>\n",
       "      <td>0.010082</td>\n",
       "    </tr>\n",
       "    <tr>\n",
       "      <th>1381</th>\n",
       "      <td>CHA</td>\n",
       "      <td>1962</td>\n",
       "      <td>85</td>\n",
       "      <td>0.000165</td>\n",
       "      <td>0.004904</td>\n",
       "      <td>0.002352</td>\n",
       "      <td>-0.008813</td>\n",
       "      <td>0.012486</td>\n",
       "    </tr>\n",
       "  </tbody>\n",
       "</table>\n",
       "</div>"
      ],
      "text/plain": [
       "     teamID  yearID   W        1B        2B        3B        HR        BB\n",
       "1366    LAA    1961  70 -0.008502 -0.000137 -0.002113  0.007983  0.007465\n",
       "1367    KC1    1961  61  0.008502  0.000137  0.002113 -0.007983 -0.007465\n",
       "1377    NYA    1962  96  0.001516  0.002683 -0.002121  0.008141  0.005180\n",
       "1379    LAA    1962  86 -0.006150  0.002174 -0.001040 -0.001356  0.010082\n",
       "1381    CHA    1962  85  0.000165  0.004904  0.002352 -0.008813  0.012486"
      ]
     },
     "execution_count": 127,
     "metadata": {},
     "output_type": "execute_result"
    }
   ],
   "source": [
    "def meanNormalizeRates(df):\n",
    "        subRates = df[[\"1B\",\"2B\",\"3B\",\"HR\",\"BB\"]]\n",
    "        df[[\"1B\",\"2B\",\"3B\",\"HR\",\"BB\"]] = subRates - subRates.mean(axis=0)\n",
    "        return df\n",
    "\n",
    "stats = stats.groupby('yearID').apply(meanNormalizeRates)\n",
    "stats.head()"
   ]
  },
  {
   "cell_type": "markdown",
   "metadata": {},
   "source": [
    "#### Problem 1(f)\n",
    "\n",
    "Build a simple linear regression model to predict the number of wins from the average adjusted singles, double, triples, HR, and BB rates. To decide which of these terms to include fit the model to data from 2002 and compute the average squared residuals from predictions to years past 2002. Use the fitted model to define a new sabermetric summary: offensive predicted wins (OPW). \n",
    "\n",
    "**Hint**: the new summary should be a linear combination of one to five of the five rates."
   ]
  },
  {
   "cell_type": "code",
   "execution_count": 128,
   "metadata": {
    "collapsed": false
   },
   "outputs": [
    {
     "name": "stdout",
     "output_type": "stream",
     "text": [
      "(662, 5)\n",
      "Mean squared error: 83.82\n"
     ]
    }
   ],
   "source": [
    "### Your code here ###\n",
    "from sklearn import linear_model\n",
    "clf = linear_model.LinearRegression()\n",
    "\n",
    "stat_train = stats[stats.yearID < 2002]\n",
    "stat_test = stats[stats.yearID >= 2002]\n",
    "\n",
    "XX_train = stat_train[[\"1B\",\"2B\",\"3B\",\"HR\",\"BB\"]].values\n",
    "\n",
    "print XX_train.shape\n",
    "XX_test = stat_test[[\"1B\",\"2B\",\"3B\",\"HR\",\"BB\"]].values\n",
    "\n",
    "YY_train = stat_train.W.values\n",
    "YY_test = stat_test.W.values\n",
    "clf.fit(XX_train,YY_train)\n",
    "clf.coef_\n",
    "\n",
    "print(\"Mean squared error: %.2f\"\n",
    "      % np.mean((YY_test - clf.predict(XX_test)) ** 2))"
   ]
  },
  {
   "cell_type": "markdown",
   "metadata": {},
   "source": [
    "** Your answer here: ** From model above, we are defining a new sabermetric summary (OPW) which is a linear combination of all the five rates as that is the one with the smallest mean squared error"
   ]
  },
  {
   "cell_type": "markdown",
   "metadata": {},
   "source": [
    "#### Problem 1(g)\n",
    "\n",
    "Now we will create a similar database for individual players. Consider only player/year combinations in which the player had at least 500 plate appearances. Consider only the years we considered for the calculations above (after 1947 and seasons with 162 games). For each player/year compute singles, doubles, triples, HR, BB per plate appearance rates. Create a new pandas DataFrame called `playerstats` that has the playerID, yearID and the rates of these stats.  Remove the average for each year as for these rates as done in Problem 1(e). "
   ]
  },
  {
   "cell_type": "code",
   "execution_count": 129,
   "metadata": {
    "collapsed": false
   },
   "outputs": [],
   "source": [
    "### Your code here ###"
   ]
  },
  {
   "cell_type": "markdown",
   "metadata": {},
   "source": [
    "First we will subset the `players` DataFrame for players with at least 500 plate appearances and for years after 1947.  **Note**, we did not specifically say to also subset for 162 games as well, but just referenced above). Adding this will dramatically reduce the number of players.  "
   ]
  },
  {
   "cell_type": "code",
   "execution_count": 130,
   "metadata": {
    "collapsed": false
   },
   "outputs": [],
   "source": [
    "subPlayers = players[(players.AB + players.BB > 500)  & (players.yearID > 1947)].copy()\n",
    "\n",
    "subPlayers[\"1B\"] = subPlayers.H - subPlayers[\"2B\"] - subPlayers[\"3B\"] - subPlayers[\"HR\"]\n",
    "subPlayers[\"PA\"] = subPlayers.BB + subPlayers.AB\n",
    "\n",
    "for col in [\"1B\",\"2B\",\"3B\",\"HR\",\"BB\"]:\n",
    "    subPlayers[col] = subPlayers[col]/subPlayers.PA\n",
    "\n",
    "# Create playerstats DataFrame\n",
    "playerstats = subPlayers[[\"playerID\",\"yearID\",\"1B\",\"2B\",\"3B\",\"HR\",\"BB\"]].copy()"
   ]
  },
  {
   "cell_type": "markdown",
   "metadata": {},
   "source": [
    "Use same function defined in Problem 1(e) to mean normalize across teams for each year"
   ]
  },
  {
   "cell_type": "code",
   "execution_count": 131,
   "metadata": {
    "collapsed": false
   },
   "outputs": [],
   "source": [
    "playerstats = playerstats.groupby('yearID').apply(meanNormalizeRates) "
   ]
  },
  {
   "cell_type": "markdown",
   "metadata": {},
   "source": [
    "Show the head of the `playerstats` DataFrame. "
   ]
  },
  {
   "cell_type": "code",
   "execution_count": 132,
   "metadata": {
    "collapsed": false
   },
   "outputs": [
    {
     "data": {
      "text/html": [
       "<div>\n",
       "<table border=\"1\" class=\"dataframe\">\n",
       "  <thead>\n",
       "    <tr style=\"text-align: right;\">\n",
       "      <th></th>\n",
       "      <th>playerID</th>\n",
       "      <th>yearID</th>\n",
       "      <th>1B</th>\n",
       "      <th>2B</th>\n",
       "      <th>3B</th>\n",
       "      <th>HR</th>\n",
       "      <th>BB</th>\n",
       "    </tr>\n",
       "  </thead>\n",
       "  <tbody>\n",
       "    <tr>\n",
       "      <th>8</th>\n",
       "      <td>aaronha01</td>\n",
       "      <td>1955</td>\n",
       "      <td>0.001060</td>\n",
       "      <td>0.018570</td>\n",
       "      <td>0.005585</td>\n",
       "      <td>0.011337</td>\n",
       "      <td>-0.027249</td>\n",
       "    </tr>\n",
       "    <tr>\n",
       "      <th>9</th>\n",
       "      <td>aaronha01</td>\n",
       "      <td>1956</td>\n",
       "      <td>0.021561</td>\n",
       "      <td>0.013857</td>\n",
       "      <td>0.012480</td>\n",
       "      <td>0.009593</td>\n",
       "      <td>-0.044600</td>\n",
       "    </tr>\n",
       "    <tr>\n",
       "      <th>10</th>\n",
       "      <td>aaronha01</td>\n",
       "      <td>1957</td>\n",
       "      <td>0.004817</td>\n",
       "      <td>-0.002034</td>\n",
       "      <td>0.000466</td>\n",
       "      <td>0.037093</td>\n",
       "      <td>-0.013166</td>\n",
       "    </tr>\n",
       "    <tr>\n",
       "      <th>11</th>\n",
       "      <td>aaronha01</td>\n",
       "      <td>1958</td>\n",
       "      <td>0.018367</td>\n",
       "      <td>0.011015</td>\n",
       "      <td>-0.002219</td>\n",
       "      <td>0.015398</td>\n",
       "      <td>-0.007762</td>\n",
       "    </tr>\n",
       "    <tr>\n",
       "      <th>12</th>\n",
       "      <td>aaronha01</td>\n",
       "      <td>1959</td>\n",
       "      <td>0.016261</td>\n",
       "      <td>0.025762</td>\n",
       "      <td>0.002743</td>\n",
       "      <td>0.028368</td>\n",
       "      <td>-0.022898</td>\n",
       "    </tr>\n",
       "  </tbody>\n",
       "</table>\n",
       "</div>"
      ],
      "text/plain": [
       "     playerID  yearID        1B        2B        3B        HR        BB\n",
       "8   aaronha01    1955  0.001060  0.018570  0.005585  0.011337 -0.027249\n",
       "9   aaronha01    1956  0.021561  0.013857  0.012480  0.009593 -0.044600\n",
       "10  aaronha01    1957  0.004817 -0.002034  0.000466  0.037093 -0.013166\n",
       "11  aaronha01    1958  0.018367  0.011015 -0.002219  0.015398 -0.007762\n",
       "12  aaronha01    1959  0.016261  0.025762  0.002743  0.028368 -0.022898"
      ]
     },
     "execution_count": 132,
     "metadata": {},
     "output_type": "execute_result"
    }
   ],
   "source": [
    "### Your code here ###\n",
    "playerstats.head()"
   ]
  },
  {
   "cell_type": "markdown",
   "metadata": {},
   "source": [
    "#### Problem 1(h)\n",
    "\n",
    "Using the `playerstats` DataFrame created in Problem 1(g), create a new DataFrame called `playerLS` containing the player's lifetime stats. This DataFrame should contain the `playerID`, the year the player's career started, the year the player's career ended and the player's lifetime average for each of the quantities (singles, doubles, triples, HR, BB). For simplicity we will simply compute the average of the rates by year (a more correct way is to go back to the totals). "
   ]
  },
  {
   "cell_type": "code",
   "execution_count": 133,
   "metadata": {
    "collapsed": false
   },
   "outputs": [],
   "source": [
    "### Your code here ###"
   ]
  },
  {
   "cell_type": "markdown",
   "metadata": {},
   "source": [
    "First we will create a function called `meanNormalizePlayerLS` that computes the lifetime average for each of the quantities (singles, doubles, triples, HR, BB). Then we will construct a function called `getyear` that extracts the year from a date as saved in the `master` table."
   ]
  },
  {
   "cell_type": "code",
   "execution_count": 134,
   "metadata": {
    "collapsed": false
   },
   "outputs": [],
   "source": [
    "def meanNormalizePlayerLS(df):\n",
    "    df = df[['playerID', '1B','2B','3B','HR','BB']].mean()\n",
    "    return df\n",
    "\n",
    "def getyear(x):\n",
    "    return int(x[0:4])"
   ]
  },
  {
   "cell_type": "markdown",
   "metadata": {},
   "source": [
    "Next, we use `groupby` (by `playerID`) on the `playerstats` DataFrame to compute the average lifetime statistics (1B, 2B, 3B, HR and BB) for each player.  "
   ]
  },
  {
   "cell_type": "code",
   "execution_count": 135,
   "metadata": {
    "collapsed": false
   },
   "outputs": [],
   "source": [
    "playerLS = playerstats.groupby('playerID').apply(meanNormalizePlayerLS).reset_index()"
   ]
  },
  {
   "cell_type": "markdown",
   "metadata": {},
   "source": [
    "Then, we merge `playerLS` with the `master` DataFrame which contains the career start and end. "
   ]
  },
  {
   "cell_type": "code",
   "execution_count": 136,
   "metadata": {
    "collapsed": false
   },
   "outputs": [
    {
     "data": {
      "text/html": [
       "<div>\n",
       "<table border=\"1\" class=\"dataframe\">\n",
       "  <thead>\n",
       "    <tr style=\"text-align: right;\">\n",
       "      <th></th>\n",
       "      <th>playerID</th>\n",
       "      <th>debut</th>\n",
       "      <th>finalGame</th>\n",
       "      <th>1B</th>\n",
       "      <th>2B</th>\n",
       "      <th>3B</th>\n",
       "      <th>HR</th>\n",
       "      <th>BB</th>\n",
       "    </tr>\n",
       "  </thead>\n",
       "  <tbody>\n",
       "    <tr>\n",
       "      <th>0</th>\n",
       "      <td>aaronha01</td>\n",
       "      <td>1954-04-13</td>\n",
       "      <td>1976-10-03</td>\n",
       "      <td>-0.007157</td>\n",
       "      <td>0.006539</td>\n",
       "      <td>-0.000270</td>\n",
       "      <td>0.027850</td>\n",
       "      <td>0.009447</td>\n",
       "    </tr>\n",
       "    <tr>\n",
       "      <th>1</th>\n",
       "      <td>abramca01</td>\n",
       "      <td>1949-04-20</td>\n",
       "      <td>1956-05-09</td>\n",
       "      <td>0.013463</td>\n",
       "      <td>-0.023915</td>\n",
       "      <td>0.002384</td>\n",
       "      <td>0.003842</td>\n",
       "      <td>0.019455</td>\n",
       "    </tr>\n",
       "    <tr>\n",
       "      <th>2</th>\n",
       "      <td>abreubo01</td>\n",
       "      <td>1996-09-01</td>\n",
       "      <td>2012-10-02</td>\n",
       "      <td>-0.008202</td>\n",
       "      <td>0.006421</td>\n",
       "      <td>0.001002</td>\n",
       "      <td>-0.003252</td>\n",
       "      <td>0.050501</td>\n",
       "    </tr>\n",
       "    <tr>\n",
       "      <th>3</th>\n",
       "      <td>ackledu01</td>\n",
       "      <td>2011-06-17</td>\n",
       "      <td>2013-09-29</td>\n",
       "      <td>-0.009270</td>\n",
       "      <td>-0.016605</td>\n",
       "      <td>-0.001974</td>\n",
       "      <td>-0.015274</td>\n",
       "      <td>0.001597</td>\n",
       "    </tr>\n",
       "    <tr>\n",
       "      <th>4</th>\n",
       "      <td>adairje01</td>\n",
       "      <td>1958-09-02</td>\n",
       "      <td>1970-05-03</td>\n",
       "      <td>0.011933</td>\n",
       "      <td>0.003286</td>\n",
       "      <td>-0.002139</td>\n",
       "      <td>-0.012934</td>\n",
       "      <td>-0.037229</td>\n",
       "    </tr>\n",
       "  </tbody>\n",
       "</table>\n",
       "</div>"
      ],
      "text/plain": [
       "    playerID       debut   finalGame        1B        2B        3B        HR  \\\n",
       "0  aaronha01  1954-04-13  1976-10-03 -0.007157  0.006539 -0.000270  0.027850   \n",
       "1  abramca01  1949-04-20  1956-05-09  0.013463 -0.023915  0.002384  0.003842   \n",
       "2  abreubo01  1996-09-01  2012-10-02 -0.008202  0.006421  0.001002 -0.003252   \n",
       "3  ackledu01  2011-06-17  2013-09-29 -0.009270 -0.016605 -0.001974 -0.015274   \n",
       "4  adairje01  1958-09-02  1970-05-03  0.011933  0.003286 -0.002139 -0.012934   \n",
       "\n",
       "         BB  \n",
       "0  0.009447  \n",
       "1  0.019455  \n",
       "2  0.050501  \n",
       "3  0.001597  \n",
       "4 -0.037229  "
      ]
     },
     "execution_count": 136,
     "metadata": {},
     "output_type": "execute_result"
    }
   ],
   "source": [
    "playerLS = master[[\"playerID\",\"debut\",\"finalGame\"]].merge(playerLS, how='inner', on=\"playerID\")\n",
    "playerLS.head()"
   ]
  },
  {
   "cell_type": "markdown",
   "metadata": {},
   "source": [
    "Finally, we extract the year from the `debut` and `finalGame` column to determine what year each player started and ended their career. "
   ]
  },
  {
   "cell_type": "code",
   "execution_count": 137,
   "metadata": {
    "collapsed": false
   },
   "outputs": [],
   "source": [
    "playerLS[\"debut\"] = playerLS.debut.apply(getyear)\n",
    "playerLS[\"finalGame\"] = playerLS.finalGame.apply(getyear)\n",
    "cols = list(playerLS.columns)\n",
    "cols[1:3]=[\"minYear\",\"maxYear\"]\n",
    "playerLS.columns = cols"
   ]
  },
  {
   "cell_type": "markdown",
   "metadata": {},
   "source": [
    "Show the head of the `playerLS` DataFrame. "
   ]
  },
  {
   "cell_type": "code",
   "execution_count": 138,
   "metadata": {
    "collapsed": false
   },
   "outputs": [
    {
     "data": {
      "text/html": [
       "<div>\n",
       "<table border=\"1\" class=\"dataframe\">\n",
       "  <thead>\n",
       "    <tr style=\"text-align: right;\">\n",
       "      <th></th>\n",
       "      <th>playerID</th>\n",
       "      <th>minYear</th>\n",
       "      <th>maxYear</th>\n",
       "      <th>1B</th>\n",
       "      <th>2B</th>\n",
       "      <th>3B</th>\n",
       "      <th>HR</th>\n",
       "      <th>BB</th>\n",
       "    </tr>\n",
       "  </thead>\n",
       "  <tbody>\n",
       "    <tr>\n",
       "      <th>0</th>\n",
       "      <td>aaronha01</td>\n",
       "      <td>1954</td>\n",
       "      <td>1976</td>\n",
       "      <td>-0.007157</td>\n",
       "      <td>0.006539</td>\n",
       "      <td>-0.000270</td>\n",
       "      <td>0.027850</td>\n",
       "      <td>0.009447</td>\n",
       "    </tr>\n",
       "    <tr>\n",
       "      <th>1</th>\n",
       "      <td>abramca01</td>\n",
       "      <td>1949</td>\n",
       "      <td>1956</td>\n",
       "      <td>0.013463</td>\n",
       "      <td>-0.023915</td>\n",
       "      <td>0.002384</td>\n",
       "      <td>0.003842</td>\n",
       "      <td>0.019455</td>\n",
       "    </tr>\n",
       "    <tr>\n",
       "      <th>2</th>\n",
       "      <td>abreubo01</td>\n",
       "      <td>1996</td>\n",
       "      <td>2012</td>\n",
       "      <td>-0.008202</td>\n",
       "      <td>0.006421</td>\n",
       "      <td>0.001002</td>\n",
       "      <td>-0.003252</td>\n",
       "      <td>0.050501</td>\n",
       "    </tr>\n",
       "    <tr>\n",
       "      <th>3</th>\n",
       "      <td>ackledu01</td>\n",
       "      <td>2011</td>\n",
       "      <td>2013</td>\n",
       "      <td>-0.009270</td>\n",
       "      <td>-0.016605</td>\n",
       "      <td>-0.001974</td>\n",
       "      <td>-0.015274</td>\n",
       "      <td>0.001597</td>\n",
       "    </tr>\n",
       "    <tr>\n",
       "      <th>4</th>\n",
       "      <td>adairje01</td>\n",
       "      <td>1958</td>\n",
       "      <td>1970</td>\n",
       "      <td>0.011933</td>\n",
       "      <td>0.003286</td>\n",
       "      <td>-0.002139</td>\n",
       "      <td>-0.012934</td>\n",
       "      <td>-0.037229</td>\n",
       "    </tr>\n",
       "  </tbody>\n",
       "</table>\n",
       "</div>"
      ],
      "text/plain": [
       "    playerID  minYear  maxYear        1B        2B        3B        HR  \\\n",
       "0  aaronha01     1954     1976 -0.007157  0.006539 -0.000270  0.027850   \n",
       "1  abramca01     1949     1956  0.013463 -0.023915  0.002384  0.003842   \n",
       "2  abreubo01     1996     2012 -0.008202  0.006421  0.001002 -0.003252   \n",
       "3  ackledu01     2011     2013 -0.009270 -0.016605 -0.001974 -0.015274   \n",
       "4  adairje01     1958     1970  0.011933  0.003286 -0.002139 -0.012934   \n",
       "\n",
       "         BB  \n",
       "0  0.009447  \n",
       "1  0.019455  \n",
       "2  0.050501  \n",
       "3  0.001597  \n",
       "4 -0.037229  "
      ]
     },
     "execution_count": 138,
     "metadata": {},
     "output_type": "execute_result"
    }
   ],
   "source": [
    "playerLS.head()"
   ]
  },
  {
   "cell_type": "markdown",
   "metadata": {},
   "source": [
    "#### Problem 1(i)\n",
    "\n",
    "Compute the OPW for each player based on the average rates in the `playerLS` DataFrame. You can interpret this summary statistic as the predicted wins for a team with 9 batters exactly like the player in question. Add this column to the playerLS DataFrame. Call this colum OPW."
   ]
  },
  {
   "cell_type": "code",
   "execution_count": 139,
   "metadata": {
    "collapsed": false
   },
   "outputs": [
    {
     "data": {
      "text/html": [
       "<div>\n",
       "<table border=\"1\" class=\"dataframe\">\n",
       "  <thead>\n",
       "    <tr style=\"text-align: right;\">\n",
       "      <th></th>\n",
       "      <th>playerID</th>\n",
       "      <th>minYear</th>\n",
       "      <th>maxYear</th>\n",
       "      <th>1B</th>\n",
       "      <th>2B</th>\n",
       "      <th>3B</th>\n",
       "      <th>HR</th>\n",
       "      <th>BB</th>\n",
       "      <th>OPW</th>\n",
       "    </tr>\n",
       "  </thead>\n",
       "  <tbody>\n",
       "    <tr>\n",
       "      <th>0</th>\n",
       "      <td>aaronha01</td>\n",
       "      <td>1954</td>\n",
       "      <td>1976</td>\n",
       "      <td>-0.007157</td>\n",
       "      <td>0.006539</td>\n",
       "      <td>-0.000270</td>\n",
       "      <td>0.027850</td>\n",
       "      <td>0.009447</td>\n",
       "      <td>108.696139</td>\n",
       "    </tr>\n",
       "    <tr>\n",
       "      <th>1</th>\n",
       "      <td>abramca01</td>\n",
       "      <td>1949</td>\n",
       "      <td>1956</td>\n",
       "      <td>0.013463</td>\n",
       "      <td>-0.023915</td>\n",
       "      <td>0.002384</td>\n",
       "      <td>0.003842</td>\n",
       "      <td>0.019455</td>\n",
       "      <td>92.575472</td>\n",
       "    </tr>\n",
       "    <tr>\n",
       "      <th>2</th>\n",
       "      <td>abreubo01</td>\n",
       "      <td>1996</td>\n",
       "      <td>2012</td>\n",
       "      <td>-0.008202</td>\n",
       "      <td>0.006421</td>\n",
       "      <td>0.001002</td>\n",
       "      <td>-0.003252</td>\n",
       "      <td>0.050501</td>\n",
       "      <td>104.050008</td>\n",
       "    </tr>\n",
       "    <tr>\n",
       "      <th>3</th>\n",
       "      <td>ackledu01</td>\n",
       "      <td>2011</td>\n",
       "      <td>2013</td>\n",
       "      <td>-0.009270</td>\n",
       "      <td>-0.016605</td>\n",
       "      <td>-0.001974</td>\n",
       "      <td>-0.015274</td>\n",
       "      <td>0.001597</td>\n",
       "      <td>53.806003</td>\n",
       "    </tr>\n",
       "    <tr>\n",
       "      <th>4</th>\n",
       "      <td>adairje01</td>\n",
       "      <td>1958</td>\n",
       "      <td>1970</td>\n",
       "      <td>0.011933</td>\n",
       "      <td>0.003286</td>\n",
       "      <td>-0.002139</td>\n",
       "      <td>-0.012934</td>\n",
       "      <td>-0.037229</td>\n",
       "      <td>56.395050</td>\n",
       "    </tr>\n",
       "  </tbody>\n",
       "</table>\n",
       "</div>"
      ],
      "text/plain": [
       "    playerID  minYear  maxYear        1B        2B        3B        HR  \\\n",
       "0  aaronha01     1954     1976 -0.007157  0.006539 -0.000270  0.027850   \n",
       "1  abramca01     1949     1956  0.013463 -0.023915  0.002384  0.003842   \n",
       "2  abreubo01     1996     2012 -0.008202  0.006421  0.001002 -0.003252   \n",
       "3  ackledu01     2011     2013 -0.009270 -0.016605 -0.001974 -0.015274   \n",
       "4  adairje01     1958     1970  0.011933  0.003286 -0.002139 -0.012934   \n",
       "\n",
       "         BB         OPW  \n",
       "0  0.009447  108.696139  \n",
       "1  0.019455   92.575472  \n",
       "2  0.050501  104.050008  \n",
       "3  0.001597   53.806003  \n",
       "4 -0.037229   56.395050  "
      ]
     },
     "execution_count": 139,
     "metadata": {},
     "output_type": "execute_result"
    }
   ],
   "source": [
    "### Your code here ###\n",
    "avgRates = playerLS[[\"1B\",\"2B\",\"3B\",\"HR\",\"BB\"]].values\n",
    "playerLS[\"OPW\"] = clf.predict(avgRates)\n",
    "playerLS.head()"
   ]
  },
  {
   "cell_type": "markdown",
   "metadata": {},
   "source": [
    "#### Problem 1(j)\n",
    "\n",
    "Add four columns to the `playerLS` DataFrame that contains the player's position (C, 1B, 2B, 3B, SS, LF, CF, RF, or OF), first name, last name and median salary. "
   ]
  },
  {
   "cell_type": "code",
   "execution_count": 140,
   "metadata": {
    "collapsed": false
   },
   "outputs": [],
   "source": [
    "### Your code here ###\n",
    "from collections import defaultdict\n",
    "\n",
    "def find_pos(df):\n",
    "    positions = df.POS\n",
    "    d = defaultdict(int)\n",
    "    for pos in positions:\n",
    "        d[pos] += 1\n",
    "    result = max(d.iteritems(), key=lambda x: x[1])\n",
    "    return result[0]\n",
    "\n",
    "positions_df = fielding.groupby(\"playerID\").apply(find_pos)\n",
    "positions_df = positions_df.reset_index()\n",
    "positions_df = positions_df.rename(columns={0:\"POS\"})\n"
   ]
  },
  {
   "cell_type": "code",
   "execution_count": 141,
   "metadata": {
    "collapsed": false
   },
   "outputs": [],
   "source": [
    "playerLS_merged = positions_df.merge(playerLS, how='inner', on=\"playerID\")\n",
    "playerLS_merged = playerLS_merged.merge(medianSalaries, how='inner', on=['playerID'])"
   ]
  },
  {
   "cell_type": "markdown",
   "metadata": {},
   "source": [
    "Show the head of the `playerLS` DataFrame. "
   ]
  },
  {
   "cell_type": "code",
   "execution_count": 142,
   "metadata": {
    "collapsed": false
   },
   "outputs": [
    {
     "data": {
      "text/html": [
       "<div>\n",
       "<table border=\"1\" class=\"dataframe\">\n",
       "  <thead>\n",
       "    <tr style=\"text-align: right;\">\n",
       "      <th></th>\n",
       "      <th>playerID</th>\n",
       "      <th>POS</th>\n",
       "      <th>minYear</th>\n",
       "      <th>maxYear</th>\n",
       "      <th>1B</th>\n",
       "      <th>2B</th>\n",
       "      <th>3B</th>\n",
       "      <th>HR</th>\n",
       "      <th>BB</th>\n",
       "      <th>OPW</th>\n",
       "      <th>nameFirst</th>\n",
       "      <th>nameLast</th>\n",
       "      <th>salary</th>\n",
       "    </tr>\n",
       "  </thead>\n",
       "  <tbody>\n",
       "    <tr>\n",
       "      <th>0</th>\n",
       "      <td>abreubo01</td>\n",
       "      <td>RF</td>\n",
       "      <td>1996</td>\n",
       "      <td>2012</td>\n",
       "      <td>-0.008202</td>\n",
       "      <td>0.006421</td>\n",
       "      <td>0.001002</td>\n",
       "      <td>-0.003252</td>\n",
       "      <td>0.050501</td>\n",
       "      <td>104.050008</td>\n",
       "      <td>Bobby</td>\n",
       "      <td>Abreu</td>\n",
       "      <td>9000000</td>\n",
       "    </tr>\n",
       "    <tr>\n",
       "      <th>1</th>\n",
       "      <td>ackledu01</td>\n",
       "      <td>1B</td>\n",
       "      <td>2011</td>\n",
       "      <td>2013</td>\n",
       "      <td>-0.009270</td>\n",
       "      <td>-0.016605</td>\n",
       "      <td>-0.001974</td>\n",
       "      <td>-0.015274</td>\n",
       "      <td>0.001597</td>\n",
       "      <td>53.806003</td>\n",
       "      <td>Dustin</td>\n",
       "      <td>Ackley</td>\n",
       "      <td>2400000</td>\n",
       "    </tr>\n",
       "    <tr>\n",
       "      <th>2</th>\n",
       "      <td>adamsru01</td>\n",
       "      <td>SS</td>\n",
       "      <td>2004</td>\n",
       "      <td>2009</td>\n",
       "      <td>-0.007867</td>\n",
       "      <td>-0.001289</td>\n",
       "      <td>0.004160</td>\n",
       "      <td>-0.017533</td>\n",
       "      <td>0.002672</td>\n",
       "      <td>67.496507</td>\n",
       "      <td>Russ</td>\n",
       "      <td>Adams</td>\n",
       "      <td>329500</td>\n",
       "    </tr>\n",
       "    <tr>\n",
       "      <th>3</th>\n",
       "      <td>alfoned01</td>\n",
       "      <td>2B</td>\n",
       "      <td>1995</td>\n",
       "      <td>2006</td>\n",
       "      <td>0.013485</td>\n",
       "      <td>-0.002177</td>\n",
       "      <td>-0.003239</td>\n",
       "      <td>-0.006436</td>\n",
       "      <td>0.010745</td>\n",
       "      <td>83.404437</td>\n",
       "      <td>Edgardo</td>\n",
       "      <td>Alfonzo</td>\n",
       "      <td>4112500</td>\n",
       "    </tr>\n",
       "    <tr>\n",
       "      <th>4</th>\n",
       "      <td>alicelu01</td>\n",
       "      <td>2B</td>\n",
       "      <td>1988</td>\n",
       "      <td>2002</td>\n",
       "      <td>0.035625</td>\n",
       "      <td>-0.009597</td>\n",
       "      <td>0.007988</td>\n",
       "      <td>-0.026156</td>\n",
       "      <td>-0.006580</td>\n",
       "      <td>78.561778</td>\n",
       "      <td>Luis</td>\n",
       "      <td>Alicea</td>\n",
       "      <td>750000</td>\n",
       "    </tr>\n",
       "  </tbody>\n",
       "</table>\n",
       "</div>"
      ],
      "text/plain": [
       "    playerID POS  minYear  maxYear        1B        2B        3B        HR  \\\n",
       "0  abreubo01  RF     1996     2012 -0.008202  0.006421  0.001002 -0.003252   \n",
       "1  ackledu01  1B     2011     2013 -0.009270 -0.016605 -0.001974 -0.015274   \n",
       "2  adamsru01  SS     2004     2009 -0.007867 -0.001289  0.004160 -0.017533   \n",
       "3  alfoned01  2B     1995     2006  0.013485 -0.002177 -0.003239 -0.006436   \n",
       "4  alicelu01  2B     1988     2002  0.035625 -0.009597  0.007988 -0.026156   \n",
       "\n",
       "         BB         OPW nameFirst nameLast   salary  \n",
       "0  0.050501  104.050008     Bobby    Abreu  9000000  \n",
       "1  0.001597   53.806003    Dustin   Ackley  2400000  \n",
       "2  0.002672   67.496507      Russ    Adams   329500  \n",
       "3  0.010745   83.404437   Edgardo  Alfonzo  4112500  \n",
       "4 -0.006580   78.561778      Luis   Alicea   750000  "
      ]
     },
     "execution_count": 142,
     "metadata": {},
     "output_type": "execute_result"
    }
   ],
   "source": [
    "### Your code here ###\n",
    "playerLS_merged.head()"
   ]
  },
  {
   "cell_type": "markdown",
   "metadata": {},
   "source": [
    "#### Problem 1(k)\n",
    "\n",
    "Subset the `playerLS` DataFrame for players active in 2002 and 2003 and played at least three years. Plot and describe the relationship bewteen the median salary (in millions) and the predicted number of wins. "
   ]
  },
  {
   "cell_type": "code",
   "execution_count": 143,
   "metadata": {
    "collapsed": false
   },
   "outputs": [
    {
     "data": {
      "image/png": "[encoded data removed]",
      "text/plain": [
       "<matplotlib.figure.Figure at 0x7f1b76f7add0>"
      ]
     },
     "metadata": {},
     "output_type": "display_data"
    }
   ],
   "source": [
    "### Your code here ###\n",
    "active = playerLS_merged[(playerLS_merged[\"minYear\"] <= 2002) & \\\n",
    "                         (playerLS_merged[\"maxYear\"] >= 2003) & \\\n",
    "                         (playerLS_merged[\"maxYear\"] - playerLS_merged[\"minYear\"] >= 3)  ]\n",
    "\n",
    "fig = plt.figure()\n",
    "ax = fig.gca()\n",
    "ax.scatter(active.salary/10**6, active.OPW, alpha=0.5, c='red')\n",
    "ax.set_xscale('log')\n",
    "ax.set_xlabel('Salary (in Millions) on log')\n",
    "ax.set_ylabel('OPW')\n",
    "ax.set_title('Relationship between Salary and Predicted Number of Wins')\n",
    "plt.show()"
   ]
  },
  {
   "cell_type": "markdown",
   "metadata": {},
   "source": [
    "Note some players stand out as underpaid: points higher than the line."
   ]
  },
  {
   "cell_type": "markdown",
   "metadata": {},
   "source": [
    "#### Problem 1(l)\n",
    "Pick one players from one of each of these 10 position C, 1B, 2B, 3B, SS, LF, CF, RF, or OF keeping the total median salary of all 10 players below 20 million. Report their averaged predicted wins and total salary."
   ]
  },
  {
   "cell_type": "markdown",
   "metadata": {},
   "source": [
    "There are many ways to do this. This is just one example that can still be optimized.  The basic idea is to iterate 10 times through an algorithm that selects players. In each iteration we pick a different position. We keep track of the bare minimum we would need to complete a team and keep at least that amount during each iteration. At each iteration we pick the player we can afford having the highest deviation from expected OPW given their salary. "
   ]
  },
  {
   "cell_type": "code",
   "execution_count": 144,
   "metadata": {
    "collapsed": false
   },
   "outputs": [],
   "source": [
    "### Your code here ###"
   ]
  },
  {
   "cell_type": "markdown",
   "metadata": {},
   "source": [
    "First, we mean normalize the `OPW` by position to compute a position specific residual using the `meanNormalizeOPW` function. "
   ]
  },
  {
   "cell_type": "code",
   "execution_count": 145,
   "metadata": {
    "collapsed": false
   },
   "outputs": [
    {
     "name": "stderr",
     "output_type": "stream",
     "text": [
      "/home/ramon/anaconda2/lib/python2.7/site-packages/ipykernel/__main__.py:6: SettingWithCopyWarning: \n",
      "A value is trying to be set on a copy of a slice from a DataFrame.\n",
      "Try using .loc[row_indexer,col_indexer] = value instead\n",
      "\n",
      "See the caveats in the documentation: http://pandas.pydata.org/pandas-docs/stable/indexing.html#indexing-view-versus-copy\n"
     ]
    }
   ],
   "source": [
    "def meanNormalizeOPW(df):\n",
    "    tmp = df[['resid']] \n",
    "    df[['resid']]=tmp-tmp.median(axis=0)\n",
    "    return df\n",
    "\n",
    "active['resid']=active['OPW']\n",
    "active = active.groupby('POS').apply(meanNormalizeOPW)\n"
   ]
  },
  {
   "cell_type": "markdown",
   "metadata": {},
   "source": [
    "Next, we fit a linear regression model and calculate the residuals."
   ]
  },
  {
   "cell_type": "code",
   "execution_count": 146,
   "metadata": {
    "collapsed": false
   },
   "outputs": [],
   "source": [
    "Y = active.resid.values\n",
    "X = np.log(active[[\"salary\"]])\n",
    "\n",
    "clf = linear_model.LinearRegression()\n",
    "clf.fit(X,Y)\n",
    "\n",
    "active['resid'] = Y - clf.predict(X)"
   ]
  },
  {
   "cell_type": "markdown",
   "metadata": {},
   "source": [
    "We can take out the below average players. "
   ]
  },
  {
   "cell_type": "code",
   "execution_count": 147,
   "metadata": {
    "collapsed": false
   },
   "outputs": [],
   "source": [
    "active = active[active.resid >= 0]"
   ]
  },
  {
   "cell_type": "markdown",
   "metadata": {},
   "source": [
    "Next, calculate the min salary by position.  We will use thos to know what is the minimum amount of money we need to keep (and know how much we can spend). "
   ]
  },
  {
   "cell_type": "code",
   "execution_count": 148,
   "metadata": {
    "collapsed": false
   },
   "outputs": [
    {
     "name": "stderr",
     "output_type": "stream",
     "text": [
      "/home/ramon/anaconda2/lib/python2.7/site-packages/ipykernel/__main__.py:5: FutureWarning: sort is deprecated, use sort_values(inplace=True) for INPLACE sorting\n"
     ]
    }
   ],
   "source": [
    "def getMinSalary(s):\n",
    "    return s[\"salary\"].min()\n",
    "\n",
    "minSalaryByPos = active.groupby('POS').apply(getMinSalary)\n",
    "minSalaryByPos.sort(ascending=False)"
   ]
  },
  {
   "cell_type": "markdown",
   "metadata": {},
   "source": [
    "These are the 10 positions:"
   ]
  },
  {
   "cell_type": "code",
   "execution_count": 149,
   "metadata": {
    "collapsed": false
   },
   "outputs": [
    {
     "name": "stdout",
     "output_type": "stream",
     "text": [
      "['RF', 'CF', 'DH', '3B', '1B', 'C', 'OF', 'SS', '2B', 'LF']\n"
     ]
    }
   ],
   "source": [
    "posleft = list(minSalaryByPos.index)\n",
    "print posleft"
   ]
  },
  {
   "cell_type": "markdown",
   "metadata": {},
   "source": [
    "The total money we have to spend is 20 million:"
   ]
  },
  {
   "cell_type": "code",
   "execution_count": 150,
   "metadata": {
    "collapsed": false
   },
   "outputs": [],
   "source": [
    "moneyleft = 20*10**6"
   ]
  },
  {
   "cell_type": "markdown",
   "metadata": {},
   "source": [
    "Now, we will iterate through all the positions.  We keep track of the bare minimum we would need to complete a team and keep at least that amount during each iteration. At each iteration we pick the player we can afford having the highest deviation from expected OPW given their salary. "
   ]
  },
  {
   "cell_type": "code",
   "execution_count": 151,
   "metadata": {
    "collapsed": false
   },
   "outputs": [
    {
     "name": "stderr",
     "output_type": "stream",
     "text": [
      "/home/ramon/anaconda2/lib/python2.7/site-packages/ipykernel/__main__.py:22: FutureWarning: sort(columns=....) is deprecated, use sort_values(by=.....)\n"
     ]
    }
   ],
   "source": [
    "# indexes will contain the indexes of the players we chose\n",
    "indexes=[]\n",
    "    \n",
    "for i in range(len(posleft)):\n",
    "    \n",
    "    # you need to have at least this much left to not go over in the next picks\n",
    "    maxmoney = moneyleft - sum([minSalaryByPos[x] for x in posleft[:-1] ])\n",
    "    \n",
    "    # consider only players in positions we have not selected\n",
    "    index = [True if elem in posleft else False for elem in active.POS.values]\n",
    "    left = active[index & (active.salary <= maxmoney)]\n",
    "    \n",
    "    # pick the one that stands out the most from what is expected given his salary\n",
    "    j = left[\"resid\"].argmax()\n",
    "    indexes.append(j)\n",
    "    \n",
    "    # remove position we just filled from posleft\n",
    "    posleft.remove(left.loc[j].POS)\n",
    "    moneyleft = moneyleft - left.loc[j].salary\n",
    "   \n",
    "topPicks=active.loc[indexes,:]\n",
    "topPicks=topPicks.sort([\"OPW\"],ascending=False)"
   ]
  },
  {
   "cell_type": "markdown",
   "metadata": {},
   "source": [
    "The total salary is 19.7 million. "
   ]
  },
  {
   "cell_type": "code",
   "execution_count": 152,
   "metadata": {
    "collapsed": false
   },
   "outputs": [
    {
     "data": {
      "text/plain": [
       "19746417"
      ]
     },
     "execution_count": 152,
     "metadata": {},
     "output_type": "execute_result"
    }
   ],
   "source": [
    "topPicks['salary'].sum()"
   ]
  },
  {
   "cell_type": "markdown",
   "metadata": {},
   "source": [
    "We expect 100 wins."
   ]
  },
  {
   "cell_type": "code",
   "execution_count": 153,
   "metadata": {
    "collapsed": false
   },
   "outputs": [
    {
     "data": {
      "text/plain": [
       "100.0"
      ]
     },
     "execution_count": 153,
     "metadata": {},
     "output_type": "execute_result"
    }
   ],
   "source": [
    "round(topPicks['OPW'].mean())"
   ]
  },
  {
   "cell_type": "markdown",
   "metadata": {},
   "source": [
    "#### Problem 1(m)\n",
    "\n",
    "What do these players outperform in? Singles, doubles, triples HR or BB?"
   ]
  },
  {
   "cell_type": "code",
   "execution_count": 154,
   "metadata": {
    "collapsed": false
   },
   "outputs": [
    {
     "data": {
      "text/html": [
       "<div>\n",
       "<table border=\"1\" class=\"dataframe\">\n",
       "  <thead>\n",
       "    <tr style=\"text-align: right;\">\n",
       "      <th></th>\n",
       "      <th>nameFirst</th>\n",
       "      <th>nameLast</th>\n",
       "      <th>POS</th>\n",
       "      <th>1B</th>\n",
       "      <th>2B</th>\n",
       "      <th>3B</th>\n",
       "      <th>HR</th>\n",
       "      <th>BB</th>\n",
       "      <th>OPW</th>\n",
       "      <th>salary</th>\n",
       "      <th>minYear</th>\n",
       "      <th>maxYear</th>\n",
       "    </tr>\n",
       "  </thead>\n",
       "  <tbody>\n",
       "    <tr>\n",
       "      <th>81</th>\n",
       "      <td>Barry</td>\n",
       "      <td>Bonds</td>\n",
       "      <td>OF</td>\n",
       "      <td>-0.045184</td>\n",
       "      <td>0.001342</td>\n",
       "      <td>0.001377</td>\n",
       "      <td>0.030717</td>\n",
       "      <td>0.112071</td>\n",
       "      <td>143.0</td>\n",
       "      <td>8541667</td>\n",
       "      <td>1986</td>\n",
       "      <td>2007</td>\n",
       "    </tr>\n",
       "    <tr>\n",
       "      <th>582</th>\n",
       "      <td>Edgar</td>\n",
       "      <td>Martinez</td>\n",
       "      <td>DH</td>\n",
       "      <td>0.000910</td>\n",
       "      <td>0.011751</td>\n",
       "      <td>-0.003912</td>\n",
       "      <td>0.004922</td>\n",
       "      <td>0.052827</td>\n",
       "      <td>114.0</td>\n",
       "      <td>3500000</td>\n",
       "      <td>1987</td>\n",
       "      <td>2004</td>\n",
       "    </tr>\n",
       "    <tr>\n",
       "      <th>274</th>\n",
       "      <td>Morgan</td>\n",
       "      <td>Ensberg</td>\n",
       "      <td>3B</td>\n",
       "      <td>-0.033243</td>\n",
       "      <td>-0.003037</td>\n",
       "      <td>-0.000346</td>\n",
       "      <td>0.026321</td>\n",
       "      <td>0.047626</td>\n",
       "      <td>109.0</td>\n",
       "      <td>450000</td>\n",
       "      <td>2000</td>\n",
       "      <td>2008</td>\n",
       "    </tr>\n",
       "    <tr>\n",
       "      <th>475</th>\n",
       "      <td>Nick</td>\n",
       "      <td>Johnson</td>\n",
       "      <td>1B</td>\n",
       "      <td>-0.030406</td>\n",
       "      <td>0.018102</td>\n",
       "      <td>-0.002523</td>\n",
       "      <td>-0.000333</td>\n",
       "      <td>0.072075</td>\n",
       "      <td>108.0</td>\n",
       "      <td>1450000</td>\n",
       "      <td>2001</td>\n",
       "      <td>2012</td>\n",
       "    </tr>\n",
       "    <tr>\n",
       "      <th>236</th>\n",
       "      <td>David</td>\n",
       "      <td>Dellucci</td>\n",
       "      <td>LF</td>\n",
       "      <td>-0.050673</td>\n",
       "      <td>-0.018869</td>\n",
       "      <td>0.004528</td>\n",
       "      <td>0.024153</td>\n",
       "      <td>0.057238</td>\n",
       "      <td>100.0</td>\n",
       "      <td>812500</td>\n",
       "      <td>1997</td>\n",
       "      <td>2009</td>\n",
       "    </tr>\n",
       "    <tr>\n",
       "      <th>922</th>\n",
       "      <td>Jayson</td>\n",
       "      <td>Werth</td>\n",
       "      <td>RF</td>\n",
       "      <td>-0.015169</td>\n",
       "      <td>-0.000742</td>\n",
       "      <td>-0.003539</td>\n",
       "      <td>0.012239</td>\n",
       "      <td>0.032909</td>\n",
       "      <td>96.0</td>\n",
       "      <td>1700000</td>\n",
       "      <td>2002</td>\n",
       "      <td>2013</td>\n",
       "    </tr>\n",
       "    <tr>\n",
       "      <th>55</th>\n",
       "      <td>Mark</td>\n",
       "      <td>Bellhorn</td>\n",
       "      <td>2B</td>\n",
       "      <td>-0.039044</td>\n",
       "      <td>0.002241</td>\n",
       "      <td>0.001326</td>\n",
       "      <td>0.005377</td>\n",
       "      <td>0.046554</td>\n",
       "      <td>92.0</td>\n",
       "      <td>477500</td>\n",
       "      <td>1997</td>\n",
       "      <td>2007</td>\n",
       "    </tr>\n",
       "    <tr>\n",
       "      <th>872</th>\n",
       "      <td>Andres</td>\n",
       "      <td>Torres</td>\n",
       "      <td>CF</td>\n",
       "      <td>-0.038587</td>\n",
       "      <td>0.025363</td>\n",
       "      <td>0.009017</td>\n",
       "      <td>-0.003139</td>\n",
       "      <td>0.006371</td>\n",
       "      <td>84.0</td>\n",
       "      <td>1500000</td>\n",
       "      <td>2002</td>\n",
       "      <td>2013</td>\n",
       "    </tr>\n",
       "    <tr>\n",
       "      <th>966</th>\n",
       "      <td>Gregg</td>\n",
       "      <td>Zaun</td>\n",
       "      <td>C</td>\n",
       "      <td>-0.008357</td>\n",
       "      <td>-0.016634</td>\n",
       "      <td>-0.003284</td>\n",
       "      <td>-0.010903</td>\n",
       "      <td>0.052494</td>\n",
       "      <td>83.0</td>\n",
       "      <td>1000000</td>\n",
       "      <td>1995</td>\n",
       "      <td>2010</td>\n",
       "    </tr>\n",
       "    <tr>\n",
       "      <th>611</th>\n",
       "      <td>Frank</td>\n",
       "      <td>Menechino</td>\n",
       "      <td>SS</td>\n",
       "      <td>-0.021680</td>\n",
       "      <td>-0.011214</td>\n",
       "      <td>-0.001739</td>\n",
       "      <td>-0.014485</td>\n",
       "      <td>0.046071</td>\n",
       "      <td>74.0</td>\n",
       "      <td>314750</td>\n",
       "      <td>1999</td>\n",
       "      <td>2005</td>\n",
       "    </tr>\n",
       "  </tbody>\n",
       "</table>\n",
       "</div>"
      ],
      "text/plain": [
       "    nameFirst   nameLast POS        1B        2B        3B        HR  \\\n",
       "81      Barry      Bonds  OF -0.045184  0.001342  0.001377  0.030717   \n",
       "582     Edgar   Martinez  DH  0.000910  0.011751 -0.003912  0.004922   \n",
       "274    Morgan    Ensberg  3B -0.033243 -0.003037 -0.000346  0.026321   \n",
       "475      Nick    Johnson  1B -0.030406  0.018102 -0.002523 -0.000333   \n",
       "236     David   Dellucci  LF -0.050673 -0.018869  0.004528  0.024153   \n",
       "922    Jayson      Werth  RF -0.015169 -0.000742 -0.003539  0.012239   \n",
       "55       Mark   Bellhorn  2B -0.039044  0.002241  0.001326  0.005377   \n",
       "872    Andres     Torres  CF -0.038587  0.025363  0.009017 -0.003139   \n",
       "966     Gregg       Zaun   C -0.008357 -0.016634 -0.003284 -0.010903   \n",
       "611     Frank  Menechino  SS -0.021680 -0.011214 -0.001739 -0.014485   \n",
       "\n",
       "           BB    OPW   salary  minYear  maxYear  \n",
       "81   0.112071  143.0  8541667     1986     2007  \n",
       "582  0.052827  114.0  3500000     1987     2004  \n",
       "274  0.047626  109.0   450000     2000     2008  \n",
       "475  0.072075  108.0  1450000     2001     2012  \n",
       "236  0.057238  100.0   812500     1997     2009  \n",
       "922  0.032909   96.0  1700000     2002     2013  \n",
       "55   0.046554   92.0   477500     1997     2007  \n",
       "872  0.006371   84.0  1500000     2002     2013  \n",
       "966  0.052494   83.0  1000000     1995     2010  \n",
       "611  0.046071   74.0   314750     1999     2005  "
      ]
     },
     "execution_count": 154,
     "metadata": {},
     "output_type": "execute_result"
    }
   ],
   "source": [
    "### Your code here ###\n",
    "\n",
    "\n",
    "# topPicks[[\"1B\",\"2B\",\"3B\", \"HR\",\"BB\"]] = topPicks[[\"1B\",\"2B\",\"3B\", \"HR\",\"BB\"]].apply(round1000)\n",
    "topPicks[[\"OPW\"]] = np.round(topPicks[[\"OPW\"]])\n",
    "topPicks[[\"nameFirst\",\"nameLast\",\"POS\",\"1B\",\"2B\",\"3B\", \"HR\",\"BB\",\"OPW\",\"salary\",\"minYear\",\"maxYear\"]]"
   ]
  },
  {
   "cell_type": "markdown",
   "metadata": {},
   "source": [
    "** Your answer here: ** Our best players all outperformed in BB."
   ]
  },
  {
   "cell_type": "markdown",
   "metadata": {},
   "source": [
    "## Discussion for Problem 1\n",
    "\n",
    "\n",
    "*Write a brief discussion of your conclusions to the questions and tasks above in 100 words or less.*\n",
    "\n",
    "In this problem, we used linear regression to build a tool to pick 10 offensive players with a salary under $20 million and could predict how many games this team would win in a season in Problem 1(l). "
   ]
  },
  {
   "cell_type": "markdown",
   "metadata": {},
   "source": [
    "# Problem 2:  $k$-Nearest Neighbors and Cross Validation \n",
    "\n",
    "What is the optimal $k$ for predicting species using $k$-nearest neighbor classification \n",
    "on the four features provided by the iris dataset.\n",
    "\n",
    "In this problem you will get to know the famous iris data set, and use cross validation to select the optimal $k$ for a $k$-nearest neighbor classification. This problem set makes heavy use of the [sklearn](http://scikit-learn.org/stable/) library. In addition to Pandas, it is one of the most useful libraries for data scientists! After completing this homework assignment you will know all the basics to get started with your own machine learning projects in sklearn. \n",
    "\n",
    "Future lectures will give further background information on different classifiers and their specific strengths and weaknesses, but when you have the basics for sklearn down, changing the classifier will boil down to exchanging one to two lines of code.\n",
    "\n",
    "The data set is so popular, that sklearn provides an extra function to load it:"
   ]
  },
  {
   "cell_type": "code",
   "execution_count": 155,
   "metadata": {
    "collapsed": false
   },
   "outputs": [
    {
     "name": "stdout",
     "output_type": "stream",
     "text": [
      "(150, 4) (150,)\n"
     ]
    }
   ],
   "source": [
    "#load the iris data set\n",
    "iris = sklearn.datasets.load_iris()\n",
    "\n",
    "X = iris.data  \n",
    "Y = iris.target\n",
    "\n",
    "print X.shape, Y.shape"
   ]
  },
  {
   "cell_type": "markdown",
   "metadata": {},
   "source": [
    "#### Problem 2(a) \n",
    "\n",
    "Split the data into a train and a test set. Use a random selection of 33% of the samples as test data. Sklearn provides the [`train_test_split`](http://scikit-learn.org/stable/modules/generated/sklearn.cross_validation.train_test_split.html) function for this purpose. Print the dimensions of all the train and test data sets you have created. "
   ]
  },
  {
   "cell_type": "code",
   "execution_count": 156,
   "metadata": {
    "collapsed": false
   },
   "outputs": [
    {
     "name": "stdout",
     "output_type": "stream",
     "text": [
      "(100, 4)\n",
      "(50, 4)\n",
      "(100,)\n",
      "(50,)\n"
     ]
    }
   ],
   "source": [
    "### Your code here ###\n",
    "\n",
    "# put test data aside\n",
    "X_train, X_test, Y_train, Y_test = sklearn.cross_validation.train_test_split(\n",
    "    X, Y, test_size=0.33, random_state=42)\n",
    "\n",
    "print X_train.shape\n",
    "print X_test.shape\n",
    "print Y_train.shape\n",
    "print Y_test.shape"
   ]
  },
  {
   "cell_type": "markdown",
   "metadata": {},
   "source": [
    "#### Problem 2(b)\n",
    "\n",
    "Examine the data further by looking at the projections to the first two principal components of the data. Use the [`TruncatedSVD`](http://scikit-learn.org/stable/modules/generated/sklearn.decomposition.TruncatedSVD.html) function for this purpose, and create a scatter plot. Use the colors on the scatter plot to represent the different classes in the target data. "
   ]
  },
  {
   "cell_type": "code",
   "execution_count": 157,
   "metadata": {
    "collapsed": false
   },
   "outputs": [
    {
     "data": {
      "image/png": "[encoded data removed]",
      "text/plain": [
       "<matplotlib.figure.Figure at 0x7f1b74e7cdd0>"
      ]
     },
     "metadata": {},
     "output_type": "display_data"
    }
   ],
   "source": [
    "### Your code here ###\n",
    "\n",
    "# make a scatter plot of the data in two dimensions\n",
    "svd = sklearn.decomposition.TruncatedSVD(n_components=2)\n",
    "X_train_centered = X_train - np.mean(X_train, axis=0)\n",
    "X_2d = svd.fit_transform(X_train_centered)\n",
    "\n",
    "sns.set_style('white')\n",
    "\n",
    "plt.scatter(X_2d[:,0], X_2d[:,1], c=Y_train, s = 50, cmap=plt.cm.prism)\n",
    "plt.xlabel('PC1')\n",
    "plt.ylabel('PC2')\n",
    "plt.title('First two PCs using iris data')\n",
    "plt.show()"
   ]
  },
  {
   "cell_type": "markdown",
   "metadata": {},
   "source": [
    "#### Problem 2(c) \n",
    "\n",
    "In the lecture we discussed how to use cross validation to estimate the optimal value for $k$ (the number of nearest neighbors to base the classification on). Use ***ten fold cross validation*** to estimate the optimal value for $k$ for the iris data set. \n",
    "\n",
    "**Note**: For your convenience sklearn does not only include the [KNN classifier](http://scikit-learn.org/stable/modules/generated/sklearn.neighbors.KNeighborsClassifier.html), but also a [grid search function](http://scikit-learn.org/stable/modules/generated/sklearn.grid_search.GridSearchCV.html#sklearn.grid_search.GridSearchCV). The function is called grid search, because if you have to optimize more than one parameter, it is common practice to define a range of possible values for each parameter. An exhaustive search then runs over the complete grid defined by all the possible parameter combinations. This can get very computation heavy, but luckily our KNN classifier only requires tuning of a single parameter for this problem set. "
   ]
  },
  {
   "cell_type": "code",
   "execution_count": 158,
   "metadata": {
    "collapsed": false
   },
   "outputs": [
    {
     "data": {
      "text/plain": [
       "GridSearchCV(cv=10, error_score='raise',\n",
       "       estimator=KNeighborsClassifier(algorithm='auto', leaf_size=30, metric='minkowski',\n",
       "           metric_params=None, n_jobs=1, n_neighbors=5, p=2,\n",
       "           weights='uniform'),\n",
       "       fit_params={}, iid=True, n_jobs=1,\n",
       "       param_grid={'n_neighbors': array([ 1,  2,  3,  4,  5,  6,  7,  8,  9, 10, 11, 12, 13, 14, 15, 16, 17,\n",
       "       18, 19, 20])},\n",
       "       pre_dispatch='2*n_jobs', refit=True, scoring=None, verbose=0)"
      ]
     },
     "execution_count": 158,
     "metadata": {},
     "output_type": "execute_result"
    }
   ],
   "source": [
    "### Your code here ###\n",
    "\n",
    "# use cross validation to find the optimal value for k\n",
    "k = np.arange(20)+1\n",
    "\n",
    "parameters = {'n_neighbors': k}\n",
    "knn = sklearn.neighbors.KNeighborsClassifier()\n",
    "clf = sklearn.grid_search.GridSearchCV(knn, parameters, cv=10)\n",
    "clf.fit(X_train, Y_train)\n",
    "\n",
    "# clf.grid_scores_"
   ]
  },
  {
   "cell_type": "markdown",
   "metadata": {},
   "source": [
    "#### Problem 2(d)\n",
    "\n",
    "Visualize the result by plotting the score results versus values for $k$. "
   ]
  },
  {
   "cell_type": "code",
   "execution_count": 173,
   "metadata": {
    "collapsed": false
   },
   "outputs": [
    {
     "data": {
      "image/png": "[encoded data removed]",
      "text/plain": [
       "<matplotlib.figure.Figure at 0x7f1b773fbed0>"
      ]
     },
     "metadata": {},
     "output_type": "display_data"
    }
   ],
   "source": [
    "### Your code here ###\n",
    "a = clf.grid_scores_\n",
    "scores = [b.cv_validation_scores for b in a]\n",
    "\n",
    "score_means = np.mean(scores, axis=1)\n",
    "\n",
    "sns.boxplot(scores)\n",
    "plt.scatter(k,score_means, c='k', zorder=2)\n",
    "plt.ylim(0.8, 1.1)\n",
    "plt.title('Accuracy as a function of $k$')\n",
    "plt.ylabel('Accuracy')\n",
    "plt.xlabel('Choice of k')\n",
    "plt.show()"
   ]
  },
  {
   "cell_type": "markdown",
   "metadata": {},
   "source": [
    "Verify that the grid search has indeed chosen the right parameter value for $k$."
   ]
  },
  {
   "cell_type": "code",
   "execution_count": 160,
   "metadata": {
    "collapsed": false
   },
   "outputs": [
    {
     "data": {
      "text/plain": [
       "{'n_neighbors': 4}"
      ]
     },
     "execution_count": 160,
     "metadata": {},
     "output_type": "execute_result"
    }
   ],
   "source": [
    "### Your code here ###\n",
    "\n",
    "clf.best_params_"
   ]
  },
  {
   "cell_type": "markdown",
   "metadata": {},
   "source": [
    "#### Problem 2(e)\n",
    "\n",
    "Test the performance of our tuned KNN classifier on the test set."
   ]
  },
  {
   "cell_type": "code",
   "execution_count": 161,
   "metadata": {
    "collapsed": false
   },
   "outputs": [],
   "source": [
    "def computeTestScores(test_x, test_y, clf, cv):\n",
    "    kFolds = sklearn.cross_validation.KFold(test_x.shape[0], n_folds=cv)\n",
    "\n",
    "    scores = []\n",
    "    for _, test_index in kFolds:\n",
    "        test_data = test_x[test_index]\n",
    "        test_labels = test_y[test_index]\n",
    "        scores.append(sklearn.metrics.accuracy_score(test_labels, clf.predict(test_data)))\n",
    "    return scores"
   ]
  },
  {
   "cell_type": "code",
   "execution_count": 162,
   "metadata": {
    "collapsed": false
   },
   "outputs": [
    {
     "name": "stdout",
     "output_type": "stream",
     "text": [
      "0.98 0.04\n"
     ]
    }
   ],
   "source": [
    "### Your code here ###\n",
    "## no measurement without standard deviation\n",
    "scores = computeTestScores(test_x = X_test, test_y = Y_test, clf=clf, cv=5)\n",
    "print np.mean(scores), np.std(scores)"
   ]
  },
  {
   "cell_type": "markdown",
   "metadata": {},
   "source": [
    "## Discussion for Problem 2\n",
    "\n",
    "*Write a brief discussion of your conclusions to the questions and tasks above in 100 words or less.*\n",
    "\n",
    "Here we used $k$-Nearest Neighbors and cross validation to find the optimal $k$ to predict species. We found the optimal $k$ to be 5 which was visible in the scatter plot. The iris data set separates well and predictions are quite reliable, shown by the test accuracy of nearly one.\n",
    "\n",
    "---\n",
    "\n"
   ]
  },
  {
   "cell_type": "markdown",
   "metadata": {},
   "source": [
    "# Problem 3: The Curse and Blessing of Higher Dimensions\n",
    "\n",
    "In this problem we will investigate the influence of higher dimensional spaces on the classification. The data set is again one of the standard data sets from sklearn. The [digits data set](http://scikit-learn.org/stable/modules/generated/sklearn.datasets.load_digits.html) is similar to the MNIST data set discussed in the lecture. The main difference is, that each digit is represented by an 8x8 pixel image patch, which is considerably smaller than the 28x28 pixels from MNIST. In addition, the gray values are restricted to 16 different values (4 bit), instead of 256 (8 bit) for MNIST. \n",
    "\n",
    "First we again load our data set."
   ]
  },
  {
   "cell_type": "code",
   "execution_count": 163,
   "metadata": {
    "collapsed": false
   },
   "outputs": [
    {
     "name": "stdout",
     "output_type": "stream",
     "text": [
      "(1797, 64) (1797,)\n"
     ]
    }
   ],
   "source": [
    "digits = sklearn.datasets.load_digits()\n",
    "\n",
    "X = digits.data  \n",
    "Y = digits.target\n",
    "\n",
    "print X.shape, Y.shape"
   ]
  },
  {
   "cell_type": "markdown",
   "metadata": {},
   "source": [
    "#### Problem 3(a) \n",
    "\n",
    "Start with the same steps as in Problem 2. Split the data into train and test set. Use 33% of the samples as test data. Print the dimensions of all the train and test data sets you created. "
   ]
  },
  {
   "cell_type": "code",
   "execution_count": 164,
   "metadata": {
    "collapsed": false
   },
   "outputs": [
    {
     "name": "stdout",
     "output_type": "stream",
     "text": [
      "(1203, 64)\n",
      "(594, 64)\n",
      "(1203,)\n",
      "(594,)\n"
     ]
    }
   ],
   "source": [
    "### Your code here ###\n",
    "\n",
    "X_train, X_test, Y_train, Y_test = sklearn.cross_validation.train_test_split(\n",
    "    X, Y, test_size=0.33, random_state=42)\n",
    "\n",
    "X_train_means = np.mean(X_train, axis=0)\n",
    "X_train_centered = X_train - X_train_means\n",
    "X_test_centered = X_test - X_train_means\n",
    "\n",
    "print X_train.shape\n",
    "print X_test.shape\n",
    "print Y_train.shape\n",
    "print Y_test.shape"
   ]
  },
  {
   "cell_type": "markdown",
   "metadata": {},
   "source": [
    "#### Problem 3(b) \n",
    "\n",
    "Similar to Problem 2(b), create a scatter plot of the projections to the first two PCs.  Use the colors on the scatter plot to represent the different classes in the target data. How well can we separate the classes?\n",
    "\n",
    "**Hint**: Use a `Colormap` in matplotlib to represent the diferent classes in the target data. "
   ]
  },
  {
   "cell_type": "code",
   "execution_count": 165,
   "metadata": {
    "collapsed": false
   },
   "outputs": [
    {
     "data": {
      "image/png": "[encoded data removed]",
      "text/plain": [
       "<matplotlib.figure.Figure at 0x7f1b74e7cf10>"
      ]
     },
     "metadata": {},
     "output_type": "display_data"
    }
   ],
   "source": [
    "### Your code here ###\n",
    "\n",
    "## make a scatter plot of the data in two dimensions\n",
    "svd = sklearn.decomposition.TruncatedSVD(n_components=2)\n",
    "X_2d = svd.fit_transform(X_train_centered)\n",
    "\n",
    "plt.scatter(X_2d[:,0], X_2d[:,1], c=Y_train, s = 50, cmap=plt.cm.Paired)\n",
    "plt.colorbar()\n",
    "plt.xlabel('PC1')\n",
    "plt.ylabel('PC2')\n",
    "plt.title('First two PCs using digits data')\n",
    "plt.show()"
   ]
  },
  {
   "cell_type": "markdown",
   "metadata": {},
   "source": [
    "Create individual scatter plots using only two classes at a time to explore which classes are most difficult to distinguish in terms of class separability.  You do not need to create scatter plots for all pairwise comparisons, but at least show one. "
   ]
  },
  {
   "cell_type": "code",
   "execution_count": 166,
   "metadata": {
    "collapsed": false
   },
   "outputs": [
    {
     "data": {
      "image/png": "[encoded data removed]",
      "text/plain": [
       "<matplotlib.figure.Figure at 0x7f1b7761e490>"
      ]
     },
     "metadata": {},
     "output_type": "display_data"
    }
   ],
   "source": [
    "### Your code here ###\n",
    "\n",
    "ind = np.logical_or(Y_train==4, Y_train==1)\n",
    "\n",
    "plt.scatter(X_2d[ind,0], X_2d[ind,1], c=Y_train[ind], s = 50, cmap=plt.cm.Paired)\n",
    "plt.colorbar()\n",
    "plt.xlabel('PC1')\n",
    "plt.ylabel('PC2')\n",
    "plt.title('First two PCs using digits data (Only two classes)')\n",
    "plt.show()"
   ]
  },
  {
   "cell_type": "markdown",
   "metadata": {},
   "source": [
    "Give a brief interpretation of the scatter plot. Which classes look like hard to distinguish? Do both feature dimensions contribute to the class separability? \n",
    "\n"
   ]
  },
  {
   "cell_type": "markdown",
   "metadata": {},
   "source": [
    "** Your answer here: **\n",
    "\n",
    "In the scatter plot for the classes 4 and 1 shown above, the classes separate quite well, but not completely. The decision boundary would run nearly orthogonal to the x-axis, which is an indicator, that the second dimension plottet on the y axis is not contributing much to the class seperability. "
   ]
  },
  {
   "cell_type": "markdown",
   "metadata": {},
   "source": [
    "#### Problem 3(c) \n",
    "\n",
    "Write a **ten-fold cross validation** to estimate the optimal value for $k$ for the digits data set. *However*, this time we are interested in the influence of the number of dimensions we project the data down as well. \n",
    "\n",
    "Extend the cross validation as done for the iris data set, to optimize $k$ for different dimensional projections of the data. Create a boxplot showing test scores for the optimal $k$ for each $d$-dimensional subspace with $d$ ranging from one to ten. The plot should have the scores on the y-axis and the different dimensions $d$ on the x-axis. You can use your favorite plot function for the boxplots. [Seaborn](http://web.stanford.edu/~mwaskom/software/seaborn/index.html) is worth having a look at though. It is a great library for statistical visualization and of course also comes with a [`boxplot`](http://web.stanford.edu/~mwaskom/software/seaborn/generated/seaborn.boxplot.html) function that has simple means for changing the labels on the x-axis."
   ]
  },
  {
   "cell_type": "markdown",
   "metadata": {},
   "source": [
    "Possible solution A:\n",
    "---------------------\n",
    "Split the test data to get multiple test values. This is what I thought the sklearn.cross_val_score function would do for some reason. If somebody comes up with the clever idea to bootstrap the test set I would let that count as well. The main part just is to have multiple estimates of the test performance."
   ]
  },
  {
   "cell_type": "code",
   "execution_count": 167,
   "metadata": {
    "collapsed": false
   },
   "outputs": [],
   "source": [
    "def computeTestScores(test_x, test_y, clf, cv):\n",
    "    kFolds = sklearn.cross_validation.KFold(test_x.shape[0], n_folds=cv)\n",
    "\n",
    "    scores = []\n",
    "    for _, test_index in kFolds:\n",
    "        test_data = test_x[test_index]\n",
    "        test_labels = test_y[test_index]\n",
    "        scores.append(sklearn.metrics.accuracy_score(test_labels, clf.predict(test_data)))\n",
    "    return scores"
   ]
  },
  {
   "cell_type": "code",
   "execution_count": 168,
   "metadata": {
    "collapsed": false
   },
   "outputs": [
    {
     "name": "stdout",
     "output_type": "stream",
     "text": [
      "1\n",
      "2\n",
      "3\n",
      "4\n",
      "5\n",
      "6\n",
      "7\n",
      "8\n",
      "9\n",
      "10\n"
     ]
    }
   ],
   "source": [
    "### Your cross validation and evaluation code here ###\n",
    "\n",
    "# use cross validation to find the optimal value for k\n",
    "k = np.arange(20)+1\n",
    "parameters = {'n_neighbors': k}\n",
    "knn = sklearn.neighbors.KNeighborsClassifier()\n",
    "clf = sklearn.grid_search.GridSearchCV(knn, parameters, cv=10)\n",
    "all_scores = []\n",
    "all_k = []\n",
    "all_d = [1,2,3,4,5,6,7,8,9,10]\n",
    "\n",
    "for d in all_d:\n",
    "    print d\n",
    "    svd = sklearn.decomposition.TruncatedSVD(n_components=d)\n",
    "    if d<64:\n",
    "        X_d = svd.fit_transform(X_train_centered)\n",
    "        X_d_test = svd.transform(X_test_centered)\n",
    "    else:\n",
    "        X_d = X_train\n",
    "        X_d_test = X_test        \n",
    "        \n",
    "    clf.fit(X_d, Y_train)   \n",
    "\n",
    "    all_scores.append(computeTestScores(test_x=X_d_test, test_y=Y_test, clf=clf, cv=10))\n",
    "    all_k.append(clf.best_params_['n_neighbors'])"
   ]
  },
  {
   "cell_type": "markdown",
   "metadata": {},
   "source": [
    "Really clean solution B:\n",
    "-------------------------\n",
    "\n",
    "Do nested k-fold cross validation, with the parameter estimated on an inner k-fold cross validation, and the test score estimated on the outer k-fold cross validation."
   ]
  },
  {
   "cell_type": "code",
   "execution_count": 169,
   "metadata": {
    "collapsed": false
   },
   "outputs": [
    {
     "name": "stdout",
     "output_type": "stream",
     "text": [
      "1\n",
      "2\n",
      "3\n",
      "4\n",
      "5\n",
      "6\n",
      "7\n",
      "8\n",
      "9\n",
      "10\n"
     ]
    }
   ],
   "source": [
    "# use cross validation to find the optimal value for k\n",
    "k = np.arange(20)+1\n",
    "parameters = {'n_neighbors': k}\n",
    "knn = sklearn.neighbors.KNeighborsClassifier()\n",
    "clf = sklearn.grid_search.GridSearchCV(knn, parameters, cv=10)\n",
    "all_scores = []\n",
    "all_k = []\n",
    "all_d = [1,2,3,4,5,6,7,8,9,10]\n",
    "kFolds = sklearn.cross_validation.KFold(X.shape[0], n_folds=10)\n",
    "\n",
    "for d in all_d:\n",
    "    print d\n",
    "    svd = sklearn.decomposition.TruncatedSVD(n_components=d)\n",
    "    #get the data for this iteration of the outer cross validation loop\n",
    "    scores = []\n",
    "    for train_index, test_index in kFolds:\n",
    "        train_data, test_data = X[train_index], X[test_index]\n",
    "        train_labels, test_labels = Y[train_index], Y[test_index]  \n",
    "        \n",
    "        if d<64:\n",
    "            data_mean = np.mean(train_data, axis=0)\n",
    "            train_data_centered = train_data - data_mean\n",
    "            test_data_centered = test_data - data_mean\n",
    "            X_d = svd.fit_transform(train_data_centered)\n",
    "            X_d_test = svd.transform(test_data_centered)\n",
    "        else:\n",
    "            X_d = train_data\n",
    "            X_d_test = test_data        \n",
    "        \n",
    "        clf.fit(X_d, train_labels)   \n",
    "        scores.append(sklearn.metrics.accuracy_score(test_labels, clf.predict(X_d_test)))\n",
    "        \n",
    "    all_scores.append(scores)\n",
    "    all_k.append(clf.best_params_['n_neighbors'])"
   ]
  },
  {
   "cell_type": "code",
   "execution_count": 170,
   "metadata": {
    "collapsed": false
   },
   "outputs": [
    {
     "data": {
      "image/png": "[encoded data removed]",
      "text/plain": [
       "<matplotlib.figure.Figure at 0x7f1b7798d210>"
      ]
     },
     "metadata": {},
     "output_type": "display_data"
    }
   ],
   "source": [
    "### Your boxplot code here ### \n",
    "\n",
    "all_s = np.asarray(all_scores) \n",
    "sns.boxplot(all_s.T,names = [np.str(dd) for dd in all_d])\n",
    "plt.ylabel(\"Accuracy\")\n",
    "plt.xlabel(\"Number of Dimensions\")\n",
    "plt.title('Accuracy as a function of Number of Dimensions')\n",
    "plt.show()"
   ]
  },
  {
   "cell_type": "markdown",
   "metadata": {},
   "source": [
    "Write a short interpretation of the generated plot, answering the following questions:\n",
    "\n",
    "* What trend do you see in the plot for increasing dimensions?\n",
    "\n",
    "* Why do you think this is happening?"
   ]
  },
  {
   "cell_type": "markdown",
   "metadata": {},
   "source": [
    "** Your answer here: **\n",
    "\n",
    "The accuracy gets better with increasing dimensions. We have enough data points that the curse of dimensionality does not harm our predictions here and the additional dimensions add to the class separability. There are two factors influencing this. One is that we retain more information of the original signal if we reduce the dimensionality of the data less. The other factor is that the higher dimensional space provides more room between data points and thus more flexibility for the classifier. "
   ]
  },
  {
   "cell_type": "markdown",
   "metadata": {},
   "source": [
    "#### Problem 3(d) \n",
    "\n",
    "**For AC209 Students**: Change the boxplot we generated above to also show the optimal value for $k$ chosen by the cross validation grid search. "
   ]
  },
  {
   "cell_type": "code",
   "execution_count": 171,
   "metadata": {
    "collapsed": false
   },
   "outputs": [
    {
     "data": {
      "image/png": "[encoded data removed]",
      "text/plain": [
       "<matplotlib.figure.Figure at 0x7f1b7798d990>"
      ]
     },
     "metadata": {},
     "output_type": "display_data"
    }
   ],
   "source": [
    "### Your code here ### \n",
    "all_s = np.asarray(all_scores) \n",
    "sns.boxplot(all_s.T,names = [np.str(dd) + \", k=\" + np.str(kk) for dd, kk in zip(all_d, all_k)])\n",
    "plt.ylabel(\"Accuracy\")\n",
    "plt.xlabel(\"Number of Dimensions\")\n",
    "plt.title('Accuracy as a function of Number of Dimensions')\n",
    "plt.show()"
   ]
  },
  {
   "cell_type": "markdown",
   "metadata": {},
   "source": [
    "Write a short interpretation answering the following questions:\n",
    "\n",
    "* Which trend do you observe for the optimal value of $k$?\n",
    "\n",
    "* Why do you think this is happening?"
   ]
  },
  {
   "cell_type": "markdown",
   "metadata": {},
   "source": [
    "** Your answer here: **\n",
    "\n",
    "The optimized value of $k$ becomes smaller if we use a higher dimensional space. We have seen an image in the lecture where the classification of KNN for a new data point changed with the value chosen for $k$. The image also showed that the radius of the sphere around the new data point becomes larger if $k$ is larger, because a larger search radius is needed to find a higher number of points. In the higher dimensional spaces the points are more scattered (curse of dimensionality). Thus the search radius for high values of $k$ becomes so large that the $k$ nearest neighbors start to include points from the other classes."
   ]
  },
  {
   "cell_type": "markdown",
   "metadata": {},
   "source": [
    "## Discussion for Problem 3\n",
    "\n",
    "*Write a brief discussion of your conclusions to the questions and tasks above in 100 words or less.*\n",
    "\n",
    "If we use a higher dimensional space, we know the points are more scattered (curse of dimensionality), thus causing the search radius for $k$ to become so large that we start to include points from other classes. \n",
    "\n",
    "---"
   ]
  },
  {
   "cell_type": "markdown",
   "metadata": {},
   "source": [
    "# Submission Instructions\n",
    "\n",
    "To submit your homework, create a folder named **lastname_firstinitial_hw#** and place your IPython notebooks, data files, and any other files in this folder. Your IPython Notebooks should be completely executed with the results visible in the notebook. We should not have to run any code.  Compress the folder (please use .zip compression) and submit to the CS109 dropbox in the appropriate folder. *If we cannot access your work because these directions are not followed correctly, we will not grade your work.*\n"
   ]
  },
  {
   "cell_type": "code",
   "execution_count": null,
   "metadata": {
    "collapsed": false
   },
   "outputs": [],
   "source": []
  }
 ],
 "metadata": {
  "kernelspec": {
   "display_name": "Python 2",
   "language": "python",
   "name": "python2"
  },
  "language_info": {
   "codemirror_mode": {
    "name": "ipython",
    "version": 2
   },
   "file_extension": ".py",
   "mimetype": "text/x-python",
   "name": "python",
   "nbconvert_exporter": "python",
   "pygments_lexer": "ipython2",
   "version": "2.7.11"
  }
 },
 "nbformat": 4,
 "nbformat_minor": 0
}
