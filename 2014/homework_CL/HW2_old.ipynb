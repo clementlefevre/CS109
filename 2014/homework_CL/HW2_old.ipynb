{
 "cells": [
  {
   "cell_type": "markdown",
   "metadata": {},
   "source": [
    "# Homework 2: More Exploratory Data Analysis\n",
    "## Gene Expression Data and Election Polls \n",
    "\n",
    "Due: Thursday, October 2, 2014 11:59 PM\n",
    "\n",
    "<a href=https://raw.githubusercontent.com/cs109/2014/master/homework/HW2.ipynb download=HW2.ipynb> Download this assignment</a>\n",
    "\n",
    "#### Submission Instructions\n",
    "To submit your homework, create a folder named lastname_firstinitial_hw# and place your IPython notebooks, data files, and any other files in this folder. Your IPython Notebooks should be completely executed with the results visible in the notebook. We should not have to run any code. Compress the folder (please use .zip compression) and submit to the CS109 dropbox in the appropriate folder. If we cannot access your work because these directions are not followed correctly, we will not grade your work.\n",
    "\n",
    "\n",
    "---"
   ]
  },
  {
   "cell_type": "markdown",
   "metadata": {},
   "source": [
    "## Introduction\n",
    "\n",
    "John Tukey wrote in [Exploratory Data Analysis, 1977](http://www.amazon.com/Exploratory-Data-Analysis-Wilder-Tukey/dp/0201076160/ref=pd_bbs_sr_2/103-4466654-5303007?ie=UTF8&s=books&qid=1189739816&sr=8-2): \"The greatest value of a picture is when it forces us to notice what we never expected to see.\" In this assignment we will continue using our exploratory data analysis tools, but apply it to new sets of data: [gene expression](http://en.wikipedia.org/wiki/Gene_expression) and polls from the [2012 Presidental Election](http://en.wikipedia.org/wiki/United_States_presidential_election,_2012) and from the [2014 Senate Midterm Elections](http://en.wikipedia.org/wiki/United_States_Senate_elections,_2014).   \n",
    "\n",
    "**First**: You will use exploratory data analysis and apply the [singular value decomposition](http://en.wikipedia.org/wiki/Singular_value_decomposition) (SVD) to a gene expression data matrix to determine if the the date that the gene expression samples are processed has large effect on the variability seen in the data.  \n",
    "\n",
    "**Second**: You will use the polls from the 2012 Presidential Elections to determine (1) Is there a pollster bias in presidential election polls? and (2) Is the average of polls better than just one poll?\n",
    "\n",
    "**Finally**: You will use the [HuffPost Pollster API](http://elections.huffingtonpost.com/pollster/api) to extract the polls for the current 2014 Senate Midterm Elections and provide a preliminary prediction of the result of each state.\n",
    "\n",
    "#### Data\n",
    "\n",
    "We will use the following data sets: \n",
    "\n",
    "1. A gene expression data set called `exprs_GSE5859.csv` and sample annotation table called `sampleinfo_GSE5859.csv` which are both available on Github in the 2014_data repository: [expression data set](https://github.com/cs109/2014_data/blob/master/exprs_GSE5859.csv) and [sample annotation table](https://github.com/cs109/2014_data/blob/master/sampleinfo_GSE5859.csv).  \n",
    "\n",
    "2. Polls from the [2012 Presidential Election: Barack Obama vs Mitt Romney](http://elections.huffingtonpost.com/pollster/2012-general-election-romney-vs-obama). The polls we will use are from the [Huffington Post Pollster](http://elections.huffingtonpost.com/pollster).  \n",
    "\n",
    "3. Polls from the [2014 Senate Midterm Elections](http://elections.huffingtonpost.com/pollster) from the [HuffPost Pollster API](http://elections.huffingtonpost.com/pollster/api). \n",
    "\n",
    "---"
   ]
  },
  {
   "cell_type": "markdown",
   "metadata": {},
   "source": [
    "## Load Python modules"
   ]
  },
  {
   "cell_type": "code",
   "execution_count": 1,
   "metadata": {
    "collapsed": false
   },
   "outputs": [],
   "source": [
    "# special IPython command to prepare the notebook for matplotlib\n",
    "%matplotlib inline \n",
    "\n",
    "import requests \n",
    "from StringIO import StringIO\n",
    "import numpy as np\n",
    "import pandas as pd # pandas\n",
    "import matplotlib.pyplot as plt # module for plotting \n",
    "import datetime as dt # module for manipulating dates and times\n",
    "import numpy.linalg as lin # module for performing linear algebra operations\n",
    "import seaborn as sns"
   ]
  },
  {
   "cell_type": "markdown",
   "metadata": {},
   "source": [
    "## Problem 1\n",
    "\n",
    "In this problem we will be using a [gene expression](http://en.wikipedia.org/wiki/Gene_expression) data set obtained from a [microarray](http://en.wikipedia.org/wiki/DNA_microarray) experiement [Read more about the specific experiment here](http://www.ncbi.nlm.nih.gov/geo/query/acc.cgi?acc=GSE5859).  There are two data sets we will use:  \n",
    "\n",
    "1. The gene expression intensities where the rows represent the features on the microarray (e.g. genes) and the columsns represent the different microarray samples.  \n",
    "\n",
    "2. A table that contains the information about each of the samples (columns in the gene expression data set) such as the sex, the age, the treatment status, the date the samples were processed.  Each row represents one sample. "
   ]
  },
  {
   "cell_type": "markdown",
   "metadata": {},
   "source": [
    "#### Problem 1(a) \n",
    "Read in the two files from Github: [exprs_GSE5859.csv](https://github.com/cs109/2014_data/blob/master/exprs_GSE5859.csv) and [sampleinfo_GSE5859.csv](https://github.com/cs109/2014_data/blob/master/sampleinfo_GSE5859.csv) as pandas DataFrames called `exprs` and `sampleinfo`. Use the gene names as the index of the `exprs` DataFrame."
   ]
  },
  {
   "cell_type": "code",
   "execution_count": 2,
   "metadata": {
    "collapsed": false
   },
   "outputs": [
    {
     "data": {
      "text/html": [
       "<div>\n",
       "<table border=\"1\" class=\"dataframe\">\n",
       "  <thead>\n",
       "    <tr style=\"text-align: right;\">\n",
       "      <th></th>\n",
       "      <th>GSM25581.CEL.gz</th>\n",
       "      <th>GSM25681.CEL.gz</th>\n",
       "      <th>GSM136524.CEL.gz</th>\n",
       "      <th>GSM136707.CEL.gz</th>\n",
       "      <th>GSM25553.CEL.gz</th>\n",
       "      <th>GSM136676.CEL.gz</th>\n",
       "      <th>GSM136711.CEL.gz</th>\n",
       "      <th>GSM136542.CEL.gz</th>\n",
       "      <th>GSM136535.CEL.gz</th>\n",
       "      <th>GSM25399.CEL.gz</th>\n",
       "      <th>...</th>\n",
       "      <th>GSM48650.CEL.gz</th>\n",
       "      <th>GSM25687.CEL.gz</th>\n",
       "      <th>GSM25685.CEL.gz</th>\n",
       "      <th>GSM136549.CEL.gz</th>\n",
       "      <th>GSM25427.CEL.gz</th>\n",
       "      <th>GSM25525.CEL.gz</th>\n",
       "      <th>GSM25349.CEL.gz</th>\n",
       "      <th>GSM136727.CEL.gz</th>\n",
       "      <th>GSM25626.CEL.gz</th>\n",
       "      <th>GSM136725.CEL.gz</th>\n",
       "    </tr>\n",
       "    <tr>\n",
       "      <th>name</th>\n",
       "      <th></th>\n",
       "      <th></th>\n",
       "      <th></th>\n",
       "      <th></th>\n",
       "      <th></th>\n",
       "      <th></th>\n",
       "      <th></th>\n",
       "      <th></th>\n",
       "      <th></th>\n",
       "      <th></th>\n",
       "      <th></th>\n",
       "      <th></th>\n",
       "      <th></th>\n",
       "      <th></th>\n",
       "      <th></th>\n",
       "      <th></th>\n",
       "      <th></th>\n",
       "      <th></th>\n",
       "      <th></th>\n",
       "      <th></th>\n",
       "      <th></th>\n",
       "    </tr>\n",
       "  </thead>\n",
       "  <tbody>\n",
       "    <tr>\n",
       "      <th>1007_s_at</th>\n",
       "      <td>6.333951</td>\n",
       "      <td>5.736190</td>\n",
       "      <td>6.156754</td>\n",
       "      <td>6.513010</td>\n",
       "      <td>6.061013</td>\n",
       "      <td>6.506493</td>\n",
       "      <td>6.863426</td>\n",
       "      <td>6.369645</td>\n",
       "      <td>6.646321</td>\n",
       "      <td>5.810930</td>\n",
       "      <td>...</td>\n",
       "      <td>7.082636</td>\n",
       "      <td>6.315866</td>\n",
       "      <td>7.010165</td>\n",
       "      <td>6.460107</td>\n",
       "      <td>6.122355</td>\n",
       "      <td>6.330314</td>\n",
       "      <td>6.627014</td>\n",
       "      <td>6.133068</td>\n",
       "      <td>6.419444</td>\n",
       "      <td>6.488579</td>\n",
       "    </tr>\n",
       "    <tr>\n",
       "      <th>1053_at</th>\n",
       "      <td>7.255622</td>\n",
       "      <td>7.399993</td>\n",
       "      <td>7.491967</td>\n",
       "      <td>7.006123</td>\n",
       "      <td>7.250995</td>\n",
       "      <td>7.082581</td>\n",
       "      <td>6.842236</td>\n",
       "      <td>7.048487</td>\n",
       "      <td>7.042361</td>\n",
       "      <td>6.666625</td>\n",
       "      <td>...</td>\n",
       "      <td>6.599718</td>\n",
       "      <td>7.412731</td>\n",
       "      <td>7.274429</td>\n",
       "      <td>6.928642</td>\n",
       "      <td>7.168782</td>\n",
       "      <td>7.235648</td>\n",
       "      <td>6.939184</td>\n",
       "      <td>7.280781</td>\n",
       "      <td>6.351776</td>\n",
       "      <td>7.517410</td>\n",
       "    </tr>\n",
       "    <tr>\n",
       "      <th>117_at</th>\n",
       "      <td>5.760106</td>\n",
       "      <td>4.825169</td>\n",
       "      <td>5.039387</td>\n",
       "      <td>5.414160</td>\n",
       "      <td>5.205697</td>\n",
       "      <td>5.300078</td>\n",
       "      <td>5.099337</td>\n",
       "      <td>5.156459</td>\n",
       "      <td>5.736109</td>\n",
       "      <td>5.807496</td>\n",
       "      <td>...</td>\n",
       "      <td>6.231457</td>\n",
       "      <td>5.240717</td>\n",
       "      <td>5.275062</td>\n",
       "      <td>5.759827</td>\n",
       "      <td>5.409720</td>\n",
       "      <td>5.491938</td>\n",
       "      <td>5.113570</td>\n",
       "      <td>5.401876</td>\n",
       "      <td>5.537605</td>\n",
       "      <td>5.247190</td>\n",
       "    </tr>\n",
       "    <tr>\n",
       "      <th>121_at</th>\n",
       "      <td>6.935451</td>\n",
       "      <td>7.025210</td>\n",
       "      <td>7.543667</td>\n",
       "      <td>7.959781</td>\n",
       "      <td>7.223323</td>\n",
       "      <td>8.006816</td>\n",
       "      <td>8.102504</td>\n",
       "      <td>7.434617</td>\n",
       "      <td>7.532321</td>\n",
       "      <td>7.711461</td>\n",
       "      <td>...</td>\n",
       "      <td>8.215096</td>\n",
       "      <td>7.677593</td>\n",
       "      <td>7.923624</td>\n",
       "      <td>7.219401</td>\n",
       "      <td>7.432338</td>\n",
       "      <td>6.785174</td>\n",
       "      <td>7.833862</td>\n",
       "      <td>7.607461</td>\n",
       "      <td>7.302935</td>\n",
       "      <td>7.331864</td>\n",
       "    </tr>\n",
       "    <tr>\n",
       "      <th>1255_g_at</th>\n",
       "      <td>3.597872</td>\n",
       "      <td>3.108801</td>\n",
       "      <td>3.128269</td>\n",
       "      <td>3.364947</td>\n",
       "      <td>3.125909</td>\n",
       "      <td>3.186834</td>\n",
       "      <td>3.311022</td>\n",
       "      <td>3.092042</td>\n",
       "      <td>3.167737</td>\n",
       "      <td>2.969579</td>\n",
       "      <td>...</td>\n",
       "      <td>3.331424</td>\n",
       "      <td>3.043856</td>\n",
       "      <td>3.151900</td>\n",
       "      <td>3.132253</td>\n",
       "      <td>3.250600</td>\n",
       "      <td>2.984125</td>\n",
       "      <td>3.152269</td>\n",
       "      <td>3.225123</td>\n",
       "      <td>3.222731</td>\n",
       "      <td>3.175846</td>\n",
       "    </tr>\n",
       "  </tbody>\n",
       "</table>\n",
       "<p>5 rows × 208 columns</p>\n",
       "</div>"
      ],
      "text/plain": [
       "           GSM25581.CEL.gz  GSM25681.CEL.gz  GSM136524.CEL.gz  \\\n",
       "name                                                            \n",
       "1007_s_at         6.333951         5.736190          6.156754   \n",
       "1053_at           7.255622         7.399993          7.491967   \n",
       "117_at            5.760106         4.825169          5.039387   \n",
       "121_at            6.935451         7.025210          7.543667   \n",
       "1255_g_at         3.597872         3.108801          3.128269   \n",
       "\n",
       "           GSM136707.CEL.gz  GSM25553.CEL.gz  GSM136676.CEL.gz  \\\n",
       "name                                                             \n",
       "1007_s_at          6.513010         6.061013          6.506493   \n",
       "1053_at            7.006123         7.250995          7.082581   \n",
       "117_at             5.414160         5.205697          5.300078   \n",
       "121_at             7.959781         7.223323          8.006816   \n",
       "1255_g_at          3.364947         3.125909          3.186834   \n",
       "\n",
       "           GSM136711.CEL.gz  GSM136542.CEL.gz  GSM136535.CEL.gz  \\\n",
       "name                                                              \n",
       "1007_s_at          6.863426          6.369645          6.646321   \n",
       "1053_at            6.842236          7.048487          7.042361   \n",
       "117_at             5.099337          5.156459          5.736109   \n",
       "121_at             8.102504          7.434617          7.532321   \n",
       "1255_g_at          3.311022          3.092042          3.167737   \n",
       "\n",
       "           GSM25399.CEL.gz        ...         GSM48650.CEL.gz  \\\n",
       "name                              ...                           \n",
       "1007_s_at         5.810930        ...                7.082636   \n",
       "1053_at           6.666625        ...                6.599718   \n",
       "117_at            5.807496        ...                6.231457   \n",
       "121_at            7.711461        ...                8.215096   \n",
       "1255_g_at         2.969579        ...                3.331424   \n",
       "\n",
       "           GSM25687.CEL.gz  GSM25685.CEL.gz  GSM136549.CEL.gz  \\\n",
       "name                                                            \n",
       "1007_s_at         6.315866         7.010165          6.460107   \n",
       "1053_at           7.412731         7.274429          6.928642   \n",
       "117_at            5.240717         5.275062          5.759827   \n",
       "121_at            7.677593         7.923624          7.219401   \n",
       "1255_g_at         3.043856         3.151900          3.132253   \n",
       "\n",
       "           GSM25427.CEL.gz  GSM25525.CEL.gz  GSM25349.CEL.gz  \\\n",
       "name                                                           \n",
       "1007_s_at         6.122355         6.330314         6.627014   \n",
       "1053_at           7.168782         7.235648         6.939184   \n",
       "117_at            5.409720         5.491938         5.113570   \n",
       "121_at            7.432338         6.785174         7.833862   \n",
       "1255_g_at         3.250600         2.984125         3.152269   \n",
       "\n",
       "           GSM136727.CEL.gz  GSM25626.CEL.gz  GSM136725.CEL.gz  \n",
       "name                                                            \n",
       "1007_s_at          6.133068         6.419444          6.488579  \n",
       "1053_at            7.280781         6.351776          7.517410  \n",
       "117_at             5.401876         5.537605          5.247190  \n",
       "121_at             7.607461         7.302935          7.331864  \n",
       "1255_g_at          3.225123         3.222731          3.175846  \n",
       "\n",
       "[5 rows x 208 columns]"
      ]
     },
     "execution_count": 2,
     "metadata": {},
     "output_type": "execute_result"
    }
   ],
   "source": [
    "#your code here\n",
    "exprs = pd.read_csv('../../2014_data/exprs_GSE5859.csv')\n",
    "sampleinfo = pd.read_csv('../../2014_data/sampleinfo_GSE5859.csv')\n",
    "exprs = exprs.set_index('Unnamed: 0')\n",
    "exprs.index= exprs.index.rename('name')\n",
    "exprs.head()\n",
    "\n"
   ]
  },
  {
   "cell_type": "code",
   "execution_count": 3,
   "metadata": {
    "collapsed": false
   },
   "outputs": [
    {
     "data": {
      "text/html": [
       "<div>\n",
       "<table border=\"1\" class=\"dataframe\">\n",
       "  <thead>\n",
       "    <tr style=\"text-align: right;\">\n",
       "      <th></th>\n",
       "      <th>ethnicity</th>\n",
       "      <th>date</th>\n",
       "      <th>filename</th>\n",
       "      <th>sex</th>\n",
       "    </tr>\n",
       "  </thead>\n",
       "  <tbody>\n",
       "    <tr>\n",
       "      <th>0</th>\n",
       "      <td>CEU</td>\n",
       "      <td>2003-02-04</td>\n",
       "      <td>GSM25349.CEL.gz</td>\n",
       "      <td>M</td>\n",
       "    </tr>\n",
       "    <tr>\n",
       "      <th>1</th>\n",
       "      <td>CEU</td>\n",
       "      <td>2003-02-04</td>\n",
       "      <td>GSM25350.CEL.gz</td>\n",
       "      <td>M</td>\n",
       "    </tr>\n",
       "    <tr>\n",
       "      <th>2</th>\n",
       "      <td>CEU</td>\n",
       "      <td>2002-12-17</td>\n",
       "      <td>GSM25356.CEL.gz</td>\n",
       "      <td>M</td>\n",
       "    </tr>\n",
       "    <tr>\n",
       "      <th>3</th>\n",
       "      <td>CEU</td>\n",
       "      <td>2003-01-30</td>\n",
       "      <td>GSM25357.CEL.gz</td>\n",
       "      <td>M</td>\n",
       "    </tr>\n",
       "    <tr>\n",
       "      <th>4</th>\n",
       "      <td>CEU</td>\n",
       "      <td>2003-01-03</td>\n",
       "      <td>GSM25358.CEL.gz</td>\n",
       "      <td>M</td>\n",
       "    </tr>\n",
       "  </tbody>\n",
       "</table>\n",
       "</div>"
      ],
      "text/plain": [
       "  ethnicity        date         filename sex\n",
       "0       CEU  2003-02-04  GSM25349.CEL.gz   M\n",
       "1       CEU  2003-02-04  GSM25350.CEL.gz   M\n",
       "2       CEU  2002-12-17  GSM25356.CEL.gz   M\n",
       "3       CEU  2003-01-30  GSM25357.CEL.gz   M\n",
       "4       CEU  2003-01-03  GSM25358.CEL.gz   M"
      ]
     },
     "execution_count": 3,
     "metadata": {},
     "output_type": "execute_result"
    }
   ],
   "source": [
    "sampleinfo.head()"
   ]
  },
  {
   "cell_type": "markdown",
   "metadata": {},
   "source": [
    "Make sure the order of the columns in the gene expression DataFrame match the order of file names in the sample annotation DataFrame. If the order of the columns the `exprs` DataFrame do not match the order of the file names in the `sampleinfo` DataFrame, reorder the columns in the `exprs` DataFrame. \n",
    "\n",
    "**Note**: The column names of the gene expression DataFrame are the filenames of the orignal files from which these data were obtained.  \n",
    "\n",
    "**Hint**: The method `list.index(x)` [[read here](https://docs.python.org/2/tutorial/datastructures.html)] can be used to return the index in the list of the first item whose value is x. It is an error if there is no such item. To check if the order of the columns in `exprs` matches the order of the rows in `sampleinfo`, you can check using the method `.all()` on a Boolean or list of Booleans: \n",
    "\n",
    "Example code: `(exprs.columns == sampleinfo.filename).all()`"
   ]
  },
  {
   "cell_type": "code",
   "execution_count": 4,
   "metadata": {
    "collapsed": false
   },
   "outputs": [
    {
     "data": {
      "text/plain": [
       "True"
      ]
     },
     "execution_count": 4,
     "metadata": {},
     "output_type": "execute_result"
    }
   ],
   "source": [
    "#your code here\n",
    "def check_all_samples_are_present(exprs_list,filename_list):\n",
    "    \n",
    "    for col in exprs_list:\n",
    "        if filename_list.index(col) is  None:\n",
    "            print 'NOK'\n",
    "    for filename in filename_list:\n",
    "        if exprs_list.index(filename) is None:\n",
    "            print 'NOK'\n",
    "            \n",
    "(exprs.columns == sampleinfo.filename).all()\n",
    "\n",
    "expres_col_list = exprs.columns.tolist()\n",
    "filenames_list= sampleinfo.filename.values.tolist()\n",
    "check_all_samples_are_present(expres_col_list,filenames_list)\n",
    "\n",
    "\n",
    "exprs=exprs[filenames_list]\n",
    "\n",
    "\n",
    "(exprs.columns == sampleinfo.filename).all()"
   ]
  },
  {
   "cell_type": "markdown",
   "metadata": {},
   "source": [
    "Show the head of the two tables: `exprs` and `sampleinfo`. "
   ]
  },
  {
   "cell_type": "code",
   "execution_count": 5,
   "metadata": {
    "collapsed": false
   },
   "outputs": [
    {
     "data": {
      "text/html": [
       "<div>\n",
       "<table border=\"1\" class=\"dataframe\">\n",
       "  <thead>\n",
       "    <tr style=\"text-align: right;\">\n",
       "      <th></th>\n",
       "      <th>GSM25349.CEL.gz</th>\n",
       "      <th>GSM25350.CEL.gz</th>\n",
       "      <th>GSM25356.CEL.gz</th>\n",
       "      <th>GSM25357.CEL.gz</th>\n",
       "      <th>GSM25358.CEL.gz</th>\n",
       "      <th>GSM25359.CEL.gz</th>\n",
       "      <th>GSM25360.CEL.gz</th>\n",
       "      <th>GSM25361.CEL.gz</th>\n",
       "      <th>GSM25377.CEL.gz</th>\n",
       "      <th>GSM25378.CEL.gz</th>\n",
       "      <th>...</th>\n",
       "      <th>GSM136719.CEL.gz</th>\n",
       "      <th>GSM136720.CEL.gz</th>\n",
       "      <th>GSM136721.CEL.gz</th>\n",
       "      <th>GSM136722.CEL.gz</th>\n",
       "      <th>GSM136723.CEL.gz</th>\n",
       "      <th>GSM136724.CEL.gz</th>\n",
       "      <th>GSM136725.CEL.gz</th>\n",
       "      <th>GSM136726.CEL.gz</th>\n",
       "      <th>GSM136727.CEL.gz</th>\n",
       "      <th>GSM136729.CEL.gz</th>\n",
       "    </tr>\n",
       "    <tr>\n",
       "      <th>name</th>\n",
       "      <th></th>\n",
       "      <th></th>\n",
       "      <th></th>\n",
       "      <th></th>\n",
       "      <th></th>\n",
       "      <th></th>\n",
       "      <th></th>\n",
       "      <th></th>\n",
       "      <th></th>\n",
       "      <th></th>\n",
       "      <th></th>\n",
       "      <th></th>\n",
       "      <th></th>\n",
       "      <th></th>\n",
       "      <th></th>\n",
       "      <th></th>\n",
       "      <th></th>\n",
       "      <th></th>\n",
       "      <th></th>\n",
       "      <th></th>\n",
       "      <th></th>\n",
       "    </tr>\n",
       "  </thead>\n",
       "  <tbody>\n",
       "    <tr>\n",
       "      <th>1007_s_at</th>\n",
       "      <td>6.627014</td>\n",
       "      <td>6.249807</td>\n",
       "      <td>5.934128</td>\n",
       "      <td>6.145268</td>\n",
       "      <td>6.091270</td>\n",
       "      <td>6.041186</td>\n",
       "      <td>6.050375</td>\n",
       "      <td>6.063847</td>\n",
       "      <td>6.226106</td>\n",
       "      <td>6.358282</td>\n",
       "      <td>...</td>\n",
       "      <td>6.466445</td>\n",
       "      <td>6.533592</td>\n",
       "      <td>6.631492</td>\n",
       "      <td>6.513362</td>\n",
       "      <td>6.440706</td>\n",
       "      <td>6.704324</td>\n",
       "      <td>6.488579</td>\n",
       "      <td>6.809481</td>\n",
       "      <td>6.133068</td>\n",
       "      <td>6.155473</td>\n",
       "    </tr>\n",
       "    <tr>\n",
       "      <th>1053_at</th>\n",
       "      <td>6.939184</td>\n",
       "      <td>6.818038</td>\n",
       "      <td>7.047962</td>\n",
       "      <td>7.422477</td>\n",
       "      <td>7.272361</td>\n",
       "      <td>7.128216</td>\n",
       "      <td>6.750719</td>\n",
       "      <td>6.836287</td>\n",
       "      <td>6.738022</td>\n",
       "      <td>7.367895</td>\n",
       "      <td>...</td>\n",
       "      <td>7.032885</td>\n",
       "      <td>7.156344</td>\n",
       "      <td>7.018025</td>\n",
       "      <td>6.973322</td>\n",
       "      <td>6.884738</td>\n",
       "      <td>7.120898</td>\n",
       "      <td>7.517410</td>\n",
       "      <td>7.200596</td>\n",
       "      <td>7.280781</td>\n",
       "      <td>7.111583</td>\n",
       "    </tr>\n",
       "    <tr>\n",
       "      <th>117_at</th>\n",
       "      <td>5.113570</td>\n",
       "      <td>5.074096</td>\n",
       "      <td>5.371201</td>\n",
       "      <td>5.266550</td>\n",
       "      <td>5.342047</td>\n",
       "      <td>5.063876</td>\n",
       "      <td>5.315898</td>\n",
       "      <td>5.483652</td>\n",
       "      <td>6.689444</td>\n",
       "      <td>6.482782</td>\n",
       "      <td>...</td>\n",
       "      <td>5.661112</td>\n",
       "      <td>5.127260</td>\n",
       "      <td>5.151840</td>\n",
       "      <td>5.505602</td>\n",
       "      <td>5.687689</td>\n",
       "      <td>4.942651</td>\n",
       "      <td>5.247190</td>\n",
       "      <td>5.237239</td>\n",
       "      <td>5.401876</td>\n",
       "      <td>5.302628</td>\n",
       "    </tr>\n",
       "    <tr>\n",
       "      <th>121_at</th>\n",
       "      <td>7.833862</td>\n",
       "      <td>7.780682</td>\n",
       "      <td>7.458197</td>\n",
       "      <td>7.655948</td>\n",
       "      <td>7.546555</td>\n",
       "      <td>7.072670</td>\n",
       "      <td>7.092984</td>\n",
       "      <td>6.954225</td>\n",
       "      <td>7.489785</td>\n",
       "      <td>7.388539</td>\n",
       "      <td>...</td>\n",
       "      <td>7.769734</td>\n",
       "      <td>7.815864</td>\n",
       "      <td>7.683279</td>\n",
       "      <td>7.883231</td>\n",
       "      <td>7.913621</td>\n",
       "      <td>7.834196</td>\n",
       "      <td>7.331864</td>\n",
       "      <td>7.357102</td>\n",
       "      <td>7.607461</td>\n",
       "      <td>7.456453</td>\n",
       "    </tr>\n",
       "    <tr>\n",
       "      <th>1255_g_at</th>\n",
       "      <td>3.152269</td>\n",
       "      <td>3.111747</td>\n",
       "      <td>3.018932</td>\n",
       "      <td>3.154545</td>\n",
       "      <td>3.107954</td>\n",
       "      <td>3.224284</td>\n",
       "      <td>3.114241</td>\n",
       "      <td>3.044975</td>\n",
       "      <td>3.304038</td>\n",
       "      <td>2.887919</td>\n",
       "      <td>...</td>\n",
       "      <td>3.257484</td>\n",
       "      <td>3.339234</td>\n",
       "      <td>3.298384</td>\n",
       "      <td>3.150654</td>\n",
       "      <td>3.344501</td>\n",
       "      <td>3.230285</td>\n",
       "      <td>3.175846</td>\n",
       "      <td>3.105092</td>\n",
       "      <td>3.225123</td>\n",
       "      <td>3.090149</td>\n",
       "    </tr>\n",
       "  </tbody>\n",
       "</table>\n",
       "<p>5 rows × 208 columns</p>\n",
       "</div>"
      ],
      "text/plain": [
       "           GSM25349.CEL.gz  GSM25350.CEL.gz  GSM25356.CEL.gz  GSM25357.CEL.gz  \\\n",
       "name                                                                            \n",
       "1007_s_at         6.627014         6.249807         5.934128         6.145268   \n",
       "1053_at           6.939184         6.818038         7.047962         7.422477   \n",
       "117_at            5.113570         5.074096         5.371201         5.266550   \n",
       "121_at            7.833862         7.780682         7.458197         7.655948   \n",
       "1255_g_at         3.152269         3.111747         3.018932         3.154545   \n",
       "\n",
       "           GSM25358.CEL.gz  GSM25359.CEL.gz  GSM25360.CEL.gz  GSM25361.CEL.gz  \\\n",
       "name                                                                            \n",
       "1007_s_at         6.091270         6.041186         6.050375         6.063847   \n",
       "1053_at           7.272361         7.128216         6.750719         6.836287   \n",
       "117_at            5.342047         5.063876         5.315898         5.483652   \n",
       "121_at            7.546555         7.072670         7.092984         6.954225   \n",
       "1255_g_at         3.107954         3.224284         3.114241         3.044975   \n",
       "\n",
       "           GSM25377.CEL.gz  GSM25378.CEL.gz        ...         \\\n",
       "name                                               ...          \n",
       "1007_s_at         6.226106         6.358282        ...          \n",
       "1053_at           6.738022         7.367895        ...          \n",
       "117_at            6.689444         6.482782        ...          \n",
       "121_at            7.489785         7.388539        ...          \n",
       "1255_g_at         3.304038         2.887919        ...          \n",
       "\n",
       "           GSM136719.CEL.gz  GSM136720.CEL.gz  GSM136721.CEL.gz  \\\n",
       "name                                                              \n",
       "1007_s_at          6.466445          6.533592          6.631492   \n",
       "1053_at            7.032885          7.156344          7.018025   \n",
       "117_at             5.661112          5.127260          5.151840   \n",
       "121_at             7.769734          7.815864          7.683279   \n",
       "1255_g_at          3.257484          3.339234          3.298384   \n",
       "\n",
       "           GSM136722.CEL.gz  GSM136723.CEL.gz  GSM136724.CEL.gz  \\\n",
       "name                                                              \n",
       "1007_s_at          6.513362          6.440706          6.704324   \n",
       "1053_at            6.973322          6.884738          7.120898   \n",
       "117_at             5.505602          5.687689          4.942651   \n",
       "121_at             7.883231          7.913621          7.834196   \n",
       "1255_g_at          3.150654          3.344501          3.230285   \n",
       "\n",
       "           GSM136725.CEL.gz  GSM136726.CEL.gz  GSM136727.CEL.gz  \\\n",
       "name                                                              \n",
       "1007_s_at          6.488579          6.809481          6.133068   \n",
       "1053_at            7.517410          7.200596          7.280781   \n",
       "117_at             5.247190          5.237239          5.401876   \n",
       "121_at             7.331864          7.357102          7.607461   \n",
       "1255_g_at          3.175846          3.105092          3.225123   \n",
       "\n",
       "           GSM136729.CEL.gz  \n",
       "name                         \n",
       "1007_s_at          6.155473  \n",
       "1053_at            7.111583  \n",
       "117_at             5.302628  \n",
       "121_at             7.456453  \n",
       "1255_g_at          3.090149  \n",
       "\n",
       "[5 rows x 208 columns]"
      ]
     },
     "execution_count": 5,
     "metadata": {},
     "output_type": "execute_result"
    }
   ],
   "source": [
    "#your code here\n",
    "exprs.head()"
   ]
  },
  {
   "cell_type": "code",
   "execution_count": 6,
   "metadata": {
    "collapsed": false
   },
   "outputs": [
    {
     "data": {
      "text/html": [
       "<div>\n",
       "<table border=\"1\" class=\"dataframe\">\n",
       "  <thead>\n",
       "    <tr style=\"text-align: right;\">\n",
       "      <th></th>\n",
       "      <th>ethnicity</th>\n",
       "      <th>date</th>\n",
       "      <th>filename</th>\n",
       "      <th>sex</th>\n",
       "    </tr>\n",
       "  </thead>\n",
       "  <tbody>\n",
       "    <tr>\n",
       "      <th>0</th>\n",
       "      <td>CEU</td>\n",
       "      <td>2003-02-04</td>\n",
       "      <td>GSM25349.CEL.gz</td>\n",
       "      <td>M</td>\n",
       "    </tr>\n",
       "    <tr>\n",
       "      <th>1</th>\n",
       "      <td>CEU</td>\n",
       "      <td>2003-02-04</td>\n",
       "      <td>GSM25350.CEL.gz</td>\n",
       "      <td>M</td>\n",
       "    </tr>\n",
       "    <tr>\n",
       "      <th>2</th>\n",
       "      <td>CEU</td>\n",
       "      <td>2002-12-17</td>\n",
       "      <td>GSM25356.CEL.gz</td>\n",
       "      <td>M</td>\n",
       "    </tr>\n",
       "    <tr>\n",
       "      <th>3</th>\n",
       "      <td>CEU</td>\n",
       "      <td>2003-01-30</td>\n",
       "      <td>GSM25357.CEL.gz</td>\n",
       "      <td>M</td>\n",
       "    </tr>\n",
       "    <tr>\n",
       "      <th>4</th>\n",
       "      <td>CEU</td>\n",
       "      <td>2003-01-03</td>\n",
       "      <td>GSM25358.CEL.gz</td>\n",
       "      <td>M</td>\n",
       "    </tr>\n",
       "  </tbody>\n",
       "</table>\n",
       "</div>"
      ],
      "text/plain": [
       "  ethnicity        date         filename sex\n",
       "0       CEU  2003-02-04  GSM25349.CEL.gz   M\n",
       "1       CEU  2003-02-04  GSM25350.CEL.gz   M\n",
       "2       CEU  2002-12-17  GSM25356.CEL.gz   M\n",
       "3       CEU  2003-01-30  GSM25357.CEL.gz   M\n",
       "4       CEU  2003-01-03  GSM25358.CEL.gz   M"
      ]
     },
     "execution_count": 6,
     "metadata": {},
     "output_type": "execute_result"
    }
   ],
   "source": [
    "sampleinfo.head()"
   ]
  },
  {
   "cell_type": "markdown",
   "metadata": {},
   "source": [
    "#### Problem 1(b)\n",
    "\n",
    "Extract the year and month as integers from the `sampleinfo` table. \n",
    "\n",
    "**Hint**: To convert a Series or a column of a pandas DataFrame that contains a date-like object, you can use the `to_datetime` function [[read here](http://pandas.pydata.org/pandas-docs/stable/timeseries.html)].  This will create a `DatetimeIndex` which can be used to extract the month and year for each row in the DataFrame. "
   ]
  },
  {
   "cell_type": "code",
   "execution_count": 7,
   "metadata": {
    "collapsed": false
   },
   "outputs": [],
   "source": [
    "#your code here\n",
    "sampleinfo['Timestamp']=pd.to_datetime(sampleinfo.date)\n",
    "f_year = lambda x: x.year\n",
    "f_month = lambda x: x.month\n",
    "\n",
    "sampleinfo['Year'] = map(lambda x:x.year,sampleinfo.Timestamp)\n",
    "sampleinfo['Month'] = map(lambda x : x.month,sampleinfo.Timestamp)"
   ]
  },
  {
   "cell_type": "markdown",
   "metadata": {},
   "source": [
    "#### Problem 1(c)\n",
    "\n",
    "Convert the dates in the `date` column from the `sampleinfo` table into days since October 31, 2002. Add a column to the `sampleinfo` DataFrame titled `elapsedInDays` containing the days since October 31, 2002.  Show the head of the `sampleinfo` DataFrame which includes the new column.  \n",
    "\n",
    "**Hint**: Use the `datetime` module to create a new `datetime` object for the specific date October 31, 2002. Then, subtract the October 31, 2002 date from each date from the `date` column in the `sampleinfo` DataFrame. "
   ]
  },
  {
   "cell_type": "code",
   "execution_count": 8,
   "metadata": {
    "collapsed": false
   },
   "outputs": [
    {
     "data": {
      "text/html": [
       "<div>\n",
       "<table border=\"1\" class=\"dataframe\">\n",
       "  <thead>\n",
       "    <tr style=\"text-align: right;\">\n",
       "      <th></th>\n",
       "      <th>ethnicity</th>\n",
       "      <th>date</th>\n",
       "      <th>filename</th>\n",
       "      <th>sex</th>\n",
       "      <th>Timestamp</th>\n",
       "      <th>Year</th>\n",
       "      <th>Month</th>\n",
       "      <th>elapsedInDays</th>\n",
       "    </tr>\n",
       "  </thead>\n",
       "  <tbody>\n",
       "    <tr>\n",
       "      <th>0</th>\n",
       "      <td>CEU</td>\n",
       "      <td>2003-02-04</td>\n",
       "      <td>GSM25349.CEL.gz</td>\n",
       "      <td>M</td>\n",
       "      <td>2003-02-04</td>\n",
       "      <td>2003</td>\n",
       "      <td>2</td>\n",
       "      <td>96 days</td>\n",
       "    </tr>\n",
       "    <tr>\n",
       "      <th>1</th>\n",
       "      <td>CEU</td>\n",
       "      <td>2003-02-04</td>\n",
       "      <td>GSM25350.CEL.gz</td>\n",
       "      <td>M</td>\n",
       "      <td>2003-02-04</td>\n",
       "      <td>2003</td>\n",
       "      <td>2</td>\n",
       "      <td>96 days</td>\n",
       "    </tr>\n",
       "    <tr>\n",
       "      <th>2</th>\n",
       "      <td>CEU</td>\n",
       "      <td>2002-12-17</td>\n",
       "      <td>GSM25356.CEL.gz</td>\n",
       "      <td>M</td>\n",
       "      <td>2002-12-17</td>\n",
       "      <td>2002</td>\n",
       "      <td>12</td>\n",
       "      <td>47 days</td>\n",
       "    </tr>\n",
       "    <tr>\n",
       "      <th>3</th>\n",
       "      <td>CEU</td>\n",
       "      <td>2003-01-30</td>\n",
       "      <td>GSM25357.CEL.gz</td>\n",
       "      <td>M</td>\n",
       "      <td>2003-01-30</td>\n",
       "      <td>2003</td>\n",
       "      <td>1</td>\n",
       "      <td>91 days</td>\n",
       "    </tr>\n",
       "    <tr>\n",
       "      <th>4</th>\n",
       "      <td>CEU</td>\n",
       "      <td>2003-01-03</td>\n",
       "      <td>GSM25358.CEL.gz</td>\n",
       "      <td>M</td>\n",
       "      <td>2003-01-03</td>\n",
       "      <td>2003</td>\n",
       "      <td>1</td>\n",
       "      <td>64 days</td>\n",
       "    </tr>\n",
       "  </tbody>\n",
       "</table>\n",
       "</div>"
      ],
      "text/plain": [
       "  ethnicity        date         filename sex  Timestamp  Year  Month  \\\n",
       "0       CEU  2003-02-04  GSM25349.CEL.gz   M 2003-02-04  2003      2   \n",
       "1       CEU  2003-02-04  GSM25350.CEL.gz   M 2003-02-04  2003      2   \n",
       "2       CEU  2002-12-17  GSM25356.CEL.gz   M 2002-12-17  2002     12   \n",
       "3       CEU  2003-01-30  GSM25357.CEL.gz   M 2003-01-30  2003      1   \n",
       "4       CEU  2003-01-03  GSM25358.CEL.gz   M 2003-01-03  2003      1   \n",
       "\n",
       "   elapsedInDays  \n",
       "0        96 days  \n",
       "1        96 days  \n",
       "2        47 days  \n",
       "3        91 days  \n",
       "4        64 days  "
      ]
     },
     "execution_count": 8,
     "metadata": {},
     "output_type": "execute_result"
    }
   ],
   "source": [
    "#your code here\n",
    "this_day_of_octobre = dt.date(2002,10,31)\n",
    "samples = sampleinfo.copy()\n",
    "samples['elapsedInDays'] = pd.to_datetime(samples.date)-this_day_of_octobre\n",
    "samples.head()\n",
    "sampleinfo = samples\n",
    "sampleinfo.head()\n",
    "\n"
   ]
  },
  {
   "cell_type": "markdown",
   "metadata": {},
   "source": [
    "#### Problem 1(d)\n",
    "\n",
    "Use exploratory analysis and the singular value decomposition (SVD) of the gene expression data matrix to determine if the date the samples were processed has large effect on the variability seen in the data or if it is just ethnicity (which is confounded with date). \n",
    "\n",
    "**Hint**: See the end of the [lecture from 9/23/2014 for help with SVD](http://nbviewer.ipython.org/github/cs109/2014/blob/master/lectures/lecture07/data_scraping_transcript.ipynb). \n",
    "\n",
    "First subset the the `sampleinfo` DataFrame to include only the CEU ethnicity.  Call this new subsetted DataFrame `sampleinfoCEU`.  Show the head of `sampleinfoCEU` DataFrame. "
   ]
  },
  {
   "cell_type": "code",
   "execution_count": 9,
   "metadata": {
    "collapsed": false
   },
   "outputs": [
    {
     "data": {
      "text/html": [
       "<div>\n",
       "<table border=\"1\" class=\"dataframe\">\n",
       "  <thead>\n",
       "    <tr style=\"text-align: right;\">\n",
       "      <th></th>\n",
       "      <th>ethnicity</th>\n",
       "      <th>date</th>\n",
       "      <th>filename</th>\n",
       "      <th>sex</th>\n",
       "      <th>Timestamp</th>\n",
       "      <th>Year</th>\n",
       "      <th>Month</th>\n",
       "      <th>elapsedInDays</th>\n",
       "    </tr>\n",
       "  </thead>\n",
       "  <tbody>\n",
       "    <tr>\n",
       "      <th>0</th>\n",
       "      <td>CEU</td>\n",
       "      <td>2003-02-04</td>\n",
       "      <td>GSM25349.CEL.gz</td>\n",
       "      <td>M</td>\n",
       "      <td>2003-02-04</td>\n",
       "      <td>2003</td>\n",
       "      <td>2</td>\n",
       "      <td>96 days</td>\n",
       "    </tr>\n",
       "    <tr>\n",
       "      <th>1</th>\n",
       "      <td>CEU</td>\n",
       "      <td>2003-02-04</td>\n",
       "      <td>GSM25350.CEL.gz</td>\n",
       "      <td>M</td>\n",
       "      <td>2003-02-04</td>\n",
       "      <td>2003</td>\n",
       "      <td>2</td>\n",
       "      <td>96 days</td>\n",
       "    </tr>\n",
       "    <tr>\n",
       "      <th>2</th>\n",
       "      <td>CEU</td>\n",
       "      <td>2002-12-17</td>\n",
       "      <td>GSM25356.CEL.gz</td>\n",
       "      <td>M</td>\n",
       "      <td>2002-12-17</td>\n",
       "      <td>2002</td>\n",
       "      <td>12</td>\n",
       "      <td>47 days</td>\n",
       "    </tr>\n",
       "    <tr>\n",
       "      <th>3</th>\n",
       "      <td>CEU</td>\n",
       "      <td>2003-01-30</td>\n",
       "      <td>GSM25357.CEL.gz</td>\n",
       "      <td>M</td>\n",
       "      <td>2003-01-30</td>\n",
       "      <td>2003</td>\n",
       "      <td>1</td>\n",
       "      <td>91 days</td>\n",
       "    </tr>\n",
       "    <tr>\n",
       "      <th>4</th>\n",
       "      <td>CEU</td>\n",
       "      <td>2003-01-03</td>\n",
       "      <td>GSM25358.CEL.gz</td>\n",
       "      <td>M</td>\n",
       "      <td>2003-01-03</td>\n",
       "      <td>2003</td>\n",
       "      <td>1</td>\n",
       "      <td>64 days</td>\n",
       "    </tr>\n",
       "  </tbody>\n",
       "</table>\n",
       "</div>"
      ],
      "text/plain": [
       "  ethnicity        date         filename sex  Timestamp  Year  Month  \\\n",
       "0       CEU  2003-02-04  GSM25349.CEL.gz   M 2003-02-04  2003      2   \n",
       "1       CEU  2003-02-04  GSM25350.CEL.gz   M 2003-02-04  2003      2   \n",
       "2       CEU  2002-12-17  GSM25356.CEL.gz   M 2002-12-17  2002     12   \n",
       "3       CEU  2003-01-30  GSM25357.CEL.gz   M 2003-01-30  2003      1   \n",
       "4       CEU  2003-01-03  GSM25358.CEL.gz   M 2003-01-03  2003      1   \n",
       "\n",
       "   elapsedInDays  \n",
       "0        96 days  \n",
       "1        96 days  \n",
       "2        47 days  \n",
       "3        91 days  \n",
       "4        64 days  "
      ]
     },
     "execution_count": 9,
     "metadata": {},
     "output_type": "execute_result"
    }
   ],
   "source": [
    "#your code here\n",
    "sampleinfoCEU = sampleinfo[sampleinfo.ethnicity ==\"CEU\"] \n",
    "sampleinfoCEU.head()\n"
   ]
  },
  {
   "cell_type": "markdown",
   "metadata": {},
   "source": [
    "Next, subset the `exprs` DataFrame to only include the samples with the CEU ethnicity. Name this new subsetted DataFrame `exprsCEU`. Show the head of the `exprsCEU` DataFrame. "
   ]
  },
  {
   "cell_type": "code",
   "execution_count": 10,
   "metadata": {
    "collapsed": false
   },
   "outputs": [
    {
     "data": {
      "text/plain": [
       "102"
      ]
     },
     "execution_count": 10,
     "metadata": {},
     "output_type": "execute_result"
    }
   ],
   "source": [
    "#your code here\n",
    "cols_sample_CEU = sampleinfoCEU.filename.tolist()\n",
    "exprsCEU = exprs[cols_sample_CEU]\n",
    "exprsCEU.columns.size"
   ]
  },
  {
   "cell_type": "markdown",
   "metadata": {},
   "source": [
    "Check to make sure the order of the columns in the `exprsCEU` DataFrame matches the rows in the `sampleinfoCEU` DataFrame.  "
   ]
  },
  {
   "cell_type": "markdown",
   "metadata": {},
   "source": [
    "Compute the average gene expression intensity in the `exprsCEU` DataFrame across all the samples. For each sample in the `exprsCEU` DataFrame, subtract the average gene expression intensity from each of the samples. Show the head of the mean normalized gene expression data.  "
   ]
  },
  {
   "cell_type": "code",
   "execution_count": 11,
   "metadata": {
    "collapsed": false
   },
   "outputs": [
    {
     "data": {
      "text/html": [
       "<div>\n",
       "<table border=\"1\" class=\"dataframe\">\n",
       "  <thead>\n",
       "    <tr style=\"text-align: right;\">\n",
       "      <th></th>\n",
       "      <th>GSM25349.CEL.gz</th>\n",
       "      <th>GSM25350.CEL.gz</th>\n",
       "      <th>GSM25356.CEL.gz</th>\n",
       "      <th>GSM25357.CEL.gz</th>\n",
       "      <th>GSM25358.CEL.gz</th>\n",
       "      <th>GSM25359.CEL.gz</th>\n",
       "      <th>GSM25360.CEL.gz</th>\n",
       "      <th>GSM25361.CEL.gz</th>\n",
       "      <th>GSM25377.CEL.gz</th>\n",
       "      <th>GSM25378.CEL.gz</th>\n",
       "      <th>...</th>\n",
       "      <th>GSM48658.CEL.gz</th>\n",
       "      <th>GSM48660.CEL.gz</th>\n",
       "      <th>GSM48661.CEL.gz</th>\n",
       "      <th>GSM48662.CEL.gz</th>\n",
       "      <th>GSM48663.CEL.gz</th>\n",
       "      <th>GSM48664.CEL.gz</th>\n",
       "      <th>GSM48665.CEL.gz</th>\n",
       "      <th>GSM136725.CEL.gz</th>\n",
       "      <th>GSM136726.CEL.gz</th>\n",
       "      <th>GSM136727.CEL.gz</th>\n",
       "    </tr>\n",
       "    <tr>\n",
       "      <th>name</th>\n",
       "      <th></th>\n",
       "      <th></th>\n",
       "      <th></th>\n",
       "      <th></th>\n",
       "      <th></th>\n",
       "      <th></th>\n",
       "      <th></th>\n",
       "      <th></th>\n",
       "      <th></th>\n",
       "      <th></th>\n",
       "      <th></th>\n",
       "      <th></th>\n",
       "      <th></th>\n",
       "      <th></th>\n",
       "      <th></th>\n",
       "      <th></th>\n",
       "      <th></th>\n",
       "      <th></th>\n",
       "      <th></th>\n",
       "      <th></th>\n",
       "      <th></th>\n",
       "    </tr>\n",
       "  </thead>\n",
       "  <tbody>\n",
       "    <tr>\n",
       "      <th>1007_s_at</th>\n",
       "      <td>6.627014</td>\n",
       "      <td>6.249807</td>\n",
       "      <td>5.934128</td>\n",
       "      <td>6.145268</td>\n",
       "      <td>6.091270</td>\n",
       "      <td>6.041186</td>\n",
       "      <td>6.050375</td>\n",
       "      <td>6.063847</td>\n",
       "      <td>6.226106</td>\n",
       "      <td>6.358282</td>\n",
       "      <td>...</td>\n",
       "      <td>6.501510</td>\n",
       "      <td>6.558100</td>\n",
       "      <td>6.618286</td>\n",
       "      <td>6.869995</td>\n",
       "      <td>5.981000</td>\n",
       "      <td>6.403285</td>\n",
       "      <td>6.248702</td>\n",
       "      <td>6.488579</td>\n",
       "      <td>6.809481</td>\n",
       "      <td>6.133068</td>\n",
       "    </tr>\n",
       "    <tr>\n",
       "      <th>1053_at</th>\n",
       "      <td>6.939184</td>\n",
       "      <td>6.818038</td>\n",
       "      <td>7.047962</td>\n",
       "      <td>7.422477</td>\n",
       "      <td>7.272361</td>\n",
       "      <td>7.128216</td>\n",
       "      <td>6.750719</td>\n",
       "      <td>6.836287</td>\n",
       "      <td>6.738022</td>\n",
       "      <td>7.367895</td>\n",
       "      <td>...</td>\n",
       "      <td>7.066686</td>\n",
       "      <td>7.386702</td>\n",
       "      <td>6.407958</td>\n",
       "      <td>7.089180</td>\n",
       "      <td>7.120923</td>\n",
       "      <td>7.018998</td>\n",
       "      <td>7.155419</td>\n",
       "      <td>7.517410</td>\n",
       "      <td>7.200596</td>\n",
       "      <td>7.280781</td>\n",
       "    </tr>\n",
       "    <tr>\n",
       "      <th>117_at</th>\n",
       "      <td>5.113570</td>\n",
       "      <td>5.074096</td>\n",
       "      <td>5.371201</td>\n",
       "      <td>5.266550</td>\n",
       "      <td>5.342047</td>\n",
       "      <td>5.063876</td>\n",
       "      <td>5.315898</td>\n",
       "      <td>5.483652</td>\n",
       "      <td>6.689444</td>\n",
       "      <td>6.482782</td>\n",
       "      <td>...</td>\n",
       "      <td>5.600514</td>\n",
       "      <td>5.232676</td>\n",
       "      <td>5.630720</td>\n",
       "      <td>4.944748</td>\n",
       "      <td>5.275577</td>\n",
       "      <td>5.770358</td>\n",
       "      <td>5.616842</td>\n",
       "      <td>5.247190</td>\n",
       "      <td>5.237239</td>\n",
       "      <td>5.401876</td>\n",
       "    </tr>\n",
       "    <tr>\n",
       "      <th>121_at</th>\n",
       "      <td>7.833862</td>\n",
       "      <td>7.780682</td>\n",
       "      <td>7.458197</td>\n",
       "      <td>7.655948</td>\n",
       "      <td>7.546555</td>\n",
       "      <td>7.072670</td>\n",
       "      <td>7.092984</td>\n",
       "      <td>6.954225</td>\n",
       "      <td>7.489785</td>\n",
       "      <td>7.388539</td>\n",
       "      <td>...</td>\n",
       "      <td>7.437535</td>\n",
       "      <td>7.714650</td>\n",
       "      <td>7.416252</td>\n",
       "      <td>7.746448</td>\n",
       "      <td>8.001434</td>\n",
       "      <td>7.626723</td>\n",
       "      <td>7.452299</td>\n",
       "      <td>7.331864</td>\n",
       "      <td>7.357102</td>\n",
       "      <td>7.607461</td>\n",
       "    </tr>\n",
       "    <tr>\n",
       "      <th>1255_g_at</th>\n",
       "      <td>3.152269</td>\n",
       "      <td>3.111747</td>\n",
       "      <td>3.018932</td>\n",
       "      <td>3.154545</td>\n",
       "      <td>3.107954</td>\n",
       "      <td>3.224284</td>\n",
       "      <td>3.114241</td>\n",
       "      <td>3.044975</td>\n",
       "      <td>3.304038</td>\n",
       "      <td>2.887919</td>\n",
       "      <td>...</td>\n",
       "      <td>3.009983</td>\n",
       "      <td>3.151203</td>\n",
       "      <td>3.199709</td>\n",
       "      <td>3.159496</td>\n",
       "      <td>3.149710</td>\n",
       "      <td>3.242780</td>\n",
       "      <td>3.433125</td>\n",
       "      <td>3.175846</td>\n",
       "      <td>3.105092</td>\n",
       "      <td>3.225123</td>\n",
       "    </tr>\n",
       "  </tbody>\n",
       "</table>\n",
       "<p>5 rows × 102 columns</p>\n",
       "</div>"
      ],
      "text/plain": [
       "           GSM25349.CEL.gz  GSM25350.CEL.gz  GSM25356.CEL.gz  GSM25357.CEL.gz  \\\n",
       "name                                                                            \n",
       "1007_s_at         6.627014         6.249807         5.934128         6.145268   \n",
       "1053_at           6.939184         6.818038         7.047962         7.422477   \n",
       "117_at            5.113570         5.074096         5.371201         5.266550   \n",
       "121_at            7.833862         7.780682         7.458197         7.655948   \n",
       "1255_g_at         3.152269         3.111747         3.018932         3.154545   \n",
       "\n",
       "           GSM25358.CEL.gz  GSM25359.CEL.gz  GSM25360.CEL.gz  GSM25361.CEL.gz  \\\n",
       "name                                                                            \n",
       "1007_s_at         6.091270         6.041186         6.050375         6.063847   \n",
       "1053_at           7.272361         7.128216         6.750719         6.836287   \n",
       "117_at            5.342047         5.063876         5.315898         5.483652   \n",
       "121_at            7.546555         7.072670         7.092984         6.954225   \n",
       "1255_g_at         3.107954         3.224284         3.114241         3.044975   \n",
       "\n",
       "           GSM25377.CEL.gz  GSM25378.CEL.gz        ...         \\\n",
       "name                                               ...          \n",
       "1007_s_at         6.226106         6.358282        ...          \n",
       "1053_at           6.738022         7.367895        ...          \n",
       "117_at            6.689444         6.482782        ...          \n",
       "121_at            7.489785         7.388539        ...          \n",
       "1255_g_at         3.304038         2.887919        ...          \n",
       "\n",
       "           GSM48658.CEL.gz  GSM48660.CEL.gz  GSM48661.CEL.gz  GSM48662.CEL.gz  \\\n",
       "name                                                                            \n",
       "1007_s_at         6.501510         6.558100         6.618286         6.869995   \n",
       "1053_at           7.066686         7.386702         6.407958         7.089180   \n",
       "117_at            5.600514         5.232676         5.630720         4.944748   \n",
       "121_at            7.437535         7.714650         7.416252         7.746448   \n",
       "1255_g_at         3.009983         3.151203         3.199709         3.159496   \n",
       "\n",
       "           GSM48663.CEL.gz  GSM48664.CEL.gz  GSM48665.CEL.gz  \\\n",
       "name                                                           \n",
       "1007_s_at         5.981000         6.403285         6.248702   \n",
       "1053_at           7.120923         7.018998         7.155419   \n",
       "117_at            5.275577         5.770358         5.616842   \n",
       "121_at            8.001434         7.626723         7.452299   \n",
       "1255_g_at         3.149710         3.242780         3.433125   \n",
       "\n",
       "           GSM136725.CEL.gz  GSM136726.CEL.gz  GSM136727.CEL.gz  \n",
       "name                                                             \n",
       "1007_s_at          6.488579          6.809481          6.133068  \n",
       "1053_at            7.517410          7.200596          7.280781  \n",
       "117_at             5.247190          5.237239          5.401876  \n",
       "121_at             7.331864          7.357102          7.607461  \n",
       "1255_g_at          3.175846          3.105092          3.225123  \n",
       "\n",
       "[5 rows x 102 columns]"
      ]
     },
     "execution_count": 11,
     "metadata": {},
     "output_type": "execute_result"
    }
   ],
   "source": [
    "#your code here\n",
    "exprsCEU.head()"
   ]
  },
  {
   "cell_type": "code",
   "execution_count": 12,
   "metadata": {
    "collapsed": true
   },
   "outputs": [],
   "source": [
    "def normalize_with_apply(df):\n",
    "    \n",
    "    \n",
    "    exprsCEU_normalized = exprsCEU.apply(lambda x:x-exprsCEU.mean(axis=1),axis=0)\n",
    "    return exprsCEU_normalized"
   ]
  },
  {
   "cell_type": "code",
   "execution_count": 13,
   "metadata": {
    "collapsed": false
   },
   "outputs": [],
   "source": [
    "exprsCEU_normalized1 = normalize_with_apply(exprsCEU)\n"
   ]
  },
  {
   "cell_type": "markdown",
   "metadata": {},
   "source": [
    "Using this mean normalized gene expression data, compute the projection to the first Principal Component (PC1).  \n",
    "\n",
    "**Hint**: Use the `numpy.linalg.svd()` function in the `numpy.linalg` module (or the `scipy.linalg.svd()` function in the `scipy.linalg` module) to apply an [singular value decomposition](http://en.wikipedia.org/wiki/Singular_value_decomposition) to a matrix.  "
   ]
  },
  {
   "cell_type": "code",
   "execution_count": 14,
   "metadata": {
    "collapsed": false
   },
   "outputs": [],
   "source": [
    "#your code here\n",
    "from scipy.linalg import svd\n",
    "U,sigma,Vt = svd(exprsCEU_normalized1.values)\n",
    "V = Vt.T\n",
    "\n"
   ]
  },
  {
   "cell_type": "code",
   "execution_count": 15,
   "metadata": {
    "collapsed": false
   },
   "outputs": [
    {
     "data": {
      "text/html": [
       "<div>\n",
       "<table border=\"1\" class=\"dataframe\">\n",
       "  <thead>\n",
       "    <tr style=\"text-align: right;\">\n",
       "      <th></th>\n",
       "      <th>0</th>\n",
       "      <th>1</th>\n",
       "      <th>2</th>\n",
       "      <th>3</th>\n",
       "      <th>4</th>\n",
       "    </tr>\n",
       "  </thead>\n",
       "  <tbody>\n",
       "    <tr>\n",
       "      <th>0</th>\n",
       "      <td>-0.041201</td>\n",
       "      <td>0.139056</td>\n",
       "      <td>-0.012015</td>\n",
       "      <td>0.075033</td>\n",
       "      <td>-0.114097</td>\n",
       "    </tr>\n",
       "    <tr>\n",
       "      <th>1</th>\n",
       "      <td>-0.046679</td>\n",
       "      <td>0.131566</td>\n",
       "      <td>-0.030083</td>\n",
       "      <td>0.070738</td>\n",
       "      <td>-0.103904</td>\n",
       "    </tr>\n",
       "    <tr>\n",
       "      <th>2</th>\n",
       "      <td>0.023230</td>\n",
       "      <td>0.107607</td>\n",
       "      <td>0.138915</td>\n",
       "      <td>-0.090314</td>\n",
       "      <td>-0.009929</td>\n",
       "    </tr>\n",
       "    <tr>\n",
       "      <th>3</th>\n",
       "      <td>-0.049034</td>\n",
       "      <td>0.039723</td>\n",
       "      <td>0.039768</td>\n",
       "      <td>-0.134747</td>\n",
       "      <td>0.017780</td>\n",
       "    </tr>\n",
       "    <tr>\n",
       "      <th>4</th>\n",
       "      <td>0.020674</td>\n",
       "      <td>-0.067896</td>\n",
       "      <td>0.080855</td>\n",
       "      <td>-0.131315</td>\n",
       "      <td>-0.068905</td>\n",
       "    </tr>\n",
       "  </tbody>\n",
       "</table>\n",
       "</div>"
      ],
      "text/plain": [
       "          0         1         2         3         4\n",
       "0 -0.041201  0.139056 -0.012015  0.075033 -0.114097\n",
       "1 -0.046679  0.131566 -0.030083  0.070738 -0.103904\n",
       "2  0.023230  0.107607  0.138915 -0.090314 -0.009929\n",
       "3 -0.049034  0.039723  0.039768 -0.134747  0.017780\n",
       "4  0.020674 -0.067896  0.080855 -0.131315 -0.068905"
      ]
     },
     "execution_count": 15,
     "metadata": {},
     "output_type": "execute_result"
    }
   ],
   "source": [
    "pd.DataFrame(V).iloc[:5,:5]"
   ]
  },
  {
   "cell_type": "code",
   "execution_count": 16,
   "metadata": {
    "collapsed": false
   },
   "outputs": [
    {
     "data": {
      "text/plain": [
       "<matplotlib.text.Text at 0x7f3921c041d0>"
      ]
     },
     "execution_count": 16,
     "metadata": {},
     "output_type": "execute_result"
    },
    {
     "data": {
      "image/png": "iVBORw0KGgoAAAANSUhEUgAAAfcAAAFvCAYAAABXQIIJAAAABHNCSVQICAgIfAhkiAAAAAlwSFlz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\n/wALhE/8sMzvIAAAAABJRU5ErkJggg==\n",
      "text/plain": [
       "<matplotlib.figure.Figure at 0x7f394b8e9190>"
      ]
     },
     "metadata": {},
     "output_type": "display_data"
    }
   ],
   "source": [
    "plt.hist(V[:,0], bins = 25)\n",
    "plt.xlabel('PC1')\n",
    "plt.ylabel('Frequency')\n",
    "plt.title('Distribution of the values from PC1')\n"
   ]
  },
  {
   "cell_type": "code",
   "execution_count": 17,
   "metadata": {
    "collapsed": false
   },
   "outputs": [
    {
     "data": {
      "text/plain": [
       "(8793, 102)"
      ]
     },
     "execution_count": 17,
     "metadata": {},
     "output_type": "execute_result"
    }
   ],
   "source": [
    "exprsCEU_normalized1.shape"
   ]
  },
  {
   "cell_type": "markdown",
   "metadata": {},
   "source": [
    "Create a histogram using the values from PC1.  Use a bin size of 25.  "
   ]
  },
  {
   "cell_type": "markdown",
   "metadata": {},
   "source": [
    "Create a scatter plot with the days since October 31, 2002 on the x-axis and PC1 on the y-axis."
   ]
  },
  {
   "cell_type": "code",
   "execution_count": 18,
   "metadata": {
    "collapsed": false
   },
   "outputs": [
    {
     "name": "stdout",
     "output_type": "stream",
     "text": [
      "<type 'numpy.ndarray'>\n",
      "<type 'numpy.ndarray'>\n"
     ]
    },
    {
     "data": {
      "text/plain": [
       "(0, 160)"
      ]
     },
     "execution_count": 18,
     "metadata": {},
     "output_type": "execute_result"
    },
    {
     "data": {
      "image/png": "iVBORw0KGgoAAAANSUhEUgAAAm4AAAJqCAYAAACSOcwFAAAABHNCSVQICAgIfAhkiAAAAAlwSFlz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\n/gAAAABJRU5ErkJggg==\n",
      "text/plain": [
       "<matplotlib.figure.Figure at 0x7f394a5e6250>"
      ]
     },
     "metadata": {},
     "output_type": "display_data"
    }
   ],
   "source": [
    "#your code here\n",
    "# replace the file names with date since 31 cot\n",
    "sampleinfoCEU.head()\n",
    "print type(sampleinfoCEU.elapsedInDays.values)\n",
    "print type(V[:,0])\n",
    "elapsedInDays = sampleinfoCEU.elapsedInDays.fillna(0)\n",
    "\n",
    "\n",
    "plt.figure(figsize=(10,10)) \n",
    "\n",
    "plt.scatter(elapsedInDays.dt.days,V[:,0])\n",
    "# plt.xlim([0.0,160.0])\n",
    "plt.xlabel('Date sample was processed (Number of days since Oct 31, 2012)')\n",
    "plt.ylabel('PC1')\n",
    "plt.title('Relationship between the PC1 and the date the samples were processed')\n",
    "plt.axvline(x=100, color='r')\n",
    "\n",
    "ax = plt.gca()\n",
    "\n",
    "ax.autoscale(False)\n",
    "ax.set_xlim(0,160)"
   ]
  },
  {
   "cell_type": "markdown",
   "metadata": {},
   "source": [
    "Around what day do you notice a difference in the way the samples were processed?"
   ]
  },
  {
   "cell_type": "code",
   "execution_count": 19,
   "metadata": {
    "collapsed": false
   },
   "outputs": [],
   "source": [
    "#your code here"
   ]
  },
  {
   "cell_type": "markdown",
   "metadata": {},
   "source": [
    "Answer:"
   ]
  },
  {
   "cell_type": "markdown",
   "metadata": {},
   "source": [
    "## Discussion for Problem 1\n",
    "\n",
    "*Write a brief discussion of your conclusions to the questions and tasks above in 100 words or less.*\n",
    "\n",
    "---\n"
   ]
  },
  {
   "cell_type": "markdown",
   "metadata": {},
   "source": [
    "## Problem 2: Is there a pollster bias in presidential election polls?"
   ]
  },
  {
   "cell_type": "markdown",
   "metadata": {},
   "source": [
    "#### Problem 2(a)\n",
    "\n",
    "The [HuffPost Pollster](http://elections.huffingtonpost.com/pollster) contains many political polls. You can access these polls from individual races as a CSV but you can also access polls through the [HuffPost Pollster API](http://elections.huffingtonpost.com/pollster/api) to access the data.  \n",
    "\n",
    "Read in the polls from the [2012 Presidential Election: Barack Obama vs Mitt Romney](http://elections.huffingtonpost.com/pollster/2012-general-election-romney-vs-obama) into a pandas DataFrame called `election`. For this problem, you may read in the polls for this race directly using [the CSV file](http://elections.huffingtonpost.com/pollster/2012-general-election-romney-vs-obama.csv) available from the HuffPost Pollster page."
   ]
  },
  {
   "cell_type": "code",
   "execution_count": 20,
   "metadata": {
    "collapsed": false
   },
   "outputs": [
    {
     "data": {
      "text/html": [
       "<div>\n",
       "<table border=\"1\" class=\"dataframe\">\n",
       "  <thead>\n",
       "    <tr style=\"text-align: right;\">\n",
       "      <th></th>\n",
       "      <th>Pollster</th>\n",
       "      <th>Start Date</th>\n",
       "      <th>End Date</th>\n",
       "      <th>Entry Date/Time (ET)</th>\n",
       "      <th>Number of Observations</th>\n",
       "      <th>Population</th>\n",
       "      <th>Mode</th>\n",
       "      <th>Undecided</th>\n",
       "      <th>Other</th>\n",
       "      <th>Obama</th>\n",
       "      <th>Romney</th>\n",
       "      <th>Pollster URL</th>\n",
       "      <th>Source URL</th>\n",
       "      <th>Partisan</th>\n",
       "      <th>Affiliation</th>\n",
       "      <th>Question Text</th>\n",
       "      <th>Question Iteration</th>\n",
       "    </tr>\n",
       "  </thead>\n",
       "  <tbody>\n",
       "    <tr>\n",
       "      <th>0</th>\n",
       "      <td>Politico/GWU/Battleground</td>\n",
       "      <td>2012-11-04</td>\n",
       "      <td>2012-11-05</td>\n",
       "      <td>2012-11-06T08:40:26Z</td>\n",
       "      <td>1000.0</td>\n",
       "      <td>Likely Voters</td>\n",
       "      <td>Live Phone</td>\n",
       "      <td>6.0</td>\n",
       "      <td>NaN</td>\n",
       "      <td>47.0</td>\n",
       "      <td>47.0</td>\n",
       "      <td>http://elections.huffingtonpost.com/pollster/p...</td>\n",
       "      <td>http://www.politico.com/news/stories/1112/8338...</td>\n",
       "      <td>Nonpartisan</td>\n",
       "      <td>None</td>\n",
       "      <td>NaN</td>\n",
       "      <td>1</td>\n",
       "    </tr>\n",
       "    <tr>\n",
       "      <th>1</th>\n",
       "      <td>YouGov/Economist</td>\n",
       "      <td>2012-11-03</td>\n",
       "      <td>2012-11-05</td>\n",
       "      <td>2012-11-26T15:31:23Z</td>\n",
       "      <td>740.0</td>\n",
       "      <td>Likely Voters</td>\n",
       "      <td>Internet</td>\n",
       "      <td>3.0</td>\n",
       "      <td>NaN</td>\n",
       "      <td>49.0</td>\n",
       "      <td>47.0</td>\n",
       "      <td>http://elections.huffingtonpost.com/pollster/p...</td>\n",
       "      <td>http://cdn.yougov.com/cumulus_uploads/document...</td>\n",
       "      <td>Nonpartisan</td>\n",
       "      <td>None</td>\n",
       "      <td>NaN</td>\n",
       "      <td>1</td>\n",
       "    </tr>\n",
       "    <tr>\n",
       "      <th>2</th>\n",
       "      <td>Gravis Marketing</td>\n",
       "      <td>2012-11-03</td>\n",
       "      <td>2012-11-05</td>\n",
       "      <td>2012-11-06T09:22:02Z</td>\n",
       "      <td>872.0</td>\n",
       "      <td>Likely Voters</td>\n",
       "      <td>Automated Phone</td>\n",
       "      <td>4.0</td>\n",
       "      <td>NaN</td>\n",
       "      <td>48.0</td>\n",
       "      <td>48.0</td>\n",
       "      <td>http://elections.huffingtonpost.com/pollster/p...</td>\n",
       "      <td>http://www.gravispolls.com/2012/11/gravis-mark...</td>\n",
       "      <td>Nonpartisan</td>\n",
       "      <td>None</td>\n",
       "      <td>NaN</td>\n",
       "      <td>1</td>\n",
       "    </tr>\n",
       "    <tr>\n",
       "      <th>3</th>\n",
       "      <td>IBD/TIPP</td>\n",
       "      <td>2012-11-03</td>\n",
       "      <td>2012-11-05</td>\n",
       "      <td>2012-11-06T08:51:48Z</td>\n",
       "      <td>712.0</td>\n",
       "      <td>Likely Voters</td>\n",
       "      <td>Live Phone</td>\n",
       "      <td>NaN</td>\n",
       "      <td>1.0</td>\n",
       "      <td>50.0</td>\n",
       "      <td>49.0</td>\n",
       "      <td>http://elections.huffingtonpost.com/pollster/p...</td>\n",
       "      <td>http://news.investors.com/special-report/50841...</td>\n",
       "      <td>Nonpartisan</td>\n",
       "      <td>None</td>\n",
       "      <td>NaN</td>\n",
       "      <td>1</td>\n",
       "    </tr>\n",
       "    <tr>\n",
       "      <th>4</th>\n",
       "      <td>Rasmussen</td>\n",
       "      <td>2012-11-03</td>\n",
       "      <td>2012-11-05</td>\n",
       "      <td>2012-11-06T08:47:50Z</td>\n",
       "      <td>1500.0</td>\n",
       "      <td>Likely Voters</td>\n",
       "      <td>Automated Phone</td>\n",
       "      <td>NaN</td>\n",
       "      <td>NaN</td>\n",
       "      <td>48.0</td>\n",
       "      <td>49.0</td>\n",
       "      <td>http://elections.huffingtonpost.com/pollster/p...</td>\n",
       "      <td>http://www.rasmussenreports.com/public_content...</td>\n",
       "      <td>Nonpartisan</td>\n",
       "      <td>None</td>\n",
       "      <td>NaN</td>\n",
       "      <td>1</td>\n",
       "    </tr>\n",
       "  </tbody>\n",
       "</table>\n",
       "</div>"
      ],
      "text/plain": [
       "                    Pollster  Start Date    End Date  Entry Date/Time (ET)  \\\n",
       "0  Politico/GWU/Battleground  2012-11-04  2012-11-05  2012-11-06T08:40:26Z   \n",
       "1           YouGov/Economist  2012-11-03  2012-11-05  2012-11-26T15:31:23Z   \n",
       "2           Gravis Marketing  2012-11-03  2012-11-05  2012-11-06T09:22:02Z   \n",
       "3                   IBD/TIPP  2012-11-03  2012-11-05  2012-11-06T08:51:48Z   \n",
       "4                  Rasmussen  2012-11-03  2012-11-05  2012-11-06T08:47:50Z   \n",
       "\n",
       "   Number of Observations     Population             Mode  Undecided  Other  \\\n",
       "0                  1000.0  Likely Voters       Live Phone        6.0    NaN   \n",
       "1                   740.0  Likely Voters         Internet        3.0    NaN   \n",
       "2                   872.0  Likely Voters  Automated Phone        4.0    NaN   \n",
       "3                   712.0  Likely Voters       Live Phone        NaN    1.0   \n",
       "4                  1500.0  Likely Voters  Automated Phone        NaN    NaN   \n",
       "\n",
       "   Obama  Romney                                       Pollster URL  \\\n",
       "0   47.0    47.0  http://elections.huffingtonpost.com/pollster/p...   \n",
       "1   49.0    47.0  http://elections.huffingtonpost.com/pollster/p...   \n",
       "2   48.0    48.0  http://elections.huffingtonpost.com/pollster/p...   \n",
       "3   50.0    49.0  http://elections.huffingtonpost.com/pollster/p...   \n",
       "4   48.0    49.0  http://elections.huffingtonpost.com/pollster/p...   \n",
       "\n",
       "                                          Source URL     Partisan Affiliation  \\\n",
       "0  http://www.politico.com/news/stories/1112/8338...  Nonpartisan        None   \n",
       "1  http://cdn.yougov.com/cumulus_uploads/document...  Nonpartisan        None   \n",
       "2  http://www.gravispolls.com/2012/11/gravis-mark...  Nonpartisan        None   \n",
       "3  http://news.investors.com/special-report/50841...  Nonpartisan        None   \n",
       "4  http://www.rasmussenreports.com/public_content...  Nonpartisan        None   \n",
       "\n",
       "   Question Text  Question Iteration  \n",
       "0            NaN                   1  \n",
       "1            NaN                   1  \n",
       "2            NaN                   1  \n",
       "3            NaN                   1  \n",
       "4            NaN                   1  "
      ]
     },
     "execution_count": 20,
     "metadata": {},
     "output_type": "execute_result"
    }
   ],
   "source": [
    "#your code here\n",
    "election = pd.read_csv('data/2012-general-election-romney-vs-obama.csv')\n",
    "election.head()\n"
   ]
  },
  {
   "cell_type": "markdown",
   "metadata": {},
   "source": [
    "Show the head of the `election` DataFrame. "
   ]
  },
  {
   "cell_type": "code",
   "execution_count": 21,
   "metadata": {
    "collapsed": false
   },
   "outputs": [],
   "source": [
    "#your code here"
   ]
  },
  {
   "cell_type": "markdown",
   "metadata": {},
   "source": [
    "How many polls were conducted in November? Define this number as M.  \n",
    "\n",
    "**Hint**: Subset the `election` DataFrame for only dates in the `Start Date` column that are in November 2012.  "
   ]
  },
  {
   "cell_type": "code",
   "execution_count": 22,
   "metadata": {
    "collapsed": false
   },
   "outputs": [
    {
     "data": {
      "text/plain": [
       "19"
      ]
     },
     "execution_count": 22,
     "metadata": {},
     "output_type": "execute_result"
    }
   ],
   "source": [
    "#your code here\n",
    "election['Start Date'] = pd.to_datetime(election['Start Date'])\n",
    "election['End Date'] = pd.to_datetime(election['End Date'])\n",
    "\n",
    "test_date = election.iloc[0]['Start Date']\n",
    "def isNov2012(x):\n",
    "    return  (x.month == 11 and\n",
    "            x.year==2012)\n",
    "\n",
    "\n",
    "election['is November']= election['Start Date'].apply(isNov2012)\n",
    "election.tail()\n",
    "M = np.count_nonzero(election['is November'])\n",
    "M\n"
   ]
  },
  {
   "cell_type": "markdown",
   "metadata": {},
   "source": [
    "Answer:"
   ]
  },
  {
   "cell_type": "markdown",
   "metadata": {},
   "source": [
    "What was the median of the number of observations in the November polls? Define this quantity as N. "
   ]
  },
  {
   "cell_type": "code",
   "execution_count": 23,
   "metadata": {
    "collapsed": false
   },
   "outputs": [],
   "source": [
    "#your code here\n",
    "N = election[election['is November']]['Number of Observations'].median()\n"
   ]
  },
  {
   "cell_type": "markdown",
   "metadata": {},
   "source": [
    "Answer: "
   ]
  },
  {
   "cell_type": "markdown",
   "metadata": {},
   "source": [
    "#### Problem 2(b)\n",
    "\n",
    "Using the median sample size $N$ from Problem 2(a), simulate the results from a single poll:  simulate the number of votes for Obama out of a sample size $N$ where $p$ = 0.53 is the percent of voters who are voting for Obama.  \n",
    "\n",
    "**Hint**: Use the binomial distribution with parameters $N$ and $p$ = 0.53. "
   ]
  },
  {
   "cell_type": "code",
   "execution_count": 24,
   "metadata": {
    "collapsed": false
   },
   "outputs": [
    {
     "name": "stdout",
     "output_type": "stream",
     "text": [
      "Number of vote for Obama for median sample size :  2\n"
     ]
    },
    {
     "data": {
      "text/html": [
       "<div>\n",
       "<table border=\"1\" class=\"dataframe\">\n",
       "  <thead>\n",
       "    <tr style=\"text-align: right;\">\n",
       "      <th></th>\n",
       "      <th>0</th>\n",
       "    </tr>\n",
       "  </thead>\n",
       "  <tbody>\n",
       "    <tr>\n",
       "      <th>0</th>\n",
       "      <td>0.530000</td>\n",
       "    </tr>\n",
       "    <tr>\n",
       "      <th>1</th>\n",
       "      <td>0.533333</td>\n",
       "    </tr>\n",
       "    <tr>\n",
       "      <th>2</th>\n",
       "      <td>0.531667</td>\n",
       "    </tr>\n",
       "    <tr>\n",
       "      <th>3</th>\n",
       "      <td>0.551667</td>\n",
       "    </tr>\n",
       "    <tr>\n",
       "      <th>4</th>\n",
       "      <td>0.540000</td>\n",
       "    </tr>\n",
       "  </tbody>\n",
       "</table>\n",
       "</div>"
      ],
      "text/plain": [
       "          0\n",
       "0  0.530000\n",
       "1  0.533333\n",
       "2  0.531667\n",
       "3  0.551667\n",
       "4  0.540000"
      ]
     },
     "execution_count": 24,
     "metadata": {},
     "output_type": "execute_result"
    },
    {
     "data": {
      "image/png": "iVBORw0KGgoAAAANSUhEUgAAAfIAAAFXCAYAAABZQMyNAAAABHNCSVQICAgIfAhkiAAAAAlwSFlz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\nTkSuQmCC\n",
      "text/plain": [
       "<matplotlib.figure.Figure at 0x7f3921ae0990>"
      ]
     },
     "metadata": {},
     "output_type": "display_data"
    }
   ],
   "source": [
    "#your code here\n",
    "p = 0.53\n",
    "N= int(N)\n",
    "\n",
    "\n",
    "def run_sim(N,p,trials):\n",
    "    result = []\n",
    "    for i in range(trials+1):\n",
    "        sim1 = np.mean(np.random.binomial(1,p,N))\n",
    "        result.append(sim1)\n",
    "    return pd.DataFrame(result)\n",
    "\n",
    "print \"Number of vote for Obama for median sample size : \",np.count_nonzero(run_sim(N,p,1))\n",
    "r = run_sim(N,p,1000)\n",
    "plt.scatter(r.index,r)\n",
    "r.head()\n"
   ]
  },
  {
   "cell_type": "markdown",
   "metadata": {},
   "source": [
    "Now, perform a Monte Carlo simulation to obtain the estimated percentage of Obama votes with a sample size $N$ where $N$ is the median sample size calculated in Problem 2(a). Let $p$=0.53 be the percent of voters are voting for Obama. \n",
    "\n",
    "**Hint**: You will repeat the simulation above 1,000 times and plot the distribution of the estimated *percent* of Obama votes from a single poll.  The results from the single poll you simulate is random variable and will be different every time you sample. "
   ]
  },
  {
   "cell_type": "code",
   "execution_count": 25,
   "metadata": {
    "collapsed": false
   },
   "outputs": [],
   "source": [
    "#your code here"
   ]
  },
  {
   "cell_type": "markdown",
   "metadata": {},
   "source": [
    "Plot the distribution of the estimated percentage of Obama votes from your single poll. What is the distribution of the estimated percentage of Obama votes? "
   ]
  },
  {
   "cell_type": "code",
   "execution_count": 26,
   "metadata": {
    "collapsed": false
   },
   "outputs": [
    {
     "name": "stdout",
     "output_type": "stream",
     "text": [
      "0    0.014457\n",
      "dtype: float64\n",
      "0    0.529853\n",
      "dtype: float64\n"
     ]
    },
    {
     "data": {
      "text/plain": [
       "<matplotlib.lines.Line2D at 0x7f39217ed9d0>"
      ]
     },
     "execution_count": 26,
     "metadata": {},
     "output_type": "execute_result"
    },
    {
     "data": {
      "image/png": "iVBORw0KGgoAAAANSUhEUgAAAegAAAFXCAYAAABpzN2sAAAABHNCSVQICAgIfAhkiAAAAAlwSFlz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\n",
      "text/plain": [
       "<matplotlib.figure.Figure at 0x7f3921b3fb10>"
      ]
     },
     "metadata": {},
     "output_type": "display_data"
    }
   ],
   "source": [
    "#your code here\n",
    "plt.hist(r,normed=True)\n",
    "print r.std()\n",
    "print r.mean()\n",
    "from scipy.stats import norm\n",
    "rango = np.linspace(float(r.min()),float(r.max()),1000)\n",
    "\n",
    "fit = norm.pdf(rango, r.mean(),r.std())\n",
    "# help(np.random.normal)\n",
    "plt.plot(rango,fit, color='r')\n",
    "plt.axvline(float(r.mean()),color='g')\n"
   ]
  },
  {
   "cell_type": "markdown",
   "metadata": {},
   "source": [
    "Answer: "
   ]
  },
  {
   "cell_type": "markdown",
   "metadata": {},
   "source": [
    "What is the standard error (SE) of the estimated percentage from the poll. \n",
    "\n",
    "**Hint**: Remember the SE is the standard deviation (SD) of the distribution of a random variable. "
   ]
  },
  {
   "cell_type": "code",
   "execution_count": 27,
   "metadata": {
    "collapsed": false
   },
   "outputs": [],
   "source": [
    "#your code here"
   ]
  },
  {
   "cell_type": "markdown",
   "metadata": {},
   "source": [
    "#### Problem 2(c)\n",
    "\n",
    "Now suppose we run M polls where M is the number of polls that happened in November (calculated in Problem 2(a)). Run 1,000 simulations and compute the mean of the M polls for each simulation. "
   ]
  },
  {
   "cell_type": "code",
   "execution_count": 28,
   "metadata": {
    "collapsed": false
   },
   "outputs": [],
   "source": [
    "#your code here"
   ]
  },
  {
   "cell_type": "markdown",
   "metadata": {},
   "source": [
    "What is the distribution of the average of polls?\n",
    "\n",
    "**Hint**: Show a plot. "
   ]
  },
  {
   "cell_type": "code",
   "execution_count": 29,
   "metadata": {
    "collapsed": false
   },
   "outputs": [],
   "source": [
    "#your code here"
   ]
  },
  {
   "cell_type": "markdown",
   "metadata": {},
   "source": [
    "Answer: "
   ]
  },
  {
   "cell_type": "markdown",
   "metadata": {},
   "source": [
    "What is the standard error (SE) of the average of polls? "
   ]
  },
  {
   "cell_type": "code",
   "execution_count": 30,
   "metadata": {
    "collapsed": false
   },
   "outputs": [],
   "source": [
    "#your code here"
   ]
  },
  {
   "cell_type": "markdown",
   "metadata": {},
   "source": [
    "Answer: "
   ]
  },
  {
   "cell_type": "markdown",
   "metadata": {},
   "source": [
    "Is the SE of the average of polls larger, the same, or smaller than that the SD of a single poll (calculated in Problem 2(b))? By how much?\n",
    "\n",
    "**Hint**: Compute a ratio of the two quantities.  "
   ]
  },
  {
   "cell_type": "code",
   "execution_count": 31,
   "metadata": {
    "collapsed": false
   },
   "outputs": [],
   "source": [
    "#your code here"
   ]
  },
  {
   "cell_type": "markdown",
   "metadata": {},
   "source": [
    "Answer: "
   ]
  },
  {
   "cell_type": "markdown",
   "metadata": {},
   "source": [
    "#### Problem 2(d) \n",
    "\n",
    "Repeat Problem 2(c) but now record the *across poll* standard deviation in each simulation. "
   ]
  },
  {
   "cell_type": "code",
   "execution_count": 32,
   "metadata": {
    "collapsed": false
   },
   "outputs": [],
   "source": [
    "#your code here"
   ]
  },
  {
   "cell_type": "markdown",
   "metadata": {},
   "source": [
    "What is the distribution of the *across M polls* standard deviation?\n",
    "\n",
    "**Hint**: Show a plot. "
   ]
  },
  {
   "cell_type": "code",
   "execution_count": 33,
   "metadata": {
    "collapsed": false
   },
   "outputs": [],
   "source": [
    "#your code here"
   ]
  },
  {
   "cell_type": "markdown",
   "metadata": {},
   "source": [
    "Answer: "
   ]
  },
  {
   "cell_type": "markdown",
   "metadata": {},
   "source": [
    "#### Problem 2(e) \n",
    "\n",
    "What is the standard deviation of M polls in our real (not simulated) 2012 presidential election data ? "
   ]
  },
  {
   "cell_type": "code",
   "execution_count": 34,
   "metadata": {
    "collapsed": false
   },
   "outputs": [],
   "source": [
    "#your code here"
   ]
  },
  {
   "cell_type": "markdown",
   "metadata": {},
   "source": [
    "Is this larger, the same, or smaller than what we expeced if polls were not biased."
   ]
  },
  {
   "cell_type": "code",
   "execution_count": 35,
   "metadata": {
    "collapsed": false
   },
   "outputs": [],
   "source": [
    "#your code here"
   ]
  },
  {
   "cell_type": "markdown",
   "metadata": {},
   "source": [
    "Answer: "
   ]
  },
  {
   "cell_type": "markdown",
   "metadata": {},
   "source": [
    "#### Problem 2(f)\n",
    "\n",
    "**For AC209 Students**: Learn about the normal approximation for the binomial distribution and derive the results of Problem 2(b) and 2(c) analytically (using this approximation). Compare the results obtained analytically to those obtained from simulations."
   ]
  },
  {
   "cell_type": "code",
   "execution_count": 36,
   "metadata": {
    "collapsed": false
   },
   "outputs": [],
   "source": [
    "#your code here"
   ]
  },
  {
   "cell_type": "markdown",
   "metadata": {},
   "source": [
    "Answer: "
   ]
  },
  {
   "cell_type": "markdown",
   "metadata": {},
   "source": [
    "## Discussion for Problem 2\n",
    "\n",
    "*Write a brief discussion of your conclusions to the questions and tasks above in 100 words or less.*\n",
    "\n",
    "---\n"
   ]
  },
  {
   "cell_type": "markdown",
   "metadata": {},
   "source": [
    "## Problem 3: Is the average of polls better than just one poll?"
   ]
  },
  {
   "cell_type": "markdown",
   "metadata": {},
   "source": [
    "#### Problem 3(a)\n",
    "\n",
    "Most undecided voters vote for one of the two candidates at the election. Therefore, the reported percentages underestimate the final value of both candidates. However, if we assume the undecided will split evenly, then the observed difference should be an unbiased estimate of the final difference. \n",
    "\n",
    "Add a new column to the `election` DataFrame containg the difference between Obama and Romeny called `Diff`. "
   ]
  },
  {
   "cell_type": "code",
   "execution_count": 37,
   "metadata": {
    "collapsed": false
   },
   "outputs": [
    {
     "data": {
      "text/html": [
       "<div>\n",
       "<table border=\"1\" class=\"dataframe\">\n",
       "  <thead>\n",
       "    <tr style=\"text-align: right;\">\n",
       "      <th></th>\n",
       "      <th>Pollster</th>\n",
       "      <th>Start Date</th>\n",
       "      <th>End Date</th>\n",
       "      <th>Entry Date/Time (ET)</th>\n",
       "      <th>Number of Observations</th>\n",
       "      <th>Population</th>\n",
       "      <th>Mode</th>\n",
       "      <th>Undecided</th>\n",
       "      <th>Other</th>\n",
       "      <th>Obama</th>\n",
       "      <th>Romney</th>\n",
       "      <th>Pollster URL</th>\n",
       "      <th>Source URL</th>\n",
       "      <th>Partisan</th>\n",
       "      <th>Affiliation</th>\n",
       "      <th>Question Text</th>\n",
       "      <th>Question Iteration</th>\n",
       "      <th>is November</th>\n",
       "      <th>Diff</th>\n",
       "    </tr>\n",
       "  </thead>\n",
       "  <tbody>\n",
       "    <tr>\n",
       "      <th>0</th>\n",
       "      <td>Politico/GWU/Battleground</td>\n",
       "      <td>2012-11-04</td>\n",
       "      <td>2012-11-05</td>\n",
       "      <td>2012-11-06T08:40:26Z</td>\n",
       "      <td>1000.0</td>\n",
       "      <td>Likely Voters</td>\n",
       "      <td>Live Phone</td>\n",
       "      <td>6.0</td>\n",
       "      <td>NaN</td>\n",
       "      <td>47.0</td>\n",
       "      <td>47.0</td>\n",
       "      <td>http://elections.huffingtonpost.com/pollster/p...</td>\n",
       "      <td>http://www.politico.com/news/stories/1112/8338...</td>\n",
       "      <td>Nonpartisan</td>\n",
       "      <td>None</td>\n",
       "      <td>NaN</td>\n",
       "      <td>1</td>\n",
       "      <td>True</td>\n",
       "      <td>0.0</td>\n",
       "    </tr>\n",
       "    <tr>\n",
       "      <th>1</th>\n",
       "      <td>YouGov/Economist</td>\n",
       "      <td>2012-11-03</td>\n",
       "      <td>2012-11-05</td>\n",
       "      <td>2012-11-26T15:31:23Z</td>\n",
       "      <td>740.0</td>\n",
       "      <td>Likely Voters</td>\n",
       "      <td>Internet</td>\n",
       "      <td>3.0</td>\n",
       "      <td>NaN</td>\n",
       "      <td>49.0</td>\n",
       "      <td>47.0</td>\n",
       "      <td>http://elections.huffingtonpost.com/pollster/p...</td>\n",
       "      <td>http://cdn.yougov.com/cumulus_uploads/document...</td>\n",
       "      <td>Nonpartisan</td>\n",
       "      <td>None</td>\n",
       "      <td>NaN</td>\n",
       "      <td>1</td>\n",
       "      <td>True</td>\n",
       "      <td>2.0</td>\n",
       "    </tr>\n",
       "    <tr>\n",
       "      <th>2</th>\n",
       "      <td>Gravis Marketing</td>\n",
       "      <td>2012-11-03</td>\n",
       "      <td>2012-11-05</td>\n",
       "      <td>2012-11-06T09:22:02Z</td>\n",
       "      <td>872.0</td>\n",
       "      <td>Likely Voters</td>\n",
       "      <td>Automated Phone</td>\n",
       "      <td>4.0</td>\n",
       "      <td>NaN</td>\n",
       "      <td>48.0</td>\n",
       "      <td>48.0</td>\n",
       "      <td>http://elections.huffingtonpost.com/pollster/p...</td>\n",
       "      <td>http://www.gravispolls.com/2012/11/gravis-mark...</td>\n",
       "      <td>Nonpartisan</td>\n",
       "      <td>None</td>\n",
       "      <td>NaN</td>\n",
       "      <td>1</td>\n",
       "      <td>True</td>\n",
       "      <td>0.0</td>\n",
       "    </tr>\n",
       "    <tr>\n",
       "      <th>3</th>\n",
       "      <td>IBD/TIPP</td>\n",
       "      <td>2012-11-03</td>\n",
       "      <td>2012-11-05</td>\n",
       "      <td>2012-11-06T08:51:48Z</td>\n",
       "      <td>712.0</td>\n",
       "      <td>Likely Voters</td>\n",
       "      <td>Live Phone</td>\n",
       "      <td>NaN</td>\n",
       "      <td>1.0</td>\n",
       "      <td>50.0</td>\n",
       "      <td>49.0</td>\n",
       "      <td>http://elections.huffingtonpost.com/pollster/p...</td>\n",
       "      <td>http://news.investors.com/special-report/50841...</td>\n",
       "      <td>Nonpartisan</td>\n",
       "      <td>None</td>\n",
       "      <td>NaN</td>\n",
       "      <td>1</td>\n",
       "      <td>True</td>\n",
       "      <td>1.0</td>\n",
       "    </tr>\n",
       "    <tr>\n",
       "      <th>4</th>\n",
       "      <td>Rasmussen</td>\n",
       "      <td>2012-11-03</td>\n",
       "      <td>2012-11-05</td>\n",
       "      <td>2012-11-06T08:47:50Z</td>\n",
       "      <td>1500.0</td>\n",
       "      <td>Likely Voters</td>\n",
       "      <td>Automated Phone</td>\n",
       "      <td>NaN</td>\n",
       "      <td>NaN</td>\n",
       "      <td>48.0</td>\n",
       "      <td>49.0</td>\n",
       "      <td>http://elections.huffingtonpost.com/pollster/p...</td>\n",
       "      <td>http://www.rasmussenreports.com/public_content...</td>\n",
       "      <td>Nonpartisan</td>\n",
       "      <td>None</td>\n",
       "      <td>NaN</td>\n",
       "      <td>1</td>\n",
       "      <td>True</td>\n",
       "      <td>-1.0</td>\n",
       "    </tr>\n",
       "  </tbody>\n",
       "</table>\n",
       "</div>"
      ],
      "text/plain": [
       "                    Pollster Start Date   End Date  Entry Date/Time (ET)  \\\n",
       "0  Politico/GWU/Battleground 2012-11-04 2012-11-05  2012-11-06T08:40:26Z   \n",
       "1           YouGov/Economist 2012-11-03 2012-11-05  2012-11-26T15:31:23Z   \n",
       "2           Gravis Marketing 2012-11-03 2012-11-05  2012-11-06T09:22:02Z   \n",
       "3                   IBD/TIPP 2012-11-03 2012-11-05  2012-11-06T08:51:48Z   \n",
       "4                  Rasmussen 2012-11-03 2012-11-05  2012-11-06T08:47:50Z   \n",
       "\n",
       "   Number of Observations     Population             Mode  Undecided  Other  \\\n",
       "0                  1000.0  Likely Voters       Live Phone        6.0    NaN   \n",
       "1                   740.0  Likely Voters         Internet        3.0    NaN   \n",
       "2                   872.0  Likely Voters  Automated Phone        4.0    NaN   \n",
       "3                   712.0  Likely Voters       Live Phone        NaN    1.0   \n",
       "4                  1500.0  Likely Voters  Automated Phone        NaN    NaN   \n",
       "\n",
       "   Obama  Romney                                       Pollster URL  \\\n",
       "0   47.0    47.0  http://elections.huffingtonpost.com/pollster/p...   \n",
       "1   49.0    47.0  http://elections.huffingtonpost.com/pollster/p...   \n",
       "2   48.0    48.0  http://elections.huffingtonpost.com/pollster/p...   \n",
       "3   50.0    49.0  http://elections.huffingtonpost.com/pollster/p...   \n",
       "4   48.0    49.0  http://elections.huffingtonpost.com/pollster/p...   \n",
       "\n",
       "                                          Source URL     Partisan Affiliation  \\\n",
       "0  http://www.politico.com/news/stories/1112/8338...  Nonpartisan        None   \n",
       "1  http://cdn.yougov.com/cumulus_uploads/document...  Nonpartisan        None   \n",
       "2  http://www.gravispolls.com/2012/11/gravis-mark...  Nonpartisan        None   \n",
       "3  http://news.investors.com/special-report/50841...  Nonpartisan        None   \n",
       "4  http://www.rasmussenreports.com/public_content...  Nonpartisan        None   \n",
       "\n",
       "   Question Text  Question Iteration is November  Diff  \n",
       "0            NaN                   1        True   0.0  \n",
       "1            NaN                   1        True   2.0  \n",
       "2            NaN                   1        True   0.0  \n",
       "3            NaN                   1        True   1.0  \n",
       "4            NaN                   1        True  -1.0  "
      ]
     },
     "execution_count": 37,
     "metadata": {},
     "output_type": "execute_result"
    }
   ],
   "source": [
    "#your code here\n",
    "election['Diff'] = election.Obama-election.Romney\n",
    "election.head()"
   ]
  },
  {
   "cell_type": "markdown",
   "metadata": {},
   "source": [
    "#### Problem 3(b)\n",
    "\n",
    "Make a plot of the differences for the week before the election (e.g. 5 days) where the days are on the x-axis and the differences are on the y-axis.  Add a horizontal line showing 3.9%: the difference between Obama and Romney on election day."
   ]
  },
  {
   "cell_type": "code",
<<<<<<< HEAD
   "execution_count": 183,
=======
   "execution_count": 38,
>>>>>>> ca105d4a651f1b4bac47c6c6067fd4d4c85086c1
   "metadata": {
    "collapsed": false
   },
   "outputs": [
    {
     "data": {
      "text/plain": [
<<<<<<< HEAD
       "<matplotlib.collections.PathCollection at 0x7fd396c20f50>"
      ]
     },
     "execution_count": 183,
=======
       "<matplotlib.collections.PathCollection at 0x7f3921737410>"
      ]
     },
     "execution_count": 38,
>>>>>>> ca105d4a651f1b4bac47c6c6067fd4d4c85086c1
     "metadata": {},
     "output_type": "execute_result"
    },
    {
     "data": {
      "image/png": "iVBORw0KGgoAAAANSUhEUgAAAeYAAAFXCAYAAAB3Be0fAAAABHNCSVQICAgIfAhkiAAAAAlwSFlz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\n",
      "text/plain": [
<<<<<<< HEAD
       "<matplotlib.figure.Figure at 0x7fd395a16650>"
=======
       "<matplotlib.figure.Figure at 0x7f392189ddd0>"
>>>>>>> ca105d4a651f1b4bac47c6c6067fd4d4c85086c1
      ]
     },
     "metadata": {},
     "output_type": "display_data"
    }
   ],
   "source": [
    "#your code here\n",
    "election_day = dt.datetime(2012,11,6)\n",
    "election['days_before'] =(election_day - election['Start Date']).dt.days.values\n",
    "election.head()# last_week['days_before']=election_day-last_week[]\n",
    "last_week = election[election.days_before<=5]\n",
    "plt.scatter(last_week.days_before,last_week.Diff)"
   ]
  },
  {
   "cell_type": "markdown",
   "metadata": {},
   "source": [
    "#### Problem 3(c) \n",
    "\n",
    "Make a plot showing the differences by pollster where the pollsters are on the x-axis and the differences on the y-axis. "
   ]
  },
  {
   "cell_type": "code",
<<<<<<< HEAD
   "execution_count": 194,
=======
   "execution_count": 39,
>>>>>>> ca105d4a651f1b4bac47c6c6067fd4d4c85086c1
   "metadata": {
    "collapsed": false
   },
   "outputs": [
    {
     "name": "stdout",
     "output_type": "stream",
     "text": [
      "['Politico/GWU/Battleground', 'YouGov/Economist', 'Gravis Marketing', 'IBD/TIPP', 'Rasmussen', 'JZ Analytics/Newsmax', 'UPI/CVOTER', 'Ipsos/Reuters (Web)', 'ARG', 'PPP (D-Americans United for Change)', 'CNN', 'ABC/Post', 'Gallup', 'DailyKos/SEIU/PPP (D)', 'Monmouth', 'Democracy Corps (D)', 'Angus-Reid', 'NBC/WSJ', 'UPI/CVOTER']\n"
     ]
    },
    {
     "data": {
      "text/plain": [
       "<matplotlib.collections.PathCollection at 0x7fd395354c90>"
      ]
     },
     "execution_count": 194,
     "metadata": {},
     "output_type": "execute_result"
    },
    {
     "data": {
      "image/png": "iVBORw0KGgoAAAANSUhEUgAAAXUAAAEDCAYAAADKhpQUAAAABHNCSVQICAgIfAhkiAAAAAlwSFlz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\nCjHUJakQQ12SCjHUJakQQ12SCvk/3Ced3tiedtkAAAAASUVORK5CYII=\n",
      "text/plain": [
       "<matplotlib.figure.Figure at 0x7fd3953d18d0>"
      ]
     },
     "metadata": {},
     "output_type": "display_data"
    }
   ],
   "source": [
    "#your code here\n",
    "last_week.head()\n",
    "pollster_map = {}\n",
    "print last_week.Pollster.tolist()\n",
    "\n",
    "polls = list(set(last_week.Pollster))\n",
    "\n",
    "for i, p in enumerate(polls):\n",
    "    pollster_map[p] = i\n",
    "    \n",
    "r_ = map(lambda x: pollster_map[x],last_week.Pollster)\n",
    "plt.scatter(r_, last_week.Diff)\n",
    "\n"
   ]
  },
  {
   "cell_type": "markdown",
   "metadata": {},
   "source": [
    "Is the *across poll* difference larger than the *between pollster* difference? "
   ]
  },
  {
   "cell_type": "markdown",
   "metadata": {},
   "source": [
    "Answer: "
   ]
  },
  {
   "cell_type": "markdown",
   "metadata": {},
   "source": [
    "#### Problem 3(d)\n",
    "\n",
    "Take the average for each pollster and then compute the average of that. Given this difference how confident would you have been of an Obama victory?\n",
    "\n",
    "**Hint**: Compute an estimate of the SE of this average based exclusively on the observed data. "
   ]
  },
  {
   "cell_type": "code",
   "execution_count": 40,
   "metadata": {
    "collapsed": false
   },
   "outputs": [],
   "source": [
    "#your code here"
   ]
  },
  {
   "cell_type": "markdown",
   "metadata": {},
   "source": [
    "Answer: "
   ]
  },
  {
   "cell_type": "markdown",
   "metadata": {},
   "source": [
    "#### Problem 3(e)\n",
    "\n",
    "**For AC209 Students**: Show the difference against time and see if you can detect a trend towards the end. Use this trend to see if it improves the final estimate."
   ]
  },
  {
   "cell_type": "code",
   "execution_count": 41,
   "metadata": {
    "collapsed": false
   },
   "outputs": [],
   "source": [
    "#your code here"
   ]
  },
  {
   "cell_type": "markdown",
   "metadata": {},
   "source": [
    "Answer: "
   ]
  },
  {
   "cell_type": "markdown",
   "metadata": {},
   "source": [
    "## Discussion for Problem 3\n",
    "\n",
    "*Write a brief discussion of your conclusions to the questions and tasks above in 100 words or less.*\n",
    "\n",
    "---\n"
   ]
  },
  {
   "cell_type": "markdown",
   "metadata": {},
   "source": [
    "## Problem 4\n",
    "\n",
    "In this last problem, we will use the polls from the [2014 Senate Midterm Elections](http://elections.huffingtonpost.com/pollster) from the [HuffPost Pollster API](http://elections.huffingtonpost.com/pollster/api) to create a preliminary prediction of the result of each state. \n",
    "\n",
    "The HuffPost Pollster API allows you to access the data as a CSV or a JSON response by tacking \".csv\" or \".json\" at the end of the URLs. For example the 2012 Presidential Election could be accessed as a [.json](http://elections.huffingtonpost.com/pollster/2012-general-election-romney-vs-obama.json) instead of a [.csv](http://elections.huffingtonpost.com/pollster/2012-general-election-romney-vs-obama.csv)"
   ]
  },
  {
   "cell_type": "markdown",
   "metadata": {},
   "source": [
    "#### Problem 4(a)\n",
    "\n",
    "Read in the polls for **all** of the 2014 Senate Elections using the HuffPost API. For example, we can consider the [2014 Senate race in Kentucky between Mitch McConnell and Alison Grimes](http://elections.huffingtonpost.com/pollster/2014-kentucky-senate-mcconnell-vs-grimes). \n",
    "\n",
    "To search for the 2014 Senate races, use the `topics` parameter in the API [[read more about topics here](http://elections.huffingtonpost.com/pollster/api)].  "
   ]
  },
  {
   "cell_type": "code",
   "execution_count": 42,
   "metadata": {
    "collapsed": false
   },
   "outputs": [],
   "source": [
    "url_str = \"http://elections.huffingtonpost.com/pollster/api/charts/?topic=2014-senate\""
   ]
  },
  {
   "cell_type": "markdown",
   "metadata": {},
   "source": [
    "To list all the URLs related to the 2014 Senate races using the pollster API, we can use a list comprehension:"
   ]
  },
  {
   "cell_type": "code",
   "execution_count": 43,
   "metadata": {
    "collapsed": false
   },
   "outputs": [
    {
     "ename": "ConnectionError",
     "evalue": "HTTPConnectionPool(host='elections.huffingtonpost.com', port=80): Max retries exceeded with url: /pollster/api/charts/?topic=2014-senate (Caused by NewConnectionError('<requests.packages.urllib3.connection.HTTPConnection object at 0x7f39216cf310>: Failed to establish a new connection: [Errno -3] Temporary failure in name resolution',))",
     "output_type": "error",
     "traceback": [
      "\u001b[1;31m---------------------------------------------------------------------------\u001b[0m",
      "\u001b[1;31mConnectionError\u001b[0m                           Traceback (most recent call last)",
      "\u001b[1;32m<ipython-input-43-2bcdaa267b8e>\u001b[0m in \u001b[0;36m<module>\u001b[1;34m()\u001b[0m\n\u001b[1;32m----> 1\u001b[1;33m \u001b[0melection_urls\u001b[0m \u001b[1;33m=\u001b[0m \u001b[1;33m[\u001b[0m\u001b[0melection\u001b[0m\u001b[1;33m[\u001b[0m\u001b[1;34m'url'\u001b[0m\u001b[1;33m]\u001b[0m \u001b[1;33m+\u001b[0m \u001b[1;34m'.csv'\u001b[0m \u001b[1;32mfor\u001b[0m \u001b[0melection\u001b[0m \u001b[1;32min\u001b[0m \u001b[0mrequests\u001b[0m\u001b[1;33m.\u001b[0m\u001b[0mget\u001b[0m\u001b[1;33m(\u001b[0m\u001b[0murl_str\u001b[0m\u001b[1;33m)\u001b[0m\u001b[1;33m.\u001b[0m\u001b[0mjson\u001b[0m\u001b[1;33m(\u001b[0m\u001b[1;33m)\u001b[0m\u001b[1;33m]\u001b[0m\u001b[1;33m\u001b[0m\u001b[0m\n\u001b[0m\u001b[0;32m      2\u001b[0m \u001b[0melection_urls\u001b[0m\u001b[1;33m\u001b[0m\u001b[0m\n",
      "\u001b[1;32m/home/ramon/anaconda2/lib/python2.7/site-packages/requests/api.pyc\u001b[0m in \u001b[0;36mget\u001b[1;34m(url, params, **kwargs)\u001b[0m\n\u001b[0;32m     65\u001b[0m \u001b[1;33m\u001b[0m\u001b[0m\n\u001b[0;32m     66\u001b[0m     \u001b[0mkwargs\u001b[0m\u001b[1;33m.\u001b[0m\u001b[0msetdefault\u001b[0m\u001b[1;33m(\u001b[0m\u001b[1;34m'allow_redirects'\u001b[0m\u001b[1;33m,\u001b[0m \u001b[0mTrue\u001b[0m\u001b[1;33m)\u001b[0m\u001b[1;33m\u001b[0m\u001b[0m\n\u001b[1;32m---> 67\u001b[1;33m     \u001b[1;32mreturn\u001b[0m \u001b[0mrequest\u001b[0m\u001b[1;33m(\u001b[0m\u001b[1;34m'get'\u001b[0m\u001b[1;33m,\u001b[0m \u001b[0murl\u001b[0m\u001b[1;33m,\u001b[0m \u001b[0mparams\u001b[0m\u001b[1;33m=\u001b[0m\u001b[0mparams\u001b[0m\u001b[1;33m,\u001b[0m \u001b[1;33m**\u001b[0m\u001b[0mkwargs\u001b[0m\u001b[1;33m)\u001b[0m\u001b[1;33m\u001b[0m\u001b[0m\n\u001b[0m\u001b[0;32m     68\u001b[0m \u001b[1;33m\u001b[0m\u001b[0m\n\u001b[0;32m     69\u001b[0m \u001b[1;33m\u001b[0m\u001b[0m\n",
      "\u001b[1;32m/home/ramon/anaconda2/lib/python2.7/site-packages/requests/api.pyc\u001b[0m in \u001b[0;36mrequest\u001b[1;34m(method, url, **kwargs)\u001b[0m\n\u001b[0;32m     51\u001b[0m     \u001b[1;31m# cases, and look like a memory leak in others.\u001b[0m\u001b[1;33m\u001b[0m\u001b[1;33m\u001b[0m\u001b[0m\n\u001b[0;32m     52\u001b[0m     \u001b[1;32mwith\u001b[0m \u001b[0msessions\u001b[0m\u001b[1;33m.\u001b[0m\u001b[0mSession\u001b[0m\u001b[1;33m(\u001b[0m\u001b[1;33m)\u001b[0m \u001b[1;32mas\u001b[0m \u001b[0msession\u001b[0m\u001b[1;33m:\u001b[0m\u001b[1;33m\u001b[0m\u001b[0m\n\u001b[1;32m---> 53\u001b[1;33m         \u001b[1;32mreturn\u001b[0m \u001b[0msession\u001b[0m\u001b[1;33m.\u001b[0m\u001b[0mrequest\u001b[0m\u001b[1;33m(\u001b[0m\u001b[0mmethod\u001b[0m\u001b[1;33m=\u001b[0m\u001b[0mmethod\u001b[0m\u001b[1;33m,\u001b[0m \u001b[0murl\u001b[0m\u001b[1;33m=\u001b[0m\u001b[0murl\u001b[0m\u001b[1;33m,\u001b[0m \u001b[1;33m**\u001b[0m\u001b[0mkwargs\u001b[0m\u001b[1;33m)\u001b[0m\u001b[1;33m\u001b[0m\u001b[0m\n\u001b[0m\u001b[0;32m     54\u001b[0m \u001b[1;33m\u001b[0m\u001b[0m\n\u001b[0;32m     55\u001b[0m \u001b[1;33m\u001b[0m\u001b[0m\n",
      "\u001b[1;32m/home/ramon/anaconda2/lib/python2.7/site-packages/requests/sessions.pyc\u001b[0m in \u001b[0;36mrequest\u001b[1;34m(self, method, url, params, data, headers, cookies, files, auth, timeout, allow_redirects, proxies, hooks, stream, verify, cert, json)\u001b[0m\n\u001b[0;32m    466\u001b[0m         }\n\u001b[0;32m    467\u001b[0m         \u001b[0msend_kwargs\u001b[0m\u001b[1;33m.\u001b[0m\u001b[0mupdate\u001b[0m\u001b[1;33m(\u001b[0m\u001b[0msettings\u001b[0m\u001b[1;33m)\u001b[0m\u001b[1;33m\u001b[0m\u001b[0m\n\u001b[1;32m--> 468\u001b[1;33m         \u001b[0mresp\u001b[0m \u001b[1;33m=\u001b[0m \u001b[0mself\u001b[0m\u001b[1;33m.\u001b[0m\u001b[0msend\u001b[0m\u001b[1;33m(\u001b[0m\u001b[0mprep\u001b[0m\u001b[1;33m,\u001b[0m \u001b[1;33m**\u001b[0m\u001b[0msend_kwargs\u001b[0m\u001b[1;33m)\u001b[0m\u001b[1;33m\u001b[0m\u001b[0m\n\u001b[0m\u001b[0;32m    469\u001b[0m \u001b[1;33m\u001b[0m\u001b[0m\n\u001b[0;32m    470\u001b[0m         \u001b[1;32mreturn\u001b[0m \u001b[0mresp\u001b[0m\u001b[1;33m\u001b[0m\u001b[0m\n",
      "\u001b[1;32m/home/ramon/anaconda2/lib/python2.7/site-packages/requests/sessions.pyc\u001b[0m in \u001b[0;36msend\u001b[1;34m(self, request, **kwargs)\u001b[0m\n\u001b[0;32m    574\u001b[0m \u001b[1;33m\u001b[0m\u001b[0m\n\u001b[0;32m    575\u001b[0m         \u001b[1;31m# Send the request\u001b[0m\u001b[1;33m\u001b[0m\u001b[1;33m\u001b[0m\u001b[0m\n\u001b[1;32m--> 576\u001b[1;33m         \u001b[0mr\u001b[0m \u001b[1;33m=\u001b[0m \u001b[0madapter\u001b[0m\u001b[1;33m.\u001b[0m\u001b[0msend\u001b[0m\u001b[1;33m(\u001b[0m\u001b[0mrequest\u001b[0m\u001b[1;33m,\u001b[0m \u001b[1;33m**\u001b[0m\u001b[0mkwargs\u001b[0m\u001b[1;33m)\u001b[0m\u001b[1;33m\u001b[0m\u001b[0m\n\u001b[0m\u001b[0;32m    577\u001b[0m \u001b[1;33m\u001b[0m\u001b[0m\n\u001b[0;32m    578\u001b[0m         \u001b[1;31m# Total elapsed time of the request (approximately)\u001b[0m\u001b[1;33m\u001b[0m\u001b[1;33m\u001b[0m\u001b[0m\n",
      "\u001b[1;32m/home/ramon/anaconda2/lib/python2.7/site-packages/requests/adapters.pyc\u001b[0m in \u001b[0;36msend\u001b[1;34m(self, request, stream, timeout, verify, cert, proxies)\u001b[0m\n\u001b[0;32m    435\u001b[0m                 \u001b[1;32mraise\u001b[0m \u001b[0mRetryError\u001b[0m\u001b[1;33m(\u001b[0m\u001b[0me\u001b[0m\u001b[1;33m,\u001b[0m \u001b[0mrequest\u001b[0m\u001b[1;33m=\u001b[0m\u001b[0mrequest\u001b[0m\u001b[1;33m)\u001b[0m\u001b[1;33m\u001b[0m\u001b[0m\n\u001b[0;32m    436\u001b[0m \u001b[1;33m\u001b[0m\u001b[0m\n\u001b[1;32m--> 437\u001b[1;33m             \u001b[1;32mraise\u001b[0m \u001b[0mConnectionError\u001b[0m\u001b[1;33m(\u001b[0m\u001b[0me\u001b[0m\u001b[1;33m,\u001b[0m \u001b[0mrequest\u001b[0m\u001b[1;33m=\u001b[0m\u001b[0mrequest\u001b[0m\u001b[1;33m)\u001b[0m\u001b[1;33m\u001b[0m\u001b[0m\n\u001b[0m\u001b[0;32m    438\u001b[0m \u001b[1;33m\u001b[0m\u001b[0m\n\u001b[0;32m    439\u001b[0m         \u001b[1;32mexcept\u001b[0m \u001b[0mClosedPoolError\u001b[0m \u001b[1;32mas\u001b[0m \u001b[0me\u001b[0m\u001b[1;33m:\u001b[0m\u001b[1;33m\u001b[0m\u001b[0m\n",
      "\u001b[1;31mConnectionError\u001b[0m: HTTPConnectionPool(host='elections.huffingtonpost.com', port=80): Max retries exceeded with url: /pollster/api/charts/?topic=2014-senate (Caused by NewConnectionError('<requests.packages.urllib3.connection.HTTPConnection object at 0x7f39216cf310>: Failed to establish a new connection: [Errno -3] Temporary failure in name resolution',))"
     ]
    }
   ],
   "source": [
    "election_urls = [election['url'] + '.csv' for election in requests.get(url_str).json()]\n",
    "election_urls"
   ]
  },
  {
   "cell_type": "markdown",
   "metadata": {},
   "source": [
    "Because there so many Senate races, we can create a dictionary of pandas DataFrames that will be keyed by the name of the election (a string). "
   ]
  },
  {
   "cell_type": "code",
   "execution_count": null,
   "metadata": {
    "collapsed": false
   },
   "outputs": [],
   "source": [
    "def build_frame(url):\n",
    "    \"\"\"\n",
    "    Returns a pandas DataFrame object containing\n",
    "    the data returned from the given url\n",
    "    \"\"\"\n",
    "    source = requests.get(url).text\n",
    "    \n",
    "    # Use StringIO because pd.DataFrame.from_csv requires .read() method\n",
    "    s = StringIO(source)\n",
    "    \n",
    "    return pd.DataFrame.from_csv(s, index_col=None).convert_objects(\n",
    "            convert_dates=\"coerce\", convert_numeric=True)"
   ]
  },
  {
   "cell_type": "code",
   "execution_count": null,
   "metadata": {
    "collapsed": false
   },
   "outputs": [],
   "source": [
    "# Makes a dictionary of pandas DataFrames keyed on election string.\n",
    "dfs = dict((election.split(\"/\")[-1][:-4], build_frame(election)) for election in election_urls)"
   ]
  },
  {
   "cell_type": "markdown",
   "metadata": {},
   "source": [
    "Show the head of the DataFrame containing the polls for the 2014 Senate race in Kentucky between McConnell and Grimes."
   ]
  },
  {
   "cell_type": "code",
   "execution_count": null,
   "metadata": {
    "collapsed": false
   },
   "outputs": [],
   "source": [
    "#your code here"
   ]
  },
  {
   "cell_type": "markdown",
   "metadata": {},
   "source": [
    "#### Problem 4(b)\n",
    "\n",
    "For each 2014 Senate race, create a preliminary prediction of the result for that state."
   ]
  },
  {
   "cell_type": "code",
   "execution_count": null,
   "metadata": {
    "collapsed": false
   },
   "outputs": [],
   "source": [
    "#your code here"
   ]
  },
  {
   "cell_type": "markdown",
   "metadata": {},
   "source": [
    "# Submission Instructions\n",
    "\n",
    "To submit your homework, create a folder named **lastname_firstinitial_hw#** and place your IPython notebooks, data files, and any other files in this folder. Your IPython Notebooks should be completely executed with the results visible in the notebook. We should not have to run any code.  Compress the folder (please use .zip compression) and submit to the CS109 dropbox in the appropriate folder. *If we cannot access your work because these directions are not followed correctly, we will not grade your work.*\n"
   ]
  },
  {
   "cell_type": "code",
   "execution_count": null,
   "metadata": {
    "collapsed": false
   },
   "outputs": [],
   "source": []
  }
 ],
 "metadata": {
  "kernelspec": {
   "display_name": "Python 2",
   "language": "python",
   "name": "python2"
  },
  "language_info": {
   "codemirror_mode": {
    "name": "ipython",
    "version": 2
   },
   "file_extension": ".py",
   "mimetype": "text/x-python",
   "name": "python",
   "nbconvert_exporter": "python",
   "pygments_lexer": "ipython2",
   "version": "2.7.11"
  }
 },
 "nbformat": 4,
 "nbformat_minor": 0
}
