{
 "cells": [
  {
   "cell_type": "markdown",
   "metadata": {},
   "source": [
    "# Homework 3: Prediction and Classification\n",
    "\n",
    "Due: Thursday, October 16, 2014 11:59 PM\n",
    "\n",
    "<a href=https://raw.githubusercontent.com/cs109/2014/master/homework/HW3.ipynb download=HW3.ipynb> Download this assignment</a>\n",
    "\n",
    "#### Submission Instructions\n",
    "To submit your homework, create a folder named lastname_firstinitial_hw# and place your IPython notebooks, data files, and any other files in this folder. Your IPython Notebooks should be completely executed with the results visible in the notebook. We should not have to run any code. Compress the folder (please use .zip compression) and submit to the CS109 dropbox in the appropriate folder. If we cannot access your work because these directions are not followed correctly, we will not grade your work.\n",
    "\n",
    "---\n"
   ]
  },
  {
   "cell_type": "markdown",
   "metadata": {},
   "source": [
    "# Introduction\n",
    "\n",
    "In this assignment you will be using regression and classification to explore different data sets.  \n",
    "\n",
    "**First**: You will use data from before 2002 in the [Sean Lahman's Baseball Database](http://seanlahman.com/baseball-archive/statistics) to create a metric for picking baseball players using linear regression. This is same database we used in Homework 1. This database contains the \"complete batting and pitching statistics from 1871 to 2013, plus fielding statistics, standings, team stats, managerial records, post-season data, and more\". [Documentation provided here](http://seanlahman.com/files/database/readme2012.txt).\n",
    "\n",
    "![\"Sabermetrics Science\"](http://saberseminar.com/wp-content/uploads/2012/01/saber-web.jpg)\n",
    "http://saberseminar.com/wp-content/uploads/2012/01/saber-web.jpg\n",
    "\n",
    "**Second**: You will use the famous [iris](http://en.wikipedia.org/wiki/Iris_flower_data_set) data set to perform a $k$-neareast neighbor classification using cross validation.  While it was introduced in 1936, it is still [one of the most popular](http://archive.ics.uci.edu/ml/) example data sets in the machine learning community. Wikipedia describes the data set as follows: \"The data set consists of 50 samples from each of three species of Iris (Iris setosa, Iris virginica and Iris versicolor). Four features were measured from each sample: the length and the width of the sepals and petals, in centimetres.\" Here is an illustration what the four features measure:\n",
    "\n",
    "![\"iris data features\"](http://sebastianraschka.com/Images/2014_python_lda/iris_petal_sepal.png)\n",
    "http://sebastianraschka.com/Images/2014_python_lda/iris_petal_sepal.png\n",
    "\n",
    "**Third**: You will investigate the influence of higher dimensional spaces on the classification using another standard data set in machine learning called the The [digits data set](http://scikit-learn.org/stable/modules/generated/sklearn.datasets.load_digits.html).  This data set is similar to the MNIST data set discussed in the lecture. The main difference is, that each digit is represented by an 8x8 pixel image patch, which is considerably smaller than the 28x28 pixels from MNIST. In addition, the gray values are restricted to 16 different values (4 bit), instead of 256 (8 bit) for MNIST. \n",
    "\n",
    "**Finally**: In preparation for Homework 4, we want you to read through the following articles related to predicting the 2014 Senate Midterm Elections. \n",
    "\n",
    "* [Nate Silver's Methodology at while at NYT](http://fivethirtyeight.blogs.nytimes.com/methodology/)\n",
    "* [How The FiveThirtyEight Senate Forecast Model Works](http://fivethirtyeight.com/features/how-the-fivethirtyeight-senate-forecast-model-works/)\n",
    "* [Pollster Ratings v4.0: Methodology](http://fivethirtyeight.com/features/pollster-ratings-v40-methodology/)\n",
    "* [Pollster Ratings v4.0: Results](http://fivethirtyeight.com/features/pollster-ratings-v40-results/)\n",
    "* [Nate Silver versus Sam Wang](http://www.washingtonpost.com/blogs/plum-line/wp/2014/09/17/nate-silver-versus-sam-wang/)\n",
    "* [More Nate Silver versus Sam Wang](http://www.dailykos.com/story/2014/09/09/1328288/-Get-Ready-To-Rumbllllle-Battle-Of-The-Nerds-Nate-Silver-VS-Sam-Wang)\n",
    "* [Nate Silver explains critisims of Sam Wang](http://politicalwire.com/archives/2014/10/02/nate_silver_rebuts_sam_wang.html)\n",
    "* [Background on the feud between Nate Silver and Sam Wang](http://talkingpointsmemo.com/dc/nate-silver-sam-wang-feud)\n",
    "* [Are there swing voters?]( http://www.stat.columbia.edu/~gelman/research/unpublished/swing_voters.pdf)\n",
    "\n",
    "\n",
    "\n",
    "---"
   ]
  },
  {
   "cell_type": "markdown",
   "metadata": {},
   "source": [
    "## Load Python modules"
   ]
  },
  {
   "cell_type": "code",
   "execution_count": 238,
   "metadata": {
    "collapsed": false
   },
   "outputs": [],
   "source": [
    "# special IPython command to prepare the notebook for matplotlib\n",
    "%matplotlib inline \n",
    "\n",
    "import requests \n",
    "import StringIO\n",
    "import zipfile\n",
    "import numpy as np\n",
    "import pandas as pd # pandas\n",
    "import matplotlib.pyplot as plt # module for plotting \n",
    "\n",
    "# If this module is not already installed, you may need to install it. \n",
    "# You can do this by typing 'pip install seaborn' in the command line\n",
    "import seaborn as sns \n",
    "\n",
    "import sklearn\n",
    "import sklearn.datasets\n",
    "import sklearn.cross_validation\n",
    "import sklearn.decomposition\n",
    "import sklearn.grid_search\n",
    "import sklearn.neighbors\n",
    "import sklearn.metrics"
   ]
  },
  {
   "cell_type": "markdown",
   "metadata": {},
   "source": [
    "# Problem 1: Sabermetrics\n",
    "\n",
    "Using data preceding the 2002 season pick 10 offensive players keeping the payroll under $20 million (assign each player the median salary). Predict how many games this team would win in a 162 game season.  \n",
    "\n",
    "In this problem we will be returning to the [Sean Lahman's Baseball Database](http://seanlahman.com/baseball-archive/statistics) that we used in Homework 1.  From this database, we will be extract five data sets containing information such as yearly stats and standing, batting statistics, fielding statistics, player names, player salaries and biographical information. You will explore the data in this database from before 2002 and create a metric for picking players. "
   ]
  },
  {
   "cell_type": "markdown",
   "metadata": {},
   "source": [
    "#### Problem 1(a) \n",
    "\n",
    "Load in [these CSV files](http://seanlahman.com/files/database/lahman-csv_2014-02-14.zip) from the [Sean Lahman's Baseball Database](http://seanlahman.com/baseball-archive/statistics). For this assignment, we will use the 'Teams.csv', 'Batting.csv', 'Salaries.csv', 'Fielding.csv', 'Master.csv' tables. Read these tables into separate pandas DataFrames with the following names. \n",
    "\n",
    "CSV file name | Name of pandas DataFrame\n",
    ":---: | :---: \n",
    "Teams.csv | teams\n",
    "Batting.csv | players\n",
    "Salaries.csv | salaries\n",
    "Fielding.csv | fielding\n",
    "Master.csv | master"
   ]
  },
  {
   "cell_type": "code",
   "execution_count": 239,
   "metadata": {
    "collapsed": false
   },
   "outputs": [],
   "source": [
    "### Your code here ###\n",
    "def get_ZIP(file_path):\n",
    "    listFiles = zipfile.ZipFile(file_path,'r')\n",
    "    return listFiles\n",
    "    \n",
    "zippy = get_ZIP('data/lahman-csv_2014-02-14.zip')\n",
    "   "
   ]
  },
  {
   "cell_type": "code",
   "execution_count": 240,
   "metadata": {
    "collapsed": false
   },
   "outputs": [],
   "source": [
    "df_list ={}\n",
    "\n",
    "\n",
    "def convert_to_df(lsitFiles):\n",
    "    csv_dict ={'Teams.csv':'teams','Batting.csv':'players','Salaries.csv':'salaries','Fielding.csv':'fielding','Master.csv':'master'}\n",
    "    for file in zippy.namelist():\n",
    "        if file in csv_dict:\n",
    "            df = pd.read_csv(zippy.open(file))\n",
    "            df_list[csv_dict[file]]=df\n",
    "    \n",
    "            \n",
    "convert_to_df(zippy)\n"
   ]
  },
  {
   "cell_type": "markdown",
   "metadata": {},
   "source": [
    "#### Problem 1(b)\n",
    "\n",
    "Calculate the median salary for each player and create a pandas DataFrame called `medianSalaries` with four columns: (1) the player ID, (2) the first name of the player, (3) the last name of the player and (4) the median salary of the player. Show the head of the `medianSalaries` DataFrame.   "
   ]
  },
  {
   "cell_type": "code",
   "execution_count": 241,
   "metadata": {
    "collapsed": false
   },
   "outputs": [
    {
     "data": {
      "text/html": [
       "<div>\n",
       "<table border=\"1\" class=\"dataframe\">\n",
       "  <thead>\n",
       "    <tr style=\"text-align: right;\">\n",
       "      <th></th>\n",
       "      <th>playerID</th>\n",
       "      <th>nameFirst</th>\n",
       "      <th>nameLast</th>\n",
       "      <th>median_salary</th>\n",
       "    </tr>\n",
       "  </thead>\n",
       "  <tbody>\n",
       "    <tr>\n",
       "      <th>0</th>\n",
       "      <td>aardsda01</td>\n",
       "      <td>David</td>\n",
       "      <td>Aardsma</td>\n",
       "      <td>419000</td>\n",
       "    </tr>\n",
       "    <tr>\n",
       "      <th>1</th>\n",
       "      <td>aasedo01</td>\n",
       "      <td>Don</td>\n",
       "      <td>Aase</td>\n",
       "      <td>612500</td>\n",
       "    </tr>\n",
       "    <tr>\n",
       "      <th>2</th>\n",
       "      <td>abadan01</td>\n",
       "      <td>Andy</td>\n",
       "      <td>Abad</td>\n",
       "      <td>327000</td>\n",
       "    </tr>\n",
       "    <tr>\n",
       "      <th>3</th>\n",
       "      <td>abadfe01</td>\n",
       "      <td>Fernando</td>\n",
       "      <td>Abad</td>\n",
       "      <td>451500</td>\n",
       "    </tr>\n",
       "    <tr>\n",
       "      <th>4</th>\n",
       "      <td>abbotje01</td>\n",
       "      <td>Jeff</td>\n",
       "      <td>Abbott</td>\n",
       "      <td>255000</td>\n",
       "    </tr>\n",
       "  </tbody>\n",
       "</table>\n",
       "</div>"
      ],
      "text/plain": [
       "    playerID nameFirst nameLast  median_salary\n",
       "0  aardsda01     David  Aardsma         419000\n",
       "1   aasedo01       Don     Aase         612500\n",
       "2   abadan01      Andy     Abad         327000\n",
       "3   abadfe01  Fernando     Abad         451500\n",
       "4  abbotje01      Jeff   Abbott         255000"
      ]
     },
     "execution_count": 241,
     "metadata": {},
     "output_type": "execute_result"
    }
   ],
   "source": [
    "### Your code here ###\n",
    "allSalaries = pd.merge(df_list['salaries'],df_list['players'], on=['playerID','yearID'], how='left',suffixes=('_sal','_play'))\n",
    "allSalaries = allSalaries[['playerID','salary']]\n",
    "\n",
    "allSalaries = allSalaries.groupby('playerID').median()\n",
    "allSalaries = allSalaries.reset_index()\n",
    "\n",
    "allSalaries = pd.merge(allSalaries,df_list['master'], on=['playerID'],how='left')\n",
    "\n",
    "allSalaries = allSalaries[['playerID','nameFirst','nameLast','salary']]\n",
    "allSalaries.columns = ['playerID','nameFirst','nameLast','median_salary']\n",
    "allSalaries.head()"
   ]
  },
  {
   "cell_type": "markdown",
   "metadata": {},
   "source": [
    "#### Problem 1(c)\n",
    "\n",
    "Now, consider only team/season combinations in which the teams played 162 Games. Exclude all data from before 1947. Compute the per plate appearance rates for singles, doubles, triples, HR, and BB. Create a new pandas DataFrame called `stats` that has the teamID, yearID, wins and these rates.\n",
    "\n",
    "**Hint**: Singles are hits that are not doubles, triples, nor HR. Plate appearances are base on balls plus at bats."
   ]
  },
  {
   "cell_type": "code",
   "execution_count": 242,
   "metadata": {
    "collapsed": false
   },
   "outputs": [
    {
     "data": {
      "text/html": [
       "<div>\n",
       "<table border=\"1\" class=\"dataframe\">\n",
       "  <thead>\n",
       "    <tr style=\"text-align: right;\">\n",
       "      <th></th>\n",
       "      <th>teamID</th>\n",
       "      <th>yearID</th>\n",
       "      <th>W</th>\n",
       "      <th>1B</th>\n",
       "      <th>2B</th>\n",
       "      <th>3B</th>\n",
       "      <th>HR</th>\n",
       "      <th>BB</th>\n",
       "    </tr>\n",
       "  </thead>\n",
       "  <tbody>\n",
       "    <tr>\n",
       "      <th>1366</th>\n",
       "      <td>LAA</td>\n",
       "      <td>1961</td>\n",
       "      <td>70</td>\n",
       "      <td>0.147748</td>\n",
       "      <td>0.035708</td>\n",
       "      <td>0.003604</td>\n",
       "      <td>0.030958</td>\n",
       "      <td>0.111548</td>\n",
       "    </tr>\n",
       "    <tr>\n",
       "      <th>1367</th>\n",
       "      <td>KC1</td>\n",
       "      <td>1961</td>\n",
       "      <td>61</td>\n",
       "      <td>0.164751</td>\n",
       "      <td>0.035982</td>\n",
       "      <td>0.007829</td>\n",
       "      <td>0.014993</td>\n",
       "      <td>0.096618</td>\n",
       "    </tr>\n",
       "    <tr>\n",
       "      <th>1377</th>\n",
       "      <td>NYA</td>\n",
       "      <td>1962</td>\n",
       "      <td>96</td>\n",
       "      <td>0.167148</td>\n",
       "      <td>0.038536</td>\n",
       "      <td>0.004656</td>\n",
       "      <td>0.031952</td>\n",
       "      <td>0.093770</td>\n",
       "    </tr>\n",
       "    <tr>\n",
       "      <th>1379</th>\n",
       "      <td>LAA</td>\n",
       "      <td>1962</td>\n",
       "      <td>86</td>\n",
       "      <td>0.159482</td>\n",
       "      <td>0.038027</td>\n",
       "      <td>0.005737</td>\n",
       "      <td>0.022455</td>\n",
       "      <td>0.098672</td>\n",
       "    </tr>\n",
       "    <tr>\n",
       "      <th>1381</th>\n",
       "      <td>CHA</td>\n",
       "      <td>1962</td>\n",
       "      <td>85</td>\n",
       "      <td>0.165797</td>\n",
       "      <td>0.040756</td>\n",
       "      <td>0.009129</td>\n",
       "      <td>0.014998</td>\n",
       "      <td>0.101076</td>\n",
       "    </tr>\n",
       "  </tbody>\n",
       "</table>\n",
       "</div>"
      ],
      "text/plain": [
       "     teamID  yearID   W        1B        2B        3B        HR        BB\n",
       "1366    LAA    1961  70  0.147748  0.035708  0.003604  0.030958  0.111548\n",
       "1367    KC1    1961  61  0.164751  0.035982  0.007829  0.014993  0.096618\n",
       "1377    NYA    1962  96  0.167148  0.038536  0.004656  0.031952  0.093770\n",
       "1379    LAA    1962  86  0.159482  0.038027  0.005737  0.022455  0.098672\n",
       "1381    CHA    1962  85  0.165797  0.040756  0.009129  0.014998  0.101076"
      ]
     },
     "execution_count": 242,
     "metadata": {},
     "output_type": "execute_result"
    }
   ],
   "source": [
    "### Your code here ###\n",
    "\n",
    "### Your code here ###\n",
    "teams = df_list['teams']\n",
    "subTeams = teams[(teams['G'] == 162) & (teams['yearID'] > 1947)].copy()\n",
    "\n",
    "subTeams[\"1B\"] = subTeams.H - subTeams[\"2B\"] - subTeams[\"3B\"] - subTeams[\"HR\"]\n",
    "subTeams[\"PA\"] = subTeams.BB + subTeams.AB\n",
    "\n",
    "for col in [\"1B\",\"2B\",\"3B\",\"HR\",\"BB\"]:\n",
    "    subTeams[col] = subTeams[col]/subTeams.PA\n",
    "    \n",
    "stats = subTeams[[\"teamID\",\"yearID\",\"W\",\"1B\",\"2B\",\"3B\",\"HR\",\"BB\"]].copy()\n",
    "stats.head()"
   ]
  },
  {
   "cell_type": "markdown",
   "metadata": {},
   "source": [
    "#### Problem 1(d)\n",
    "\n",
    "Is there a noticeable time trend in the rates computed computed in Problem 1(c)? "
   ]
  },
  {
   "cell_type": "code",
   "execution_count": 243,
   "metadata": {
    "collapsed": false
   },
   "outputs": [
    {
     "data": {
      "text/plain": [
       "<matplotlib.axes._subplots.AxesSubplot at 0x7fb24b163690>"
      ]
     },
     "execution_count": 243,
     "metadata": {},
     "output_type": "execute_result"
    },
    {
     "data": {
      "image/png": "[encoded data removed]",
      "text/plain": [
       "<matplotlib.figure.Figure at 0x7fb2503bb6d0>"
      ]
     },
     "metadata": {},
     "output_type": "display_data"
    },
    {
     "data": {
      "image/png": "[encoded data removed]",
      "text/plain": [
       "<matplotlib.figure.Figure at 0x7fb24eb2b810>"
      ]
     },
     "metadata": {},
     "output_type": "display_data"
    }
   ],
   "source": [
    "### Your code here ###\n",
    "\n",
    "groupy = stats.groupby('yearID').mean()\n",
    "cols = groupy.columns\n",
    "cols = cols[1:]\n",
    "groupy[cols].plot()\n",
    "stats.boxplot(\"2B\",by=\"yearID\",rot=90)"
   ]
  },
  {
   "cell_type": "markdown",
   "metadata": {},
   "source": [
    "#### Problem 1(e) \n",
    "\n",
    "Using the `stats` DataFrame from Problem 1(c), adjust the singles per PA rates so that the average across teams for each year is 0. Do the same for the doubles, triples, HR, and BB rates. "
   ]
  },
  {
   "cell_type": "code",
   "execution_count": 244,
   "metadata": {
    "collapsed": false
   },
   "outputs": [],
   "source": [
    "### Your code here ###\n",
    "# normalize rates per year\n",
    "stats.head()\n",
    "groupy = stats.groupby('yearID')\n",
    "\n",
    "\n",
    "cols = ['1B','2B','3B','HR','BB']\n",
    "\n",
    "def normalize(col):\n",
    "    normalized_col = str(col) + \"_normalized\"\n",
    "    stats[normalized_col] = groupy[col].transform(lambda x: x-x.mean())\n",
    "\n",
    "map(normalize,cols)\n",
    "\n",
    "normalized_cols = [col for col in stats.columns.tolist() if 'norm' in col]\n",
    "stats2 = stats[['teamID','yearID','W']+normalized_cols]\n"
   ]
  },
  {
   "cell_type": "markdown",
   "metadata": {},
   "source": [
    "#### Problem 1(f)\n",
    "\n",
    "Build a simple linear regression model to predict the number of wins from the average adjusted singles, double, triples, HR, and BB rates. To decide which of these terms to include fit the model to data from 2002 and compute the average squared residuals from predictions to years past 2002. Use the fitted model to define a new sabermetric summary: offensive predicted wins (OPW). Hint: the new summary should be a linear combination of one to five of the five rates.\n"
   ]
  },
  {
   "cell_type": "code",
   "execution_count": 245,
   "metadata": {
    "collapsed": false
   },
   "outputs": [
    {
     "name": "stdout",
     "output_type": "stream",
     "text": [
      "MSE : 83.8230424898\n"
     ]
    },
    {
     "data": {
      "text/plain": [
       "LinearRegression(copy_X=True, fit_intercept=True, n_jobs=1, normalize=False)"
      ]
     },
     "execution_count": 245,
     "metadata": {},
     "output_type": "execute_result"
    }
   ],
   "source": [
    "### Your code here ###\n",
    "def make_prediction():\n",
    "    y_train = stats2.W[stats2.yearID<2002].values\n",
    "    y_test = stats2.W[stats2.yearID>=2002].values\n",
    "\n",
    "    X_train = stats2[normalized_cols][stats2.yearID<2002].values\n",
    "   \n",
    "\n",
    "    X_test = stats2[normalized_cols][stats2.yearID>=2002].values\n",
    "\n",
    "    \n",
    "    model = sklearn.linear_model.LinearRegression()\n",
    "    model.fit(X_train,y_train)\n",
    "    \n",
    "    print ('MSE : {0}'.format(np.mean((y_test - model.predict(X_test)) ** 2)))\n",
    "    return model\n",
    "\n",
    "\n",
    "make_prediction()\n",
    "\n"
   ]
  },
  {
   "cell_type": "markdown",
   "metadata": {},
   "source": [
    "** Your answer here: **"
   ]
  },
  {
   "cell_type": "markdown",
   "metadata": {},
   "source": [
    "#### Problem 1(g)\n",
    "\n",
    "Now we will create a similar database for individual players. Consider only player/year combinations in which the player had at least 500 plate appearances. Consider only the years we considered for the calculations above (after 1947 and seasons with 162 games). For each player/year compute singles, doubles, triples, HR, BB per plate appearance rates. Create a new pandas DataFrame called `playerstats` that has the playerID, yearID and the rates of these stats.  Remove the average for each year as for these rates as done in Problem 1(e). "
   ]
  },
  {
   "cell_type": "code",
   "execution_count": 246,
   "metadata": {
    "collapsed": false
   },
   "outputs": [
    {
     "data": {
      "text/html": [
       "<div>\n",
       "<table border=\"1\" class=\"dataframe\">\n",
       "  <thead>\n",
       "    <tr style=\"text-align: right;\">\n",
       "      <th></th>\n",
       "      <th>playerID</th>\n",
       "      <th>yearID</th>\n",
       "      <th>1B</th>\n",
       "      <th>2B</th>\n",
       "      <th>3B</th>\n",
       "      <th>HR</th>\n",
       "      <th>BB</th>\n",
       "    </tr>\n",
       "  </thead>\n",
       "  <tbody>\n",
       "    <tr>\n",
       "      <th>8</th>\n",
       "      <td>aaronha01</td>\n",
       "      <td>1955</td>\n",
       "      <td>0.178187</td>\n",
       "      <td>0.056836</td>\n",
       "      <td>0.013825</td>\n",
       "      <td>0.041475</td>\n",
       "      <td>0.075269</td>\n",
       "    </tr>\n",
       "    <tr>\n",
       "      <th>9</th>\n",
       "      <td>aaronha01</td>\n",
       "      <td>1956</td>\n",
       "      <td>0.195046</td>\n",
       "      <td>0.052632</td>\n",
       "      <td>0.021672</td>\n",
       "      <td>0.040248</td>\n",
       "      <td>0.057276</td>\n",
       "    </tr>\n",
       "    <tr>\n",
       "      <th>10</th>\n",
       "      <td>aaronha01</td>\n",
       "      <td>1957</td>\n",
       "      <td>0.180060</td>\n",
       "      <td>0.040179</td>\n",
       "      <td>0.008929</td>\n",
       "      <td>0.065476</td>\n",
       "      <td>0.084821</td>\n",
       "    </tr>\n",
       "    <tr>\n",
       "      <th>11</th>\n",
       "      <td>aaronha01</td>\n",
       "      <td>1958</td>\n",
       "      <td>0.193939</td>\n",
       "      <td>0.051515</td>\n",
       "      <td>0.006061</td>\n",
       "      <td>0.045455</td>\n",
       "      <td>0.089394</td>\n",
       "    </tr>\n",
       "    <tr>\n",
       "      <th>12</th>\n",
       "      <td>aaronha01</td>\n",
       "      <td>1959</td>\n",
       "      <td>0.192647</td>\n",
       "      <td>0.067647</td>\n",
       "      <td>0.010294</td>\n",
       "      <td>0.057353</td>\n",
       "      <td>0.075000</td>\n",
       "    </tr>\n",
       "  </tbody>\n",
       "</table>\n",
       "</div>"
      ],
      "text/plain": [
       "     playerID  yearID        1B        2B        3B        HR        BB\n",
       "8   aaronha01    1955  0.178187  0.056836  0.013825  0.041475  0.075269\n",
       "9   aaronha01    1956  0.195046  0.052632  0.021672  0.040248  0.057276\n",
       "10  aaronha01    1957  0.180060  0.040179  0.008929  0.065476  0.084821\n",
       "11  aaronha01    1958  0.193939  0.051515  0.006061  0.045455  0.089394\n",
       "12  aaronha01    1959  0.192647  0.067647  0.010294  0.057353  0.075000"
      ]
     },
     "execution_count": 246,
     "metadata": {},
     "output_type": "execute_result"
    }
   ],
   "source": [
    "### Your code here ###\n",
    "players = df_list['players']\n",
    "subPlayers = players[(players.AB + players.BB > 500)  & (players.yearID > 1947)].copy()\n",
    "\n",
    "subPlayers[\"1B\"] = subPlayers.H - subPlayers[\"2B\"] - subPlayers[\"3B\"] - subPlayers[\"HR\"]\n",
    "subPlayers[\"PA\"] = subPlayers.BB + subPlayers.AB\n",
    "\n",
    "for col in [\"1B\",\"2B\",\"3B\",\"HR\",\"BB\"]:\n",
    "    subPlayers[col] = subPlayers[col]/subPlayers.PA\n",
    "\n",
    "# Create playerstats DataFrame\n",
    "playerstats = subPlayers[[\"playerID\",\"yearID\",\"1B\",\"2B\",\"3B\",\"HR\",\"BB\"]].copy()\n",
    "\n",
    "\n",
    "playerstats.head()"
   ]
  },
  {
   "cell_type": "code",
   "execution_count": 247,
   "metadata": {
    "collapsed": false
   },
   "outputs": [
    {
     "name": "stdout",
     "output_type": "stream",
     "text": [
      "['1B', '2B', '3B', 'HR', 'BB']\n"
     ]
    },
    {
     "data": {
      "text/html": [
       "<div>\n",
       "<table border=\"1\" class=\"dataframe\">\n",
       "  <thead>\n",
       "    <tr style=\"text-align: right;\">\n",
       "      <th></th>\n",
       "      <th>yearID</th>\n",
       "      <th>playerID</th>\n",
       "      <th>1B_norm</th>\n",
       "      <th>2B_norm</th>\n",
       "      <th>3B_norm</th>\n",
       "      <th>HR_norm</th>\n",
       "      <th>BB_norm</th>\n",
       "    </tr>\n",
       "  </thead>\n",
       "  <tbody>\n",
       "    <tr>\n",
       "      <th>8</th>\n",
       "      <td>1955</td>\n",
       "      <td>aaronha01</td>\n",
       "      <td>0.001060</td>\n",
       "      <td>0.018570</td>\n",
       "      <td>0.005585</td>\n",
       "      <td>0.011337</td>\n",
       "      <td>-0.027249</td>\n",
       "    </tr>\n",
       "    <tr>\n",
       "      <th>9</th>\n",
       "      <td>1956</td>\n",
       "      <td>aaronha01</td>\n",
       "      <td>0.021561</td>\n",
       "      <td>0.013857</td>\n",
       "      <td>0.012480</td>\n",
       "      <td>0.009593</td>\n",
       "      <td>-0.044600</td>\n",
       "    </tr>\n",
       "    <tr>\n",
       "      <th>10</th>\n",
       "      <td>1957</td>\n",
       "      <td>aaronha01</td>\n",
       "      <td>0.004817</td>\n",
       "      <td>-0.002034</td>\n",
       "      <td>0.000466</td>\n",
       "      <td>0.037093</td>\n",
       "      <td>-0.013166</td>\n",
       "    </tr>\n",
       "    <tr>\n",
       "      <th>11</th>\n",
       "      <td>1958</td>\n",
       "      <td>aaronha01</td>\n",
       "      <td>0.018367</td>\n",
       "      <td>0.011015</td>\n",
       "      <td>-0.002219</td>\n",
       "      <td>0.015398</td>\n",
       "      <td>-0.007762</td>\n",
       "    </tr>\n",
       "    <tr>\n",
       "      <th>12</th>\n",
       "      <td>1959</td>\n",
       "      <td>aaronha01</td>\n",
       "      <td>0.016261</td>\n",
       "      <td>0.025762</td>\n",
       "      <td>0.002743</td>\n",
       "      <td>0.028368</td>\n",
       "      <td>-0.022898</td>\n",
       "    </tr>\n",
       "  </tbody>\n",
       "</table>\n",
       "</div>"
      ],
      "text/plain": [
       "    yearID   playerID   1B_norm   2B_norm   3B_norm   HR_norm   BB_norm\n",
       "8     1955  aaronha01  0.001060  0.018570  0.005585  0.011337 -0.027249\n",
       "9     1956  aaronha01  0.021561  0.013857  0.012480  0.009593 -0.044600\n",
       "10    1957  aaronha01  0.004817 -0.002034  0.000466  0.037093 -0.013166\n",
       "11    1958  aaronha01  0.018367  0.011015 -0.002219  0.015398 -0.007762\n",
       "12    1959  aaronha01  0.016261  0.025762  0.002743  0.028368 -0.022898"
      ]
     },
     "execution_count": 247,
     "metadata": {},
     "output_type": "execute_result"
    }
   ],
   "source": [
    "#normalize per year\n",
    "cols = playerstats.columns.tolist()[2:]\n",
    "print cols\n",
    "for col in cols:\n",
    "    col_norm = col+\"_norm\"\n",
    "    playerstats[col_norm] = playerstats.groupby('yearID')[col].transform(lambda x : x-x.mean())\n",
    "\n",
    "cols = [col for col in playerstats.columns.tolist() if (\"norm\" in col)]\n",
    "playerstats = playerstats[['yearID','playerID'] + cols]\n",
    "playerstats.head()"
   ]
  },
  {
   "cell_type": "markdown",
   "metadata": {},
   "source": [
    "Show the head of the `playerstats` DataFrame. "
   ]
  },
  {
   "cell_type": "code",
   "execution_count": 248,
   "metadata": {
    "collapsed": false
   },
   "outputs": [],
   "source": [
    "### Your code here ###"
   ]
  },
  {
   "cell_type": "markdown",
   "metadata": {},
   "source": [
    "#### Problem 1(h)\n",
    "\n",
    "Using the `playerstats` DataFrame created in Problem 1(g), create a new DataFrame called `playerLS` containing the player's lifetime stats. This DataFrame should contain the playerID, the year the player's career started, the year the player's career ended and the player's lifetime average for each of the quantities (singles, doubles, triples, HR, BB). For simplicity we will simply compute the avaerage of the rates by year (a more correct way is to go back to the totals). "
   ]
  },
  {
   "cell_type": "code",
   "execution_count": 249,
   "metadata": {
    "collapsed": false
   },
   "outputs": [
    {
     "name": "stdout",
     "output_type": "stream",
     "text": [
      "['1B_norm', '2B_norm', '3B_norm', 'HR_norm', 'BB_norm']\n"
     ]
    },
    {
     "data": {
      "text/html": [
       "<div>\n",
       "<table border=\"1\" class=\"dataframe\">\n",
       "  <thead>\n",
       "    <tr style=\"text-align: right;\">\n",
       "      <th></th>\n",
       "      <th>playerID</th>\n",
       "      <th>debut</th>\n",
       "      <th>finalGame</th>\n",
       "      <th>1B_norm</th>\n",
       "      <th>2B_norm</th>\n",
       "      <th>3B_norm</th>\n",
       "      <th>HR_norm</th>\n",
       "      <th>BB_norm</th>\n",
       "    </tr>\n",
       "  </thead>\n",
       "  <tbody>\n",
       "    <tr>\n",
       "      <th>0</th>\n",
       "      <td>aaronha01</td>\n",
       "      <td>1954-04-13</td>\n",
       "      <td>1976-10-03</td>\n",
       "      <td>-0.007157</td>\n",
       "      <td>0.006539</td>\n",
       "      <td>-0.000270</td>\n",
       "      <td>0.027850</td>\n",
       "      <td>0.009447</td>\n",
       "    </tr>\n",
       "    <tr>\n",
       "      <th>1</th>\n",
       "      <td>abramca01</td>\n",
       "      <td>1949-04-20</td>\n",
       "      <td>1956-05-09</td>\n",
       "      <td>0.013463</td>\n",
       "      <td>-0.023915</td>\n",
       "      <td>0.002384</td>\n",
       "      <td>0.003842</td>\n",
       "      <td>0.019455</td>\n",
       "    </tr>\n",
       "    <tr>\n",
       "      <th>2</th>\n",
       "      <td>abreubo01</td>\n",
       "      <td>1996-09-01</td>\n",
       "      <td>2012-10-02</td>\n",
       "      <td>-0.008202</td>\n",
       "      <td>0.006421</td>\n",
       "      <td>0.001002</td>\n",
       "      <td>-0.003252</td>\n",
       "      <td>0.050501</td>\n",
       "    </tr>\n",
       "    <tr>\n",
       "      <th>3</th>\n",
       "      <td>ackledu01</td>\n",
       "      <td>2011-06-17</td>\n",
       "      <td>2013-09-29</td>\n",
       "      <td>-0.009270</td>\n",
       "      <td>-0.016605</td>\n",
       "      <td>-0.001974</td>\n",
       "      <td>-0.015274</td>\n",
       "      <td>0.001597</td>\n",
       "    </tr>\n",
       "    <tr>\n",
       "      <th>4</th>\n",
       "      <td>adairje01</td>\n",
       "      <td>1958-09-02</td>\n",
       "      <td>1970-05-03</td>\n",
       "      <td>0.011933</td>\n",
       "      <td>0.003286</td>\n",
       "      <td>-0.002139</td>\n",
       "      <td>-0.012934</td>\n",
       "      <td>-0.037229</td>\n",
       "    </tr>\n",
       "  </tbody>\n",
       "</table>\n",
       "</div>"
      ],
      "text/plain": [
       "    playerID       debut   finalGame   1B_norm   2B_norm   3B_norm   HR_norm  \\\n",
       "0  aaronha01  1954-04-13  1976-10-03 -0.007157  0.006539 -0.000270  0.027850   \n",
       "1  abramca01  1949-04-20  1956-05-09  0.013463 -0.023915  0.002384  0.003842   \n",
       "2  abreubo01  1996-09-01  2012-10-02 -0.008202  0.006421  0.001002 -0.003252   \n",
       "3  ackledu01  2011-06-17  2013-09-29 -0.009270 -0.016605 -0.001974 -0.015274   \n",
       "4  adairje01  1958-09-02  1970-05-03  0.011933  0.003286 -0.002139 -0.012934   \n",
       "\n",
       "    BB_norm  \n",
       "0  0.009447  \n",
       "1  0.019455  \n",
       "2  0.050501  \n",
       "3  0.001597  \n",
       "4 -0.037229  "
      ]
     },
     "execution_count": 249,
     "metadata": {},
     "output_type": "execute_result"
    }
   ],
   "source": [
    "### Your code here ###\n",
    "cols = playerstats.columns.tolist()[2:]\n",
    "print cols\n",
    "playerLS = playerstats.groupby('playerID').mean().reset_index()\n",
    "playerLS = playerLS.drop('yearID',1)\n",
    "playerLS.head()\n",
    "master = df_list['master']\n",
    "playerLS = pd.merge(master[['playerID','debut','finalGame']],playerLS,on=['playerID'])\n",
    "playerLS.head()"
   ]
  },
  {
   "cell_type": "markdown",
   "metadata": {},
   "source": [
    "Show the head of the `playerLS` DataFrame. "
   ]
  },
  {
   "cell_type": "code",
   "execution_count": 250,
   "metadata": {
    "collapsed": false
   },
   "outputs": [],
   "source": [
    "### Your code here ###\n",
    "\n",
    "def getYear(x):\n",
    "    return int(x[:4])\n",
    "\n",
    "playerLS['minYear'] = playerLS.debut.apply(getYear)\n",
    "playerLS['maxYear'] = playerLS.finalGame.apply(getYear)\n",
    "playerLS.drop(playerLS.columns[[1,2]],axis=1,inplace=True)\n"
   ]
  },
  {
   "cell_type": "code",
   "execution_count": null,
   "metadata": {
    "collapsed": false
   },
   "outputs": [],
   "source": [
    "\n"
   ]
  },
  {
   "cell_type": "markdown",
   "metadata": {},
   "source": [
    "#### Problem 1(i)\n",
    "\n",
    "Compute the OPW for each player based on the average rates in the `playerLS` DataFrame. You can interpret this summary statistic as the predicted wins for a team with 9 batters exactly like the player in question. Add this column to the playerLS DataFrame. Call this colum OPW."
   ]
  },
  {
   "cell_type": "code",
   "execution_count": 251,
   "metadata": {
    "collapsed": false
   },
   "outputs": [
    {
     "name": "stdout",
     "output_type": "stream",
     "text": [
      "MSE : 83.8230424898\n"
     ]
    },
    {
     "data": {
      "text/html": [
       "<div>\n",
       "<table border=\"1\" class=\"dataframe\">\n",
       "  <thead>\n",
       "    <tr style=\"text-align: right;\">\n",
       "      <th></th>\n",
       "      <th>minYear</th>\n",
       "      <th>maxYear</th>\n",
       "      <th>OPW</th>\n",
       "      <th>playerID</th>\n",
       "      <th>1B_norm</th>\n",
       "      <th>2B_norm</th>\n",
       "      <th>3B_norm</th>\n",
       "      <th>HR_norm</th>\n",
       "      <th>BB_norm</th>\n",
       "    </tr>\n",
       "  </thead>\n",
       "  <tbody>\n",
       "    <tr>\n",
       "      <th>0</th>\n",
       "      <td>1954</td>\n",
       "      <td>1976</td>\n",
       "      <td>108.696139</td>\n",
       "      <td>aaronha01</td>\n",
       "      <td>-0.007157</td>\n",
       "      <td>0.006539</td>\n",
       "      <td>-0.000270</td>\n",
       "      <td>0.027850</td>\n",
       "      <td>0.009447</td>\n",
       "    </tr>\n",
       "    <tr>\n",
       "      <th>1</th>\n",
       "      <td>1949</td>\n",
       "      <td>1956</td>\n",
       "      <td>92.575472</td>\n",
       "      <td>abramca01</td>\n",
       "      <td>0.013463</td>\n",
       "      <td>-0.023915</td>\n",
       "      <td>0.002384</td>\n",
       "      <td>0.003842</td>\n",
       "      <td>0.019455</td>\n",
       "    </tr>\n",
       "    <tr>\n",
       "      <th>2</th>\n",
       "      <td>1996</td>\n",
       "      <td>2012</td>\n",
       "      <td>104.050008</td>\n",
       "      <td>abreubo01</td>\n",
       "      <td>-0.008202</td>\n",
       "      <td>0.006421</td>\n",
       "      <td>0.001002</td>\n",
       "      <td>-0.003252</td>\n",
       "      <td>0.050501</td>\n",
       "    </tr>\n",
       "    <tr>\n",
       "      <th>3</th>\n",
       "      <td>2011</td>\n",
       "      <td>2013</td>\n",
       "      <td>53.806003</td>\n",
       "      <td>ackledu01</td>\n",
       "      <td>-0.009270</td>\n",
       "      <td>-0.016605</td>\n",
       "      <td>-0.001974</td>\n",
       "      <td>-0.015274</td>\n",
       "      <td>0.001597</td>\n",
       "    </tr>\n",
       "    <tr>\n",
       "      <th>4</th>\n",
       "      <td>1958</td>\n",
       "      <td>1970</td>\n",
       "      <td>56.395050</td>\n",
       "      <td>adairje01</td>\n",
       "      <td>0.011933</td>\n",
       "      <td>0.003286</td>\n",
       "      <td>-0.002139</td>\n",
       "      <td>-0.012934</td>\n",
       "      <td>-0.037229</td>\n",
       "    </tr>\n",
       "  </tbody>\n",
       "</table>\n",
       "</div>"
      ],
      "text/plain": [
       "   minYear  maxYear         OPW   playerID   1B_norm   2B_norm   3B_norm  \\\n",
       "0     1954     1976  108.696139  aaronha01 -0.007157  0.006539 -0.000270   \n",
       "1     1949     1956   92.575472  abramca01  0.013463 -0.023915  0.002384   \n",
       "2     1996     2012  104.050008  abreubo01 -0.008202  0.006421  0.001002   \n",
       "3     2011     2013   53.806003  ackledu01 -0.009270 -0.016605 -0.001974   \n",
       "4     1958     1970   56.395050  adairje01  0.011933  0.003286 -0.002139   \n",
       "\n",
       "    HR_norm   BB_norm  \n",
       "0  0.027850  0.009447  \n",
       "1  0.003842  0.019455  \n",
       "2 -0.003252  0.050501  \n",
       "3 -0.015274  0.001597  \n",
       "4 -0.012934 -0.037229  "
      ]
     },
     "execution_count": 251,
     "metadata": {},
     "output_type": "execute_result"
    }
   ],
   "source": [
    "### Your code here ###\n",
    "model = make_prediction()\n",
    "playerLS['OPW'] = model.predict(playerLS[['1B_norm','2B_norm','3B_norm','HR_norm','BB_norm']].values)\n",
    "cols = playerLS.columns.tolist()\n",
    "cols = cols[-3:] + cols[:-3]\n",
    "playerLS =playerLS[cols]\n",
    "playerLS.head()\n"
   ]
  },
  {
   "cell_type": "markdown",
   "metadata": {},
   "source": [
    "#### Problem 1(j)\n",
    "\n",
    "Add four columns to the `playerLS` DataFrame that contains the player's position (C, 1B, 2B, 3B, SS, LF, CF, RF, or OF), first name, last name and median salary. "
   ]
  },
  {
   "cell_type": "code",
   "execution_count": 252,
   "metadata": {
    "collapsed": false
   },
   "outputs": [],
   "source": [
    "### Your code here ###\n",
    "fielding = df_list['fielding']\n",
    "fielding.head()\n",
    "groupy = fielding.groupby(['playerID','POS'])['yearID'].count()\n",
    "groupy.loc['abbotfr01']\n",
    "groupy = groupy.unstack('POS')\n",
    "groupy['Position']= groupy.idxmax(axis=1)\n",
    "groupy = groupy.reset_index()\n",
    "position_df = groupy[['playerID','Position']]\n"
   ]
  },
  {
   "cell_type": "code",
   "execution_count": 253,
   "metadata": {
    "collapsed": false
   },
   "outputs": [
    {
     "data": {
      "text/html": [
       "<div>\n",
       "<table border=\"1\" class=\"dataframe\">\n",
       "  <thead>\n",
       "    <tr style=\"text-align: right;\">\n",
       "      <th></th>\n",
       "      <th>minYear</th>\n",
       "      <th>maxYear</th>\n",
       "      <th>OPW</th>\n",
       "      <th>playerID</th>\n",
       "      <th>1B_norm</th>\n",
       "      <th>2B_norm</th>\n",
       "      <th>3B_norm</th>\n",
       "      <th>HR_norm</th>\n",
       "      <th>BB_norm</th>\n",
       "      <th>Position</th>\n",
       "      <th>nameFirst</th>\n",
       "      <th>nameLast</th>\n",
       "    </tr>\n",
       "  </thead>\n",
       "  <tbody>\n",
       "    <tr>\n",
       "      <th>0</th>\n",
       "      <td>1954</td>\n",
       "      <td>1976</td>\n",
       "      <td>108.696139</td>\n",
       "      <td>aaronha01</td>\n",
       "      <td>-0.007157</td>\n",
       "      <td>0.006539</td>\n",
       "      <td>-0.000270</td>\n",
       "      <td>0.027850</td>\n",
       "      <td>0.009447</td>\n",
       "      <td>OF</td>\n",
       "      <td>Hank</td>\n",
       "      <td>Aaron</td>\n",
       "    </tr>\n",
       "    <tr>\n",
       "      <th>1</th>\n",
       "      <td>1949</td>\n",
       "      <td>1956</td>\n",
       "      <td>92.575472</td>\n",
       "      <td>abramca01</td>\n",
       "      <td>0.013463</td>\n",
       "      <td>-0.023915</td>\n",
       "      <td>0.002384</td>\n",
       "      <td>0.003842</td>\n",
       "      <td>0.019455</td>\n",
       "      <td>OF</td>\n",
       "      <td>Cal</td>\n",
       "      <td>Abrams</td>\n",
       "    </tr>\n",
       "    <tr>\n",
       "      <th>2</th>\n",
       "      <td>1996</td>\n",
       "      <td>2012</td>\n",
       "      <td>104.050008</td>\n",
       "      <td>abreubo01</td>\n",
       "      <td>-0.008202</td>\n",
       "      <td>0.006421</td>\n",
       "      <td>0.001002</td>\n",
       "      <td>-0.003252</td>\n",
       "      <td>0.050501</td>\n",
       "      <td>RF</td>\n",
       "      <td>Bobby</td>\n",
       "      <td>Abreu</td>\n",
       "    </tr>\n",
       "    <tr>\n",
       "      <th>3</th>\n",
       "      <td>2011</td>\n",
       "      <td>2013</td>\n",
       "      <td>53.806003</td>\n",
       "      <td>ackledu01</td>\n",
       "      <td>-0.009270</td>\n",
       "      <td>-0.016605</td>\n",
       "      <td>-0.001974</td>\n",
       "      <td>-0.015274</td>\n",
       "      <td>0.001597</td>\n",
       "      <td>1B</td>\n",
       "      <td>Dustin</td>\n",
       "      <td>Ackley</td>\n",
       "    </tr>\n",
       "    <tr>\n",
       "      <th>4</th>\n",
       "      <td>1958</td>\n",
       "      <td>1970</td>\n",
       "      <td>56.395050</td>\n",
       "      <td>adairje01</td>\n",
       "      <td>0.011933</td>\n",
       "      <td>0.003286</td>\n",
       "      <td>-0.002139</td>\n",
       "      <td>-0.012934</td>\n",
       "      <td>-0.037229</td>\n",
       "      <td>2B</td>\n",
       "      <td>Jerry</td>\n",
       "      <td>Adair</td>\n",
       "    </tr>\n",
       "  </tbody>\n",
       "</table>\n",
       "</div>"
      ],
      "text/plain": [
       "   minYear  maxYear         OPW   playerID   1B_norm   2B_norm   3B_norm  \\\n",
       "0     1954     1976  108.696139  aaronha01 -0.007157  0.006539 -0.000270   \n",
       "1     1949     1956   92.575472  abramca01  0.013463 -0.023915  0.002384   \n",
       "2     1996     2012  104.050008  abreubo01 -0.008202  0.006421  0.001002   \n",
       "3     2011     2013   53.806003  ackledu01 -0.009270 -0.016605 -0.001974   \n",
       "4     1958     1970   56.395050  adairje01  0.011933  0.003286 -0.002139   \n",
       "\n",
       "    HR_norm   BB_norm Position nameFirst nameLast  \n",
       "0  0.027850  0.009447       OF      Hank    Aaron  \n",
       "1  0.003842  0.019455       OF       Cal   Abrams  \n",
       "2 -0.003252  0.050501       RF     Bobby    Abreu  \n",
       "3 -0.015274  0.001597       1B    Dustin   Ackley  \n",
       "4 -0.012934 -0.037229       2B     Jerry    Adair  "
      ]
     },
     "execution_count": 253,
     "metadata": {},
     "output_type": "execute_result"
    }
   ],
   "source": [
    "playerLS = playerLS.merge(position_df,on='playerID', how='inner')\n",
    "master.head()\n",
    "playerLS = playerLS.merge(master[['nameFirst','nameLast','playerID']],on='playerID',how='inner')\n",
    "playerLS.head()"
   ]
  },
  {
   "cell_type": "markdown",
   "metadata": {},
   "source": [
    "Show the head of the `playerLS` DataFrame. "
   ]
  },
  {
   "cell_type": "code",
   "execution_count": 254,
   "metadata": {
    "collapsed": false
   },
   "outputs": [
    {
     "data": {
      "text/html": [
       "<div>\n",
       "<table border=\"1\" class=\"dataframe\">\n",
       "  <thead>\n",
       "    <tr style=\"text-align: right;\">\n",
       "      <th></th>\n",
       "      <th>minYear</th>\n",
       "      <th>maxYear</th>\n",
       "      <th>OPW</th>\n",
       "      <th>playerID</th>\n",
       "      <th>1B_norm</th>\n",
       "      <th>2B_norm</th>\n",
       "      <th>3B_norm</th>\n",
       "      <th>HR_norm</th>\n",
       "      <th>BB_norm</th>\n",
       "      <th>Position</th>\n",
       "      <th>nameFirst</th>\n",
       "      <th>nameLast</th>\n",
       "      <th>salary</th>\n",
       "    </tr>\n",
       "  </thead>\n",
       "  <tbody>\n",
       "    <tr>\n",
       "      <th>0</th>\n",
       "      <td>1996</td>\n",
       "      <td>2012</td>\n",
       "      <td>104.050008</td>\n",
       "      <td>abreubo01</td>\n",
       "      <td>-0.008202</td>\n",
       "      <td>0.006421</td>\n",
       "      <td>0.001002</td>\n",
       "      <td>-0.003252</td>\n",
       "      <td>0.050501</td>\n",
       "      <td>RF</td>\n",
       "      <td>Bobby</td>\n",
       "      <td>Abreu</td>\n",
       "      <td>9000000</td>\n",
       "    </tr>\n",
       "    <tr>\n",
       "      <th>1</th>\n",
       "      <td>2011</td>\n",
       "      <td>2013</td>\n",
       "      <td>53.806003</td>\n",
       "      <td>ackledu01</td>\n",
       "      <td>-0.009270</td>\n",
       "      <td>-0.016605</td>\n",
       "      <td>-0.001974</td>\n",
       "      <td>-0.015274</td>\n",
       "      <td>0.001597</td>\n",
       "      <td>1B</td>\n",
       "      <td>Dustin</td>\n",
       "      <td>Ackley</td>\n",
       "      <td>2400000</td>\n",
       "    </tr>\n",
       "    <tr>\n",
       "      <th>2</th>\n",
       "      <td>2004</td>\n",
       "      <td>2009</td>\n",
       "      <td>67.496507</td>\n",
       "      <td>adamsru01</td>\n",
       "      <td>-0.007867</td>\n",
       "      <td>-0.001289</td>\n",
       "      <td>0.004160</td>\n",
       "      <td>-0.017533</td>\n",
       "      <td>0.002672</td>\n",
       "      <td>SS</td>\n",
       "      <td>Russ</td>\n",
       "      <td>Adams</td>\n",
       "      <td>329500</td>\n",
       "    </tr>\n",
       "    <tr>\n",
       "      <th>3</th>\n",
       "      <td>1995</td>\n",
       "      <td>2006</td>\n",
       "      <td>83.404437</td>\n",
       "      <td>alfoned01</td>\n",
       "      <td>0.013485</td>\n",
       "      <td>-0.002177</td>\n",
       "      <td>-0.003239</td>\n",
       "      <td>-0.006436</td>\n",
       "      <td>0.010745</td>\n",
       "      <td>2B</td>\n",
       "      <td>Edgardo</td>\n",
       "      <td>Alfonzo</td>\n",
       "      <td>4112500</td>\n",
       "    </tr>\n",
       "    <tr>\n",
       "      <th>4</th>\n",
       "      <td>1988</td>\n",
       "      <td>2002</td>\n",
       "      <td>78.561778</td>\n",
       "      <td>alicelu01</td>\n",
       "      <td>0.035625</td>\n",
       "      <td>-0.009597</td>\n",
       "      <td>0.007988</td>\n",
       "      <td>-0.026156</td>\n",
       "      <td>-0.006580</td>\n",
       "      <td>2B</td>\n",
       "      <td>Luis</td>\n",
       "      <td>Alicea</td>\n",
       "      <td>750000</td>\n",
       "    </tr>\n",
       "  </tbody>\n",
       "</table>\n",
       "</div>"
      ],
      "text/plain": [
       "   minYear  maxYear         OPW   playerID   1B_norm   2B_norm   3B_norm  \\\n",
       "0     1996     2012  104.050008  abreubo01 -0.008202  0.006421  0.001002   \n",
       "1     2011     2013   53.806003  ackledu01 -0.009270 -0.016605 -0.001974   \n",
       "2     2004     2009   67.496507  adamsru01 -0.007867 -0.001289  0.004160   \n",
       "3     1995     2006   83.404437  alfoned01  0.013485 -0.002177 -0.003239   \n",
       "4     1988     2002   78.561778  alicelu01  0.035625 -0.009597  0.007988   \n",
       "\n",
       "    HR_norm   BB_norm Position nameFirst nameLast   salary  \n",
       "0 -0.003252  0.050501       RF     Bobby    Abreu  9000000  \n",
       "1 -0.015274  0.001597       1B    Dustin   Ackley  2400000  \n",
       "2 -0.017533  0.002672       SS      Russ    Adams   329500  \n",
       "3 -0.006436  0.010745       2B   Edgardo  Alfonzo  4112500  \n",
       "4 -0.026156 -0.006580       2B      Luis   Alicea   750000  "
      ]
     },
     "execution_count": 254,
     "metadata": {},
     "output_type": "execute_result"
    }
   ],
   "source": [
    "### Your code here ###\n",
    "salaries = df_list['salaries']\n",
    "groupy = salaries.groupby('playerID')['salary'].median().reset_index()\n",
    "playerLS = playerLS.merge(groupy,on='playerID',how='inner')\n",
    "playerLS.head()\n"
   ]
  },
  {
   "cell_type": "code",
   "execution_count": 255,
   "metadata": {
    "collapsed": false
   },
   "outputs": [
    {
     "name": "stdout",
     "output_type": "stream",
     "text": [
      "'minYear','maxYear','OPW','playerID','1B_norm','2B_norm','3B_norm','HR_norm','BB_norm','Position','nameFirst','nameLast','salary',\n"
     ]
    }
   ],
   "source": [
    "#rearrange columns\n",
    "col_str = \"\"\n",
    "for col in playerLS.columns.tolist():\n",
    "    col_str +=\"'\"+col+\"',\"\n",
    "print col_str"
   ]
  },
  {
   "cell_type": "code",
   "execution_count": 256,
   "metadata": {
    "collapsed": true
   },
   "outputs": [],
   "source": [
    "cols = ['playerID','nameFirst','nameLast','Position','salary','minYear','maxYear','OPW','1B_norm','2B_norm','3B_norm','HR_norm','BB_norm']"
   ]
  },
  {
   "cell_type": "code",
   "execution_count": 257,
   "metadata": {
    "collapsed": false
   },
   "outputs": [],
   "source": [
    "playerLS = playerLS[cols]\n",
    "playerLS['career_length']=playerLS.maxYear-playerLS.minYear\n"
   ]
  },
  {
   "cell_type": "markdown",
   "metadata": {},
   "source": [
    "#### Problem 1(k)\n",
    "\n",
    "Subset the `playerLS` DataFrame for players active in 2002 and 2003 and played at least three years. Plot and describe the relationship bewteen the median salary (in millions) and the predicted number of wins. "
   ]
  },
  {
   "cell_type": "code",
   "execution_count": 258,
   "metadata": {
    "collapsed": false
   },
   "outputs": [
    {
     "data": {
      "text/plain": [
       "(318, 15)"
      ]
     },
     "execution_count": 258,
     "metadata": {},
     "output_type": "execute_result"
    },
    {
     "data": {
      "image/png": "[encoded data removed]",
      "text/plain": [
       "<matplotlib.figure.Figure at 0x7fb24b1337d0>"
      ]
     },
     "metadata": {},
     "output_type": "display_data"
    }
   ],
   "source": [
    "### Your code here ###\n",
    "\n",
    "def is_active(x):\n",
    "    active_period = range(x.minYear,x.maxYear+1)\n",
    "    return (2002 in active_period) & (2003 in active_period) & (x.career_length>=3)\n",
    "\n",
    "playerLS_subset = playerLS.copy()\n",
    "\n",
    "\n",
    "\n",
    "playerLS_subset['active']= playerLS.apply(is_active,axis=1)\n",
    "\n",
    "playerLS_subset= playerLS_subset[playerLS_subset.active]\n",
    "plt.scatter(np.log(playerLS_subset.salary),playerLS_subset.OPW,alpha=0.3,color='r')\n",
    "plt.axvline(np.log(2000000))\n",
    "\n",
    "playerLS_subset.shape"
   ]
  },
  {
   "cell_type": "markdown",
   "metadata": {},
   "source": [
    "#### Problem 1(l)\n",
    "Pick one players from one of each of these 10 position C, 1B, 2B, 3B, SS, LF, CF, RF, DH, or OF keeping the total median salary of all 10 players below 20 million. Report their averaged predicted wins and total salary."
   ]
  },
  {
   "cell_type": "code",
   "execution_count": 259,
   "metadata": {
    "collapsed": false
   },
   "outputs": [
    {
     "data": {
      "text/html": [
       "<div>\n",
       "<table border=\"1\" class=\"dataframe\">\n",
       "  <thead>\n",
       "    <tr style=\"text-align: right;\">\n",
       "      <th></th>\n",
       "      <th>playerID</th>\n",
       "      <th>nameFirst</th>\n",
       "      <th>nameLast</th>\n",
       "      <th>Position</th>\n",
       "      <th>salary</th>\n",
       "      <th>minYear</th>\n",
       "      <th>maxYear</th>\n",
       "      <th>OPW</th>\n",
       "      <th>1B_norm</th>\n",
       "      <th>2B_norm</th>\n",
       "      <th>3B_norm</th>\n",
       "      <th>HR_norm</th>\n",
       "      <th>BB_norm</th>\n",
       "      <th>career_length</th>\n",
       "      <th>active</th>\n",
       "      <th>resid</th>\n",
       "    </tr>\n",
       "  </thead>\n",
       "  <tbody>\n",
       "    <tr>\n",
       "      <th>0</th>\n",
       "      <td>abreubo01</td>\n",
       "      <td>Bobby</td>\n",
       "      <td>Abreu</td>\n",
       "      <td>RF</td>\n",
       "      <td>9000000</td>\n",
       "      <td>1996</td>\n",
       "      <td>2012</td>\n",
       "      <td>104.050008</td>\n",
       "      <td>-0.008202</td>\n",
       "      <td>0.006421</td>\n",
       "      <td>0.001002</td>\n",
       "      <td>-0.003252</td>\n",
       "      <td>0.050501</td>\n",
       "      <td>16</td>\n",
       "      <td>True</td>\n",
       "      <td>16.510691</td>\n",
       "    </tr>\n",
       "    <tr>\n",
       "      <th>3</th>\n",
       "      <td>alfoned01</td>\n",
       "      <td>Edgardo</td>\n",
       "      <td>Alfonzo</td>\n",
       "      <td>2B</td>\n",
       "      <td>4112500</td>\n",
       "      <td>1995</td>\n",
       "      <td>2006</td>\n",
       "      <td>83.404437</td>\n",
       "      <td>0.013485</td>\n",
       "      <td>-0.002177</td>\n",
       "      <td>-0.003239</td>\n",
       "      <td>-0.006436</td>\n",
       "      <td>0.010745</td>\n",
       "      <td>11</td>\n",
       "      <td>True</td>\n",
       "      <td>10.970129</td>\n",
       "    </tr>\n",
       "    <tr>\n",
       "      <th>5</th>\n",
       "      <td>allench01</td>\n",
       "      <td>Chad</td>\n",
       "      <td>Allen</td>\n",
       "      <td>LF</td>\n",
       "      <td>240000</td>\n",
       "      <td>1999</td>\n",
       "      <td>2005</td>\n",
       "      <td>58.526131</td>\n",
       "      <td>0.023014</td>\n",
       "      <td>-0.009664</td>\n",
       "      <td>0.000201</td>\n",
       "      <td>-0.016584</td>\n",
       "      <td>-0.031390</td>\n",
       "      <td>6</td>\n",
       "      <td>True</td>\n",
       "      <td>-14.811152</td>\n",
       "    </tr>\n",
       "    <tr>\n",
       "      <th>7</th>\n",
       "      <td>alomaro01</td>\n",
       "      <td>Roberto</td>\n",
       "      <td>Alomar</td>\n",
       "      <td>2B</td>\n",
       "      <td>5466667</td>\n",
       "      <td>1988</td>\n",
       "      <td>2004</td>\n",
       "      <td>90.800847</td>\n",
       "      <td>0.022145</td>\n",
       "      <td>0.001698</td>\n",
       "      <td>0.002653</td>\n",
       "      <td>-0.009386</td>\n",
       "      <td>0.004503</td>\n",
       "      <td>16</td>\n",
       "      <td>True</td>\n",
       "      <td>18.366540</td>\n",
       "    </tr>\n",
       "    <tr>\n",
       "      <th>9</th>\n",
       "      <td>aloumo01</td>\n",
       "      <td>Moises</td>\n",
       "      <td>Alou</td>\n",
       "      <td>OF</td>\n",
       "      <td>5135000</td>\n",
       "      <td>1990</td>\n",
       "      <td>2008</td>\n",
       "      <td>92.104556</td>\n",
       "      <td>0.004058</td>\n",
       "      <td>0.001022</td>\n",
       "      <td>-0.000406</td>\n",
       "      <td>0.009994</td>\n",
       "      <td>0.000737</td>\n",
       "      <td>18</td>\n",
       "      <td>True</td>\n",
       "      <td>12.792536</td>\n",
       "    </tr>\n",
       "  </tbody>\n",
       "</table>\n",
       "</div>"
      ],
      "text/plain": [
       "    playerID nameFirst nameLast Position   salary  minYear  maxYear  \\\n",
       "0  abreubo01     Bobby    Abreu       RF  9000000     1996     2012   \n",
       "3  alfoned01   Edgardo  Alfonzo       2B  4112500     1995     2006   \n",
       "5  allench01      Chad    Allen       LF   240000     1999     2005   \n",
       "7  alomaro01   Roberto   Alomar       2B  5466667     1988     2004   \n",
       "9   aloumo01    Moises     Alou       OF  5135000     1990     2008   \n",
       "\n",
       "          OPW   1B_norm   2B_norm   3B_norm   HR_norm   BB_norm  \\\n",
       "0  104.050008 -0.008202  0.006421  0.001002 -0.003252  0.050501   \n",
       "3   83.404437  0.013485 -0.002177 -0.003239 -0.006436  0.010745   \n",
       "5   58.526131  0.023014 -0.009664  0.000201 -0.016584 -0.031390   \n",
       "7   90.800847  0.022145  0.001698  0.002653 -0.009386  0.004503   \n",
       "9   92.104556  0.004058  0.001022 -0.000406  0.009994  0.000737   \n",
       "\n",
       "   career_length active      resid  \n",
       "0             16   True  16.510691  \n",
       "3             11   True  10.970129  \n",
       "5              6   True -14.811152  \n",
       "7             16   True  18.366540  \n",
       "9             18   True  12.792536  "
      ]
     },
     "execution_count": 259,
     "metadata": {},
     "output_type": "execute_result"
    }
   ],
   "source": [
    "### Your code here ###\n",
    "def meanNormalizeOPW(x):\n",
    "    return x-x.median(axis=0)\n",
    "\n",
    "playerLS_subset['resid'] = playerLS_subset.groupby('Position')['OPW'].transform(meanNormalizeOPW)\n",
    "playerLS_subset.head()"
   ]
  },
  {
   "cell_type": "code",
   "execution_count": 260,
   "metadata": {
    "collapsed": false
   },
   "outputs": [
    {
     "name": "stdout",
     "output_type": "stream",
     "text": [
      "(318, 1) (318,)\n"
     ]
    },
    {
     "data": {
      "text/html": [
       "<div>\n",
       "<table border=\"1\" class=\"dataframe\">\n",
       "  <thead>\n",
       "    <tr style=\"text-align: right;\">\n",
       "      <th></th>\n",
       "      <th>playerID</th>\n",
       "      <th>nameFirst</th>\n",
       "      <th>nameLast</th>\n",
       "      <th>Position</th>\n",
       "      <th>salary</th>\n",
       "      <th>minYear</th>\n",
       "      <th>maxYear</th>\n",
       "      <th>OPW</th>\n",
       "      <th>1B_norm</th>\n",
       "      <th>2B_norm</th>\n",
       "      <th>3B_norm</th>\n",
       "      <th>HR_norm</th>\n",
       "      <th>BB_norm</th>\n",
       "      <th>career_length</th>\n",
       "      <th>active</th>\n",
       "      <th>resid</th>\n",
       "    </tr>\n",
       "  </thead>\n",
       "  <tbody>\n",
       "    <tr>\n",
       "      <th>0</th>\n",
       "      <td>abreubo01</td>\n",
       "      <td>Bobby</td>\n",
       "      <td>Abreu</td>\n",
       "      <td>RF</td>\n",
       "      <td>9000000</td>\n",
       "      <td>1996</td>\n",
       "      <td>2012</td>\n",
       "      <td>104.050008</td>\n",
       "      <td>-0.008202</td>\n",
       "      <td>0.006421</td>\n",
       "      <td>0.001002</td>\n",
       "      <td>-0.003252</td>\n",
       "      <td>0.050501</td>\n",
       "      <td>16</td>\n",
       "      <td>True</td>\n",
       "      <td>-0.498669</td>\n",
       "    </tr>\n",
       "    <tr>\n",
       "      <th>3</th>\n",
       "      <td>alfoned01</td>\n",
       "      <td>Edgardo</td>\n",
       "      <td>Alfonzo</td>\n",
       "      <td>2B</td>\n",
       "      <td>4112500</td>\n",
       "      <td>1995</td>\n",
       "      <td>2006</td>\n",
       "      <td>83.404437</td>\n",
       "      <td>0.013485</td>\n",
       "      <td>-0.002177</td>\n",
       "      <td>-0.003239</td>\n",
       "      <td>-0.006436</td>\n",
       "      <td>0.010745</td>\n",
       "      <td>11</td>\n",
       "      <td>True</td>\n",
       "      <td>7.725466</td>\n",
       "    </tr>\n",
       "    <tr>\n",
       "      <th>5</th>\n",
       "      <td>allench01</td>\n",
       "      <td>Chad</td>\n",
       "      <td>Allen</td>\n",
       "      <td>LF</td>\n",
       "      <td>240000</td>\n",
       "      <td>1999</td>\n",
       "      <td>2005</td>\n",
       "      <td>58.526131</td>\n",
       "      <td>0.023014</td>\n",
       "      <td>-0.009664</td>\n",
       "      <td>0.000201</td>\n",
       "      <td>-0.016584</td>\n",
       "      <td>-0.031390</td>\n",
       "      <td>6</td>\n",
       "      <td>True</td>\n",
       "      <td>-7.149670</td>\n",
       "    </tr>\n",
       "    <tr>\n",
       "      <th>7</th>\n",
       "      <td>alomaro01</td>\n",
       "      <td>Roberto</td>\n",
       "      <td>Alomar</td>\n",
       "      <td>2B</td>\n",
       "      <td>5466667</td>\n",
       "      <td>1988</td>\n",
       "      <td>2004</td>\n",
       "      <td>90.800847</td>\n",
       "      <td>0.022145</td>\n",
       "      <td>0.001698</td>\n",
       "      <td>0.002653</td>\n",
       "      <td>-0.009386</td>\n",
       "      <td>0.004503</td>\n",
       "      <td>16</td>\n",
       "      <td>True</td>\n",
       "      <td>11.308127</td>\n",
       "    </tr>\n",
       "    <tr>\n",
       "      <th>9</th>\n",
       "      <td>aloumo01</td>\n",
       "      <td>Moises</td>\n",
       "      <td>Alou</td>\n",
       "      <td>OF</td>\n",
       "      <td>5135000</td>\n",
       "      <td>1990</td>\n",
       "      <td>2008</td>\n",
       "      <td>92.104556</td>\n",
       "      <td>0.004058</td>\n",
       "      <td>0.001022</td>\n",
       "      <td>-0.000406</td>\n",
       "      <td>0.009994</td>\n",
       "      <td>0.000737</td>\n",
       "      <td>18</td>\n",
       "      <td>True</td>\n",
       "      <td>6.668200</td>\n",
       "    </tr>\n",
       "  </tbody>\n",
       "</table>\n",
       "</div>"
      ],
      "text/plain": [
       "    playerID nameFirst nameLast Position   salary  minYear  maxYear  \\\n",
       "0  abreubo01     Bobby    Abreu       RF  9000000     1996     2012   \n",
       "3  alfoned01   Edgardo  Alfonzo       2B  4112500     1995     2006   \n",
       "5  allench01      Chad    Allen       LF   240000     1999     2005   \n",
       "7  alomaro01   Roberto   Alomar       2B  5466667     1988     2004   \n",
       "9   aloumo01    Moises     Alou       OF  5135000     1990     2008   \n",
       "\n",
       "          OPW   1B_norm   2B_norm   3B_norm   HR_norm   BB_norm  \\\n",
       "0  104.050008 -0.008202  0.006421  0.001002 -0.003252  0.050501   \n",
       "3   83.404437  0.013485 -0.002177 -0.003239 -0.006436  0.010745   \n",
       "5   58.526131  0.023014 -0.009664  0.000201 -0.016584 -0.031390   \n",
       "7   90.800847  0.022145  0.001698  0.002653 -0.009386  0.004503   \n",
       "9   92.104556  0.004058  0.001022 -0.000406  0.009994  0.000737   \n",
       "\n",
       "   career_length active      resid  \n",
       "0             16   True  -0.498669  \n",
       "3             11   True   7.725466  \n",
       "5              6   True  -7.149670  \n",
       "7             16   True  11.308127  \n",
       "9             18   True   6.668200  "
      ]
     },
     "execution_count": 260,
     "metadata": {},
     "output_type": "execute_result"
    }
   ],
   "source": [
    "# fit linear regression model and compute the residuals :\n",
    "\n",
    "Y = playerLS_subset.resid.values\n",
    "X = playerLS_subset.salary.reshape(-1,1)\n",
    "\n",
    "print X.shape,Y.shape\n",
    "\n",
    "model = sklearn.linear_model.LinearRegression()\n",
    "model.fit(X,Y)\n",
    "playerLS_subset.resid = playerLS_subset.resid-model.predict(playerLS_subset.salary.reshape(-1,1))\n",
    "\n",
    "playerLS_subset.head()\n"
   ]
  },
  {
   "cell_type": "markdown",
   "metadata": {},
   "source": [
    "#### Problem 1(m)\n",
    "What do these players outperform in? Singles, doubles, triples HR or BB?"
   ]
  },
  {
   "cell_type": "code",
   "execution_count": 261,
   "metadata": {
    "collapsed": false
   },
   "outputs": [],
   "source": [
    "### Your code here ###"
   ]
  },
  {
   "cell_type": "markdown",
   "metadata": {},
   "source": [
    "** Your answer here: **"
   ]
  },
  {
   "cell_type": "markdown",
   "metadata": {},
   "source": [
    "## Discussion for Problem 1\n",
    "\n",
    "*Write a brief discussion of your conclusions to the questions and tasks above in 100 words or less.*\n",
    "\n",
    "---"
   ]
  },
  {
   "cell_type": "markdown",
   "metadata": {},
   "source": [
    "# Problem 2:  $k$-Nearest Neighbors and Cross Validation \n",
    "\n",
    "What is the optimal $k$ for predicting species using $k$-nearest neighbor classification \n",
    "on the four features provided by the iris dataset.\n",
    "\n",
    "In this problem you will get to know the famous iris data set, and use cross validation to select the optimal $k$ for a $k$-nearest neighbor classification. This problem set makes heavy use of the [sklearn](http://scikit-learn.org/stable/) library. In addition to Pandas, it is one of the most useful libraries for data scientists! After completing this homework assignment you will know all the basics to get started with your own machine learning projects in sklearn. \n",
    "\n",
    "Future lectures will give further background information on different classifiers and their specific strengths and weaknesses, but when you have the basics for sklearn down, changing the classifier will boil down to exchanging one to two lines of code.\n",
    "\n",
    "The data set is so popular, that sklearn provides an extra function to load it:"
   ]
  },
  {
   "cell_type": "code",
   "execution_count": 262,
   "metadata": {
    "collapsed": false
   },
   "outputs": [
    {
     "name": "stdout",
     "output_type": "stream",
     "text": [
      "(150, 4) (150,)\n"
     ]
    }
   ],
   "source": [
    "#load the iris data set\n",
    "iris = sklearn.datasets.load_iris()\n",
    "\n",
    "X = iris.data  \n",
    "Y = iris.target\n",
    "\n",
    "print X.shape, Y.shape"
   ]
  },
  {
   "cell_type": "markdown",
   "metadata": {},
   "source": [
    "#### Problem 2(a) \n",
    "Split the data into a train and a test set. Use a random selection of 33% of the samples as test data. Sklearn provides the [`train_test_split`](http://scikit-learn.org/stable/modules/generated/sklearn.cross_validation.train_test_split.html) function for this purpose. Print the dimensions of all the train and test data sets you have created. "
   ]
  },
  {
   "cell_type": "code",
   "execution_count": 263,
   "metadata": {
    "collapsed": false
   },
   "outputs": [
    {
     "name": "stdout",
     "output_type": "stream",
     "text": [
      "(100, 4)\n",
      "(50, 4)\n",
      "(100,)\n",
      "(50,)\n"
     ]
    }
   ],
   "source": [
    "### Your code here ###\n",
    "X_train,X_test,y_train,y_test = sklearn.cross_validation.train_test_split(X,Y,test_size=0.33,random_state=42)\n",
    "print X_train.shape\n",
    "print X_test.shape\n",
    "print y_train.shape\n",
    "print y_test.shape"
   ]
  },
  {
   "cell_type": "markdown",
   "metadata": {},
   "source": [
    "#### Problem 2(b)\n",
    "\n",
    "Examine the data further by looking at the projections to the first two principal components of the data. Use the [`TruncatedSVD`](http://scikit-learn.org/stable/modules/generated/sklearn.decomposition.TruncatedSVD.html) function for this purpose, and create a scatter plot. Use the colors on the scatter plot to represent the different classes in the target data. "
   ]
  },
  {
   "cell_type": "code",
   "execution_count": 264,
   "metadata": {
    "collapsed": false
   },
   "outputs": [
    {
     "name": "stdout",
     "output_type": "stream",
     "text": [
      "(100, 4)\n"
     ]
    }
   ],
   "source": [
    "### Your code here ###\n",
    "X_train_centered = X_train -np.mean(X_train,axis=0)\n",
    "svd = sklearn.decomposition.TruncatedSVD(n_components=2)\n",
    "result = svd.fit_transform(X_train_centered,y_train)\n",
    "\n",
    "print X_train_centered.shape"
   ]
  },
  {
   "cell_type": "code",
   "execution_count": 265,
   "metadata": {
    "collapsed": false
   },
   "outputs": [
    {
     "data": {
      "text/plain": [
       "<matplotlib.text.Text at 0x7fb24aa02b90>"
      ]
     },
     "execution_count": 265,
     "metadata": {},
     "output_type": "execute_result"
    },
    {
     "data": {
      "image/png": "[encoded data removed]",
      "text/plain": [
       "<matplotlib.figure.Figure at 0x7fb24dcee9d0>"
      ]
     },
     "metadata": {},
     "output_type": "display_data"
    }
   ],
   "source": [
    "plt.scatter(result[:,0],result[:,1],c=y_train,cmap=plt.cm.Blues)\n",
    "plt.xlabel('PC1')\n",
    "plt.ylabel('PC2')"
   ]
  },
  {
   "cell_type": "code",
   "execution_count": 303,
   "metadata": {
    "collapsed": false
   },
   "outputs": [
    {
     "name": "stdout",
     "output_type": "stream",
     "text": [
      "[(100, 4), (4,), (4, 4)]\n"
     ]
    },
    {
     "data": {
      "image/png": "[encoded data removed]",
      "text/plain": [
       "<matplotlib.figure.Figure at 0x7fb251688150>"
      ]
     },
     "metadata": {},
     "output_type": "display_data"
    }
   ],
   "source": [
    "from sklearn.utils.extmath import randomized_svd\n",
    "\n",
    "U, Sigma, VT = randomized_svd(X_train_centered, n_components=4,\n",
    "                                      n_iter=5,\n",
    "                                      random_state=None)\n",
    "\n",
    "\n",
    "\n",
    "result_skl = np.matrix(U)*np.diag(Sigma)*np.matrix(VT)\n",
    "PC_sklearn = np.matrix(U)*np.diag(Sigma)\n",
    "\n",
    "plt.scatter(PC_sklearn[:,0],PC_sklearn[:,1],c=y_train,cmap=plt.cm.Accent)\n",
    "plt.title('PCA using scikitlearn randomized_svd ')\n",
    "plt.xlabel('PC1')\n",
    "plt.ylabel('PC2')\n",
    "\n",
    "param = [U,Sigma,VT]\n",
    "print (map (np.shape,param))\n",
    "\n"
   ]
  },
  {
   "cell_type": "code",
   "execution_count": null,
   "metadata": {
    "collapsed": true
   },
   "outputs": [],
   "source": []
  },
  {
   "cell_type": "code",
   "execution_count": 313,
   "metadata": {
    "collapsed": false
   },
   "outputs": [
    {
     "name": "stdout",
     "output_type": "stream",
     "text": [
      "[(100, 100), (4,), (4, 4)]\n"
     ]
    },
    {
     "data": {
      "image/png": "[encoded data removed]",
      "text/plain": [
       "<matplotlib.figure.Figure at 0x7fb2517a3bd0>"
      ]
     },
     "metadata": {},
     "output_type": "display_data"
    }
   ],
   "source": [
    "U_np,Sigma_np,VT_np = np.linalg.svd(X_train_centered)\n",
    "\n",
    "param = [U_np,Sigma_np,VT_np]\n",
    "\n",
    "print map(np.shape,param)\n",
    "\n",
    "PC_numpy = np.matrix(U_np[:,:2]) * np.diag(Sigma_np[:2]) #* np.matrix(VT_np[:2, :])\n",
    "result_numpy_svd = PC_numpy*np.matrix(VT_np[:2, :])\n",
    "plt.scatter(PC_numpy[:,0],PC_numpy[:,1],c=y_train,cmap=plt.cm.Blues)\n",
    "plt.title('PCA using numpy linealg svd')\n",
    "plt.xlabel('PC1')\n",
    "plt.ylabel('PC2')\n",
    "\n",
    "df_numpy_svd = pd.DataFrame(result_numpy_svd)\n",
    "\n"
   ]
  },
  {
   "cell_type": "code",
   "execution_count": 301,
   "metadata": {
    "collapsed": false
   },
   "outputs": [
    {
     "data": {
      "text/html": [
       "<div>\n",
       "<table border=\"1\" class=\"dataframe\">\n",
       "  <thead>\n",
       "    <tr style=\"text-align: right;\">\n",
       "      <th></th>\n",
       "      <th>0</th>\n",
       "      <th>1</th>\n",
       "      <th>2</th>\n",
       "      <th>3</th>\n",
       "    </tr>\n",
       "  </thead>\n",
       "  <tbody>\n",
       "    <tr>\n",
       "      <th>0</th>\n",
       "      <td>-0.115000</td>\n",
       "      <td>-0.106000</td>\n",
       "      <td>0.383000</td>\n",
       "      <td>0.082000</td>\n",
       "    </tr>\n",
       "    <tr>\n",
       "      <th>1</th>\n",
       "      <td>1.785002</td>\n",
       "      <td>-0.006002</td>\n",
       "      <td>2.782997</td>\n",
       "      <td>0.882004</td>\n",
       "    </tr>\n",
       "    <tr>\n",
       "      <th>2</th>\n",
       "      <td>-0.215000</td>\n",
       "      <td>-0.006000</td>\n",
       "      <td>0.683000</td>\n",
       "      <td>0.281999</td>\n",
       "    </tr>\n",
       "    <tr>\n",
       "      <th>3</th>\n",
       "      <td>-0.715002</td>\n",
       "      <td>0.494002</td>\n",
       "      <td>-2.416997</td>\n",
       "      <td>-1.018004</td>\n",
       "    </tr>\n",
       "    <tr>\n",
       "      <th>4</th>\n",
       "      <td>1.884999</td>\n",
       "      <td>-0.205999</td>\n",
       "      <td>2.883001</td>\n",
       "      <td>0.781999</td>\n",
       "    </tr>\n",
       "  </tbody>\n",
       "</table>\n",
       "</div>"
      ],
      "text/plain": [
       "          0         1         2         3\n",
       "0 -0.115000 -0.106000  0.383000  0.082000\n",
       "1  1.785002 -0.006002  2.782997  0.882004\n",
       "2 -0.215000 -0.006000  0.683000  0.281999\n",
       "3 -0.715002  0.494002 -2.416997 -1.018004\n",
       "4  1.884999 -0.205999  2.883001  0.781999"
      ]
     },
     "execution_count": 301,
     "metadata": {},
     "output_type": "execute_result"
    }
   ],
   "source": [
    "df_sklearn_svd = pd.DataFrame(result_skl)\n",
    "df_sklearn_svd.head()\n"
   ]
  },
  {
   "cell_type": "code",
   "execution_count": 305,
   "metadata": {
    "collapsed": false
   },
   "outputs": [
    {
     "data": {
      "text/html": [
       "<div>\n",
       "<table border=\"1\" class=\"dataframe\">\n",
       "  <thead>\n",
       "    <tr style=\"text-align: right;\">\n",
       "      <th></th>\n",
       "      <th>0</th>\n",
       "      <th>1</th>\n",
       "      <th>2</th>\n",
       "      <th>3</th>\n",
       "    </tr>\n",
       "  </thead>\n",
       "  <tbody>\n",
       "    <tr>\n",
       "      <th>0</th>\n",
       "      <td>-0.042057</td>\n",
       "      <td>-0.184460</td>\n",
       "      <td>0.320167</td>\n",
       "      <td>0.142947</td>\n",
       "    </tr>\n",
       "    <tr>\n",
       "      <th>1</th>\n",
       "      <td>1.633845</td>\n",
       "      <td>0.179419</td>\n",
       "      <td>2.762243</td>\n",
       "      <td>1.123285</td>\n",
       "    </tr>\n",
       "    <tr>\n",
       "      <th>2</th>\n",
       "      <td>0.007927</td>\n",
       "      <td>-0.259104</td>\n",
       "      <td>0.579013</td>\n",
       "      <td>0.253888</td>\n",
       "    </tr>\n",
       "    <tr>\n",
       "      <th>3</th>\n",
       "      <td>-0.707059</td>\n",
       "      <td>0.484704</td>\n",
       "      <td>-2.418854</td>\n",
       "      <td>-1.023507</td>\n",
       "    </tr>\n",
       "    <tr>\n",
       "      <th>4</th>\n",
       "      <td>1.617938</td>\n",
       "      <td>0.119115</td>\n",
       "      <td>2.862752</td>\n",
       "      <td>1.168309</td>\n",
       "    </tr>\n",
       "  </tbody>\n",
       "</table>\n",
       "</div>"
      ],
      "text/plain": [
       "          0         1         2         3\n",
       "0 -0.042057 -0.184460  0.320167  0.142947\n",
       "1  1.633845  0.179419  2.762243  1.123285\n",
       "2  0.007927 -0.259104  0.579013  0.253888\n",
       "3 -0.707059  0.484704 -2.418854 -1.023507\n",
       "4  1.617938  0.119115  2.862752  1.168309"
      ]
     },
     "execution_count": 305,
     "metadata": {},
     "output_type": "execute_result"
    }
   ],
   "source": [
    "df_numpy_svd.head()"
   ]
  },
  {
   "cell_type": "code",
   "execution_count": 308,
   "metadata": {
    "collapsed": false
   },
   "outputs": [
    {
     "data": {
      "text/html": [
       "<div>\n",
       "<table border=\"1\" class=\"dataframe\">\n",
       "  <thead>\n",
       "    <tr style=\"text-align: right;\">\n",
       "      <th></th>\n",
       "      <th>0</th>\n",
       "      <th>1</th>\n",
       "      <th>2</th>\n",
       "      <th>3</th>\n",
       "    </tr>\n",
       "  </thead>\n",
       "  <tbody>\n",
       "    <tr>\n",
       "      <th>0</th>\n",
       "      <td>0.321625</td>\n",
       "      <td>-0.235144</td>\n",
       "      <td>0.057917</td>\n",
       "      <td>0.125635</td>\n",
       "    </tr>\n",
       "    <tr>\n",
       "      <th>1</th>\n",
       "      <td>3.355396</td>\n",
       "      <td>0.578542</td>\n",
       "      <td>-0.331641</td>\n",
       "      <td>0.076758</td>\n",
       "    </tr>\n",
       "    <tr>\n",
       "      <th>2</th>\n",
       "      <td>0.606069</td>\n",
       "      <td>-0.315582</td>\n",
       "      <td>0.300426</td>\n",
       "      <td>0.187365</td>\n",
       "    </tr>\n",
       "    <tr>\n",
       "      <th>3</th>\n",
       "      <td>-2.727847</td>\n",
       "      <td>0.438338</td>\n",
       "      <td>0.013295</td>\n",
       "      <td>0.002548</td>\n",
       "    </tr>\n",
       "    <tr>\n",
       "      <th>4</th>\n",
       "      <td>3.455577</td>\n",
       "      <td>0.501194</td>\n",
       "      <td>-0.562918</td>\n",
       "      <td>0.098938</td>\n",
       "    </tr>\n",
       "  </tbody>\n",
       "</table>\n",
       "</div>"
      ],
      "text/plain": [
       "          0         1         2         3\n",
       "0  0.321625 -0.235144  0.057917  0.125635\n",
       "1  3.355396  0.578542 -0.331641  0.076758\n",
       "2  0.606069 -0.315582  0.300426  0.187365\n",
       "3 -2.727847  0.438338  0.013295  0.002548\n",
       "4  3.455577  0.501194 -0.562918  0.098938"
      ]
     },
     "execution_count": 308,
     "metadata": {},
     "output_type": "execute_result"
    }
   ],
   "source": [
    "df_PC_skl = pd.DataFrame(PC_sklearn)\n",
    "df_PC_numpy = pd.DataFrame(PC_numpy)\n",
    "df_PC_skl.head()"
   ]
  },
  {
   "cell_type": "code",
   "execution_count": 312,
   "metadata": {
    "collapsed": false
   },
   "outputs": [
    {
     "data": {
      "text/html": [
       "<div>\n",
       "<table border=\"1\" class=\"dataframe\">\n",
       "  <thead>\n",
       "    <tr style=\"text-align: right;\">\n",
       "      <th></th>\n",
       "      <th>0</th>\n",
       "      <th>1</th>\n",
       "      <th>2</th>\n",
       "      <th>3</th>\n",
       "    </tr>\n",
       "  </thead>\n",
       "  <tbody>\n",
       "    <tr>\n",
       "      <th>0</th>\n",
       "      <td>1.221245e-15</td>\n",
       "      <td>-2.270559e-11</td>\n",
       "      <td>NaN</td>\n",
       "      <td>NaN</td>\n",
       "    </tr>\n",
       "    <tr>\n",
       "      <th>1</th>\n",
       "      <td>3.552714e-15</td>\n",
       "      <td>-5.442324e-11</td>\n",
       "      <td>NaN</td>\n",
       "      <td>NaN</td>\n",
       "    </tr>\n",
       "    <tr>\n",
       "      <th>2</th>\n",
       "      <td>-6.661338e-16</td>\n",
       "      <td>-7.718437e-12</td>\n",
       "      <td>NaN</td>\n",
       "      <td>NaN</td>\n",
       "    </tr>\n",
       "    <tr>\n",
       "      <th>3</th>\n",
       "      <td>-8.881784e-16</td>\n",
       "      <td>5.366924e-11</td>\n",
       "      <td>NaN</td>\n",
       "      <td>NaN</td>\n",
       "    </tr>\n",
       "    <tr>\n",
       "      <th>4</th>\n",
       "      <td>2.220446e-15</td>\n",
       "      <td>-3.258760e-11</td>\n",
       "      <td>NaN</td>\n",
       "      <td>NaN</td>\n",
       "    </tr>\n",
       "    <tr>\n",
       "      <th>5</th>\n",
       "      <td>1.110223e-16</td>\n",
       "      <td>6.219858e-12</td>\n",
       "      <td>NaN</td>\n",
       "      <td>NaN</td>\n",
       "    </tr>\n",
       "    <tr>\n",
       "      <th>6</th>\n",
       "      <td>-8.881784e-16</td>\n",
       "      <td>-2.980061e-12</td>\n",
       "      <td>NaN</td>\n",
       "      <td>NaN</td>\n",
       "    </tr>\n",
       "    <tr>\n",
       "      <th>7</th>\n",
       "      <td>-1.776357e-15</td>\n",
       "      <td>-1.002876e-10</td>\n",
       "      <td>NaN</td>\n",
       "      <td>NaN</td>\n",
       "    </tr>\n",
       "    <tr>\n",
       "      <th>8</th>\n",
       "      <td>-8.881784e-16</td>\n",
       "      <td>2.974931e-11</td>\n",
       "      <td>NaN</td>\n",
       "      <td>NaN</td>\n",
       "    </tr>\n",
       "    <tr>\n",
       "      <th>9</th>\n",
       "      <td>-1.110223e-15</td>\n",
       "      <td>6.243006e-12</td>\n",
       "      <td>NaN</td>\n",
       "      <td>NaN</td>\n",
       "    </tr>\n",
       "    <tr>\n",
       "      <th>10</th>\n",
       "      <td>4.440892e-16</td>\n",
       "      <td>2.416678e-13</td>\n",
       "      <td>NaN</td>\n",
       "      <td>NaN</td>\n",
       "    </tr>\n",
       "    <tr>\n",
       "      <th>11</th>\n",
       "      <td>-8.881784e-16</td>\n",
       "      <td>6.118701e-11</td>\n",
       "      <td>NaN</td>\n",
       "      <td>NaN</td>\n",
       "    </tr>\n",
       "    <tr>\n",
       "      <th>12</th>\n",
       "      <td>-2.220446e-15</td>\n",
       "      <td>1.177013e-11</td>\n",
       "      <td>NaN</td>\n",
       "      <td>NaN</td>\n",
       "    </tr>\n",
       "    <tr>\n",
       "      <th>13</th>\n",
       "      <td>-8.881784e-16</td>\n",
       "      <td>3.444386e-11</td>\n",
       "      <td>NaN</td>\n",
       "      <td>NaN</td>\n",
       "    </tr>\n",
       "    <tr>\n",
       "      <th>14</th>\n",
       "      <td>-4.440892e-16</td>\n",
       "      <td>-4.012457e-12</td>\n",
       "      <td>NaN</td>\n",
       "      <td>NaN</td>\n",
       "    </tr>\n",
       "    <tr>\n",
       "      <th>15</th>\n",
       "      <td>-4.440892e-16</td>\n",
       "      <td>-3.282591e-11</td>\n",
       "      <td>NaN</td>\n",
       "      <td>NaN</td>\n",
       "    </tr>\n",
       "    <tr>\n",
       "      <th>16</th>\n",
       "      <td>-1.665335e-16</td>\n",
       "      <td>-5.560524e-12</td>\n",
       "      <td>NaN</td>\n",
       "      <td>NaN</td>\n",
       "    </tr>\n",
       "    <tr>\n",
       "      <th>17</th>\n",
       "      <td>1.776357e-15</td>\n",
       "      <td>5.290879e-12</td>\n",
       "      <td>NaN</td>\n",
       "      <td>NaN</td>\n",
       "    </tr>\n",
       "    <tr>\n",
       "      <th>18</th>\n",
       "      <td>-1.776357e-15</td>\n",
       "      <td>3.623972e-11</td>\n",
       "      <td>NaN</td>\n",
       "      <td>NaN</td>\n",
       "    </tr>\n",
       "    <tr>\n",
       "      <th>19</th>\n",
       "      <td>5.551115e-16</td>\n",
       "      <td>-6.622564e-12</td>\n",
       "      <td>NaN</td>\n",
       "      <td>NaN</td>\n",
       "    </tr>\n",
       "    <tr>\n",
       "      <th>20</th>\n",
       "      <td>0.000000e+00</td>\n",
       "      <td>6.451040e-11</td>\n",
       "      <td>NaN</td>\n",
       "      <td>NaN</td>\n",
       "    </tr>\n",
       "    <tr>\n",
       "      <th>21</th>\n",
       "      <td>0.000000e+00</td>\n",
       "      <td>-7.639889e-12</td>\n",
       "      <td>NaN</td>\n",
       "      <td>NaN</td>\n",
       "    </tr>\n",
       "    <tr>\n",
       "      <th>22</th>\n",
       "      <td>0.000000e+00</td>\n",
       "      <td>4.188117e-11</td>\n",
       "      <td>NaN</td>\n",
       "      <td>NaN</td>\n",
       "    </tr>\n",
       "    <tr>\n",
       "      <th>23</th>\n",
       "      <td>-2.220446e-16</td>\n",
       "      <td>-4.556910e-12</td>\n",
       "      <td>NaN</td>\n",
       "      <td>NaN</td>\n",
       "    </tr>\n",
       "    <tr>\n",
       "      <th>24</th>\n",
       "      <td>2.220446e-16</td>\n",
       "      <td>6.018852e-12</td>\n",
       "      <td>NaN</td>\n",
       "      <td>NaN</td>\n",
       "    </tr>\n",
       "    <tr>\n",
       "      <th>25</th>\n",
       "      <td>-4.440892e-16</td>\n",
       "      <td>-2.197575e-12</td>\n",
       "      <td>NaN</td>\n",
       "      <td>NaN</td>\n",
       "    </tr>\n",
       "    <tr>\n",
       "      <th>26</th>\n",
       "      <td>1.110223e-15</td>\n",
       "      <td>-8.194792e-12</td>\n",
       "      <td>NaN</td>\n",
       "      <td>NaN</td>\n",
       "    </tr>\n",
       "    <tr>\n",
       "      <th>27</th>\n",
       "      <td>-4.024558e-16</td>\n",
       "      <td>-3.376521e-12</td>\n",
       "      <td>NaN</td>\n",
       "      <td>NaN</td>\n",
       "    </tr>\n",
       "    <tr>\n",
       "      <th>28</th>\n",
       "      <td>4.440892e-16</td>\n",
       "      <td>3.687717e-11</td>\n",
       "      <td>NaN</td>\n",
       "      <td>NaN</td>\n",
       "    </tr>\n",
       "    <tr>\n",
       "      <th>29</th>\n",
       "      <td>-1.221245e-15</td>\n",
       "      <td>-2.968470e-11</td>\n",
       "      <td>NaN</td>\n",
       "      <td>NaN</td>\n",
       "    </tr>\n",
       "    <tr>\n",
       "      <th>...</th>\n",
       "      <td>...</td>\n",
       "      <td>...</td>\n",
       "      <td>...</td>\n",
       "      <td>...</td>\n",
       "    </tr>\n",
       "    <tr>\n",
       "      <th>70</th>\n",
       "      <td>2.220446e-16</td>\n",
       "      <td>1.317620e-11</td>\n",
       "      <td>NaN</td>\n",
       "      <td>NaN</td>\n",
       "    </tr>\n",
       "    <tr>\n",
       "      <th>71</th>\n",
       "      <td>-1.332268e-15</td>\n",
       "      <td>-3.421941e-11</td>\n",
       "      <td>NaN</td>\n",
       "      <td>NaN</td>\n",
       "    </tr>\n",
       "    <tr>\n",
       "      <th>72</th>\n",
       "      <td>1.332268e-15</td>\n",
       "      <td>1.240968e-11</td>\n",
       "      <td>NaN</td>\n",
       "      <td>NaN</td>\n",
       "    </tr>\n",
       "    <tr>\n",
       "      <th>73</th>\n",
       "      <td>-4.996004e-16</td>\n",
       "      <td>-2.698286e-12</td>\n",
       "      <td>NaN</td>\n",
       "      <td>NaN</td>\n",
       "    </tr>\n",
       "    <tr>\n",
       "      <th>74</th>\n",
       "      <td>-8.881784e-16</td>\n",
       "      <td>6.052636e-11</td>\n",
       "      <td>NaN</td>\n",
       "      <td>NaN</td>\n",
       "    </tr>\n",
       "    <tr>\n",
       "      <th>75</th>\n",
       "      <td>-4.996004e-16</td>\n",
       "      <td>6.015827e-12</td>\n",
       "      <td>NaN</td>\n",
       "      <td>NaN</td>\n",
       "    </tr>\n",
       "    <tr>\n",
       "      <th>76</th>\n",
       "      <td>2.220446e-15</td>\n",
       "      <td>-1.168657e-10</td>\n",
       "      <td>NaN</td>\n",
       "      <td>NaN</td>\n",
       "    </tr>\n",
       "    <tr>\n",
       "      <th>77</th>\n",
       "      <td>4.440892e-16</td>\n",
       "      <td>-2.371664e-11</td>\n",
       "      <td>NaN</td>\n",
       "      <td>NaN</td>\n",
       "    </tr>\n",
       "    <tr>\n",
       "      <th>78</th>\n",
       "      <td>-1.776357e-15</td>\n",
       "      <td>-2.383638e-11</td>\n",
       "      <td>NaN</td>\n",
       "      <td>NaN</td>\n",
       "    </tr>\n",
       "    <tr>\n",
       "      <th>79</th>\n",
       "      <td>-1.110223e-15</td>\n",
       "      <td>2.572054e-12</td>\n",
       "      <td>NaN</td>\n",
       "      <td>NaN</td>\n",
       "    </tr>\n",
       "    <tr>\n",
       "      <th>80</th>\n",
       "      <td>0.000000e+00</td>\n",
       "      <td>-2.084544e-11</td>\n",
       "      <td>NaN</td>\n",
       "      <td>NaN</td>\n",
       "    </tr>\n",
       "    <tr>\n",
       "      <th>81</th>\n",
       "      <td>1.776357e-15</td>\n",
       "      <td>-8.234080e-12</td>\n",
       "      <td>NaN</td>\n",
       "      <td>NaN</td>\n",
       "    </tr>\n",
       "    <tr>\n",
       "      <th>82</th>\n",
       "      <td>-1.776357e-15</td>\n",
       "      <td>5.849428e-11</td>\n",
       "      <td>NaN</td>\n",
       "      <td>NaN</td>\n",
       "    </tr>\n",
       "    <tr>\n",
       "      <th>83</th>\n",
       "      <td>4.440892e-16</td>\n",
       "      <td>-3.019390e-11</td>\n",
       "      <td>NaN</td>\n",
       "      <td>NaN</td>\n",
       "    </tr>\n",
       "    <tr>\n",
       "      <th>84</th>\n",
       "      <td>-8.881784e-16</td>\n",
       "      <td>1.307540e-11</td>\n",
       "      <td>NaN</td>\n",
       "      <td>NaN</td>\n",
       "    </tr>\n",
       "    <tr>\n",
       "      <th>85</th>\n",
       "      <td>1.554312e-15</td>\n",
       "      <td>3.448930e-11</td>\n",
       "      <td>NaN</td>\n",
       "      <td>NaN</td>\n",
       "    </tr>\n",
       "    <tr>\n",
       "      <th>86</th>\n",
       "      <td>2.220446e-15</td>\n",
       "      <td>8.374651e-11</td>\n",
       "      <td>NaN</td>\n",
       "      <td>NaN</td>\n",
       "    </tr>\n",
       "    <tr>\n",
       "      <th>87</th>\n",
       "      <td>6.661338e-16</td>\n",
       "      <td>-2.571057e-11</td>\n",
       "      <td>NaN</td>\n",
       "      <td>NaN</td>\n",
       "    </tr>\n",
       "    <tr>\n",
       "      <th>88</th>\n",
       "      <td>-2.498002e-16</td>\n",
       "      <td>2.223555e-12</td>\n",
       "      <td>NaN</td>\n",
       "      <td>NaN</td>\n",
       "    </tr>\n",
       "    <tr>\n",
       "      <th>89</th>\n",
       "      <td>1.332268e-15</td>\n",
       "      <td>-2.643029e-11</td>\n",
       "      <td>NaN</td>\n",
       "      <td>NaN</td>\n",
       "    </tr>\n",
       "    <tr>\n",
       "      <th>90</th>\n",
       "      <td>5.551115e-16</td>\n",
       "      <td>-2.606382e-11</td>\n",
       "      <td>NaN</td>\n",
       "      <td>NaN</td>\n",
       "    </tr>\n",
       "    <tr>\n",
       "      <th>91</th>\n",
       "      <td>1.110223e-15</td>\n",
       "      <td>-1.909731e-11</td>\n",
       "      <td>NaN</td>\n",
       "      <td>NaN</td>\n",
       "    </tr>\n",
       "    <tr>\n",
       "      <th>92</th>\n",
       "      <td>-4.440892e-16</td>\n",
       "      <td>-1.412659e-11</td>\n",
       "      <td>NaN</td>\n",
       "      <td>NaN</td>\n",
       "    </tr>\n",
       "    <tr>\n",
       "      <th>93</th>\n",
       "      <td>-4.440892e-16</td>\n",
       "      <td>4.432177e-12</td>\n",
       "      <td>NaN</td>\n",
       "      <td>NaN</td>\n",
       "    </tr>\n",
       "    <tr>\n",
       "      <th>94</th>\n",
       "      <td>0.000000e+00</td>\n",
       "      <td>3.408285e-11</td>\n",
       "      <td>NaN</td>\n",
       "      <td>NaN</td>\n",
       "    </tr>\n",
       "    <tr>\n",
       "      <th>95</th>\n",
       "      <td>4.996004e-16</td>\n",
       "      <td>-2.909794e-12</td>\n",
       "      <td>NaN</td>\n",
       "      <td>NaN</td>\n",
       "    </tr>\n",
       "    <tr>\n",
       "      <th>96</th>\n",
       "      <td>-7.216450e-16</td>\n",
       "      <td>9.251711e-12</td>\n",
       "      <td>NaN</td>\n",
       "      <td>NaN</td>\n",
       "    </tr>\n",
       "    <tr>\n",
       "      <th>97</th>\n",
       "      <td>-8.881784e-16</td>\n",
       "      <td>-2.464495e-11</td>\n",
       "      <td>NaN</td>\n",
       "      <td>NaN</td>\n",
       "    </tr>\n",
       "    <tr>\n",
       "      <th>98</th>\n",
       "      <td>2.220446e-16</td>\n",
       "      <td>2.047307e-12</td>\n",
       "      <td>NaN</td>\n",
       "      <td>NaN</td>\n",
       "    </tr>\n",
       "    <tr>\n",
       "      <th>99</th>\n",
       "      <td>1.776357e-15</td>\n",
       "      <td>2.597467e-11</td>\n",
       "      <td>NaN</td>\n",
       "      <td>NaN</td>\n",
       "    </tr>\n",
       "  </tbody>\n",
       "</table>\n",
       "<p>100 rows × 4 columns</p>\n",
       "</div>"
      ],
      "text/plain": [
       "               0             1   2   3\n",
       "0   1.221245e-15 -2.270559e-11 NaN NaN\n",
       "1   3.552714e-15 -5.442324e-11 NaN NaN\n",
       "2  -6.661338e-16 -7.718437e-12 NaN NaN\n",
       "3  -8.881784e-16  5.366924e-11 NaN NaN\n",
       "4   2.220446e-15 -3.258760e-11 NaN NaN\n",
       "5   1.110223e-16  6.219858e-12 NaN NaN\n",
       "6  -8.881784e-16 -2.980061e-12 NaN NaN\n",
       "7  -1.776357e-15 -1.002876e-10 NaN NaN\n",
       "8  -8.881784e-16  2.974931e-11 NaN NaN\n",
       "9  -1.110223e-15  6.243006e-12 NaN NaN\n",
       "10  4.440892e-16  2.416678e-13 NaN NaN\n",
       "11 -8.881784e-16  6.118701e-11 NaN NaN\n",
       "12 -2.220446e-15  1.177013e-11 NaN NaN\n",
       "13 -8.881784e-16  3.444386e-11 NaN NaN\n",
       "14 -4.440892e-16 -4.012457e-12 NaN NaN\n",
       "15 -4.440892e-16 -3.282591e-11 NaN NaN\n",
       "16 -1.665335e-16 -5.560524e-12 NaN NaN\n",
       "17  1.776357e-15  5.290879e-12 NaN NaN\n",
       "18 -1.776357e-15  3.623972e-11 NaN NaN\n",
       "19  5.551115e-16 -6.622564e-12 NaN NaN\n",
       "20  0.000000e+00  6.451040e-11 NaN NaN\n",
       "21  0.000000e+00 -7.639889e-12 NaN NaN\n",
       "22  0.000000e+00  4.188117e-11 NaN NaN\n",
       "23 -2.220446e-16 -4.556910e-12 NaN NaN\n",
       "24  2.220446e-16  6.018852e-12 NaN NaN\n",
       "25 -4.440892e-16 -2.197575e-12 NaN NaN\n",
       "26  1.110223e-15 -8.194792e-12 NaN NaN\n",
       "27 -4.024558e-16 -3.376521e-12 NaN NaN\n",
       "28  4.440892e-16  3.687717e-11 NaN NaN\n",
       "29 -1.221245e-15 -2.968470e-11 NaN NaN\n",
       "..           ...           ...  ..  ..\n",
       "70  2.220446e-16  1.317620e-11 NaN NaN\n",
       "71 -1.332268e-15 -3.421941e-11 NaN NaN\n",
       "72  1.332268e-15  1.240968e-11 NaN NaN\n",
       "73 -4.996004e-16 -2.698286e-12 NaN NaN\n",
       "74 -8.881784e-16  6.052636e-11 NaN NaN\n",
       "75 -4.996004e-16  6.015827e-12 NaN NaN\n",
       "76  2.220446e-15 -1.168657e-10 NaN NaN\n",
       "77  4.440892e-16 -2.371664e-11 NaN NaN\n",
       "78 -1.776357e-15 -2.383638e-11 NaN NaN\n",
       "79 -1.110223e-15  2.572054e-12 NaN NaN\n",
       "80  0.000000e+00 -2.084544e-11 NaN NaN\n",
       "81  1.776357e-15 -8.234080e-12 NaN NaN\n",
       "82 -1.776357e-15  5.849428e-11 NaN NaN\n",
       "83  4.440892e-16 -3.019390e-11 NaN NaN\n",
       "84 -8.881784e-16  1.307540e-11 NaN NaN\n",
       "85  1.554312e-15  3.448930e-11 NaN NaN\n",
       "86  2.220446e-15  8.374651e-11 NaN NaN\n",
       "87  6.661338e-16 -2.571057e-11 NaN NaN\n",
       "88 -2.498002e-16  2.223555e-12 NaN NaN\n",
       "89  1.332268e-15 -2.643029e-11 NaN NaN\n",
       "90  5.551115e-16 -2.606382e-11 NaN NaN\n",
       "91  1.110223e-15 -1.909731e-11 NaN NaN\n",
       "92 -4.440892e-16 -1.412659e-11 NaN NaN\n",
       "93 -4.440892e-16  4.432177e-12 NaN NaN\n",
       "94  0.000000e+00  3.408285e-11 NaN NaN\n",
       "95  4.996004e-16 -2.909794e-12 NaN NaN\n",
       "96 -7.216450e-16  9.251711e-12 NaN NaN\n",
       "97 -8.881784e-16 -2.464495e-11 NaN NaN\n",
       "98  2.220446e-16  2.047307e-12 NaN NaN\n",
       "99  1.776357e-15  2.597467e-11 NaN NaN\n",
       "\n",
       "[100 rows x 4 columns]"
      ]
     },
     "execution_count": 312,
     "metadata": {},
     "output_type": "execute_result"
    }
   ],
   "source": [
    "df_PC_numpy-df_PC_skl"
   ]
  },
  {
   "cell_type": "markdown",
   "metadata": {},
   "source": [
    "\n",
    "#### Problem 2(c) \n",
    "\n",
    "In the lecture we discussed how to use cross validation to estimate the optimal value for $k$ (the number of nearest neighbors to base the classification on). Use ***ten fold cross validation*** to estimate the optimal value for $k$ for the iris data set. \n",
    "\n",
    "**Note**: For your convenience sklearn does not only include the [KNN classifier](http://scikit-learn.org/stable/modules/generated/sklearn.neighbors.KNeighborsClassifier.html), but also a [grid search function](http://scikit-learn.org/stable/modules/generated/sklearn.grid_search.GridSearchCV.html#sklearn.grid_search.GridSearchCV). The function is called grid search, because if you have to optimize more than one parameter, it is common practice to define a range of possible values for each parameter. An exhaustive search then runs over the complete grid defined by all the possible parameter combinations. This can get very computation heavy, but luckily our KNN classifier only requires tuning of a single parameter for this problem set. "
   ]
  },
  {
   "cell_type": "code",
   "execution_count": null,
   "metadata": {
    "collapsed": false
   },
   "outputs": [],
   "source": [
    "### Your code here ###\n",
    "k = np.arange(20)+1\n",
    "parameter = {'n_neighbors':k}\n",
    "knn = sklearn.neighbors.KNeighborsClassifier()\n",
    "clf = sklearn.grid_search.GridSearchCV(knn, parameter,cv=10)\n",
    "\n",
    "clf.fit(X_train,y_train)\n"
   ]
  },
  {
   "cell_type": "code",
   "execution_count": null,
   "metadata": {
    "collapsed": false
   },
   "outputs": [],
   "source": [
    "pd.DataFrame(clf.grid_scores_).head()"
   ]
  },
  {
   "cell_type": "markdown",
   "metadata": {},
   "source": [
    "#### Problem 2(d)\n",
    "\n",
    "Visualize the result by plotting the score results versus values for $k$. "
   ]
  },
  {
   "cell_type": "code",
   "execution_count": null,
   "metadata": {
    "collapsed": false
   },
   "outputs": [],
   "source": [
    "### Your code here ###\n",
    "scores = clf.grid_scores_\n",
    "mean_score = [np.mean(score.cv_validation_scores) for score in scores ]\n",
    "print len(mean_score)\n",
    "plt.scatter(k,mean_score) \n",
    "print clf.best_estimator_\n",
    "\n",
    "print clf.best_score_\n"
   ]
  },
  {
   "cell_type": "markdown",
   "metadata": {},
   "source": [
    "Verify that the grid search has indeed chosen the right parameter value for $k$."
   ]
  },
  {
   "cell_type": "code",
   "execution_count": null,
   "metadata": {
    "collapsed": false
   },
   "outputs": [],
   "source": [
    "print clf.best_params_"
   ]
  },
  {
   "cell_type": "markdown",
   "metadata": {},
   "source": [
    "#### Problem 2(e)\n",
    "\n",
    "Test the performance of our tuned KNN classifier on the test set."
   ]
  },
  {
   "cell_type": "code",
   "execution_count": null,
   "metadata": {
    "collapsed": false
   },
   "outputs": [],
   "source": [
    "print y_test.shape\n",
    "print X_test.shape\n",
    "print X_test[:5,1]\n",
    "X_test_centered = X_test-np.mean(X_test,axis=0)\n",
    "\n",
    "\n",
    "kFold = sklearn.cross_validation.KFold(X_test.shape[0],n_folds=5)\n",
    "\n",
    "score =[]\n",
    "for _,idx in kFold:\n",
    "    score.append(sklearn.metrics.accuracy_score(y_test[idx],clf.predict(X_test[idx])))\n",
    "    \n",
    "print np.mean(score), np.std(score)"
   ]
  },
  {
   "cell_type": "markdown",
   "metadata": {},
   "source": [
    "### Same exercice but this time with the PC instead of original vectors (CLE own kitchen)\n",
    "\n",
    "- compute the pc vectors of the centered datas, \n",
    "- then KFold the data and iterate on them \n",
    "- fit a grisearch CV model and compute the accuracy score of the prediction"
   ]
  },
  {
   "cell_type": "code",
   "execution_count": null,
   "metadata": {
    "collapsed": true
   },
   "outputs": [],
   "source": [
    "def normalize(X):\n",
    "    X_copy = X.copy()\n",
    "    return X_copy- np.mean(X_copy,axis=0)\n",
    "\n",
    "X_train_d_centered = normalize(X_train)\n",
    "X_test_d_centered = normalize(X_test)"
   ]
  },
  {
   "cell_type": "code",
   "execution_count": null,
   "metadata": {
    "collapsed": false
   },
   "outputs": [],
   "source": [
    "svd = sklearn.decomposition.TruncatedSVD(n_components=3)\n",
    "\n",
    "X_d_train = svd.fit_transform(X_train_d_centered)\n",
    "X_d_test = svd.transform(X_test_centered)\n",
    "\n",
    "k = np.arange(20)+1\n",
    "parameter = {'n_neighbors': k}\n",
    "\n",
    "kFold = sklearn.cross_validation.KFold(X_d_train.shape[0],n_folds = 10)\n",
    "\n",
    "def compute_knn()\n",
    "    for _,idx in kFold:\n",
    "        knn = sklearn.neighbors.KNeighborsClassifier()\n",
    "        clf = sklearn.grid_search.GridSearchCV(knn,parameter,cv=10)\n",
    "        clf.fit(X_d_train,y_train)\n",
    "        print sklearn.metrics.accuracy_score(y_train,clf.predict(X_d_train))\n",
    "        print clf.best_params_"
   ]
  },
  {
   "cell_type": "markdown",
   "metadata": {},
   "source": [
    "## Discussion for Problem 2\n",
    "\n",
    "*Write a brief discussion of your conclusions to the questions and tasks above in 100 words or less.*\n",
    "\n",
    "---"
   ]
  },
  {
   "cell_type": "markdown",
   "metadata": {},
   "source": [
    "# Problem 3: The Curse and Blessing of Higher Dimensions\n",
    "\n",
    "In this problem we will investigate the influence of higher dimensional spaces on the classification. The data set is again one of the standard data sets from sklearn. The [digits data set](http://scikit-learn.org/stable/modules/generated/sklearn.datasets.load_digits.html) is similar to the MNIST data set discussed in the lecture. The main difference is, that each digit is represented by an 8x8 pixel image patch, which is considerably smaller than the 28x28 pixels from MNIST. In addition, the gray values are restricted to 16 different values (4 bit), instead of 256 (8 bit) for MNIST. \n",
    "\n",
    "First we again load our data set."
   ]
  },
  {
   "cell_type": "code",
   "execution_count": null,
   "metadata": {
    "collapsed": false
   },
   "outputs": [],
   "source": [
    "digits = sklearn.datasets.load_digits()\n",
    "\n",
    "X = digits.data  \n",
    "Y = digits.target\n",
    "\n",
    "print X.shape, Y.shape"
   ]
  },
  {
   "cell_type": "markdown",
   "metadata": {},
   "source": [
    "#### Problem 3(a) \n",
    "\n",
    "Start with the same steps as in Problem 2. Split the data into train and test set. Use 33% of the samples as test data. Print the dimensions of all the train and test data sets you created. "
   ]
  },
  {
   "cell_type": "code",
   "execution_count": null,
   "metadata": {
    "collapsed": false
   },
   "outputs": [],
   "source": [
    "### Your code here ###\n",
    "\n",
    "X_test,X_train,Y_test,Y_train = sklearn.cross_validation.train_test_split(X,Y,test_size=0.33,random_state=42)\n",
    "print X_test.shape,X_train.shape,Y_test.shape,Y_train.shape\n",
    "\n",
    "X_train_centered = X_train-np.mean(X_train,axis=0)"
   ]
  },
  {
   "cell_type": "markdown",
   "metadata": {},
   "source": [
    "#### Problem 3(b) \n",
    "\n",
    "Similar to Problem 2(b), create a scatter plot of the projections to the first two PCs.  Use the colors on the scatter plot to represent the different classes in the target data. How well can we separate the classes?\n",
    "\n",
    "**Hint**: Use a `Colormap` in matplotlib to represent the diferent classes in the target data. "
   ]
  },
  {
   "cell_type": "code",
   "execution_count": null,
   "metadata": {
    "collapsed": false
   },
   "outputs": [],
   "source": [
    "### Your code here ###\n",
    "svd = sklearn.decomposition.TruncatedSVD(n_components=10)\n",
    "pc = svd.fit_transform(X_train_centered,y_train)\n",
    "\n",
    "plt.scatter(pc[:,1],pc[:,0],c=Y_train,cmap=plt.cm.Paired_r)\n",
    "plt.colorbar()"
   ]
  },
  {
   "cell_type": "markdown",
   "metadata": {},
   "source": [
    "Create individual scatter plots using only two classes at a time to explore which classes are most difficult to distinguish in terms of class separability.  You do not need to create scatter plots for all pairwise comparisons, but at least show one. "
   ]
  },
  {
   "cell_type": "code",
   "execution_count": null,
   "metadata": {
    "collapsed": false
   },
   "outputs": [],
   "source": [
    "### Your code here ###\n"
   ]
  },
  {
   "cell_type": "markdown",
   "metadata": {},
   "source": [
    "Give a brief interpretation of the scatter plot. Which classes look like hard to distinguish? Do both feature dimensions contribute to the class separability? "
   ]
  },
  {
   "cell_type": "markdown",
   "metadata": {},
   "source": [
    "** Your answer here: **"
   ]
  },
  {
   "cell_type": "markdown",
   "metadata": {},
   "source": [
    "#### Problem 3(c) \n",
    "\n",
    "Write a **ten-fold cross validation** to estimate the optimal value for $k$ for the digits data set. *However*, this time we are interested in the influence of the number of dimensions we project the data down as well. \n",
    "\n",
    "Extend the cross validation as done for the iris data set, to optimize $k$ for different dimensional projections of the data. Create a boxplot showing test scores for the optimal $k$ for each $d$-dimensional subspace with $d$ ranging from one to ten. The plot should have the scores on the y-axis and the different dimensions $d$ on the x-axis. You can use your favorite plot function for the boxplots. [Seaborn](http://web.stanford.edu/~mwaskom/software/seaborn/index.html) is worth having a look at though. It is a great library for statistical visualization and of course also comes with a [`boxplot`](http://web.stanford.edu/~mwaskom/software/seaborn/generated/seaborn.boxplot.html) function that has simple means for changing the labels on the x-axis."
   ]
  },
  {
   "cell_type": "code",
   "execution_count": null,
   "metadata": {
    "collapsed": false
   },
   "outputs": [],
   "source": [
    "### Your cross validation and evaluation code here ###"
   ]
  },
  {
   "cell_type": "code",
   "execution_count": null,
   "metadata": {
    "collapsed": false
   },
   "outputs": [],
   "source": [
    "### Your boxplot code here ### "
   ]
  },
  {
   "cell_type": "markdown",
   "metadata": {},
   "source": [
    "Write a short interpretation of the generated plot, answering the following questions:\n",
    "\n",
    "* What trend do you see in the plot for increasing dimensions?\n",
    "\n",
    "* Why do you think this is happening?"
   ]
  },
  {
   "cell_type": "markdown",
   "metadata": {},
   "source": [
    "** Your answer here: **"
   ]
  },
  {
   "cell_type": "markdown",
   "metadata": {},
   "source": [
    "#### Problem 3(d) \n",
    "\n",
    "**For AC209 Students**: Change the boxplot we generated above to also show the optimal value for $k$ chosen by the cross validation grid search. "
   ]
  },
  {
   "cell_type": "code",
   "execution_count": null,
   "metadata": {
    "collapsed": false
   },
   "outputs": [],
   "source": [
    "### Your code here ### "
   ]
  },
  {
   "cell_type": "markdown",
   "metadata": {},
   "source": [
    "Write a short interpretation answering the following questions:\n",
    "\n",
    "* Which trend do you observe for the optimal value of $k$?\n",
    "\n",
    "* Why do you think this is happening?"
   ]
  },
  {
   "cell_type": "markdown",
   "metadata": {},
   "source": [
    "** Your answer here: **"
   ]
  },
  {
   "cell_type": "markdown",
   "metadata": {},
   "source": [
    "## Discussion for Problem 3\n",
    "\n",
    "*Write a brief discussion of your conclusions to the questions and tasks above in 100 words or less.*\n",
    "\n",
    "---"
   ]
  },
  {
   "cell_type": "markdown",
   "metadata": {},
   "source": [
    "# Submission Instructions\n",
    "\n",
    "To submit your homework, create a folder named **lastname_firstinitial_hw#** and place your IPython notebooks, data files, and any other files in this folder. Your IPython Notebooks should be completely executed with the results visible in the notebook. We should not have to run any code.  Compress the folder (please use .zip compression) and submit to the CS109 dropbox in the appropriate folder. *If we cannot access your work because these directions are not followed correctly, we will not grade your work.*\n"
   ]
  },
  {
   "cell_type": "code",
   "execution_count": null,
   "metadata": {
    "collapsed": false
   },
   "outputs": [],
   "source": []
  }
 ],
 "metadata": {
  "kernelspec": {
   "display_name": "Python 2",
   "language": "python",
   "name": "python2"
  },
  "language_info": {
   "codemirror_mode": {
    "name": "ipython",
    "version": 2
   },
   "file_extension": ".py",
   "mimetype": "text/x-python",
   "name": "python",
   "nbconvert_exporter": "python",
   "pygments_lexer": "ipython2",
   "version": "2.7.12"
  }
 },
 "nbformat": 4,
 "nbformat_minor": 0
}
