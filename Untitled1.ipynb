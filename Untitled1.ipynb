{
 "cells": [
  {
   "cell_type": "code",
   "execution_count": 3,
   "metadata": {
    "collapsed": false
   },
   "outputs": [],
   "source": [
    "import smtplib\n",
    "\n",
    "EMAIL_ADDRESS, EMAIL_PASSWORD = 'flask.admin@lefevre.at', 'ninaditkindoupetitkindou2000'\n",
    "\n",
    "\n",
    "def send_mail(title, value):\n",
    "    server = smtplib.SMTP('smtp.world4you.com', 587)\n",
    "    server.starttls()\n",
    "    server.login(EMAIL_ADDRESS, EMAIL_PASSWORD)\n",
    "    message = 'Subject: %s\\n\\n%s' % (title, value)\n",
    "    server.sendmail(EMAIL_ADDRESS, EMAIL_ADDRESS, message)\n",
    "    server.quit()\n",
    "    \n",
    "send_mail('Test', 'testo')"
   ]
  }
 ],
 "metadata": {
  "kernelspec": {
   "display_name": "Python 2",
   "language": "python",
   "name": "python2"
  },
  "language_info": {
   "codemirror_mode": {
    "name": "ipython",
    "version": 2
   },
   "file_extension": ".py",
   "mimetype": "text/x-python",
   "name": "python",
   "nbconvert_exporter": "python",
   "pygments_lexer": "ipython2",
   "version": "2.7.12"
  }
 },
 "nbformat": 4,
 "nbformat_minor": 0
}
