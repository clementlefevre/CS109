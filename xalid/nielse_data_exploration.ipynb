{
 "cells": [
  {
   "cell_type": "markdown",
   "metadata": {},
   "source": [
    "# Data Exploration"
   ]
  },
  {
   "cell_type": "code",
   "execution_count": 1,
   "metadata": {
    "collapsed": false
   },
   "outputs": [],
   "source": [
    "%matplotlib inline\n",
    "import csv\n",
    "import pandas as pd\n",
    "import numpy as np\n",
    "from os import listdir\n",
    "from os.path import isfile, join\n",
    "from datetime import date\n",
    "import re\n",
    "\n",
    "import matplotlib.pyplot as plt\n",
    "import matplotlib.cm as cm\n",
    "import matplotlib.colors as col\n",
    "from matplotlib.dates import  DateFormatter\n",
    "import seaborn as sns\n",
    "from config import DATA_PATH,MAIN_FILE\n",
    "import PandasHelper as pdh\n",
    "from geopy.distance import vincenty\n",
    "from mpl_toolkits.basemap import Basemap\n",
    "\n",
    "pd.set_option('display.width', 500)\n",
    "pd.set_option('display.max_columns', 100)\n",
    "pd.set_option('display.notebook_repr_html', True)\n",
    "\n",
    "sns.set_style(\"whitegrid\")\n",
    "sns.set_context(\"poster\")"
   ]
  },
  {
   "cell_type": "markdown",
   "metadata": {},
   "source": [
    "## <pre>\n",
    "<center>\n",
    "\n",
    "| Dataset total records |  167,944,229 |\n",
    "| :- | :-:\n",
    "|   Number of devices  | 21,010,205|\n",
    "|   Number of sites  | 53|\n",
    "|   Number of devices on more than 2 sites (multi-sites devices) | 1,994,526|\n",
    "|   Records for multi-sites devices  | 47,965,794|\n",
    "|   Date range of records  | 2014-12-31 to 2015-12-31|\n",
    "\n",
    "</center>\n",
    "</pre>"
   ]
  },
  {
   "cell_type": "code",
   "execution_count": 2,
   "metadata": {
    "collapsed": false
   },
   "outputs": [
    {
     "data": {
      "image/png": "[encoded data removed]",
      "text/plain": [
       "<matplotlib.figure.Figure at 0x7fb80c217a50>"
      ]
     },
     "metadata": {},
     "output_type": "display_data"
    }
   ],
   "source": [
    "pdh.display_spread()"
   ]
  },
  {
   "cell_type": "code",
   "execution_count": 3,
   "metadata": {
    "collapsed": true
   },
   "outputs": [],
   "source": [
    "df = pd.read_csv(DATA_PATH+\"groupby_device_date_site_final.csv\",index_col=0)"
   ]
  },
  {
   "cell_type": "code",
   "execution_count": 4,
   "metadata": {
    "collapsed": false
   },
   "outputs": [
    {
     "data": {
      "text/html": [
       "<div>\n",
       "<table border=\"1\" class=\"dataframe\">\n",
       "  <thead>\n",
       "    <tr style=\"text-align: right;\">\n",
       "      <th></th>\n",
       "      <th>date</th>\n",
       "      <th>count_sites</th>\n",
       "    </tr>\n",
       "    <tr>\n",
       "      <th>device_id</th>\n",
       "      <th></th>\n",
       "      <th></th>\n",
       "    </tr>\n",
       "  </thead>\n",
       "  <tbody>\n",
       "    <tr>\n",
       "      <th>2224071</th>\n",
       "      <td>2015-09-06</td>\n",
       "      <td>3</td>\n",
       "    </tr>\n",
       "    <tr>\n",
       "      <th>2224101</th>\n",
       "      <td>2015-04-30</td>\n",
       "      <td>3</td>\n",
       "    </tr>\n",
       "    <tr>\n",
       "      <th>2224105</th>\n",
       "      <td>2015-05-13</td>\n",
       "      <td>3</td>\n",
       "    </tr>\n",
       "    <tr>\n",
       "      <th>2224107</th>\n",
       "      <td>2015-07-10</td>\n",
       "      <td>3</td>\n",
       "    </tr>\n",
       "    <tr>\n",
       "      <th>2224119</th>\n",
       "      <td>2015-07-22</td>\n",
       "      <td>3</td>\n",
       "    </tr>\n",
       "  </tbody>\n",
       "</table>\n",
       "</div>"
      ],
      "text/plain": [
       "                 date  count_sites\n",
       "device_id                         \n",
       "2224071    2015-09-06            3\n",
       "2224101    2015-04-30            3\n",
       "2224105    2015-05-13            3\n",
       "2224107    2015-07-10            3\n",
       "2224119    2015-07-22            3"
      ]
     },
     "execution_count": 4,
     "metadata": {},
     "output_type": "execute_result"
    }
   ],
   "source": [
    "df.columns=[['date',\"count_sites\"]]\n",
    "df = df[df.count_sites>2]\n",
    "df.head()"
   ]
  },
  {
   "cell_type": "code",
   "execution_count": 5,
   "metadata": {
    "collapsed": false
   },
   "outputs": [],
   "source": [
    "groupy = (df.reset_index()).groupby('device_id').max()\n",
    "groupy = groupy.sort_values(by='count_sites',ascending=False)\n",
    "groupy = groupy.reset_index()"
   ]
  },
  {
   "cell_type": "code",
   "execution_count": 6,
   "metadata": {
    "collapsed": false
   },
   "outputs": [],
   "source": [
    "devices_idx = pd.read_csv(DATA_PATH+\"indexes/devices_ix_multiple_sites.csv\",index_col=0)"
   ]
  },
  {
   "cell_type": "code",
   "execution_count": 7,
   "metadata": {
    "collapsed": false
   },
   "outputs": [
    {
     "data": {
      "text/html": [
       "<div>\n",
       "<table border=\"1\" class=\"dataframe\">\n",
       "  <thead>\n",
       "    <tr style=\"text-align: right;\">\n",
       "      <th></th>\n",
       "      <th>device_id</th>\n",
       "      <th>device_mac</th>\n",
       "    </tr>\n",
       "  </thead>\n",
       "  <tbody>\n",
       "    <tr>\n",
       "      <th>0</th>\n",
       "      <td>24</td>\n",
       "      <td>76337b2689839e68b22235bdbb00ae5f</td>\n",
       "    </tr>\n",
       "    <tr>\n",
       "      <th>1</th>\n",
       "      <td>38</td>\n",
       "      <td>fc37652cf48ea844f371839e6274de22</td>\n",
       "    </tr>\n",
       "    <tr>\n",
       "      <th>2</th>\n",
       "      <td>40</td>\n",
       "      <td>d662ffcf6c668b6f325ab7980e720f6d</td>\n",
       "    </tr>\n",
       "    <tr>\n",
       "      <th>3</th>\n",
       "      <td>43</td>\n",
       "      <td>b4d3150a5951000b1701327d70bba5a9</td>\n",
       "    </tr>\n",
       "    <tr>\n",
       "      <th>4</th>\n",
       "      <td>50</td>\n",
       "      <td>861edd1e288e4f38e8a80807a32c3d24</td>\n",
       "    </tr>\n",
       "  </tbody>\n",
       "</table>\n",
       "</div>"
      ],
      "text/plain": [
       "   device_id                        device_mac\n",
       "0         24  76337b2689839e68b22235bdbb00ae5f\n",
       "1         38  fc37652cf48ea844f371839e6274de22\n",
       "2         40  d662ffcf6c668b6f325ab7980e720f6d\n",
       "3         43  b4d3150a5951000b1701327d70bba5a9\n",
       "4         50  861edd1e288e4f38e8a80807a32c3d24"
      ]
     },
     "execution_count": 7,
     "metadata": {},
     "output_type": "execute_result"
    }
   ],
   "source": [
    "devices_idx.head()"
   ]
  },
  {
   "cell_type": "code",
   "execution_count": 8,
   "metadata": {
    "collapsed": false
   },
   "outputs": [
    {
     "data": {
      "text/html": [
       "<div>\n",
       "<table border=\"1\" class=\"dataframe\">\n",
       "  <thead>\n",
       "    <tr style=\"text-align: right;\">\n",
       "      <th></th>\n",
       "      <th>device_id</th>\n",
       "      <th>date</th>\n",
       "      <th>count_sites</th>\n",
       "      <th>device_mac</th>\n",
       "    </tr>\n",
       "  </thead>\n",
       "  <tbody>\n",
       "    <tr>\n",
       "      <th>0</th>\n",
       "      <td>56118</td>\n",
       "      <td>2015-12-31</td>\n",
       "      <td>40</td>\n",
       "      <td>1d378b6df55bcc9dea58b6728e7e8285</td>\n",
       "    </tr>\n",
       "    <tr>\n",
       "      <th>1</th>\n",
       "      <td>3698</td>\n",
       "      <td>2015-12-31</td>\n",
       "      <td>39</td>\n",
       "      <td>71085a86d20b64c43ec3b9781ef70cfc</td>\n",
       "    </tr>\n",
       "    <tr>\n",
       "      <th>2</th>\n",
       "      <td>15796</td>\n",
       "      <td>2015-12-31</td>\n",
       "      <td>17</td>\n",
       "      <td>fd5ab440ac21cc7726883d844b119861</td>\n",
       "    </tr>\n",
       "    <tr>\n",
       "      <th>3</th>\n",
       "      <td>104104</td>\n",
       "      <td>2015-12-31</td>\n",
       "      <td>16</td>\n",
       "      <td>873dc43cc36d8b66dd295625ec9c2b56</td>\n",
       "    </tr>\n",
       "    <tr>\n",
       "      <th>4</th>\n",
       "      <td>38844</td>\n",
       "      <td>2015-12-31</td>\n",
       "      <td>16</td>\n",
       "      <td>96b40b45252bdcf12ffc90a1c5995f96</td>\n",
       "    </tr>\n",
       "  </tbody>\n",
       "</table>\n",
       "</div>"
      ],
      "text/plain": [
       "   device_id        date  count_sites                        device_mac\n",
       "0      56118  2015-12-31           40  1d378b6df55bcc9dea58b6728e7e8285\n",
       "1       3698  2015-12-31           39  71085a86d20b64c43ec3b9781ef70cfc\n",
       "2      15796  2015-12-31           17  fd5ab440ac21cc7726883d844b119861\n",
       "3     104104  2015-12-31           16  873dc43cc36d8b66dd295625ec9c2b56\n",
       "4      38844  2015-12-31           16  96b40b45252bdcf12ffc90a1c5995f96"
      ]
     },
     "execution_count": 8,
     "metadata": {},
     "output_type": "execute_result"
    }
   ],
   "source": [
    "groupy = pd.merge(groupy,devices_idx, on='device_id')\n",
    "groupy.head()\n"
   ]
  },
  {
   "cell_type": "code",
   "execution_count": 9,
   "metadata": {
    "collapsed": false
   },
   "outputs": [],
   "source": [
    "groupy.to_csv(DATA_PATH+\"indexes/devices_date_3Sites_plus.csv\",index=False)"
   ]
  },
  {
   "cell_type": "code",
   "execution_count": 10,
   "metadata": {
    "collapsed": false
   },
   "outputs": [],
   "source": [
    "data = pd.read_csv(DATA_PATH+\"nielsen.csv\",nrows=1000000,parse_dates=['first_timeframe'])\n",
    "\n",
    "data['date']=data.first_timeframe.dt.date\n",
    "data.date = pd.to_datetime(data.date)"
   ]
  },
  {
   "cell_type": "code",
   "execution_count": 11,
   "metadata": {
    "collapsed": true
   },
   "outputs": [],
   "source": [
    "groupy.date  = pd.to_datetime(groupy.date)\n"
   ]
  },
  {
   "cell_type": "code",
   "execution_count": 12,
   "metadata": {
    "collapsed": false
   },
   "outputs": [
    {
     "name": "stdout",
     "output_type": "stream",
     "text": [
      "<class 'pandas.core.frame.DataFrame'>\n",
      "Int64Index: 84925 entries, 0 to 84924\n",
      "Data columns (total 4 columns):\n",
      "id             84925 non-null int64\n",
      "date           84925 non-null datetime64[ns]\n",
      "count_sites    84925 non-null int64\n",
      "device_id      84925 non-null object\n",
      "dtypes: datetime64[ns](1), int64(2), object(1)\n",
      "memory usage: 3.2+ MB\n"
     ]
    }
   ],
   "source": [
    "groupy.columns=['id','date','count_sites','device_id']\n",
    "groupy.info()"
   ]
  },
  {
   "cell_type": "code",
   "execution_count": 13,
   "metadata": {
    "collapsed": false
   },
   "outputs": [
    {
     "name": "stdout",
     "output_type": "stream",
     "text": [
      "<class 'pandas.core.frame.DataFrame'>\n",
      "RangeIndex: 1000000 entries, 0 to 999999\n",
      "Data columns (total 6 columns):\n",
      "site_name          1000000 non-null object\n",
      "first_timeframe    1000000 non-null datetime64[ns]\n",
      "dwell_time_s       1000000 non-null int64\n",
      "device_id          1000000 non-null object\n",
      "visitor            1000000 non-null bool\n",
      "date               1000000 non-null datetime64[ns]\n",
      "dtypes: bool(1), datetime64[ns](2), int64(1), object(2)\n",
      "memory usage: 39.1+ MB\n"
     ]
    }
   ],
   "source": [
    "data.info()"
   ]
  },
  {
   "cell_type": "code",
   "execution_count": 14,
   "metadata": {
    "collapsed": false
   },
   "outputs": [
    {
     "ename": "MemoryError",
     "evalue": "",
     "output_type": "error",
     "traceback": [
      "\u001b[1;31m---------------------------------------------------------------------------\u001b[0m",
      "\u001b[1;31mMemoryError\u001b[0m                               Traceback (most recent call last)",
      "\u001b[1;32m<ipython-input-14-6a79b707239e>\u001b[0m in \u001b[0;36m<module>\u001b[1;34m()\u001b[0m\n\u001b[1;32m----> 1\u001b[1;33m \u001b[0mresult_data\u001b[0m \u001b[1;33m=\u001b[0m \u001b[0mpd\u001b[0m\u001b[1;33m.\u001b[0m\u001b[0mmerge\u001b[0m\u001b[1;33m(\u001b[0m\u001b[0mdata\u001b[0m\u001b[1;33m,\u001b[0m\u001b[0mgroupy\u001b[0m\u001b[1;33m,\u001b[0m\u001b[0mon\u001b[0m\u001b[1;33m=\u001b[0m\u001b[1;33m[\u001b[0m\u001b[1;34m'date'\u001b[0m\u001b[1;33m]\u001b[0m\u001b[1;33m)\u001b[0m\u001b[1;33m\u001b[0m\u001b[0m\n\u001b[0m",
      "\u001b[1;32m/home/ramon/anaconda2/lib/python2.7/site-packages/pandas/tools/merge.pyc\u001b[0m in \u001b[0;36mmerge\u001b[1;34m(left, right, how, on, left_on, right_on, left_index, right_index, sort, suffixes, copy, indicator)\u001b[0m\n\u001b[0;32m     33\u001b[0m                          \u001b[0mright_index\u001b[0m\u001b[1;33m=\u001b[0m\u001b[0mright_index\u001b[0m\u001b[1;33m,\u001b[0m \u001b[0msort\u001b[0m\u001b[1;33m=\u001b[0m\u001b[0msort\u001b[0m\u001b[1;33m,\u001b[0m \u001b[0msuffixes\u001b[0m\u001b[1;33m=\u001b[0m\u001b[0msuffixes\u001b[0m\u001b[1;33m,\u001b[0m\u001b[1;33m\u001b[0m\u001b[0m\n\u001b[0;32m     34\u001b[0m                          copy=copy, indicator=indicator)\n\u001b[1;32m---> 35\u001b[1;33m     \u001b[1;32mreturn\u001b[0m \u001b[0mop\u001b[0m\u001b[1;33m.\u001b[0m\u001b[0mget_result\u001b[0m\u001b[1;33m(\u001b[0m\u001b[1;33m)\u001b[0m\u001b[1;33m\u001b[0m\u001b[0m\n\u001b[0m\u001b[0;32m     36\u001b[0m \u001b[1;32mif\u001b[0m \u001b[0m__debug__\u001b[0m\u001b[1;33m:\u001b[0m\u001b[1;33m\u001b[0m\u001b[0m\n\u001b[0;32m     37\u001b[0m     \u001b[0mmerge\u001b[0m\u001b[1;33m.\u001b[0m\u001b[0m__doc__\u001b[0m \u001b[1;33m=\u001b[0m \u001b[0m_merge_doc\u001b[0m \u001b[1;33m%\u001b[0m \u001b[1;34m'\\nleft : DataFrame'\u001b[0m\u001b[1;33m\u001b[0m\u001b[0m\n",
      "\u001b[1;32m/home/ramon/anaconda2/lib/python2.7/site-packages/pandas/tools/merge.pyc\u001b[0m in \u001b[0;36mget_result\u001b[1;34m(self)\u001b[0m\n\u001b[0;32m    218\u001b[0m             \u001b[1;33m[\u001b[0m\u001b[1;33m(\u001b[0m\u001b[0mldata\u001b[0m\u001b[1;33m,\u001b[0m \u001b[0mlindexers\u001b[0m\u001b[1;33m)\u001b[0m\u001b[1;33m,\u001b[0m \u001b[1;33m(\u001b[0m\u001b[0mrdata\u001b[0m\u001b[1;33m,\u001b[0m \u001b[0mrindexers\u001b[0m\u001b[1;33m)\u001b[0m\u001b[1;33m]\u001b[0m\u001b[1;33m,\u001b[0m\u001b[1;33m\u001b[0m\u001b[0m\n\u001b[0;32m    219\u001b[0m             \u001b[0maxes\u001b[0m\u001b[1;33m=\u001b[0m\u001b[1;33m[\u001b[0m\u001b[0mllabels\u001b[0m\u001b[1;33m.\u001b[0m\u001b[0mappend\u001b[0m\u001b[1;33m(\u001b[0m\u001b[0mrlabels\u001b[0m\u001b[1;33m)\u001b[0m\u001b[1;33m,\u001b[0m \u001b[0mjoin_index\u001b[0m\u001b[1;33m]\u001b[0m\u001b[1;33m,\u001b[0m\u001b[1;33m\u001b[0m\u001b[0m\n\u001b[1;32m--> 220\u001b[1;33m             concat_axis=0, copy=self.copy)\n\u001b[0m\u001b[0;32m    221\u001b[0m \u001b[1;33m\u001b[0m\u001b[0m\n\u001b[0;32m    222\u001b[0m         \u001b[0mtyp\u001b[0m \u001b[1;33m=\u001b[0m \u001b[0mself\u001b[0m\u001b[1;33m.\u001b[0m\u001b[0mleft\u001b[0m\u001b[1;33m.\u001b[0m\u001b[0m_constructor\u001b[0m\u001b[1;33m\u001b[0m\u001b[0m\n",
      "\u001b[1;32m/home/ramon/anaconda2/lib/python2.7/site-packages/pandas/core/internals.pyc\u001b[0m in \u001b[0;36mconcatenate_block_managers\u001b[1;34m(mgrs_indexers, axes, concat_axis, copy)\u001b[0m\n\u001b[0;32m   4472\u001b[0m                                                 copy=copy),\n\u001b[0;32m   4473\u001b[0m                          placement=placement)\n\u001b[1;32m-> 4474\u001b[1;33m               for placement, join_units in concat_plan]\n\u001b[0m\u001b[0;32m   4475\u001b[0m \u001b[1;33m\u001b[0m\u001b[0m\n\u001b[0;32m   4476\u001b[0m     \u001b[1;32mreturn\u001b[0m \u001b[0mBlockManager\u001b[0m\u001b[1;33m(\u001b[0m\u001b[0mblocks\u001b[0m\u001b[1;33m,\u001b[0m \u001b[0maxes\u001b[0m\u001b[1;33m)\u001b[0m\u001b[1;33m\u001b[0m\u001b[0m\n",
      "\u001b[1;32m/home/ramon/anaconda2/lib/python2.7/site-packages/pandas/core/internals.pyc\u001b[0m in \u001b[0;36mconcatenate_join_units\u001b[1;34m(join_units, concat_axis, copy)\u001b[0m\n\u001b[0;32m   4569\u001b[0m     to_concat = [ju.get_reindexed_values(empty_dtype=empty_dtype,\n\u001b[0;32m   4570\u001b[0m                                          upcasted_na=upcasted_na)\n\u001b[1;32m-> 4571\u001b[1;33m                  for ju in join_units]\n\u001b[0m\u001b[0;32m   4572\u001b[0m \u001b[1;33m\u001b[0m\u001b[0m\n\u001b[0;32m   4573\u001b[0m     \u001b[1;32mif\u001b[0m \u001b[0mlen\u001b[0m\u001b[1;33m(\u001b[0m\u001b[0mto_concat\u001b[0m\u001b[1;33m)\u001b[0m \u001b[1;33m==\u001b[0m \u001b[1;36m1\u001b[0m\u001b[1;33m:\u001b[0m\u001b[1;33m\u001b[0m\u001b[0m\n",
      "\u001b[1;32m/home/ramon/anaconda2/lib/python2.7/site-packages/pandas/core/internals.pyc\u001b[0m in \u001b[0;36mget_reindexed_values\u001b[1;34m(self, empty_dtype, upcasted_na)\u001b[0m\n\u001b[0;32m   4860\u001b[0m             \u001b[1;32mfor\u001b[0m \u001b[0max\u001b[0m\u001b[1;33m,\u001b[0m \u001b[0mindexer\u001b[0m \u001b[1;32min\u001b[0m \u001b[0mself\u001b[0m\u001b[1;33m.\u001b[0m\u001b[0mindexers\u001b[0m\u001b[1;33m.\u001b[0m\u001b[0mitems\u001b[0m\u001b[1;33m(\u001b[0m\u001b[1;33m)\u001b[0m\u001b[1;33m:\u001b[0m\u001b[1;33m\u001b[0m\u001b[0m\n\u001b[0;32m   4861\u001b[0m                 values = com.take_nd(values, indexer, axis=ax,\n\u001b[1;32m-> 4862\u001b[1;33m                                      fill_value=fill_value)\n\u001b[0m\u001b[0;32m   4863\u001b[0m \u001b[1;33m\u001b[0m\u001b[0m\n\u001b[0;32m   4864\u001b[0m         \u001b[1;32mreturn\u001b[0m \u001b[0mvalues\u001b[0m\u001b[1;33m\u001b[0m\u001b[0m\n",
      "\u001b[1;32m/home/ramon/anaconda2/lib/python2.7/site-packages/pandas/core/common.pyc\u001b[0m in \u001b[0;36mtake_nd\u001b[1;34m(arr, indexer, axis, out, fill_value, mask_info, allow_fill)\u001b[0m\n\u001b[0;32m    821\u001b[0m             \u001b[0mout\u001b[0m \u001b[1;33m=\u001b[0m \u001b[0mnp\u001b[0m\u001b[1;33m.\u001b[0m\u001b[0mempty\u001b[0m\u001b[1;33m(\u001b[0m\u001b[0mout_shape\u001b[0m\u001b[1;33m,\u001b[0m \u001b[0mdtype\u001b[0m\u001b[1;33m=\u001b[0m\u001b[0mdtype\u001b[0m\u001b[1;33m,\u001b[0m \u001b[0morder\u001b[0m\u001b[1;33m=\u001b[0m\u001b[1;34m'F'\u001b[0m\u001b[1;33m)\u001b[0m\u001b[1;33m\u001b[0m\u001b[0m\n\u001b[0;32m    822\u001b[0m         \u001b[1;32melse\u001b[0m\u001b[1;33m:\u001b[0m\u001b[1;33m\u001b[0m\u001b[0m\n\u001b[1;32m--> 823\u001b[1;33m             \u001b[0mout\u001b[0m \u001b[1;33m=\u001b[0m \u001b[0mnp\u001b[0m\u001b[1;33m.\u001b[0m\u001b[0mempty\u001b[0m\u001b[1;33m(\u001b[0m\u001b[0mout_shape\u001b[0m\u001b[1;33m,\u001b[0m \u001b[0mdtype\u001b[0m\u001b[1;33m=\u001b[0m\u001b[0mdtype\u001b[0m\u001b[1;33m)\u001b[0m\u001b[1;33m\u001b[0m\u001b[0m\n\u001b[0m\u001b[0;32m    824\u001b[0m \u001b[1;33m\u001b[0m\u001b[0m\n\u001b[0;32m    825\u001b[0m     func = _get_take_nd_function(arr.ndim, arr.dtype, out.dtype, axis=axis,\n",
      "\u001b[1;31mMemoryError\u001b[0m: "
     ]
    }
   ],
   "source": [
    "result_data = pd.merge(data,groupy,on=['date'])"
   ]
  },
  {
   "cell_type": "code",
   "execution_count": null,
   "metadata": {
    "collapsed": false
   },
   "outputs": [],
   "source": [
    "result_data.head()"
   ]
  },
  {
   "cell_type": "code",
   "execution_count": null,
   "metadata": {
    "collapsed": false
   },
   "outputs": [],
   "source": [
    "def display_repartition_per_visits():\n",
    "    df = pd.read_csv(DATA_PATH+\"groupby_device_date_site_final.csv\",index_col=0)\n",
    "    df.columns=[['date',\"count_sites\"]]\n",
    "    df=df.sort_values('count_sites',ascending=False)\n",
    "    visited_sites_per_day = df.groupby('count_sites').count()\n",
    "    visited_sites_per_day= visited_sites_per_day.reset_index()\n",
    "    bins = [0,1,2,100]\n",
    "    group_names = [\"One Site\",\"2 Sites\",\"3 Sites and more\"]\n",
    "    visited_sites_per_day['visited per day'] = pd.cut(visited_sites_per_day['count_sites'], bins, labels=group_names)\n",
    "    visited_sites_per_day = visited_sites_per_day[['date','visited per day']]\n",
    "    visited_sites_per_day = visited_sites_per_day.groupby('visited per day').sum()\n",
    "    visited_sites_per_day.columns=['number_of_devices']\n",
    "    visited_sites_per_day['%']=(visited_sites_per_day.number_of_devices/visited_sites_per_day.number_of_devices.sum(axis=0)*100).round(3)\n",
    "    visited_sites_per_day.plot.pie(y='%',figsize=(6, 6), title='Number of visited sites per device per day - all year',legend=False,cmap=cm.GnBu)\n",
    "    visited_sites_per_day.number_of_devices= visited_sites_per_day.number_of_devices.apply(lambda x : '{:,}'.format(x))\n",
    "    \n",
    "    lst = [df]\n",
    "    del lst\n",
    "    return visited_sites_per_day"
   ]
  },
  {
   "cell_type": "code",
   "execution_count": null,
   "metadata": {
    "collapsed": false
   },
   "outputs": [],
   "source": [
    "repartition = display_repartition_per_visits()\n",
    "repartition.head()"
   ]
  },
  {
   "cell_type": "code",
   "execution_count": null,
   "metadata": {
    "collapsed": true
   },
   "outputs": [],
   "source": [
    "def get_visits_timeline_all_devices():\n",
    "    df = pd.read_csv(DATA_PATH+\"groupby_device_date_site_final.csv\",index_col=0)\n",
    "    df.columns=[['date','count_sites']]\n",
    "    #df = df[df.count_sites>1]\n",
    "    df = df.reset_index()\n",
    "    df['date']= pd.to_datetime(df.date)\n",
    "    df['weekday']= df['date'].dt.dayofweek\n",
    "    df['day_from_start']= (df.date-date(2014,12,31)) / np.timedelta64(1, 'D')\n",
    "    return df"
   ]
  },
  {
   "cell_type": "code",
   "execution_count": null,
   "metadata": {
    "collapsed": false
   },
   "outputs": [],
   "source": [
    "def draw_devices_visits_timeline():\n",
    "    df = get_visits_timeline_all_devices()\n",
    "    df = df[df.count_sites>1]\n",
    "    plt.scatter(df.day_from_start,df.count_sites, alpha=0.6,color='#007f7f')\n",
    "    plt.title(\"Number of sites visited per device - 2015\")\n",
    "    plt.xlabel('days from 1/1/2015')"
   ]
  },
  {
   "cell_type": "code",
   "execution_count": null,
   "metadata": {
    "collapsed": false
   },
   "outputs": [],
   "source": [
    "def create_summary_per_devices():\n",
    "    df = get_visits_timeline_all_devices()\n",
    "    ## define a table per device - total days tracked - average sites per day\n",
    "    f = {'date':['count'], 'count_sites':['sum','mean']}\n",
    "    df_device_visits = df.groupby('device_id').agg(f)\n",
    "    # df_device_visits.columns = df_device_visits.columns.droplevel()\n",
    "    df_device_visits =df_device_visits.sort([('count_sites','sum')],ascending=False)\n",
    "    return df_device_visits"
   ]
  },
  {
   "cell_type": "code",
   "execution_count": null,
   "metadata": {
    "collapsed": false
   },
   "outputs": [],
   "source": [
    "draw_devices_visits_timeline()"
   ]
  },
  {
   "cell_type": "code",
   "execution_count": null,
   "metadata": {
    "collapsed": false
   },
   "outputs": [],
   "source": [
    "df.head()"
   ]
  },
  {
   "cell_type": "code",
   "execution_count": null,
   "metadata": {
    "collapsed": false
   },
   "outputs": [],
   "source": [
    "def get_data(device_id_list):\n",
    "    mac_list = pdh.search_device_mac(device_id_list)\n",
    "    pdh.search_device_data(mac_list)\n",
    "    return pd.read_csv(DATA_PATH+\"data_search_results.csv\")"
   ]
  },
  {
   "cell_type": "code",
   "execution_count": null,
   "metadata": {
    "collapsed": false
   },
   "outputs": [],
   "source": [
    "lista = pdh.search_device_mac([610239,3698,56118,56784,2150983])\n"
   ]
  },
  {
   "cell_type": "code",
   "execution_count": null,
   "metadata": {
    "collapsed": false
   },
   "outputs": [],
   "source": [
    "print lista"
   ]
  },
  {
   "cell_type": "code",
   "execution_count": null,
   "metadata": {
    "collapsed": false
   },
   "outputs": [],
   "source": []
  },
  {
   "cell_type": "code",
   "execution_count": null,
   "metadata": {
    "collapsed": false
   },
   "outputs": [],
   "source": [
    "def draw_time_line(mac_address):\n",
    "    data = pd.read_csv(DATA_PATH+\"data_search_results.csv\",index_col=0, parse_dates=['first_timeframe'])\n",
    "    data.info()\n",
    "    data_per_mac= data[data.device_id==mac_address]\n",
    "    data_per_mac = data_per_mac.sort_values('first_timeframe',ascending=True)\n",
    "    data_per_mac['city']=data_per_mac.site_name.apply(lambda x : x.split('(')[0])\n",
    "    #data_per_mac = data_per_mac[data_per_mac.city.str.contains(\"Berlin\")]\n",
    "    data_per_mac_on_week = data_per_mac[(data_per_mac.first_timeframe.dt.dayofyear==24) & (data_per_mac.first_timeframe.dt.hour>10)\n",
    "                                        & (data_per_mac.first_timeframe.dt.hour<23)]\n",
    "    cmap = cm.get_cmap('Accent', 30)\n",
    "    j=0\n",
    "    for i, group in data_per_mac_on_week.groupby([\"city\"]):\n",
    "\n",
    "        rgb = cmap(j)[:3]\n",
    "\n",
    "        plt.plot_date(group.first_timeframe,group.dwell_time_s,\n",
    "                     color=col.rgb2hex(rgb))\n",
    "        j=j+1\n",
    "    legendo = [i.decode('UTF-8') if isinstance(i, basestring) else i for i in data_per_mac_on_week.groupby([\"city\"]).groups]\n",
    "    ax = plt.gca()\n",
    "    ax.xaxis.set_major_formatter( DateFormatter('%Y-%m-%d %H-%M') )\n",
    "    locs, labels = plt.xticks()\n",
    "    plt.setp(labels, rotation=45)\n",
    "\n",
    "    plt.legend(legendo,ncol=4, bbox_to_anchor=(1, 1.3),prop={'size':10} )"
   ]
  },
  {
   "cell_type": "code",
   "execution_count": null,
   "metadata": {
    "collapsed": false
   },
   "outputs": [],
   "source": [
    "def compute_distance(x):\n",
    "    \n",
    "    if pd.notnull(x.chrono):\n",
    "       \n",
    "        return vincenty((x.x_before,x.y_before),(x.x_coordinate, x.y_coordinate)).km\n",
    "    else : return 0\n",
    "    \n",
    "def compute_speed(x):\n",
    "    if pd.notnull(x.chrono):\n",
    "        time = x.chrono / np.timedelta64(1, 'm')\n",
    "        \n",
    "        return x.distance_traveled/time*60\n",
    "    else: return 0\n",
    "    \n",
    "\n",
    "def draw_map(lats,lons):\n",
    "   \n",
    "    m = Basemap(llcrnrlon=4,llcrnrlat=47,urcrnrlon=20,urcrnrlat=56.0, \n",
    "                resolution='l',projection='cass',lon_0=13.5086876,lat_0= 52.5485208) \n",
    "    x, y = m(lons, lats) \n",
    "    m.plot(x, y, 'D-', markersize=10, linewidth=1, color='#ff2a6a', markerfacecolor='b') \n",
    "    m.drawcoastlines() \n",
    "    m.etopo()\n",
    "    plt.show() \n",
    "    \n",
    "def compute_trip_speed(mac_address,j,legendo):\n",
    "    data = pd.read_csv(DATA_PATH+\"data_search_results.csv\",index_col=0, parse_dates=['first_timeframe'])\n",
    "    data = data[data.device_id==mac_address]\n",
    "    sites_ix = pd.read_csv(DATA_PATH+\"indexes/sites_ix.csv\")\n",
    "    speed_table = pd.merge(data,sites_ix,on='site_name')\n",
    "    speed_table = speed_table[:200]\n",
    "    speed_table = speed_table.sort_values(by='first_timeframe',ascending=True)\n",
    "    speed_table['time_before'] = speed_table.first_timeframe.shift(1)\n",
    "    speed_table['chrono']= speed_table.first_timeframe-speed_table.time_before\n",
    "    \n",
    "    speed_table['x_before'] = speed_table.x_coordinate.shift(1)\n",
    "    speed_table['y_before'] = speed_table.y_coordinate.shift(1)\n",
    "    \n",
    "    \n",
    "    speed_table['distance_traveled'] = speed_table.apply(lambda x : compute_distance(x),axis=1)\n",
    "    speed_table['speed_kmh'] = speed_table.apply(lambda x : compute_speed(x),axis=1)\n",
    "    cmap = cm.get_cmap('Set1', 5)\n",
    "    rgb = cmap(j)[:3]\n",
    "    plt.plot_date(speed_table.first_timeframe,speed_table.speed_kmh,color=col.rgb2hex(rgb),  marker='o', markersize=5)\n",
    "    locs, labels = plt.xticks()\n",
    "    plt.setp(labels, rotation=45)\n",
    "    plt.title(\"Speed of devices\")\n",
    "    plt.legend(legendo,ncol=4, bbox_to_anchor=(1, 1.3),prop={'size':10} )\n",
    "    return speed_table\n",
    "    \n",
    "df =[]\n",
    "for i,maco in enumerate(lista):\n",
    "   \n",
    "    df.append(compute_trip_speed(maco,i,lista))"
   ]
  },
  {
   "cell_type": "code",
   "execution_count": null,
   "metadata": {
    "collapsed": false,
    "scrolled": false
   },
   "outputs": [],
   "source": [
    "for df1 in df:\n",
    "    draw_map(df1.x_coordinate.values.tolist(),df1.y_coordinate.values.tolist())"
   ]
  },
  {
   "cell_type": "code",
   "execution_count": null,
   "metadata": {
    "collapsed": false
   },
   "outputs": [],
   "source": [
    "df = get_data([610239,3698,56118,56784,2150983])"
   ]
  },
  {
   "cell_type": "code",
   "execution_count": null,
   "metadata": {
    "collapsed": true
   },
   "outputs": [],
   "source": [
    "def draw_visits(groupy):\n",
    "    devices_per_day_weekday = groupy[groupy.weekday<6]\n",
    "    devices_per_day_weekend = groupy[groupy.weekday==6]\n",
    "    devices_per_day_weekday = devices_per_day_weekday.groupby('date')['count_sites'].count()\n",
    "    devices_per_day_weekend = devices_per_day_weekend.groupby('date')['count_sites'].count()\n",
    "    devices_per_day_weekday = devices_per_day_weekday.sort_index(ascending=True)\n",
    "    devices_per_day_weekend = devices_per_day_weekend.sort_index(ascending=True)\n",
    "    devices_per_day_weekday.plot(alpha=0.7,c='g',title=\"Number of multi-sites devices recorded per day\")\n",
    "    devices_per_day_weekend.plot(alpha=0.7,c='r',legend='Sunday')"
   ]
  },
  {
   "cell_type": "code",
   "execution_count": null,
   "metadata": {
    "collapsed": true
   },
   "outputs": [],
   "source": []
  }
 ],
 "metadata": {
  "kernelspec": {
   "display_name": "Python 2",
   "language": "python",
   "name": "python2"
  },
  "language_info": {
   "codemirror_mode": {
    "name": "ipython",
    "version": 2
   },
   "file_extension": ".py",
   "mimetype": "text/x-python",
   "name": "python",
   "nbconvert_exporter": "python",
   "pygments_lexer": "ipython2",
   "version": "2.7.12"
  }
 },
 "nbformat": 4,
 "nbformat_minor": 0
}
