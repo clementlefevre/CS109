{
 "cells": [
  {
   "cell_type": "code",
   "execution_count": null,
   "metadata": {
    "collapsed": true
   },
   "outputs": [],
   "source": [
    "%matplotlib inline\n",
    "import csv\n",
    "import pandas as pd\n",
    "import numpy as np\n",
    "from os import listdir\n",
    "from os.path import isfile, join\n",
    "from datetime import date\n",
    "import re\n",
    "\n",
    "import matplotlib.pyplot as plt\n",
    "import matplotlib.cm as cm\n",
    "import matplotlib.colors as col\n",
    "from matplotlib.dates import  DateFormatter\n",
    "import seaborn as sns\n",
    "from config import DATA_PATH,MAIN_FILE\n",
    "import PandasHelper as pdh\n",
    "from geopy.distance import vincenty\n",
    "from mpl_toolkits.basemap import Basemap\n",
    "\n",
    "pd.set_option('display.width', 500)\n",
    "pd.set_option('display.max_columns', 100)\n",
    "pd.set_option('display.notebook_repr_html', True)\n",
    "\n",
    "sns.set_style(\"whitegrid\")\n",
    "sns.set_context(\"poster\")"
   ]
  },
  {
   "cell_type": "code",
   "execution_count": null,
   "metadata": {
    "collapsed": false
   },
   "outputs": [],
   "source": [
    "def convert_to_indexes_and_dt(chunk,indexes_dict,i):\n",
    "    chunk = pd.merge(chunk,indexes_dict['devices'],left_on=\"device_id\",right_on=\"device_mac\",suffixes=[\"_data\",\"_devices_ix\"])\n",
    "    chunk = pd.merge(chunk,indexes_dict['sites'],on=\"site_name\",suffixes=[\"_data\",\"_sites_ix\"])\n",
    "    chunk = chunk.drop('device_id',1)\n",
    "    slim_data = chunk.rename(columns={'id_data':'device_id', 'id_sites_ix':'site_id'})\n",
    "    slim_data.first_timeframe = pd.to_datetime(slim_data.first_timeframe)                                 \n",
    "    slim_data = slim_data[['device_id','site_id','first_timeframe','dwell_time_s','visitor']]\n",
    "    slim_data.to_csv(\"DATA_PATH\"+\"/indexed_data/nielsen_indexed_\"+srt(i)+\".csv\")\n",
    "    return slim_data"
   ]
  },
  {
   "cell_type": "code",
   "execution_count": null,
   "metadata": {
    "collapsed": false
   },
   "outputs": [],
   "source": [
    "def indexes_data():\n",
    "    df_devices_ix = pd.read_csv(DATA_PATH+\"indexes/devices_ix.csv\")\n",
    "    df_sites_ix = pd.read_csv(DATA_PATH+\"indexes/sites_ix.csv\")\n",
    "    indexes_dict = {'devices':df_devices_ix,'sites':df_sites_ix}\n",
    "    \n",
    "    chunks = pd.read_csv(DATA_PATH+\"nielsen.csv\",chunksize=1000000)\n",
    "    df = pd.DataFrame()\n",
    "    for i,chunk in enumerate(chunks):\n",
    "        convert_to_indexes_and_dt(chunk,indexes_dict,i)\n",
    "        print str(i)\n",
    " "
   ]
  },
  {
   "cell_type": "code",
   "execution_count": null,
   "metadata": {
    "collapsed": false
   },
   "outputs": [],
   "source": [
    "indexes_data()"
   ]
  }
 ],
 "metadata": {
  "kernelspec": {
   "display_name": "Python 2",
   "language": "python",
   "name": "python2"
  },
  "language_info": {
   "codemirror_mode": {
    "name": "ipython",
    "version": 2
   },
   "file_extension": ".py",
   "mimetype": "text/x-python",
   "name": "python",
   "nbconvert_exporter": "python",
   "pygments_lexer": "ipython2",
   "version": "2.7.12"
  }
 },
 "nbformat": 4,
 "nbformat_minor": 0
}
