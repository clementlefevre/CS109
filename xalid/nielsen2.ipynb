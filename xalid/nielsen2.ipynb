{
 "cells": [
  {
   "cell_type": "code",
   "execution_count": 3,
   "metadata": {
    "collapsed": true
   },
   "outputs": [],
   "source": [
    "import csv\n",
    "import pandas as pd\n",
    "from os import listdir\n",
    "from os.path import isfile, join"
   ]
  },
  {
   "cell_type": "code",
   "execution_count": 4,
   "metadata": {
    "collapsed": true
   },
   "outputs": [],
   "source": [
    "MAIN_FILE = 'D:/nielsen/data/nielsen.csv' #total : 167.944.230 rows\n",
    "DATA_PATH = 'D:/nielsen/data'"
   ]
  },
  {
   "cell_type": "code",
   "execution_count": 5,
   "metadata": {
    "collapsed": true
   },
   "outputs": [],
   "source": [
    "df =pd.read_csv(MAIN_FILE,nrows=1000)"
   ]
  },
  {
   "cell_type": "code",
   "execution_count": 6,
   "metadata": {
    "collapsed": false
   },
   "outputs": [
    {
     "data": {
      "text/html": [
       "<div>\n",
       "<table border=\"1\" class=\"dataframe\">\n",
       "  <thead>\n",
       "    <tr style=\"text-align: right;\">\n",
       "      <th></th>\n",
       "      <th>site_name</th>\n",
       "      <th>first_timeframe</th>\n",
       "      <th>dwell_time_s</th>\n",
       "      <th>device_id</th>\n",
       "      <th>visitor</th>\n",
       "    </tr>\n",
       "  </thead>\n",
       "  <tbody>\n",
       "    <tr>\n",
       "      <th>0</th>\n",
       "      <td>BF Karlsruhe Kaiserstr (1122)</td>\n",
       "      <td>2014-12-31 23:00:30+00:00</td>\n",
       "      <td>15</td>\n",
       "      <td>bd5d8c2890622782d681c82f4dd84db4</td>\n",
       "      <td>True</td>\n",
       "    </tr>\n",
       "    <tr>\n",
       "      <th>1</th>\n",
       "      <td>BF Karlsruhe Kaiserstr (1122)</td>\n",
       "      <td>2014-12-31 23:00:40+00:00</td>\n",
       "      <td>1080</td>\n",
       "      <td>428fa91d6d741e1466b4bcd917dff4c2</td>\n",
       "      <td>True</td>\n",
       "    </tr>\n",
       "    <tr>\n",
       "      <th>2</th>\n",
       "      <td>BF Karlsruhe Kaiserstr (1122)</td>\n",
       "      <td>2014-12-31 23:00:55+00:00</td>\n",
       "      <td>15</td>\n",
       "      <td>e23bf2f0a5890f45e2494e1f5f3b92bb</td>\n",
       "      <td>False</td>\n",
       "    </tr>\n",
       "    <tr>\n",
       "      <th>3</th>\n",
       "      <td>BF Karlsruhe Kaiserstr (1122)</td>\n",
       "      <td>2014-12-31 23:00:55+00:00</td>\n",
       "      <td>15</td>\n",
       "      <td>b83023972532c891861cb8b2723a2339</td>\n",
       "      <td>True</td>\n",
       "    </tr>\n",
       "    <tr>\n",
       "      <th>4</th>\n",
       "      <td>BF Karlsruhe Kaiserstr (1122)</td>\n",
       "      <td>2014-12-31 23:01:20+00:00</td>\n",
       "      <td>15</td>\n",
       "      <td>c08478aa5c8b9c16737881c976548107</td>\n",
       "      <td>True</td>\n",
       "    </tr>\n",
       "  </tbody>\n",
       "</table>\n",
       "</div>"
      ],
      "text/plain": [
       "                       site_name            first_timeframe  dwell_time_s  \\\n",
       "0  BF Karlsruhe Kaiserstr (1122)  2014-12-31 23:00:30+00:00            15   \n",
       "1  BF Karlsruhe Kaiserstr (1122)  2014-12-31 23:00:40+00:00          1080   \n",
       "2  BF Karlsruhe Kaiserstr (1122)  2014-12-31 23:00:55+00:00            15   \n",
       "3  BF Karlsruhe Kaiserstr (1122)  2014-12-31 23:00:55+00:00            15   \n",
       "4  BF Karlsruhe Kaiserstr (1122)  2014-12-31 23:01:20+00:00            15   \n",
       "\n",
       "                          device_id visitor  \n",
       "0  bd5d8c2890622782d681c82f4dd84db4    True  \n",
       "1  428fa91d6d741e1466b4bcd917dff4c2    True  \n",
       "2  e23bf2f0a5890f45e2494e1f5f3b92bb   False  \n",
       "3  b83023972532c891861cb8b2723a2339    True  \n",
       "4  c08478aa5c8b9c16737881c976548107    True  "
      ]
     },
     "execution_count": 6,
     "metadata": {},
     "output_type": "execute_result"
    }
   ],
   "source": [
    "df.head()"
   ]
  },
  {
   "cell_type": "code",
   "execution_count": null,
   "metadata": {
    "collapsed": true
   },
   "outputs": [],
   "source": []
  },
  {
   "cell_type": "markdown",
   "metadata": {},
   "source": [
    "## 1 - group data per device and site"
   ]
  },
  {
   "cell_type": "code",
   "execution_count": 7,
   "metadata": {
    "collapsed": false
   },
   "outputs": [],
   "source": [
    "# Step 1 - Aggregate data per device_id adn site name\n",
    "\n",
    "def chunk_and_aggregate():\n",
    "    chunks=pd.read_csv(MAIN_FILE,chunksize=2000000)\n",
    "    for i,chunk in enumerate(chunks):\n",
    "        aggregate_per_device_and_site(chunk,i)\n",
    "    \n",
    "\n",
    "def aggregate_per_device_and_site(df,i):\n",
    "    \n",
    "    agg = df.groupby([df.device_id,df.site_name])['first_timeframe'].count()\n",
    "    agg.to_csv('D:/nielsen/data/'+\"agg_per_device_and_site\"+str(i)+\".csv\")\n",
    "    \n",
    "\n",
    "def concatenate_aggregation_files(folder_name, target_name):\n",
    "    path = DATA_PATH+folder_name\n",
    "    onlyfiles = [f for f in listdir(path) if isfile(join(path, f))]\n",
    "    df = pd.DataFrame()\n",
    "    for filo in onlyfiles:\n",
    "        \n",
    "        df1 = pd.read_csv(path+\"/\"+filo, header=None)\n",
    "        print df1.shape\n",
    "        df = pd.concat([df,df1], axis=0, ignore_index=True)\n",
    "    df.to_csv(DATA_PATH+\"/\"+target_name)    \n",
    "    return df"
   ]
  },
  {
   "cell_type": "code",
   "execution_count": 8,
   "metadata": {
    "collapsed": false
   },
   "outputs": [],
   "source": [
    "def prepare_aggregation_file():\n",
    "    chunk_and_aggregate()\n",
    "    concatenate_aggregation_files(\"/agg_per_device_and_site\",\"final_aggregation_per_device_and_site.csv\")"
   ]
  },
  {
   "cell_type": "markdown",
   "metadata": {},
   "source": [
    "## 2 - Create Index files for device and sites"
   ]
  },
  {
   "cell_type": "code",
   "execution_count": 9,
   "metadata": {
    "collapsed": false
   },
   "outputs": [],
   "source": [
    "def create_index_file():\n",
    "    df = pd.read_csv(DATA_PATH+\"/final_aggregation_per_device_and_site.csv\")\n",
    "   \n",
    "    \n",
    "    index_device = pd.DataFrame(df2.device_id.unique())\n",
    "    index_sites = pd.DataFrame(df2.site_name.unique())\n",
    "    \n",
    "    index_device.columns = ['device_mac']\n",
    "    index_sites.columns = ['site_name']\n",
    "    \n",
    "    index_device.to_csv(DATA_PATH+\"/index_devices.csv\")\n",
    "    index_sites.to_csv(DATA_PATH+\"/index_sites.csv\")\n",
    "    del df2   \n",
    "    "
   ]
  },
  {
   "cell_type": "markdown",
   "metadata": {},
   "source": [
    "## 3 - Merge aggregated data with index files to simplify data."
   ]
  },
  {
   "cell_type": "code",
   "execution_count": 10,
   "metadata": {
    "collapsed": true
   },
   "outputs": [],
   "source": [
    "def merge_agg_with_device_and_sites_index():\n",
    "    chunks=pd.read_csv(DATA_PATH+\"/final_aggregation_per_device_and_site.csv\",chunksize=2000000,index_col=0)\n",
    "    \n",
    "    df_devices_idx = pd.read_csv(DATA_PATH+\"/index_devices.csv\",index_col=0)\n",
    "    df_devices_idx =df_devices_idx.reset_index()\n",
    "    \n",
    "    df_sites_index = pd.read_csv(DATA_PATH+\"/index_sites.csv\",index_col=0)\n",
    "    df_sites_index= df_sites_index.reset_index()\n",
    "    df = pd.DataFrame()\n",
    "    \n",
    "    for i,chunk in enumerate(chunks):\n",
    "        chunk = pd.merge(chunk, df_devices_idx, left_on='device_id', right_on='device_mac',suffixes=('_agg', '_devicesidx'))\n",
    "        chunk = chunk[['index','site_name','shows']]\n",
    "        chunk = pd.merge(chunk, df_sites_index, on='site_name', suffixes=('_devices','_sites'))\n",
    "        chunk=chunk[['index_devices', 'index_sites','shows']]\n",
    "        df = pd.concat([df,chunk], axis=0, ignore_index=True)\n",
    "    df.to_csv(DATA_PATH+'/aggregation_only_indexes.csv')\n",
    "        "
   ]
  },
  {
   "cell_type": "markdown",
   "metadata": {},
   "source": [
    "## 4 - Pivot table and concatenate"
   ]
  },
  {
   "cell_type": "code",
   "execution_count": 11,
   "metadata": {
    "collapsed": false
   },
   "outputs": [],
   "source": [
    "def chunk_and_pivot():\n",
    "    chunks = pd.read_csv(DATA_PATH+'/aggregation_only_indexes.csv',chunksize=1000000, index_col=0)\n",
    "        \n",
    "    for i,chunk in enumerate(chunks):\n",
    "        chunk = chunk.astype(\"int32\")\n",
    "        \n",
    "        df1 = chunk.pivot_table(values='shows',index='index_devices', columns='index_sites')\n",
    "        df1.to_csv(DATA_PATH+\"/pivot/pivot_indexes\"+str(i)+\".csv\")      \n",
    "       "
   ]
  },
  {
   "cell_type": "code",
   "execution_count": 16,
   "metadata": {
    "collapsed": true
   },
   "outputs": [],
   "source": [
    "def test_if_all_columns_are_stored(path):\n",
    "    path = DATA_PATH+\"/\"+path+\"/\"\n",
    "    onlyfiles = [f for f in listdir(path) if isfile(join(path, f))]\n",
    "    columns = []\n",
    "    for file_name in onlyfiles:\n",
    "        df = pd.read_csv(path+file_name,index_col=0,nrows=10)\n",
    "        columns += df.columns.tolist()\n",
    "        \n",
    "    lista = map(int,columns)\n",
    "    return  sorted(set(lista))"
   ]
  },
  {
   "cell_type": "code",
   "execution_count": 18,
   "metadata": {
    "collapsed": false
   },
   "outputs": [
    {
     "name": "stdout",
     "output_type": "stream",
     "text": [
      "[0, 1, 2, 3, 4, 5, 6, 7, 8, 9, 10, 11, 12, 13, 14, 15, 16, 17, 18, 19, 20, 21, 22, 23, 24, 25, 26, 27, 28, 29, 30, 31, 32, 33, 34, 35, 36, 37, 38, 39, 40, 41, 42, 43, 44, 45, 46, 47, 48, 49, 50, 51, 52]\n"
     ]
    }
   ],
   "source": [
    "lista = test_if_all_columns_are_stored(\"pivot\")\n",
    "print lista"
   ]
  },
  {
   "cell_type": "code",
   "execution_count": 14,
   "metadata": {
    "collapsed": false
   },
   "outputs": [],
   "source": [
    "def aggregate_pivot(file_list, i,source_folder, target_folder):\n",
    "    df =pd.DataFrame()\n",
    "    for file_name in file_list:\n",
    "        df1 = pd.read_csv(DATA_PATH+\"/\"+source_folder+\"/\"+file_name,index_col=0)\n",
    "        df1 =df1.fillna(0)\n",
    "        df1 =df1.astype('int32')\n",
    "        print file_name, df.shape\n",
    "\n",
    "        df = pd.concat([df,df1], axis=0, ignore_index=True)\n",
    "        df = df.fillna(0)\n",
    "        df =df.astype('int32')\n",
    "    df.to_csv(DATA_PATH+\"/\"+target_folder+\"/pivot_indexes\"+str(i)+\".csv\")\n",
    "    \n",
    "def split_list(alist, wanted_parts):\n",
    "    length = len(alist)\n",
    "    return [ alist[i*length // wanted_parts: (i+1)*length // wanted_parts] \n",
    "             for i in range(wanted_parts) ]\n",
    "\n",
    "    \n",
    "def load_pivot_and_concate(group_size,source_folder,target_folder):\n",
    "    path = DATA_PATH+\"/\"+source_folder\n",
    "    all_files = [f for f in listdir(path) if isfile(join(path, f))]\n",
    "    for i,sub_file_list in enumerate(split_list(all_files,group_size)):\n",
    "        aggregate_pivot(sub_file_list,i, source_folder, target_folder)\n"
   ]
  },
  {
   "cell_type": "code",
   "execution_count": 34,
   "metadata": {
    "collapsed": true
   },
   "outputs": [],
   "source": [
    "def clean_final_pivot_all(folder_name):\n",
    "    path = DATA_PATH+\"/\"+folder_name\n",
    "    all_files = [f for f in listdir(path) if isfile(join(path, f))]\n",
    "    \n",
    "    for filo in all_files:\n",
    "        df1 = pd.read_csv(path+\"/\"+filo, index_col=0)\n",
    "    \n",
    "        df_ubiquity = pd.DataFrame()\n",
    "    \n",
    "       \n",
    "        df1 = df1.fillna(0)\n",
    "        df1 = df1.astype('int32')\n",
    "        df1.set_index('index_devices',inplace=True)\n",
    "        cols = df1.columns.tolist()\n",
    "        cols = map(int,cols)\n",
    "        cols =sorted(cols)\n",
    "        df1.columns=[cols]\n",
    "        \n",
    "        df1['total']=df1.count(axis=1)\n",
    "        df1 =df1[chunk.total>1]\n",
    "        df_ubiquity = pd.concat([df_ubiquity,chunk])\n",
    "    df_ubiquity.to_csv(DATA_PATH+\"/ubiquity\"+filo)\n",
    "\n",
    "    "
   ]
  },
  {
   "cell_type": "code",
   "execution_count": 38,
   "metadata": {
    "collapsed": false
   },
   "outputs": [],
   "source": [
    "#clean_final_pivot_all(\"pivot3\")\n",
    "df1 = pd.read_csv(DATA_PATH+\"/pivot3/pivot_indexes1.csv\", index_col=0)"
   ]
  },
  {
   "cell_type": "code",
   "execution_count": 39,
   "metadata": {
    "collapsed": false
   },
   "outputs": [
    {
     "data": {
      "text/html": [
       "<div>\n",
       "<table border=\"1\" class=\"dataframe\">\n",
       "  <thead>\n",
       "    <tr style=\"text-align: right;\">\n",
       "      <th></th>\n",
       "      <th>1</th>\n",
       "      <th>14</th>\n",
       "      <th>20</th>\n",
       "      <th>24</th>\n",
       "      <th>25</th>\n",
       "      <th>26</th>\n",
       "      <th>27</th>\n",
       "      <th>28</th>\n",
       "      <th>29</th>\n",
       "      <th>30</th>\n",
       "      <th>...</th>\n",
       "      <th>35</th>\n",
       "      <th>36</th>\n",
       "      <th>37</th>\n",
       "      <th>38</th>\n",
       "      <th>39</th>\n",
       "      <th>4</th>\n",
       "      <th>40</th>\n",
       "      <th>6</th>\n",
       "      <th>7</th>\n",
       "      <th>8</th>\n",
       "    </tr>\n",
       "  </thead>\n",
       "  <tbody>\n",
       "    <tr>\n",
       "      <th>0</th>\n",
       "      <td>0</td>\n",
       "      <td>0</td>\n",
       "      <td>0</td>\n",
       "      <td>0</td>\n",
       "      <td>1</td>\n",
       "      <td>0</td>\n",
       "      <td>0</td>\n",
       "      <td>0</td>\n",
       "      <td>0</td>\n",
       "      <td>0</td>\n",
       "      <td>...</td>\n",
       "      <td>0</td>\n",
       "      <td>0</td>\n",
       "      <td>0</td>\n",
       "      <td>0</td>\n",
       "      <td>0</td>\n",
       "      <td>0</td>\n",
       "      <td>0</td>\n",
       "      <td>0</td>\n",
       "      <td>0</td>\n",
       "      <td>0</td>\n",
       "    </tr>\n",
       "    <tr>\n",
       "      <th>1</th>\n",
       "      <td>0</td>\n",
       "      <td>0</td>\n",
       "      <td>0</td>\n",
       "      <td>2</td>\n",
       "      <td>0</td>\n",
       "      <td>0</td>\n",
       "      <td>0</td>\n",
       "      <td>0</td>\n",
       "      <td>0</td>\n",
       "      <td>0</td>\n",
       "      <td>...</td>\n",
       "      <td>0</td>\n",
       "      <td>0</td>\n",
       "      <td>0</td>\n",
       "      <td>0</td>\n",
       "      <td>0</td>\n",
       "      <td>0</td>\n",
       "      <td>0</td>\n",
       "      <td>0</td>\n",
       "      <td>0</td>\n",
       "      <td>0</td>\n",
       "    </tr>\n",
       "    <tr>\n",
       "      <th>2</th>\n",
       "      <td>0</td>\n",
       "      <td>0</td>\n",
       "      <td>0</td>\n",
       "      <td>2</td>\n",
       "      <td>0</td>\n",
       "      <td>0</td>\n",
       "      <td>0</td>\n",
       "      <td>0</td>\n",
       "      <td>0</td>\n",
       "      <td>0</td>\n",
       "      <td>...</td>\n",
       "      <td>0</td>\n",
       "      <td>0</td>\n",
       "      <td>0</td>\n",
       "      <td>0</td>\n",
       "      <td>0</td>\n",
       "      <td>0</td>\n",
       "      <td>0</td>\n",
       "      <td>0</td>\n",
       "      <td>0</td>\n",
       "      <td>0</td>\n",
       "    </tr>\n",
       "    <tr>\n",
       "      <th>3</th>\n",
       "      <td>0</td>\n",
       "      <td>0</td>\n",
       "      <td>0</td>\n",
       "      <td>1</td>\n",
       "      <td>0</td>\n",
       "      <td>0</td>\n",
       "      <td>0</td>\n",
       "      <td>0</td>\n",
       "      <td>0</td>\n",
       "      <td>0</td>\n",
       "      <td>...</td>\n",
       "      <td>0</td>\n",
       "      <td>0</td>\n",
       "      <td>0</td>\n",
       "      <td>0</td>\n",
       "      <td>0</td>\n",
       "      <td>0</td>\n",
       "      <td>0</td>\n",
       "      <td>0</td>\n",
       "      <td>0</td>\n",
       "      <td>0</td>\n",
       "    </tr>\n",
       "    <tr>\n",
       "      <th>4</th>\n",
       "      <td>0</td>\n",
       "      <td>0</td>\n",
       "      <td>0</td>\n",
       "      <td>1</td>\n",
       "      <td>0</td>\n",
       "      <td>0</td>\n",
       "      <td>0</td>\n",
       "      <td>0</td>\n",
       "      <td>0</td>\n",
       "      <td>0</td>\n",
       "      <td>...</td>\n",
       "      <td>0</td>\n",
       "      <td>0</td>\n",
       "      <td>0</td>\n",
       "      <td>0</td>\n",
       "      <td>0</td>\n",
       "      <td>0</td>\n",
       "      <td>0</td>\n",
       "      <td>0</td>\n",
       "      <td>0</td>\n",
       "      <td>0</td>\n",
       "    </tr>\n",
       "  </tbody>\n",
       "</table>\n",
       "<p>5 rows × 24 columns</p>\n",
       "</div>"
      ],
      "text/plain": [
       "   1  14  20  24  25  26  27  28  29  30 ...  35  36  37  38  39  4  40  6  7  \\\n",
       "0  0   0   0   0   1   0   0   0   0   0 ...   0   0   0   0   0  0   0  0  0   \n",
       "1  0   0   0   2   0   0   0   0   0   0 ...   0   0   0   0   0  0   0  0  0   \n",
       "2  0   0   0   2   0   0   0   0   0   0 ...   0   0   0   0   0  0   0  0  0   \n",
       "3  0   0   0   1   0   0   0   0   0   0 ...   0   0   0   0   0  0   0  0  0   \n",
       "4  0   0   0   1   0   0   0   0   0   0 ...   0   0   0   0   0  0   0  0  0   \n",
       "\n",
       "   8  \n",
       "0  0  \n",
       "1  0  \n",
       "2  0  \n",
       "3  0  \n",
       "4  0  \n",
       "\n",
       "[5 rows x 24 columns]"
      ]
     },
     "execution_count": 39,
     "metadata": {},
     "output_type": "execute_result"
    }
   ],
   "source": [
    "df1.head()"
   ]
  },
  {
   "cell_type": "code",
   "execution_count": null,
   "metadata": {
    "collapsed": false
   },
   "outputs": [],
   "source": [
    "df = pd.read_csv(DATA_PATH+\"/final_pivot_all.csv\",nrows=1000000,index_col=0)\n",
    "\n",
    "df = df.fillna(0)\n",
    "df = df.astype('int32')\n",
    "df.set_index('index_devices',inplace=True)\n",
    "cols = df.columns.tolist()\n",
    "cols = map(int,cols)\n",
    "cols = sorted(cols)\n",
    "df.columns=[cols]\n",
    "print cols\n",
    "df['total']=df.astype(bool).sum(axis=1)\n",
    "df.tail()\n"
   ]
  },
  {
   "cell_type": "code",
   "execution_count": null,
   "metadata": {
    "collapsed": false
   },
   "outputs": [],
   "source": [
    "df = pd.read_csv(DATA_PATH+\"/pivot/pivot_indexes0.csv\",index_col=0)      "
   ]
  },
  {
   "cell_type": "code",
   "execution_count": null,
   "metadata": {
    "collapsed": false
   },
   "outputs": [],
   "source": [
    "print sorted(df.columns.tolist())"
   ]
  }
 ],
 "metadata": {
  "kernelspec": {
   "display_name": "Python 2",
   "language": "python",
   "name": "python2"
  },
  "language_info": {
   "codemirror_mode": {
    "name": "ipython",
    "version": 2
   },
   "file_extension": ".py",
   "mimetype": "text/x-python",
   "name": "python",
   "nbconvert_exporter": "python",
   "pygments_lexer": "ipython2",
   "version": "2.7.11"
  }
 },
 "nbformat": 4,
 "nbformat_minor": 0
}
