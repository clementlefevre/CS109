{
 "cells": [
  {
   "cell_type": "code",
   "execution_count": 22,
   "metadata": {
    "collapsed": true
   },
   "outputs": [],
   "source": [
    "import datetime\n",
    "import numpy as np\n",
    "import pandas as pd\n",
    "import urllib2\n",
    "import json\n",
    "from pandas.io.json import json_normalize\n",
    "\n",
    "import db_service\n",
    "import config\n"
   ]
  },
  {
   "cell_type": "code",
   "execution_count": 12,
   "metadata": {
    "collapsed": false
   },
   "outputs": [],
   "source": [
    "def get_sites_dict():\n",
    "    sites = db_service.get_sites()\n",
    "    sites = sites[['idbldsite','sname','latitude','longitude']]\n",
    "    sites = sites.set_index('idbldsite').T\n",
    "    sites_dict =  sites.to_dict()\n",
    "    return sites_dict"
   ]
  },
  {
   "cell_type": "code",
   "execution_count": 44,
   "metadata": {
    "collapsed": false
   },
   "outputs": [],
   "source": [
    "def get_weather(lat,lon):\n",
    "    response = urllib2.urlopen(config.WEATHER_URL+\"lat=\"+str(lat)+\"&lon=\"+str(lon))\n",
    "    data = json.loads(response.read())\n",
    "    df_weather = json_normalize(data['LocationWeather']['forecast']['days'])\n",
    "    df_weather.date = pd.to_datetime(df_weather.date)\n",
    "    last_update = json_normalize(data['LocationWeather']['latestobservation']['latests'][0])['dateTime'].values[0]\n",
    "    \n",
    "    df_weather['lastUpdate']= pd.to_datetime(last_update)\n",
    "    return df_weather\n",
    "    "
   ]
  },
  {
   "cell_type": "code",
   "execution_count": null,
   "metadata": {
    "collapsed": true
   },
   "outputs": [],
   "source": []
  }
 ],
 "metadata": {
  "kernelspec": {
   "display_name": "Python 2",
   "language": "python",
   "name": "python2"
  },
  "language_info": {
   "codemirror_mode": {
    "name": "ipython",
    "version": 2
   },
   "file_extension": ".py",
   "mimetype": "text/x-python",
   "name": "python",
   "nbconvert_exporter": "python",
   "pygments_lexer": "ipython2",
   "version": "2.7.12"
  }
 },
 "nbformat": 4,
 "nbformat_minor": 0
}
