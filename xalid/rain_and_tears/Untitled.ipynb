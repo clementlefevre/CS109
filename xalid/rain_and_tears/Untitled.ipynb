{
 "cells": [
  {
   "cell_type": "code",
   "execution_count": 79,
   "metadata": {
    "collapsed": true
   },
   "outputs": [],
   "source": [
    "import datetime\n",
    "import numpy as np\n",
    "import pandas as pd\n",
    "import urllib2\n",
    "import json\n",
    "from pandas.io.json import json_normalize\n",
    "\n",
    "import db_service\n",
    "import config\n",
    "\n",
    "\n",
    "def get_sites_dict():\n",
    "    sites = db_service.get_sites()\n",
    "    sites = sites[['idbldsite','sname','latitude','longitude']]\n",
    "    sites = sites.set_index('idbldsite').T\n",
    "    sites_dict =  sites.to_dict()\n",
    "    return sites_dict\n",
    "\n",
    "def get_weather(lat,lon):\n",
    "    response = urllib2.urlopen(config.WEATHER_URL+\"lat=\"+lat+\"&lon=\"+lon)\n",
    "    data = json.loads(response.read())\n",
    "    df_weather = json_normalize(data['LocationWeather']['forecast']['days'])\n",
    "    df_weather.date = pd.to_datetime(df_weather.date)\n",
    "    last_update = json_normalize(data['LocationWeather']['latestobservation']['latests'][0])['dateTime'].values[0]\n",
    "    \n",
    "    df_weather['lastUpdate']= pd.to_datetime(last_update)\n",
    "    return df_weather\n",
    "    \n",
    "\n",
    "def get_weather_forecasts():\n",
    "    sites_dict = get_sites_dict()\n",
    "    df_weather = pd.DataFrame()\n",
    "    \n",
    "    for site_id in sites_dict:\n",
    "        sname = sites_dict[site_id]['sname']\n",
    "        lat = str(sites_dict[site_id]['latitude'])\n",
    "        lon = str(sites_dict[site_id]['longitude'])\n",
    "        \n",
    "        df_weather_site = get_weather(lat,lon)\n",
    "        df_weather_site['idbldsite']= site_id\n",
    "        df_weather_site['sname']= sname\n",
    "        df_weather = pd.concat([df_weather,df_weather_site],axis=0)\n",
    "        df_weather.columns = ['idbldsite', 'sname','date', 'ne', 'tn', 'tx', 'ww', 'lastUpdate']\n",
    "        df_weather.to_csv('data/weather_forecasts.csv',index=0)\n",
    "        "
   ]
  },
  {
   "cell_type": "code",
   "execution_count": 80,
   "metadata": {
    "collapsed": false
   },
   "outputs": [],
   "source": [
    "get_weather_forecasts()"
   ]
  },
  {
   "cell_type": "code",
   "execution_count": 76,
   "metadata": {
    "collapsed": false
   },
   "outputs": [],
   "source": [
    "df_weather = pd.read_csv('data/weather_forecasts.csv')"
   ]
  },
  {
   "cell_type": "code",
   "execution_count": 78,
   "metadata": {
    "collapsed": false
   },
   "outputs": [
    {
     "data": {
      "text/plain": [
       "['date', 'ne', 'tn', 'tx', 'ww', 'lastUpdate', 'idbldsite', 'sname']"
      ]
     },
     "execution_count": 78,
     "metadata": {},
     "output_type": "execute_result"
    }
   ],
   "source": [
    "df_weather.columns.tolist()"
   ]
  }
 ],
 "metadata": {
  "kernelspec": {
   "display_name": "Python 2",
   "language": "python",
   "name": "python2"
  },
  "language_info": {
   "codemirror_mode": {
    "name": "ipython",
    "version": 2
   },
   "file_extension": ".py",
   "mimetype": "text/x-python",
   "name": "python",
   "nbconvert_exporter": "python",
   "pygments_lexer": "ipython2",
   "version": "2.7.12"
  }
 },
 "nbformat": 4,
 "nbformat_minor": 0
}
