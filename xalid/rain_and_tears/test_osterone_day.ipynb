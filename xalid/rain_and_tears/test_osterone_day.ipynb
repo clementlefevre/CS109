{
 "cells": [
  {
   "cell_type": "code",
   "execution_count": 50,
   "metadata": {
    "collapsed": false
   },
   "outputs": [],
   "source": [
    "%matplotlib inline\n",
    "\n",
    "from sqlalchemy import create_engine\n",
    "import datetime\n",
    "import numpy as np\n",
    "import pandas as pd\n",
    "\n",
    "import matplotlib.pyplot as plt\n",
    "import matplotlib.cm as cm\n",
    "import matplotlib.colors as col\n",
    "from matplotlib.dates import  DateFormatter\n",
    "import seaborn as sns\n",
    "\n",
    "import config\n",
    "import db_service\n",
    "\n",
    "pd.set_option('display.width', 500)\n",
    "pd.set_option('display.max_columns', 100)\n",
    "pd.set_option('display.notebook_repr_html', True)\n",
    "\n",
    "sns.set_style(\"whitegrid\")\n",
    "sns.set_context(\"poster\")\n",
    "\n",
    "from sklearn.cross_validation import train_test_split\n",
    "from sklearn.metrics import accuracy_score\n",
    "from sklearn.linear_model import LinearRegression\n",
    "from sklearn.ensemble.forest import RandomForestRegressor\n",
    "from sklearn.ensemble import GradientBoostingRegressor\n",
    "from sklearn import linear_model\n",
    "from sklearn.grid_search import GridSearchCV\n",
    "\n",
    "from tpot import TPOTRegressor\n",
    "from sklearn.model_selection import train_test_split\n",
    "\n",
    "\n",
    "from sklearn.ensemble import RandomForestRegressor, VotingClassifier\n",
    "from sklearn.linear_model import LassoLarsCV\n",
    "from sklearn.model_selection import train_test_split\n",
    "from sklearn.pipeline import make_pipeline, make_union\n",
    "from sklearn.preprocessing import FunctionTransformer, MaxAbsScaler\n",
    "\n",
    "np.set_printoptions(precision=3,suppress=True)"
   ]
  },
  {
   "cell_type": "code",
   "execution_count": 2,
   "metadata": {
    "collapsed": false
   },
   "outputs": [
    {
     "name": "stdout",
     "output_type": "stream",
     "text": [
      "['day_0', 'day_1', 'day_2', 'day_3', 'day_4', 'day_5', 'day_6', 'month_1', 'month_2', 'month_3', 'month_4', 'month_5', 'month_6', 'month_7', 'month_8', 'month_9', 'month_10', 'month_11', 'month_12']\n"
     ]
    }
   ],
   "source": [
    "### Call this method to retrieve the data directly from DB :\n",
    "\n",
    "# db_service.create_counts_sites_weather_holidays_day()\n",
    "\n",
    "### Otherwise load the file :\n",
    "df = pd.read_csv('data/counts_sites_weather_holidays_day.csv',parse_dates=['date'],index_col=0)\n",
    "COLUMNS_CAL = ['day_'+str(i) for i in range(0,7)] + ['month_'+str(i) for i in range(1,13)]\n",
    "COLUMNS_FOR_REG = ['mintemperature','maxtemperature','cloudamount', 'weathersituation']\n",
    "COLUMNS_X = ['index','idbldsite','compensatedin', 'holiday', 'not_holiday']+COLUMNS_CAL+[col+\"_reg\" for col in COLUMNS_FOR_REG]\n",
    "COLUMNS_Y = ['index','idbldsite', 'compensatedin']\n",
    "\n",
    "dataset_past_dict = {}\n",
    "dataset_forecasts_dict ={}\n",
    "dataset_forecasting_dict = {}"
   ]
  },
  {
   "cell_type": "markdown",
   "metadata": {},
   "source": [
    "### Data preparation"
   ]
  },
  {
   "cell_type": "code",
   "execution_count": 27,
   "metadata": {
    "collapsed": false
   },
   "outputs": [],
   "source": [
    "### From the count_weather_holidays data, generate a prediction and a target set.\n",
    "### It is important to keep the index of the data with both X and Y to check the validty of predictions.\n",
    "\n",
    "def regularize_dataset(df):\n",
    "    df = df.reset_index()\n",
    "    df.set_index(['idbldsite','index'])\n",
    "    groupy = df.groupby('idbldsite')\n",
    "    \n",
    "    data = df.copy()\n",
    "\n",
    "\n",
    "    for col in COLUMNS_FOR_REG:\n",
    "        data[col+\"_reg\"] = data.groupby('idbldsite')[col].transform(lambda x: (x - x.mean()) / x.std())\n",
    "\n",
    "    data = data.fillna(0)\n",
    "    return data\n",
    "\n",
    "\n",
    "def create_predictors_and_target(dataset_reg,dataset_dict,forecasting=False):\n",
    "    for name,group in dataset_reg.groupby('idbldsite'):\n",
    "        dataset_dict[name]={'X' :group[COLUMNS_X],\n",
    "                            'mean':group.mean(),'std':group.std()}\n",
    "        if forecasting:\n",
    "            dataset_dict[name]['date'] = group['date']\n",
    "        else:\n",
    "            dataset_dict[name]['y'] = group[COLUMNS_Y]\n",
    "        \n",
    "def regularize(title,field,idbldsite):\n",
    "    mean =  dataset_past_dict[idbldsite]['mean'][title]\n",
    "    std =  dataset_past_dict[idbldsite]['std'][title]\n",
    "    return (field-mean)/std\n",
    "    \n",
    "    \n",
    "def regularize_forecast(df_forecast):\n",
    "    df_forecast = df_forecast.reset_index()\n",
    "    for col in COLUMNS_FOR_REG:\n",
    "       \n",
    "        df_forecast[col+'_reg'] = df_forecast.apply(lambda x : regularize(col,x[col],x.idbldsite),axis=1)\n",
    "   \n",
    "    return df_forecast\n",
    "        "
   ]
  },
  {
   "cell_type": "code",
   "execution_count": 28,
   "metadata": {
    "collapsed": false
   },
   "outputs": [],
   "source": [
    "def create_forecasting_data(date_from,date_to):\n",
    "    df_forecasting = pd.DataFrame()\n",
    "    df_sites = db_service.get_sites()\n",
    "    sites_id = df_sites.idbldsite.unique()\n",
    "    for site_id in sites_id:\n",
    "        \n",
    "        df_forecasting_site =  pd.DataFrame(pd.date_range(date_from,date_to,freq='D'),columns=['date'])\n",
    "        df_forecasting_site['idbldsite']=site_id\n",
    "        \n",
    "        df_forecasting_site['day_of_week'] = df_forecasting_site.date.dt.dayofweek\n",
    "        df_forecasting_site['month'] = df_forecasting_site.date.dt.month\n",
    "        df_forecasting_site =  df_forecasting_site.reset_index()\n",
    "        df_forecasting_site['is_holiday'] = 3\n",
    "      \n",
    "        for col in ['temperature_reg', 'cloudamount_x_reg', 'weathersituation_x_reg', 'maxtemperature_reg', 'mintemperature_reg']:\n",
    "            df_forecasting_site[col] = pd.Series(np.random.normal(0, 3, df_forecasting_site.shape[0]))\n",
    "            \n",
    "        df_forecasting = pd.concat([df_forecasting,df_forecasting_site],axis=0)\n",
    "        \n",
    "    create_predictors_and_target(df_forecasting,dataset_forecasting_dict, forecasting=True)\n",
    "    return df_forecasting"
   ]
  },
  {
   "cell_type": "code",
   "execution_count": 29,
   "metadata": {
    "collapsed": false
   },
   "outputs": [],
   "source": [
    "# df_forecasting = create_forecasting_data(datetime.date(2016,10,2),datetime.date(2016,10,10))"
   ]
  },
  {
   "cell_type": "code",
   "execution_count": 148,
   "metadata": {
    "collapsed": false
   },
   "outputs": [],
   "source": [
    "df_past = df[df.date<datetime.date(2016,9,25)]\n",
    "df_forecasts = df[df.date>=datetime.date(2016,9,25)]\n",
    "site = 3"
   ]
  },
  {
   "cell_type": "code",
   "execution_count": 149,
   "metadata": {
    "collapsed": false
   },
   "outputs": [],
   "source": [
    "data_past_reg = regularize_dataset(df_past)\n",
    "create_predictors_and_target(data_past_reg,dataset_past_dict)\n",
    "\n",
    "data_forecasts_reg = regularize_forecast(df_forecasts)\n",
    "create_predictors_and_target(data_forecasts_reg, dataset_forecasts_dict)"
   ]
  },
  {
   "cell_type": "code",
   "execution_count": 150,
   "metadata": {
    "collapsed": false
   },
   "outputs": [],
   "source": [
    "X = dataset_past_dict[site]['X'].values\n",
    "y = dataset_past_dict[site]['y'].values\n",
    "\n",
    "fields = dataset_past_dict[site]['X'].columns[3:].tolist()\n",
    "\n",
    "\n",
    "X_forecast = dataset_forecasts_dict[site]['X'].values\n",
    "y_forecast = dataset_forecasts_dict[site]['y'].values"
   ]
  },
  {
   "cell_type": "markdown",
   "metadata": {
    "collapsed": false
   },
   "source": [
    "### Pipeline"
   ]
  },
  {
   "cell_type": "code",
   "execution_count": 151,
   "metadata": {
    "collapsed": true
   },
   "outputs": [],
   "source": [
    "def cv_optimize(clf, parameters, X, y, n_jobs=1, n_folds=5, score_func=None):\n",
    "    if score_func:\n",
    "        gs = GridSearchCV(clf, param_grid=parameters, cv=n_folds, n_jobs=n_jobs, scoring=score_func)\n",
    "    else:\n",
    "        gs = GridSearchCV(clf, param_grid=parameters, n_jobs=n_jobs, cv=n_folds)\n",
    "    gs.fit(X, y)\n",
    "    print \"BEST\", gs.best_params_, gs.best_score_, gs.grid_scores_\n",
    "    best = gs.best_estimator_\n",
    "    return best"
   ]
  },
  {
   "cell_type": "code",
   "execution_count": 152,
   "metadata": {
    "collapsed": false
   },
   "outputs": [],
   "source": [
    "def do_classify(clf, parameters, X,y, mask=None, score_func=None, n_folds=5, n_jobs=1):\n",
    "    # remove index and idbldsite\n",
    "    X,y = X[:,3:],y[:,2:].ravel()\n",
    "    Xtrain, Xtest, ytrain, ytest = train_test_split(X,y,test_size=0.8)\n",
    "    clf = cv_optimize(clf, parameters, Xtrain, ytrain, n_jobs=n_jobs, n_folds=n_folds, score_func=score_func)\n",
    "    clf=clf.fit(Xtrain, ytrain)\n",
    "    training_accuracy = clf.score(Xtrain, ytrain)\n",
    "    test_accuracy = clf.score(Xtest, ytest)\n",
    "    \n",
    "    print \"############# based on standard predict ################\"\n",
    "    print \"Accuracy on training data: %0.2f\" % (training_accuracy)\n",
    "    print \"Accuracy on test data:     %0.2f\" % (test_accuracy)\n",
    "    print \"########################################################\"\n",
    "    try:\n",
    "        print pd.DataFrame(zip(clf.feature_importances_,fields))\n",
    "    except :\n",
    "        print \"no feature_importance\"\n",
    "    print \"########################################################\"\n",
    "    return clf, Xtrain, ytrain, Xtest, ytest"
   ]
  },
  {
   "cell_type": "markdown",
   "metadata": {},
   "source": [
    "#### RandomForestRegressor"
   ]
  },
  {
   "cell_type": "code",
   "execution_count": 153,
   "metadata": {
    "collapsed": false
   },
   "outputs": [],
   "source": [
    "params = { 'n_estimators':[20,30,50,300],'bootstrap':[True], 'criterion':['mse']}"
   ]
  },
  {
   "cell_type": "code",
   "execution_count": 154,
   "metadata": {
    "collapsed": false
   },
   "outputs": [],
   "source": [
    "clf_rdm = RandomForestRegressor()"
   ]
  },
  {
   "cell_type": "code",
   "execution_count": 155,
   "metadata": {
    "collapsed": false
   },
   "outputs": [
    {
     "name": "stdout",
     "output_type": "stream",
     "text": [
      "BEST {'n_estimators': 300, 'bootstrap': True, 'criterion': 'mse'} 0.343868855332 [mean: 0.33388, std: 0.20865, params: {'n_estimators': 20, 'bootstrap': True, 'criterion': 'mse'}, mean: 0.32668, std: 0.26403, params: {'n_estimators': 30, 'bootstrap': True, 'criterion': 'mse'}, mean: 0.32610, std: 0.21216, params: {'n_estimators': 50, 'bootstrap': True, 'criterion': 'mse'}, mean: 0.34387, std: 0.24404, params: {'n_estimators': 300, 'bootstrap': True, 'criterion': 'mse'}]\n",
      "############# based on standard predict ################\n",
      "Accuracy on training data: 0.93\n",
      "Accuracy on test data:     0.63\n",
      "########################################################\n",
      "           0                     1\n",
      "0   0.000000               holiday\n",
      "1   0.000000           not_holiday\n",
      "2   0.028036                 day_0\n",
      "3   0.025619                 day_1\n",
      "4   0.020536                 day_2\n",
      "5   0.022958                 day_3\n",
      "6   0.022544                 day_4\n",
      "7   0.021789                 day_5\n",
      "8   0.416794                 day_6\n",
      "9   0.003668               month_1\n",
      "10  0.000363               month_2\n",
      "11  0.006361               month_3\n",
      "12  0.000988               month_4\n",
      "13  0.023257               month_5\n",
      "14  0.002229               month_6\n",
      "15  0.005873               month_7\n",
      "16  0.005602               month_8\n",
      "17  0.002430               month_9\n",
      "18  0.002070              month_10\n",
      "19  0.000713              month_11\n",
      "20  0.139594              month_12\n",
      "21  0.097026    mintemperature_reg\n",
      "22  0.071092    maxtemperature_reg\n",
      "23  0.050099       cloudamount_reg\n",
      "24  0.030358  weathersituation_reg\n",
      "########################################################\n"
     ]
    }
   ],
   "source": [
    "clf_rdm, Xtrain, ytrain, Xtest, ytest = do_classify(clf_rdm,params,X,y)"
   ]
  },
  {
   "cell_type": "code",
   "execution_count": 156,
   "metadata": {
    "collapsed": false
   },
   "outputs": [
    {
     "data": {
      "text/plain": [
       "0.91599529199271346"
      ]
     },
     "execution_count": 156,
     "metadata": {},
     "output_type": "execute_result"
    }
   ],
   "source": [
    "clf_rdm.score(X_forecast[:,3:],y_forecast[:,2:])"
   ]
  },
  {
   "cell_type": "markdown",
   "metadata": {},
   "source": [
    "#### GradientBoostingRegressor"
   ]
  },
  {
   "cell_type": "code",
   "execution_count": 157,
   "metadata": {
    "collapsed": false
   },
   "outputs": [
    {
     "name": "stdout",
     "output_type": "stream",
     "text": [
      "BEST {'loss': 'lad'} 0.641031723031 [mean: 0.55588, std: 0.23273, params: {'loss': 'ls'}, mean: 0.64103, std: 0.21225, params: {'loss': 'lad'}, mean: 0.62784, std: 0.19334, params: {'loss': 'huber'}, mean: -0.39817, std: 0.45170, params: {'loss': 'quantile'}]\n",
      "############# based on standard predict ################\n",
      "Accuracy on training data: 0.83\n",
      "Accuracy on test data:     0.68\n",
      "########################################################\n",
      "           0                     1\n",
      "0   0.000000               holiday\n",
      "1   0.000000           not_holiday\n",
      "2   0.023466                 day_0\n",
      "3   0.037188                 day_1\n",
      "4   0.020957                 day_2\n",
      "5   0.043364                 day_3\n",
      "6   0.012584                 day_4\n",
      "7   0.044852                 day_5\n",
      "8   0.351626                 day_6\n",
      "9   0.022815               month_1\n",
      "10  0.004832               month_2\n",
      "11  0.007735               month_3\n",
      "12  0.000000               month_4\n",
      "13  0.002953               month_5\n",
      "14  0.028402               month_6\n",
      "15  0.000104               month_7\n",
      "16  0.014887               month_8\n",
      "17  0.004964               month_9\n",
      "18  0.001360              month_10\n",
      "19  0.000000              month_11\n",
      "20  0.017762              month_12\n",
      "21  0.123839    mintemperature_reg\n",
      "22  0.143295    maxtemperature_reg\n",
      "23  0.021895       cloudamount_reg\n",
      "24  0.071119  weathersituation_reg\n",
      "########################################################\n",
      "0.676678206529\n"
     ]
    }
   ],
   "source": [
    "\n",
    "clf_gbr = GradientBoostingRegressor()\n",
    "params = {'loss' : ['ls', 'lad', 'huber', 'quantile']}\n",
    "\n",
    "clf_gbr, Xtrain, ytrain, Xtest, ytest = do_classify(clf_gbr,params,X,y)\n",
    "print clf_gbr.score(Xtest,ytest)"
   ]
  },
  {
   "cell_type": "markdown",
   "metadata": {},
   "source": [
    "#### BayesianRidge\n"
   ]
  },
  {
   "cell_type": "code",
   "execution_count": 158,
   "metadata": {
    "collapsed": false
   },
   "outputs": [
    {
     "name": "stdout",
     "output_type": "stream",
     "text": [
      "0.657136398904\n"
     ]
    },
    {
     "data": {
      "text/plain": [
       "<bound method BayesianRidge.get_params of BayesianRidge(alpha_1=1e-06, alpha_2=1e-06, compute_score=True, copy_X=True,\n",
       "       fit_intercept=True, lambda_1=1e-06, lambda_2=1e-06, n_iter=300,\n",
       "       normalize=True, tol=0.001, verbose=False)>"
      ]
     },
     "execution_count": 158,
     "metadata": {},
     "output_type": "execute_result"
    }
   ],
   "source": [
    "clf_br = linear_model.BayesianRidge(compute_score=True,normalize=True)\n",
    "clf_br.fit(Xtrain,ytrain)\n",
    "print clf_br.score(Xtest,ytest)\n",
    "clf_br.get_params\n"
   ]
  },
  {
   "cell_type": "markdown",
   "metadata": {},
   "source": [
    "#### Linear regression"
   ]
  },
  {
   "cell_type": "code",
   "execution_count": 159,
   "metadata": {
    "collapsed": false
   },
   "outputs": [
    {
     "data": {
      "text/plain": [
       "0.64769911376833245"
      ]
     },
     "execution_count": 159,
     "metadata": {},
     "output_type": "execute_result"
    }
   ],
   "source": [
    "clf_lr = LinearRegression()\n",
    "clf_lr.fit(Xtrain,ytrain)\n",
    "clf_lr.score(Xtest,ytest)\n"
   ]
  },
  {
   "cell_type": "markdown",
   "metadata": {},
   "source": [
    "#### Lasso"
   ]
  },
  {
   "cell_type": "code",
   "execution_count": 160,
   "metadata": {
    "collapsed": false
   },
   "outputs": [
    {
     "name": "stdout",
     "output_type": "stream",
     "text": [
      "BEST {'alpha': 10} 0.631927822972 [mean: 0.62474, std: 0.26444, params: {'alpha': 1e-06}, mean: 0.62474, std: 0.26444, params: {'alpha': 0.0001}, mean: 0.62474, std: 0.26444, params: {'alpha': 0.001}, mean: 0.62475, std: 0.26443, params: {'alpha': 0.01}, mean: 0.62485, std: 0.26435, params: {'alpha': 0.1}, mean: 0.62565, std: 0.26368, params: {'alpha': 1}, mean: 0.63193, std: 0.25685, params: {'alpha': 10}]\n",
      "############# based on standard predict ################\n",
      "Accuracy on training data: 0.73\n",
      "Accuracy on test data:     0.68\n",
      "########################################################\n",
      "no feature_importance\n",
      "########################################################\n"
     ]
    }
   ],
   "source": [
    "clf_lasso = linear_model.Lasso(alpha=0.1)\n",
    "params = {'alpha': [0.000001,0.0001,0.001,0.01,0.1,1,10]}\n",
    "clf_lasso, Xtrain, ytrain, Xtest, ytest = do_classify(clf_lasso,params,X,y)"
   ]
  },
  {
   "cell_type": "markdown",
   "metadata": {},
   "source": [
    "#### SGD Regressor"
   ]
  },
  {
   "cell_type": "code",
   "execution_count": 161,
   "metadata": {
    "collapsed": false
   },
   "outputs": [
    {
     "name": "stdout",
     "output_type": "stream",
     "text": [
      "BEST {'alpha': 0.0001} 0.25750057201 [mean: 0.25750, std: 0.03213, params: {'alpha': 0.0001}, mean: 0.25673, std: 0.03562, params: {'alpha': 0.0001}, mean: 0.25446, std: 0.03571, params: {'alpha': 0.001}, mean: 0.24982, std: 0.03855, params: {'alpha': 0.01}, mean: 0.22906, std: 0.03864, params: {'alpha': 0.1}, mean: 0.04151, std: 0.06165, params: {'alpha': 1}, mean: -0.12977, std: 0.07711, params: {'alpha': 10}]\n",
      "############# based on standard predict ################\n",
      "Accuracy on training data: 0.36\n",
      "Accuracy on test data:     0.31\n",
      "########################################################\n",
      "no feature_importance\n",
      "########################################################\n"
     ]
    }
   ],
   "source": [
    "clf_sgd = linear_model.SGDRegressor()\n",
    "params = {'alpha':[0.0001,0.0001,0.001,0.01,0.1,1,10]}\n",
    "clf_sgd, Xtrain, ytrain, Xtest, ytest = do_classify(clf_sgd,params,X,y)"
   ]
  },
  {
   "cell_type": "markdown",
   "metadata": {},
   "source": [
    "#### TPOT Predictor"
   ]
  },
  {
   "cell_type": "code",
   "execution_count": 162,
   "metadata": {
    "collapsed": false
   },
   "outputs": [
    {
     "name": "stdout",
     "output_type": "stream",
     "text": [
      "0.532389029718\n"
     ]
    }
   ],
   "source": [
    "training_features, testing_features, training_classes, testing_classes = train_test_split(X[:,3:],y[:,2:].ravel(), random_state=42)\n",
    "\n",
    "exported_pipeline = make_pipeline(\n",
    "    MaxAbsScaler(),\n",
    "    make_union(VotingClassifier([(\"est\", LassoLarsCV(normalize=False))]), FunctionTransformer(lambda X: X)),\n",
    "    RandomForestRegressor(n_estimators=500)\n",
    ")\n",
    "\n",
    "exported_pipeline.fit(training_features, training_classes)\n",
    "results = exported_pipeline.predict(testing_features)\n",
    "print exported_pipeline.score(testing_features,testing_classes)\n"
   ]
  },
  {
   "cell_type": "code",
   "execution_count": 163,
   "metadata": {
    "collapsed": false
   },
   "outputs": [
    {
     "data": {
      "text/plain": [
       "'Emmen'"
      ]
     },
     "execution_count": 163,
     "metadata": {},
     "output_type": "execute_result"
    }
   ],
   "source": [
    "df_forecasts[df_forecasts.idbldsite==site].sname.values[0]"
   ]
  },
  {
   "cell_type": "code",
   "execution_count": 164,
   "metadata": {
    "collapsed": false
   },
   "outputs": [
    {
     "data": {
      "text/plain": [
       "<matplotlib.text.Text at 0x7f1154492a50>"
      ]
     },
     "execution_count": 164,
     "metadata": {},
     "output_type": "execute_result"
    },
    {
     "data": {
      "image/png": "[encoded data removed]",
      "text/plain": [
       "<matplotlib.figure.Figure at 0x7f10f2674f90>"
      ]
     },
     "metadata": {},
     "output_type": "display_data"
    }
   ],
   "source": [
    "fig, ax = plt.subplots()\n",
    "plt.bar(df_forecasts[df_forecasts.idbldsite==site].date.values,y_forecast[:,2:],alpha=0.7,color='grey',align='center')\n",
    "plt.plot(df_forecasts[df_forecasts.idbldsite==site].date.values,(clf_rdm.predict(X_forecast[:,3:])),color='b')\n",
    "plt.plot(df_forecasts[df_forecasts.idbldsite==site].date.values,(clf_lasso.predict(X_forecast[:,3:])),color='green')\n",
    "# plt.plot(df_forecasts[df_forecasts.idbldsite==site].date.values,(clf_lasso.predict(X_forecast[:,3:])),alpha=0.6,color='cyan')\n",
    "# plt.plot(df_forecasts[df_forecasts.idbldsite==site].date.values,(clf_sgd.predict(X_forecast[:,3:])),alpha=0.6,color='pink')\n",
    "# plt.plot(df_forecasts[df_forecasts.idbldsite==site].date.values,(clf_br.predict(X_forecast[:,3:])),alpha=0.6,color='yellow')\n",
    "plt.plot(df_forecasts[df_forecasts.idbldsite==site].date.values,(exported_pipeline.predict(X_forecast[:,3:])),color='red')\n",
    "\n",
    "labels = ax.get_xticklabels()\n",
    "plt.setp(labels, rotation=30, fontsize=10)\n",
    "ax.legend(['Randomforest','Lasso','Tpot','real'],loc=0)\n",
    "# plt.title(df_forecasts[df_forecasts.idbldsite==site].sname.values[0])\n"
   ]
  },
  {
   "cell_type": "markdown",
   "metadata": {},
   "source": [
    "#### Tpot "
   ]
  },
  {
   "cell_type": "code",
   "execution_count": 165,
   "metadata": {
    "collapsed": false
   },
   "outputs": [],
   "source": [
    "# X_train, X_test, y_train, y_test = train_test_split(X[:,3:],y[:,2:].ravel(),\n",
    "#                                                     train_size=0.75, test_size=0.25)\n",
    "\n",
    "# tpot = TPOTRegressor(generations=5, population_size=20, verbosity=2)\n",
    "# tpot.fit(X_train, y_train)\n",
    "# print(tpot.score(X_test, y_test))\n",
    "# tpot.export('tpot_roussos_pipeline.py')"
   ]
  },
  {
   "cell_type": "code",
   "execution_count": null,
   "metadata": {
    "collapsed": false
   },
   "outputs": [],
   "source": []
  }
 ],
 "metadata": {
  "kernelspec": {
   "display_name": "Python 2",
   "language": "python",
   "name": "python2"
  },
  "language_info": {
   "codemirror_mode": {
    "name": "ipython",
    "version": 2
   },
   "file_extension": ".py",
   "mimetype": "text/x-python",
   "name": "python",
   "nbconvert_exporter": "python",
   "pygments_lexer": "ipython2",
   "version": "2.7.12"
  }
 },
 "nbformat": 4,
 "nbformat_minor": 0
}
