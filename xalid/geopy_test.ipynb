{
 "cells": [
  {
   "cell_type": "code",
   "execution_count": 3,
   "metadata": {
    "collapsed": false
   },
   "outputs": [],
   "source": [
    "%matplotlib inline\n",
    "import csv\n",
    "import pandas as pd\n",
    "import numpy as np\n",
    "from os import listdir\n",
    "from os.path import isfile, join\n",
    "from datetime import date\n",
    "import re\n",
    "from geopy.geocoders import Nominatim\n",
    "\n",
    "\n",
    "import matplotlib.pyplot as plt\n",
    "import matplotlib.cm as cm\n",
    "import matplotlib.colors as col\n",
    "from matplotlib.dates import  DateFormatter\n",
    "import seaborn as sns\n",
    "from config import DATA_PATH,MAIN_FILE\n",
    "import PandasHelper as pdh\n"
   ]
  },
  {
   "cell_type": "code",
   "execution_count": 34,
   "metadata": {
    "collapsed": false
   },
   "outputs": [
    {
     "name": "stderr",
     "output_type": "stream",
     "text": [
      "/home/ramon/anaconda2/lib/python2.7/site-packages/ipykernel/__main__.py:11: FutureWarning: currently extract(expand=None) means expand=False (return Index/Series/DataFrame) but in a future version of pandas this will be changed to expand=True (return DataFrame)\n"
     ]
    }
   ],
   "source": [
    "def get_coordinates(address):\n",
    "    geolocator = Nominatim()\n",
    "    location = geolocator.geocode(address)\n",
    "    print(location.address)\n",
    "\n",
    "    return location.latitude, location.longitude\n",
    "\n",
    "def add_coordinates_to_sites():\n",
    "    df = pd.read_csv(DATA_PATH+\"indexes/sites_ix.csv\")\n",
    "    df['address']=  df.site_name.str.replace(\"BF \",\"\")\n",
    "    df.address=df.address.str.extract('^(.*?)\\(')\n",
    "    \n",
    "    df['x_coordinate']= df.address.apply(lambda x : x[0])\n",
    "    df['y_coordinate']= df.address.apply(lambda x : x[1])\n",
    "    \n",
    "    return  df\n",
    "    \n",
    "df = add_coordinates_to_sites()\n",
    "df.to_csv(\"coordinates.csv\")"
   ]
  }
 ],
 "metadata": {
  "kernelspec": {
   "display_name": "Python 2",
   "language": "python",
   "name": "python2"
  },
  "language_info": {
   "codemirror_mode": {
    "name": "ipython",
    "version": 2
   },
   "file_extension": ".py",
   "mimetype": "text/x-python",
   "name": "python",
   "nbconvert_exporter": "python",
   "pygments_lexer": "ipython2",
   "version": "2.7.12"
  }
 },
 "nbformat": 4,
 "nbformat_minor": 0
}
